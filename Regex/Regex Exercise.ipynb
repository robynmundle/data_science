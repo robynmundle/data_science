{
 "cells": [
  {
   "cell_type": "markdown",
   "metadata": {},
   "source": [
    "# Libraries"
   ]
  },
  {
   "cell_type": "code",
   "execution_count": 2,
   "metadata": {},
   "outputs": [],
   "source": [
    "import re"
   ]
  },
  {
   "cell_type": "markdown",
   "metadata": {},
   "source": [
    "# Load article\n",
    "\n",
    "Download the text from [**here**](https://drive.google.com/file/d/1PEUMaDaPye5pxlA-SZTsnZ4k7WSzdLLe/view?usp=sharing) and load it into python using the following code snippet."
   ]
  },
  {
   "cell_type": "code",
   "execution_count": 15,
   "metadata": {},
   "outputs": [],
   "source": [
    "# Load lines into list\n",
    "filename = 'data/Article.txt'\n",
    "with open(filename, encoding='utf-8') as f:\n",
    "    lines = f.readlines()"
   ]
  },
  {
   "cell_type": "markdown",
   "metadata": {},
   "source": [
    "# Tasks"
   ]
  },
  {
   "cell_type": "markdown",
   "metadata": {},
   "source": [
    "### Print the first 20 lines of article"
   ]
  },
  {
   "cell_type": "code",
   "execution_count": 42,
   "metadata": {},
   "outputs": [
    {
     "name": "stdout",
     "output_type": "stream",
     "text": [
      "['How To Start When You’ve Procrastinated On Your Goals For Too Long\\n', '\\n', 'As you are reading this, you probably have a goal on your own, that you’ve pushed, postponed, procrastinated on, and other words that start with P, for days, weeks, months, or even years.\\n', '\\n', 'Not only that, but you’ve reached the point where even the thought of the goal, brings the feeling of having butterflies in your stomach. Demon butterflies.\\n', '\\n', 'Hopefully, today is the day you will break the chain as well.\\n', '\\n', 'Let me help you with that.\\n', '\\n', 'First, the explanation.\\n', 'In the beginning, when we set the goal, we feel usually motivated, for about a day. As each additional day passes, the resistance starts to grow.\\n', '\\n', 'As more time passes by, we feel more overwhelmed, especially if we have attempted to start several times, and failed. It stacks up, but in a wrong direction.\\n', '\\n', 'The biggest problem in this scenario is that we think of the sheer size of the goal, or to be more accurate, the list of the activities we need to do, and how much time it will take us to do them all.\\n', '\\n', 'We think about the big picture.\\n', '\\n', 'There is nothing wrong with the big picture, on the contrary, we need it, but in the beginning, when it’s the planning phase.\\n']\n"
     ]
    }
   ],
   "source": [
    "print(lines[0:20])"
   ]
  },
  {
   "cell_type": "code",
   "execution_count": 72,
   "metadata": {},
   "outputs": [
    {
     "name": "stdout",
     "output_type": "stream",
     "text": [
      "How To Start When You’ve Procrastinated On Your Goals For Too Long\n",
      "\n",
      "\n",
      "\n",
      "As you are reading this, you probably have a goal on your own, that you’ve pushed, postponed, procrastinated on, and other words that start with P, for days, weeks, months, or even years.\n",
      "\n",
      "\n",
      "\n",
      "Not only that, but you’ve reached the point where even the thought of the goal, brings the feeling of having butterflies in your stomach. Demon butterflies.\n",
      "\n",
      "\n",
      "\n",
      "Hopefully, today is the day you will break the chain as well.\n",
      "\n",
      "\n",
      "\n",
      "Let me help you with that.\n",
      "\n",
      "\n",
      "\n",
      "First, the explanation.\n",
      "\n",
      "In the beginning, when we set the goal, we feel usually motivated, for about a day. As each additional day passes, the resistance starts to grow.\n",
      "\n",
      "\n",
      "\n",
      "As more time passes by, we feel more overwhelmed, especially if we have attempted to start several times, and failed. It stacks up, but in a wrong direction.\n",
      "\n",
      "\n",
      "\n",
      "The biggest problem in this scenario is that we think of the sheer size of the goal, or to be more accurate, the list of the activities we need to do, and how much time it will take us to do them all.\n",
      "\n",
      "\n",
      "\n",
      "We think about the big picture.\n",
      "\n",
      "\n",
      "\n",
      "There is nothing wrong with the big picture, on the contrary, we need it, but in the beginning, when it’s the planning phase.\n",
      "\n"
     ]
    }
   ],
   "source": [
    "for line in lines[0:20]:\n",
    "    print(line)"
   ]
  },
  {
   "cell_type": "markdown",
   "metadata": {},
   "source": [
    "## Print out every line from the file that..."
   ]
  },
  {
   "cell_type": "markdown",
   "metadata": {},
   "source": [
    "... that has 'q'"
   ]
  },
  {
   "cell_type": "code",
   "execution_count": 67,
   "metadata": {},
   "outputs": [
    {
     "name": "stdout",
     "output_type": "stream",
     "text": [
      "If necessary, sacrifice the quality, and the quantity, for the sake of consistency.\n"
     ]
    }
   ],
   "source": [
    "regex = re.compile('.*', re.M)\n",
    "\n",
    "for line in lines:\n",
    "    regex.split(line)\n",
    "    matches = re.findall(r'.*q.*', line)\n",
    "    for match in matches:\n",
    "        print(match)"
   ]
  },
  {
   "cell_type": "markdown",
   "metadata": {},
   "source": [
    "... that starts with 'H'"
   ]
  },
  {
   "cell_type": "code",
   "execution_count": 68,
   "metadata": {},
   "outputs": [
    {
     "name": "stdout",
     "output_type": "stream",
     "text": [
      "How To Start When You’ve Procrastinated On Your Goals For Too Long\n",
      "Hopefully, today is the day you will break the chain as well.\n"
     ]
    }
   ],
   "source": [
    "regex = re.compile('.*', re.M)\n",
    "\n",
    "for line in lines:\n",
    "    regex.split(line)\n",
    "    matches = re.findall(r'^H.*', line)\n",
    "    for match in matches:\n",
    "        print(match)"
   ]
  },
  {
   "cell_type": "markdown",
   "metadata": {},
   "source": [
    "... that has 'wh'"
   ]
  },
  {
   "cell_type": "code",
   "execution_count": 99,
   "metadata": {},
   "outputs": [
    {
     "name": "stdout",
     "output_type": "stream",
     "text": [
      "Not only that, but you’ve reached the point where even the thought of the goal, brings the feeling of having butterflies in your stomach. Demon butterflies.\n",
      "In the beginning, when we set the goal, we feel usually motivated, for about a day. As each additional day passes, the resistance starts to grow.\n",
      "As more time passes by, we feel more overwhelmed, especially if we have attempted to start several times, and failed. It stacks up, but in a wrong direction.\n",
      "There is nothing wrong with the big picture, on the contrary, we need it, but in the beginning, when it’s the planning phase.\n",
      "To be specific, just one day ahead of you. Or, as I like to call it “A 24 Hour Life”(basically what smarter people before me said but rephrased with a cooler name, fancy, I know).\n",
      "That’s what you should do. Don’t think about the science or that you need 66 days to establish a habit, it will just overwhelm you additionally, which you don’t need.\n",
      "Look back at the previous period, and try to pinpoint the main reasons on why you procrastinated (be honest with yourself).\n",
      "Stop dragging the luggage of your past (in)actions. That’s the thing with us people; we like to beat ourselves, which additionally prevents us from taking actions.\n",
      "Remember, think just 24 hours ahead (or 18/16 depending on how much you sleep) now when I think about it, the “24-hour life” is starting to lose its meaning, but it sounds cooler than “16 Hour Life.”)\n",
      "Anyways. The moment you forgive yourself, you will feel relieved, and slowly start to regain that original motivation, or motivation 2.0 whatever you want to call it.\n",
      "Even if you still want to pursue the same goal, know that it often happens that we don’t stop and think whether or not what we are trying to achieve, actually still makes sense for us (similar to being in an unhealthy relationship just because you’ve invested too much time).\n",
      "In those 16 hours, your sole focus (when it comes to your goal), should beonly two things:\n",
      "Things you have to DO to achieve your goal (what are your most important activities that will bring most results?)\n",
      "Like slapping a muffin out of your hand (if you want to lose weight), or learning five new words in Spanish a couple of random examples here, but you get what I mean.\n",
      "Just remember every once in a while to make a pause, and evaluate your path and plan, just to make sure you are still on the right track.\n"
     ]
    }
   ],
   "source": [
    "for line in lines:\n",
    "    regex.split(line)\n",
    "    matches = re.findall(r'.*wh.*', line)\n",
    "    for match in matches:\n",
    "        print(match)"
   ]
  },
  {
   "cell_type": "markdown",
   "metadata": {},
   "source": [
    "... that has an 'q' or a 'Q'"
   ]
  },
  {
   "cell_type": "code",
   "execution_count": 70,
   "metadata": {},
   "outputs": [
    {
     "name": "stdout",
     "output_type": "stream",
     "text": [
      "If necessary, sacrifice the quality, and the quantity, for the sake of consistency.\n",
      "If necessary, sacrifice the Quality, and the Quantity, for the sake of CONSISTENCY.\n"
     ]
    }
   ],
   "source": [
    "for line in lines:\n",
    "    regex.split(line)\n",
    "    matches = re.findall(r'.*q.*', line, re.I)\n",
    "    for match in matches:\n",
    "        print(match)"
   ]
  },
  {
   "cell_type": "markdown",
   "metadata": {},
   "source": [
    "... that has a '*' in it"
   ]
  },
  {
   "cell_type": "code",
   "execution_count": 73,
   "metadata": {},
   "outputs": [
    {
     "name": "stdout",
     "output_type": "stream",
     "text": [
      "*******************************\n",
      "Even though it’s simple, it’s not easy *.\n"
     ]
    }
   ],
   "source": [
    "for line in lines:\n",
    "    regex.split(line)\n",
    "    matches = re.findall(r'.*\\*.*', line)\n",
    "    for match in matches:\n",
    "        print(match)"
   ]
  },
  {
   "cell_type": "markdown",
   "metadata": {},
   "source": [
    "... that starts with an 'T' or an 't'"
   ]
  },
  {
   "cell_type": "code",
   "execution_count": 77,
   "metadata": {},
   "outputs": [
    {
     "name": "stdout",
     "output_type": "stream",
     "text": [
      "The biggest problem in this scenario is that we think of the sheer size of the goal, or to be more accurate, the list of the activities we need to do, and how much time it will take us to do them all.\n",
      "There is nothing wrong with the big picture, on the contrary, we need it, but in the beginning, when it’s the planning phase.\n",
      "To be specific, just one day ahead of you. Or, as I like to call it “A 24 Hour Life”(basically what smarter people before me said but rephrased with a cooler name, fancy, I know).\n",
      "That’s what you should do. Don’t think about the science or that you need 66 days to establish a habit, it will just overwhelm you additionally, which you don’t need.\n",
      "These reasons are usually internal and external.\n",
      "This is more theoretical, fluffy advice, but still, makes sense.\n",
      "This is your one shot, either drop the goal altogether or leave all the excuses behind.\n",
      "Think about your biggest goal, and see if you still want to pursue it.\n",
      "Things you have to DO to achieve your goal (what are your most important activities that will bring most results?)\n",
      "Things you have to LEARN to execute the previously defined activities\n",
      "To make sure that history doesn’t repeat itself, choose just one thing you will do today no matter how minor the activity is.\n"
     ]
    }
   ],
   "source": [
    "for line in lines:\n",
    "    regex.split(line)\n",
    "    matches = re.findall(r'^t.*', line, re.I)\n",
    "    for match in matches:\n",
    "        print(match)"
   ]
  },
  {
   "cell_type": "markdown",
   "metadata": {},
   "source": [
    "... that starts with number"
   ]
  },
  {
   "cell_type": "code",
   "execution_count": 79,
   "metadata": {},
   "outputs": [
    {
     "name": "stdout",
     "output_type": "stream",
     "text": [
      "1. Extract The Lessons\n",
      "2. Stop Beating On Yourself\n",
      "3. Re-evaluate Your Direction\n",
      "4. Make A New Plan\n",
      "5. … Act\n"
     ]
    }
   ],
   "source": [
    "for line in lines:\n",
    "    regex.split(line)\n",
    "    matches = re.findall(r'^\\d.*', line)\n",
    "    for match in matches:\n",
    "        print(match)"
   ]
  },
  {
   "cell_type": "markdown",
   "metadata": {},
   "source": [
    "... that has both 'a' and 'e'  and 'i' and 'o' and 'u' in it"
   ]
  },
  {
   "cell_type": "code",
   "execution_count": 103,
   "metadata": {},
   "outputs": [
    {
     "name": "stdout",
     "output_type": "stream",
     "text": [
      "How To Start When You’ve Procrastinated On Your Goals For Too Long\n",
      "As you are reading this, you probably have a goal on your own, that you’ve pushed, postponed, procrastinated on, and other words that start with P, for days, weeks, months, or even years.\n",
      "Not only that, but you’ve reached the point where even the thought of the goal, brings the feeling of having butterflies in your stomach. Demon butterflies.\n",
      "In the beginning, when we set the goal, we feel usually motivated, for about a day. As each additional day passes, the resistance starts to grow.\n",
      "As more time passes by, we feel more overwhelmed, especially if we have attempted to start several times, and failed. It stacks up, but in a wrong direction.\n",
      "The biggest problem in this scenario is that we think of the sheer size of the goal, or to be more accurate, the list of the activities we need to do, and how much time it will take us to do them all.\n",
      "Immediately once the plan is finished, you should leave the big picture aside and focus on the small one.\n",
      "To be specific, just one day ahead of you. Or, as I like to call it “A 24 Hour Life”(basically what smarter people before me said but rephrased with a cooler name, fancy, I know).\n",
      "That’s what you should do. Don’t think about the science or that you need 66 days to establish a habit, it will just overwhelm you additionally, which you don’t need.\n",
      "Let’s get down to concrete steps you can take a right this moment to take action and start working on your goal.\n",
      "Look back at the previous period, and try to pinpoint the main reasons on why you procrastinated (be honest with yourself).\n",
      "What I mean by this is, the excuses you give yourself (it’s hard, you don’t know how to do it, etc), and the distractions in your environment (the internet, television, people, food, and other).\n",
      "You probably know them already, but it’s good to write them down, and remind yourself.\n",
      "Stop dragging the luggage of your past (in)actions. That’s the thing with us people; we like to beat ourselves, which additionally prevents us from taking actions.\n",
      "So, drop it, and focus on using the lessons from my previous point.\n",
      "Remember, think just 24 hours ahead (or 18/16 depending on how much you sleep) now when I think about it, the “24-hour life” is starting to lose its meaning, but it sounds cooler than “16 Hour Life.”)\n",
      "Anyways. The moment you forgive yourself, you will feel relieved, and slowly start to regain that original motivation, or motivation 2.0 whatever you want to call it.\n",
      "Now that the past is behind you, you should look forward and get clarity on your direction.\n",
      "Even if you still want to pursue the same goal, know that it often happens that we don’t stop and think whether or not what we are trying to achieve, actually still makes sense for us (similar to being in an unhealthy relationship just because you’ve invested too much time).\n",
      "Think about your biggest goal, and see if you still want to pursue it.\n",
      "If not, scratch it. And think of another big goal you want to focus in the upcoming year.\n",
      "Just one goal, not five or ten. Let’s not copy-paste new years resolutions, year in-year out.\n",
      "Once you have it, you need a strategy.\n",
      "Things you have to DO to achieve your goal (what are your most important activities that will bring most results?)\n",
      "Things you have to LEARN to execute the previously defined activities\n",
      "To make sure that history doesn’t repeat itself, choose just one thing you will do today no matter how minor the activity is.\n",
      "Like slapping a muffin out of your hand (if you want to lose weight), or learning five new words in Spanish a couple of random examples here, but you get what I mean.\n",
      "I wrote this down earlier, but I will repeat it because it’s probably the most important thing you can remember from this article.\n",
      "But, you only need to take one small step, without thinking too far ahead, and before you know it, you will reach your destination.\n",
      "Just like I did with this article. One word at the time, one bad joke at the time, and before you know it, I finished writing it, and you finished reading it.\n"
     ]
    }
   ],
   "source": [
    "for line in lines:\n",
    "    regex.split(line)\n",
    "    matches = re.findall(r'.*[a].*[e].*[i].*[o].*[u].*', line, re.I)\n",
    "    for match in matches:\n",
    "        print(match)"
   ]
  },
  {
   "cell_type": "markdown",
   "metadata": {},
   "source": [
    "... that has an 'a' and somewhere later an 'e'"
   ]
  },
  {
   "cell_type": "code",
   "execution_count": 105,
   "metadata": {},
   "outputs": [
    {
     "name": "stdout",
     "output_type": "stream",
     "text": [
      "How To Start When You’ve Procrastinated On Your Goals For Too Long\n",
      "As you are reading this, you probably have a goal on your own, that you’ve pushed, postponed, procrastinated on, and other words that start with P, for days, weeks, months, or even years.\n",
      "Not only that, but you’ve reached the point where even the thought of the goal, brings the feeling of having butterflies in your stomach. Demon butterflies.\n",
      "Hopefully, today is the day you will break the chain as well.\n",
      "In the beginning, when we set the goal, we feel usually motivated, for about a day. As each additional day passes, the resistance starts to grow.\n",
      "As more time passes by, we feel more overwhelmed, especially if we have attempted to start several times, and failed. It stacks up, but in a wrong direction.\n",
      "The biggest problem in this scenario is that we think of the sheer size of the goal, or to be more accurate, the list of the activities we need to do, and how much time it will take us to do them all.\n",
      "We think about the big picture.\n",
      "There is nothing wrong with the big picture, on the contrary, we need it, but in the beginning, when it’s the planning phase.\n",
      "Immediately once the plan is finished, you should leave the big picture aside and focus on the small one.\n",
      "To be specific, just one day ahead of you. Or, as I like to call it “A 24 Hour Life”(basically what smarter people before me said but rephrased with a cooler name, fancy, I know).\n",
      "That’s what you should do. Don’t think about the science or that you need 66 days to establish a habit, it will just overwhelm you additionally, which you don’t need.\n",
      "If necessary, sacrifice the quality, and the quantity, for the sake of consistency.\n",
      "Let’s get down to concrete steps you can take a right this moment to take action and start working on your goal.\n",
      "1. Extract The Lessons\n",
      "Look back at the previous period, and try to pinpoint the main reasons on why you procrastinated (be honest with yourself).\n",
      "These reasons are usually internal and external.\n",
      "What I mean by this is, the excuses you give yourself (it’s hard, you don’t know how to do it, etc), and the distractions in your environment (the internet, television, people, food, and other).\n",
      "You probably know them already, but it’s good to write them down, and remind yourself.\n",
      "2. Stop Beating On Yourself\n",
      "This is more theoretical, fluffy advice, but still, makes sense.\n",
      "Stop dragging the luggage of your past (in)actions. That’s the thing with us people; we like to beat ourselves, which additionally prevents us from taking actions.\n",
      "So, drop it, and focus on using the lessons from my previous point.\n",
      "Remember, think just 24 hours ahead (or 18/16 depending on how much you sleep) now when I think about it, the “24-hour life” is starting to lose its meaning, but it sounds cooler than “16 Hour Life.”)\n",
      "Anyways. The moment you forgive yourself, you will feel relieved, and slowly start to regain that original motivation, or motivation 2.0 whatever you want to call it.\n",
      "3. Re-evaluate Your Direction\n",
      "Now that the past is behind you, you should look forward and get clarity on your direction.\n",
      "Even if you still want to pursue the same goal, know that it often happens that we don’t stop and think whether or not what we are trying to achieve, actually still makes sense for us (similar to being in an unhealthy relationship just because you’ve invested too much time).\n",
      "This is your one shot, either drop the goal altogether or leave all the excuses behind.\n",
      "Think about your biggest goal, and see if you still want to pursue it.\n",
      "If you do, write it in one sentence, and put a deadline on it.\n",
      "If not, scratch it. And think of another big goal you want to focus in the upcoming year.\n",
      "Just one goal, not five or ten. Let’s not copy-paste new years resolutions, year in-year out.\n",
      "Once you have it, you need a strategy.\n",
      "4. Make A New Plan\n",
      "In those 16 hours, your sole focus (when it comes to your goal), should beonly two things:\n",
      "Things you have to DO to achieve your goal (what are your most important activities that will bring most results?)\n",
      "Things you have to LEARN to execute the previously defined activities\n",
      "When you determine these two points, put them in the timeline, and then…\n",
      "To make sure that history doesn’t repeat itself, choose just one thing you will do today no matter how minor the activity is.\n",
      "Like slapping a muffin out of your hand (if you want to lose weight), or learning five new words in Spanish a couple of random examples here, but you get what I mean.\n",
      "I wrote this down earlier, but I will repeat it because it’s probably the most important thing you can remember from this article.\n",
      "If necessary, sacrifice the Quality, and the Quantity, for the sake of CONSISTENCY.\n",
      "But, you only need to take one small step, without thinking too far ahead, and before you know it, you will reach your destination.\n",
      "Just like I did with this article. One word at the time, one bad joke at the time, and before you know it, I finished writing it, and you finished reading it.\n",
      "Just remember every once in a while to make a pause, and evaluate your path and plan, just to make sure you are still on the right track.\n"
     ]
    }
   ],
   "source": [
    "for line in lines:\n",
    "    regex.split(line)\n",
    "    matches = re.findall(r'.*a.*e.*', line)\n",
    "    for match in matches:\n",
    "        print(match)"
   ]
  },
  {
   "cell_type": "markdown",
   "metadata": {},
   "source": [
    "... that does not have an 'i'"
   ]
  },
  {
   "cell_type": "code",
   "execution_count": 246,
   "metadata": {},
   "outputs": [
    {
     "name": "stdout",
     "output_type": "stream",
     "text": [
      "1. Extract The Lessons\n",
      "\n",
      "*******************************\n",
      "\n",
      "4. Make A New Plan\n",
      "\n",
      "5. … Act\n",
      "\n"
     ]
    }
   ],
   "source": [
    "for line in lines:\n",
    "    regex.split(line)\n",
    "    matches = re.findall(r'^[^i]*$', line)\n",
    "    for match in matches:\n",
    "        if len(match)>1:\n",
    "            print(match)"
   ]
  },
  {
   "cell_type": "markdown",
   "metadata": {},
   "source": [
    "... that does not have an 'i' nor 'z'"
   ]
  },
  {
   "cell_type": "code",
   "execution_count": 245,
   "metadata": {},
   "outputs": [
    {
     "name": "stdout",
     "output_type": "stream",
     "text": [
      "1. Extract The Lessons\n",
      "\n",
      "*******************************\n",
      "\n",
      "4. Make A New Plan\n",
      "\n",
      "5. … Act\n",
      "\n"
     ]
    }
   ],
   "source": [
    "for line in lines:\n",
    "    matches = re.findall(r'^[^i|z]*$', line)\n",
    "    for match in matches:\n",
    "        if len(match)>1:\n",
    "            print(match)"
   ]
  },
  {
   "cell_type": "markdown",
   "metadata": {},
   "source": [
    "... that has an 'x' but not 'y'"
   ]
  },
  {
   "cell_type": "code",
   "execution_count": 244,
   "metadata": {},
   "outputs": [
    {
     "name": "stdout",
     "output_type": "stream",
     "text": [
      "How To Start When You’ve Procrastinated On Your Goals For Too Long\n",
      "\n",
      "First, the explanation.\n",
      "\n",
      "The biggest problem in this scenario is that we think of the sheer size of the goal, or to be more accurate, the list of the activities we need to do, and how much time it will take us to do them all.\n",
      "\n",
      "We think about the big picture.\n",
      "\n",
      "1. Extract The Lessons\n",
      "\n",
      "*******************************\n",
      "\n",
      "2. Stop Beating On Yourself\n",
      "\n",
      "3. Re-evaluate Your Direction\n",
      "\n",
      "4. Make A New Plan\n",
      "\n",
      "5. … Act\n",
      "\n",
      "Final Words\n",
      "\n"
     ]
    }
   ],
   "source": [
    "for line in lines:\n",
    "    regex.split(line)\n",
    "    matches = re.findall(r'^[^y]*$', line)\n",
    "    for match in matches:\n",
    "        if len(match)>1:\n",
    "            print(match)"
   ]
  },
  {
   "cell_type": "markdown",
   "metadata": {},
   "source": [
    "... that has at least 2 consecutive vowels (a, e, i, o, u) like in the word \"bear\""
   ]
  },
  {
   "cell_type": "code",
   "execution_count": 165,
   "metadata": {},
   "outputs": [
    {
     "name": "stdout",
     "output_type": "stream",
     "text": [
      "How To Start When You’ve Procrastinated On Your Goals For Too Long\n",
      "As you are reading this, you probably have a goal on your own, that you’ve pushed, postponed, procrastinated on, and other words that start with P, for days, weeks, months, or even years.\n",
      "Not only that, but you’ve reached the point where even the thought of the goal, brings the feeling of having butterflies in your stomach. Demon butterflies.\n",
      "Hopefully, today is the day you will break the chain as well.\n",
      "Let me help you with that.\n",
      "First, the explanation.\n",
      "In the beginning, when we set the goal, we feel usually motivated, for about a day. As each additional day passes, the resistance starts to grow.\n",
      "As more time passes by, we feel more overwhelmed, especially if we have attempted to start several times, and failed. It stacks up, but in a wrong direction.\n",
      "The biggest problem in this scenario is that we think of the sheer size of the goal, or to be more accurate, the list of the activities we need to do, and how much time it will take us to do them all.\n",
      "We think about the big picture.\n",
      "There is nothing wrong with the big picture, on the contrary, we need it, but in the beginning, when it’s the planning phase.\n",
      "Immediately once the plan is finished, you should leave the big picture aside and focus on the small one.\n",
      "To be specific, just one day ahead of you. Or, as I like to call it “A 24 Hour Life”(basically what smarter people before me said but rephrased with a cooler name, fancy, I know).\n",
      "That’s what you should do. Don’t think about the science or that you need 66 days to establish a habit, it will just overwhelm you additionally, which you don’t need.\n",
      "Next, to the “ONE DAY” principle, the only other one you need is the consistency.\n",
      "If necessary, sacrifice the quality, and the quantity, for the sake of consistency.\n",
      "Let’s get down to concrete steps you can take a right this moment to take action and start working on your goal.\n",
      "Look back at the previous period, and try to pinpoint the main reasons on why you procrastinated (be honest with yourself).\n",
      "These reasons are usually internal and external.\n",
      "What I mean by this is, the excuses you give yourself (it’s hard, you don’t know how to do it, etc), and the distractions in your environment (the internet, television, people, food, and other).\n",
      "You probably know them already, but it’s good to write them down, and remind yourself.\n",
      "2. Stop Beating On Yourself\n",
      "This is more theoretical, fluffy advice, but still, makes sense.\n",
      "Stop dragging the luggage of your past (in)actions. That’s the thing with us people; we like to beat ourselves, which additionally prevents us from taking actions.\n",
      "So, drop it, and focus on using the lessons from my previous point.\n",
      "Remember, think just 24 hours ahead (or 18/16 depending on how much you sleep) now when I think about it, the “24-hour life” is starting to lose its meaning, but it sounds cooler than “16 Hour Life.”)\n",
      "Anyways. The moment you forgive yourself, you will feel relieved, and slowly start to regain that original motivation, or motivation 2.0 whatever you want to call it.\n",
      "3. Re-evaluate Your Direction\n",
      "Now that the past is behind you, you should look forward and get clarity on your direction.\n",
      "Even if you still want to pursue the same goal, know that it often happens that we don’t stop and think whether or not what we are trying to achieve, actually still makes sense for us (similar to being in an unhealthy relationship just because you’ve invested too much time).\n",
      "This is your one shot, either drop the goal altogether or leave all the excuses behind.\n",
      "Think about your biggest goal, and see if you still want to pursue it.\n",
      "If you do, write it in one sentence, and put a deadline on it.\n",
      "If not, scratch it. And think of another big goal you want to focus in the upcoming year.\n",
      "Just one goal, not five or ten. Let’s not copy-paste new years resolutions, year in-year out.\n",
      "Once you have it, you need a strategy.\n",
      "In those 16 hours, your sole focus (when it comes to your goal), should beonly two things:\n",
      "Things you have to DO to achieve your goal (what are your most important activities that will bring most results?)\n",
      "Things you have to LEARN to execute the previously defined activities\n",
      "When you determine these two points, put them in the timeline, and then…\n",
      "To make sure that history doesn’t repeat itself, choose just one thing you will do today no matter how minor the activity is.\n",
      "Like slapping a muffin out of your hand (if you want to lose weight), or learning five new words in Spanish a couple of random examples here, but you get what I mean.\n",
      "I wrote this down earlier, but I will repeat it because it’s probably the most important thing you can remember from this article.\n",
      "If necessary, sacrifice the Quality, and the Quantity, for the sake of CONSISTENCY.\n",
      "Even though it’s simple, it’s not easy *.\n",
      "But, you only need to take one small step, without thinking too far ahead, and before you know it, you will reach your destination.\n",
      "Just like I did with this article. One word at the time, one bad joke at the time, and before you know it, I finished writing it, and you finished reading it.\n",
      "Now, go get it I believe in you!\n",
      "Just remember every once in a while to make a pause, and evaluate your path and plan, just to make sure you are still on the right track.\n"
     ]
    }
   ],
   "source": [
    "for line in lines:\n",
    "    regex.split(line)\n",
    "    matches = re.findall(r'.*[aeiou]{2}.*', line)\n",
    "    for match in matches:\n",
    "        print(match)"
   ]
  },
  {
   "cell_type": "markdown",
   "metadata": {},
   "source": [
    "... that has at least 3 vowels"
   ]
  },
  {
   "cell_type": "code",
   "execution_count": 164,
   "metadata": {},
   "outputs": [
    {
     "name": "stdout",
     "output_type": "stream",
     "text": [
      "Look back at the previous period, and try to pinpoint the main reasons on why you procrastinated (be honest with yourself).\n",
      "So, drop it, and focus on using the lessons from my previous point.\n",
      "Things you have to LEARN to execute the previously defined activities\n"
     ]
    }
   ],
   "source": [
    "for line in lines:\n",
    "    regex.split(line)\n",
    "    matches = re.findall(r'.*[aeiou]{3}.*', line)\n",
    "    for match in matches:\n",
    "        print(match)"
   ]
  },
  {
   "cell_type": "markdown",
   "metadata": {},
   "source": [
    "... that has at least 30 characters"
   ]
  },
  {
   "cell_type": "code",
   "execution_count": 247,
   "metadata": {},
   "outputs": [
    {
     "name": "stdout",
     "output_type": "stream",
     "text": [
      "How To Start When You’ve Procrastinated On Your Goals For Too Long\n",
      "As you are reading this, you probably have a goal on your own, that you’ve pushed, postponed, procrastinated on, and other words that start with P, for days, weeks, months, or even years.\n",
      "Not only that, but you’ve reached the point where even the thought of the goal, brings the feeling of having butterflies in your stomach. Demon butterflies.\n",
      "Hopefully, today is the day you will break the chain as well.\n",
      "In the beginning, when we set the goal, we feel usually motivated, for about a day. As each additional day passes, the resistance starts to grow.\n",
      "As more time passes by, we feel more overwhelmed, especially if we have attempted to start several times, and failed. It stacks up, but in a wrong direction.\n",
      "The biggest problem in this scenario is that we think of the sheer size of the goal, or to be more accurate, the list of the activities we need to do, and how much time it will take us to do them all.\n",
      "We think about the big picture.\n",
      "There is nothing wrong with the big picture, on the contrary, we need it, but in the beginning, when it’s the planning phase.\n",
      "Immediately once the plan is finished, you should leave the big picture aside and focus on the small one.\n",
      "To be specific, just one day ahead of you. Or, as I like to call it “A 24 Hour Life”(basically what smarter people before me said but rephrased with a cooler name, fancy, I know).\n",
      "That’s what you should do. Don’t think about the science or that you need 66 days to establish a habit, it will just overwhelm you additionally, which you don’t need.\n",
      "Next, to the “ONE DAY” principle, the only other one you need is the consistency.\n",
      "If necessary, sacrifice the quality, and the quantity, for the sake of consistency.\n",
      "Let’s get down to concrete steps you can take a right this moment to take action and start working on your goal.\n",
      "*******************************\n",
      "Look back at the previous period, and try to pinpoint the main reasons on why you procrastinated (be honest with yourself).\n",
      "These reasons are usually internal and external.\n",
      "What I mean by this is, the excuses you give yourself (it’s hard, you don’t know how to do it, etc), and the distractions in your environment (the internet, television, people, food, and other).\n",
      "You probably know them already, but it’s good to write them down, and remind yourself.\n",
      "This is more theoretical, fluffy advice, but still, makes sense.\n",
      "Stop dragging the luggage of your past (in)actions. That’s the thing with us people; we like to beat ourselves, which additionally prevents us from taking actions.\n",
      "So, drop it, and focus on using the lessons from my previous point.\n",
      "Remember, think just 24 hours ahead (or 18/16 depending on how much you sleep) now when I think about it, the “24-hour life” is starting to lose its meaning, but it sounds cooler than “16 Hour Life.”)\n",
      "Anyways. The moment you forgive yourself, you will feel relieved, and slowly start to regain that original motivation, or motivation 2.0 whatever you want to call it.\n",
      "Now that the past is behind you, you should look forward and get clarity on your direction.\n",
      "Even if you still want to pursue the same goal, know that it often happens that we don’t stop and think whether or not what we are trying to achieve, actually still makes sense for us (similar to being in an unhealthy relationship just because you’ve invested too much time).\n",
      "This is your one shot, either drop the goal altogether or leave all the excuses behind.\n",
      "Think about your biggest goal, and see if you still want to pursue it.\n",
      "If you do, write it in one sentence, and put a deadline on it.\n",
      "If not, scratch it. And think of another big goal you want to focus in the upcoming year.\n",
      "Just one goal, not five or ten. Let’s not copy-paste new years resolutions, year in-year out.\n",
      "Once you have it, you need a strategy.\n",
      "In those 16 hours, your sole focus (when it comes to your goal), should beonly two things:\n",
      "Things you have to DO to achieve your goal (what are your most important activities that will bring most results?)\n",
      "Things you have to LEARN to execute the previously defined activities\n",
      "When you determine these two points, put them in the timeline, and then…\n",
      "To make sure that history doesn’t repeat itself, choose just one thing you will do today no matter how minor the activity is.\n",
      "Like slapping a muffin out of your hand (if you want to lose weight), or learning five new words in Spanish a couple of random examples here, but you get what I mean.\n",
      "I wrote this down earlier, but I will repeat it because it’s probably the most important thing you can remember from this article.\n",
      "If necessary, sacrifice the Quality, and the Quantity, for the sake of CONSISTENCY.\n",
      "Even though it’s simple, it’s not easy *.\n",
      "But, you only need to take one small step, without thinking too far ahead, and before you know it, you will reach your destination.\n",
      "Just like I did with this article. One word at the time, one bad joke at the time, and before you know it, I finished writing it, and you finished reading it.\n",
      "Now, go get it I believe in you!\n",
      "Just remember every once in a while to make a pause, and evaluate your path and plan, just to make sure you are still on the right track.\n"
     ]
    }
   ],
   "source": [
    "for line in lines:\n",
    "    matches = re.findall(r\".*\", line)\n",
    "    for match in matches:\n",
    "        if len(match)>30:\n",
    "            print(match)"
   ]
  },
  {
   "cell_type": "markdown",
   "metadata": {},
   "source": [
    "... has the same word appear twice in the same line"
   ]
  },
  {
   "cell_type": "code",
   "execution_count": 286,
   "metadata": {},
   "outputs": [
    {
     "name": "stdout",
     "output_type": "stream",
     "text": [
      "('You', 'You')\n",
      "('on', 'on')\n",
      "('butterflies', 'butterflies')\n",
      "('the', 'the')\n",
      "('day', 'day')\n",
      "('we', 'we')\n",
      "('do', 'do')\n",
      "('s', 's')\n",
      "('on', 'on')\n",
      "('a', 'a')\n",
      "('you', 'you')\n",
      "('is', 'is')\n",
      "('the', 'the')\n",
      "('a', 'a')\n",
      "('you', 'you')\n",
      "('the', 'the')\n",
      "('s', 's')\n",
      "('us', 'us')\n",
      "('on', 'on')\n",
      "('it', 'it')\n",
      "('motivation', 'motivation')\n",
      "('on', 'on')\n",
      "('ve', 've')\n",
      "('the', 'the')\n",
      "('a', 'a')\n",
      "('in', 'in')\n",
      "('year', 'year')\n",
      "('a', 'a')\n",
      "('your', 'your')\n",
      "('most', 'most')\n",
      "('to', 'to')\n",
      "('the', 'the')\n",
      "('no', 'no')\n",
      "('a', 'a')\n",
      "('s', 's')\n",
      "('the', 'the')\n",
      "('s', 's')\n",
      "('you', 'you')\n",
      "('it', 'it')\n",
      "('and', 'and')\n"
     ]
    }
   ],
   "source": [
    "for line in lines:\n",
    "    matches = re.findall(r\".*(?=(\\b\\w+\\b).*(\\1)).*\", line)\n",
    "    for match in matches:\n",
    "        print(match)"
   ]
  },
  {
   "cell_type": "markdown",
   "metadata": {},
   "source": [
    "## Print all the words"
   ]
  },
  {
   "cell_type": "markdown",
   "metadata": {},
   "source": [
    "Words with either 'Bar' or 'Baz' in them"
   ]
  },
  {
   "cell_type": "code",
   "execution_count": 287,
   "metadata": {},
   "outputs": [],
   "source": [
    "for line in lines:\n",
    "    matches = re.findall(r'\\b(?=\\w*Bar|Baz)\\w+\\b', line)\n",
    "    for match in matches:\n",
    "        if len(match)>0:\n",
    "            print(match)"
   ]
  },
  {
   "cell_type": "markdown",
   "metadata": {},
   "source": [
    "Words with either 'Whe' or 'The' in them"
   ]
  },
  {
   "cell_type": "code",
   "execution_count": 228,
   "metadata": {},
   "outputs": [
    {
     "name": "stdout",
     "output_type": "stream",
     "text": [
      "When\n",
      "The\n",
      "There\n",
      "The\n",
      "These\n",
      "The\n",
      "When\n"
     ]
    }
   ],
   "source": [
    "for line in lines:\n",
    "    matches = re.findall(r'\\b(?=\\w*Whe|The)\\w+\\b', line)\n",
    "    for match in matches:\n",
    "        if len(match)>0:\n",
    "            print(match)"
   ]
  },
  {
   "cell_type": "markdown",
   "metadata": {},
   "source": [
    "Words containing a double character (e.g. 'oo')"
   ]
  },
  {
   "cell_type": "code",
   "execution_count": 309,
   "metadata": {},
   "outputs": [
    {
     "name": "stdout",
     "output_type": "stream",
     "text": [
      "('o', 'o')\n",
      "('e', 'e')\n",
      "('e', 'e')\n",
      "('t', 't')\n",
      "('t', 't')\n",
      "('l', 'l')\n",
      "('l', 'l')\n",
      "('l', 'l')\n",
      "('n', 'n')\n",
      "('e', 'e')\n",
      "('l', 'l')\n",
      "('d', 'd')\n",
      "('s', 's')\n",
      "('s', 's')\n",
      "('e', 'e')\n",
      "('l', 'l')\n",
      "('t', 't')\n",
      "('g', 'g')\n",
      "('e', 'e')\n",
      "('c', 'c')\n",
      "('e', 'e')\n",
      "('l', 'l')\n",
      "('l', 'l')\n",
      "('e', 'e')\n",
      "('n', 'n')\n",
      "('n', 'n')\n",
      "('m', 'm')\n",
      "('l', 'l')\n",
      "('l', 'l')\n",
      "('l', 'l')\n",
      "('o', 'o')\n",
      "('e', 'e')\n",
      "('l', 'l')\n",
      "('l', 'l')\n",
      "('e', 'e')\n",
      "('e', 'e')\n",
      "('s', 's')\n",
      "('s', 's')\n",
      "('o', 'o')\n",
      "('l', 'l')\n",
      "('o', 'o')\n",
      "('o', 'o')\n",
      "('f', 'f')\n",
      "('l', 'l')\n",
      "('g', 'g')\n",
      "('g', 'g')\n",
      "('l', 'l')\n",
      "('s', 's')\n",
      "('e', 'e')\n",
      "('o', 'o')\n",
      "('l', 'l')\n",
      "('e', 'e')\n",
      "('l', 'l')\n",
      "('o', 'o')\n",
      "('l', 'l')\n",
      "('p', 'p')\n",
      "('l', 'l')\n",
      "('l', 'l')\n",
      "('o', 'o')\n",
      "('l', 'l')\n",
      "('g', 'g')\n",
      "('e', 'e')\n",
      "('l', 'l')\n",
      "('e', 'e')\n",
      "('l', 'l')\n",
      "('o', 'o')\n",
      "('l', 'l')\n",
      "('t', 't')\n",
      "('p', 'p')\n",
      "('f', 'f')\n",
      "('l', 'l')\n",
      "('s', 's')\n",
      "('e', 'e')\n",
      "('l', 'l')\n",
      "('o', 'o')\n",
      "('l', 'l')\n",
      "('l', 'l')\n"
     ]
    }
   ],
   "source": [
    "for line in lines:\n",
    "    matches = re.findall(r'\\b\\w+(?=(\\w)(\\1))\\w+\\b', line)\n",
    "    for match in matches:\n",
    "        if len(match)>0:\n",
    "            print(match)"
   ]
  },
  {
   "cell_type": "markdown",
   "metadata": {},
   "source": [
    "## Cleanup string codes so they contain only numbers\n",
    "* Remove slash and spaces"
   ]
  },
  {
   "cell_type": "code",
   "execution_count": 336,
   "metadata": {},
   "outputs": [
    {
     "data": {
      "text/plain": [
       "['23738293', '82923428263', '12903820', '820318402342']"
      ]
     },
     "execution_count": 336,
     "metadata": {},
     "output_type": "execute_result"
    }
   ],
   "source": [
    "codes = ['2373/ 8293', \n",
    "         ' 8292342 / 8263', \n",
    "         '12/903820 ',\n",
    "         '8203184 / 02342 ']\n",
    "result = []\n",
    "for code in codes:\n",
    "    result.append(re.sub(r'\\W', \"\", code))\n",
    "\n",
    "result"
   ]
  },
  {
   "cell_type": "markdown",
   "metadata": {},
   "source": [
    "## Switch order of the numbers in string\n",
    "* Preserve slash /\n",
    "* Remove spaces"
   ]
  },
  {
   "cell_type": "code",
   "execution_count": 337,
   "metadata": {},
   "outputs": [
    {
     "data": {
      "text/plain": [
       "['2373/8293', '8292342/8263', '12/903820', '8203184/02342']"
      ]
     },
     "execution_count": 337,
     "metadata": {},
     "output_type": "execute_result"
    }
   ],
   "source": [
    "codes = ['2373/ 8293', \n",
    "         ' 8292342 / 8263', \n",
    "         '12/903820 ',\n",
    "         '8203184 / 02342 ']\n",
    "\n",
    "result = []\n",
    "for code in codes:\n",
    "    result.append(re.sub(r'\\s', \"\", code))\n",
    "\n",
    "result"
   ]
  }
 ],
 "metadata": {
  "kernelspec": {
   "display_name": "Python 3",
   "language": "python",
   "name": "python3"
  },
  "language_info": {
   "codemirror_mode": {
    "name": "ipython",
    "version": 3
   },
   "file_extension": ".py",
   "mimetype": "text/x-python",
   "name": "python",
   "nbconvert_exporter": "python",
   "pygments_lexer": "ipython3",
   "version": "3.8.10"
  }
 },
 "nbformat": 4,
 "nbformat_minor": 4
}
