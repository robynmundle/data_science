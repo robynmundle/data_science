{
 "cells": [
  {
   "cell_type": "code",
   "execution_count": 1,
   "id": "dominant-wrong",
   "metadata": {},
   "outputs": [],
   "source": [
    "import re"
   ]
  },
  {
   "cell_type": "markdown",
   "id": "radio-trustee",
   "metadata": {},
   "source": [
    "# Regex in Python"
   ]
  },
  {
   "cell_type": "markdown",
   "id": "prerequisite-cancer",
   "metadata": {},
   "source": [
    "#### `r\"\"` - Raw Python Strings"
   ]
  },
  {
   "cell_type": "markdown",
   "id": "willing-reading",
   "metadata": {},
   "source": [
    "When writing regular expression in Python, it is recommended that you use raw strings instead of regular Python strings. Raw strings begin with a special prefix (r) and signal Python not to interpret backslashes and special metacharacters in the string, allowing you to pass them through directly to the regular expression engine.\n",
    "\n",
    "This means that a pattern like \"\\n\\w\" will not be interpreted and can be written as r\"\\n\\w\" instead of \"\\\\n\\\\w\" as in other languages, which is much easier to read."
   ]
  },
  {
   "cell_type": "markdown",
   "id": "accredited-apache",
   "metadata": {},
   "source": [
    "Online Resources:\n",
    "* https://docs.python.org/3.7/library/re.html#\n",
    "* https://regexone.com/references/python"
   ]
  },
  {
   "cell_type": "markdown",
   "id": "digital-strand",
   "metadata": {},
   "source": [
    "#### Matching a string"
   ]
  },
  {
   "cell_type": "markdown",
   "id": "dense-insight",
   "metadata": {},
   "source": [
    "The re package has a number of top level methods, and to test whether a regular expression matches a specific string in Python, you can use ```re.search()```. This method either returns None if the pattern doesn't match, or a ```re.MatchObject``` with additional information about which part of the string the match was found.\n",
    "\n",
    "Note that this method stops after the first match, so this is best suited for testing a regular expression more than extracting data.\n",
    "\n",
    "```python\n",
    "matchObject = re.search(pattern, input_str, flags=0)\n",
    "```"
   ]
  },
  {
   "cell_type": "code",
   "execution_count": 2,
   "id": "excited-variety",
   "metadata": {},
   "outputs": [
    {
     "name": "stdout",
     "output_type": "stream",
     "text": [
      "Match at index 0, 7\n",
      "Full match: June 24\n",
      "Month: June\n",
      "Day: 24\n"
     ]
    }
   ],
   "source": [
    "# Lets use a regular expression to match a date string. Ignore\n",
    "# the output since we are just testing if the regex matches.\n",
    "regex = r\"([a-zA-Z]+) (\\d+)\"\n",
    "if re.search(regex, \"June 24\"):\n",
    "    # Indeed, the expression \"([a-zA-Z]+) (\\d+)\" matches the date string\n",
    "    \n",
    "    # If we want, we can use the MatchObject's start() and end() methods \n",
    "    # to retrieve where the pattern matches in the input string, and the \n",
    "    # group() method to get all the matches and captured groups.\n",
    "    match = re.search(regex, \"June 24\")\n",
    "    \n",
    "    # This will print [0, 7), since it matches at the beginning and end of the \n",
    "    # string\n",
    "    print(\"Match at index %s, %s\" % (match.start(), match.end()))\n",
    "    \n",
    "    # The groups contain the matched values.  In particular:\n",
    "    #    match.group(0) always returns the fully matched string\n",
    "    #    match.group(1), match.group(2), ... will return the capture\n",
    "    #            groups in order from left to right in the input string\n",
    "    #    match.group() is equivalent to match.group(0)\n",
    "    \n",
    "    # So this will print \"June 24\"\n",
    "    print(\"Full match: %s\" % (match.group(0)))\n",
    "    # So this will print \"June\"\n",
    "    print(\"Month: %s\" % (match.group(1)))\n",
    "    # So this will print \"24\"\n",
    "    print(\"Day: %s\" % (match.group(2)))\n",
    "else:\n",
    "    # If re.search() does not match, then None is returned\n",
    "    print(\"The regex pattern does not match. :(\")"
   ]
  },
  {
   "cell_type": "markdown",
   "id": "increased-million",
   "metadata": {},
   "source": [
    " "
   ]
  },
  {
   "cell_type": "markdown",
   "id": "accurate-disabled",
   "metadata": {},
   "source": [
    "#### Capturing Groups"
   ]
  },
  {
   "cell_type": "markdown",
   "id": "weekly-growing",
   "metadata": {},
   "source": [
    "Unlike the ```re.search()``` method above, we can use ```re.findall()``` to perform a global search over the whole input string. If there are capture groups in the pattern, then it will return a list of all the captured data, but otherwise, it will just return a list of the matches themselves, or an empty list if no matches are found.\n",
    "\n",
    "If you need additional context for each match, you can use ```re.finditer()``` which instead returns an iterator of ```re.MatchObjects``` to walk through. Both methods take the same parameters.\n",
    "\n",
    "```python\n",
    "matchList = re.findall(pattern, input_str, flags=0)\n",
    "matchList = re.finditer(pattern, input_str, flags=0)\n",
    "```"
   ]
  },
  {
   "cell_type": "code",
   "execution_count": 3,
   "id": "stupid-civilization",
   "metadata": {},
   "outputs": [
    {
     "name": "stdout",
     "output_type": "stream",
     "text": [
      "Full match: June 24\n",
      "Full match: August 9\n",
      "Full match: Dec 12\n",
      "Match month: June\n",
      "Match month: August\n",
      "Match month: Dec\n",
      "Match at index: 0, 7\n",
      "Match at index: 9, 17\n",
      "Match at index: 19, 25\n"
     ]
    }
   ],
   "source": [
    "# Lets use a regular expression to match a few date strings.\n",
    "regex = r\"[a-zA-Z]+ \\d+\"\n",
    "matches = re.findall(regex, \"June 24, August 9, Dec 12\")\n",
    "for match in matches:\n",
    "    # This will print:\n",
    "    #   June 24\n",
    "    #   August 9\n",
    "    #   Dec 12\n",
    "    print(\"Full match: %s\" % (match))\n",
    "\n",
    "# To capture the specific months of each date we can use the following pattern\n",
    "regex = r\"([a-zA-Z]+) \\d+\"\n",
    "matches = re.findall(regex, \"June 24, August 9, Dec 12\")\n",
    "for match in matches:\n",
    "    # This will now print:\n",
    "    #   June\n",
    "    #   August\n",
    "    #   Dec\n",
    "    print(\"Match month: %s\" % (match))\n",
    "\n",
    "# If we need the exact positions of each match\n",
    "regex = r\"([a-zA-Z]+) \\d+\"\n",
    "matches = re.finditer(regex, \"June 24, August 9, Dec 12\")\n",
    "for match in matches:\n",
    "    # This will now print:\n",
    "    #   0 7\n",
    "    #   9 17\n",
    "    #   19 25\n",
    "    # which corresponds with the start and end of each match in the input string\n",
    "    print(\"Match at index: %s, %s\" % (match.start(), match.end()))"
   ]
  },
  {
   "cell_type": "markdown",
   "id": "fantastic-destruction",
   "metadata": {},
   "source": [
    " "
   ]
  },
  {
   "cell_type": "markdown",
   "id": "cutting-suspect",
   "metadata": {},
   "source": [
    "#### Finding and Replacing Strings"
   ]
  },
  {
   "cell_type": "markdown",
   "id": "acknowledged-preview",
   "metadata": {},
   "source": [
    "Another common task is to find and replace a part of a string using regular expressions, for example, to replace all instances of an old email domain, or to swap the order of some text. You can do this in Python with the ```re.sub()``` method.\n",
    "\n",
    "The optional count argument is the exact number of replacements to make in the input string, and if this is value is less than or equal to zero, then every match in the string is replaced.\n",
    "\n",
    "```python\n",
    "replacedString = re.sub(pattern, replacement_pattern, input_str, count, flags=0)\n",
    "```"
   ]
  },
  {
   "cell_type": "code",
   "execution_count": 4,
   "id": "waiting-gilbert",
   "metadata": {},
   "outputs": [
    {
     "name": "stdout",
     "output_type": "stream",
     "text": [
      "24 of June, 9 of August, 12 of Dec\n"
     ]
    }
   ],
   "source": [
    "# Lets try and reverse the order of the day and month in a date \n",
    "# string. Notice how the replacement string also contains metacharacters\n",
    "# (the back references to the captured groups) so we use a raw \n",
    "# string for that as well.\n",
    "regex = r\"([a-zA-Z]+) (\\d+)\"\n",
    "\n",
    "# This will reorder the string and print:\n",
    "#   24 of June, 9 of August, 12 of Dec\n",
    "print(re.sub(regex, r\"\\2 of \\1\", \"June 24, August 9, Dec 12\"))"
   ]
  },
  {
   "cell_type": "markdown",
   "id": "affecting-chamber",
   "metadata": {},
   "source": [
    " "
   ]
  },
  {
   "cell_type": "markdown",
   "id": "sustained-nickname",
   "metadata": {},
   "source": [
    "#### Flags"
   ]
  },
  {
   "cell_type": "markdown",
   "id": "explicit-stroke",
   "metadata": {},
   "source": [
    "In the Python regular expression methods above, you will notice that each of them also take an optional flags argument. Most of the available flags are a convenience and can be written into the into the regular expression itself directly, but some can be useful in certain cases.\n",
    "\n",
    "* ```re.IGNORECASE``` makes the pattern case insensitive so that it matches strings of different capitalizations\n",
    "* ```re.MULTILINE``` is necessary if your input string has newline characters (\\n), this flag allows the start and end metacharacter (^ and $ respectively) to match at the beginning and end of each line instead of at the beginning and end of the whole input string\n",
    "* ```re.DOTALL``` allows the dot (.) metacharacter match all characters, including the newline character (\\n)"
   ]
  },
  {
   "cell_type": "markdown",
   "id": "particular-thinking",
   "metadata": {},
   "source": [
    " "
   ]
  },
  {
   "cell_type": "markdown",
   "id": "opened-radar",
   "metadata": {},
   "source": [
    "#### Compiling a pattern for performance"
   ]
  },
  {
   "cell_type": "markdown",
   "id": "dramatic-providence",
   "metadata": {},
   "source": [
    "In Python, creating a new regular expression pattern to match many strings can be slow, so it is recommended that you compile them if you need to be testing or extracting information from many input strings using the same expression. This method returns a ```re.RegexObject```.\n",
    "\n",
    "```python\n",
    "regexObject = re.compile(pattern, flags=0)\n",
    "```\n",
    "The returned object has exactly the same methods as above, except that they take the input string and no longer require the pattern or flags for each call."
   ]
  },
  {
   "cell_type": "code",
   "execution_count": 5,
   "id": "frozen-constitution",
   "metadata": {},
   "outputs": [
    {
     "name": "stdout",
     "output_type": "stream",
     "text": [
      "0 11\n",
      "Hello\n",
      "Bonjour\n",
      "Hello Earth\n"
     ]
    }
   ],
   "source": [
    "# Lets create a pattern and extract some information with it\n",
    "regex = re.compile(r\"(\\w+) World\")\n",
    "result = regex.search(\"Hello World is the easiest\")\n",
    "if result:\n",
    "    # This will print:\n",
    "    #   0 11\n",
    "    # for the start and end of the match\n",
    "    print(result.start(), result.end())\n",
    "\n",
    "# This will print:\n",
    "#   Hello\n",
    "#   Bonjour\n",
    "# for each of the captured groups that matched\n",
    "for result in regex.findall(\"Hello World, Bonjour World\"):\n",
    "    print(result)\n",
    "\n",
    "# This will substitute \"World\" with \"Earth\" and print:\n",
    "#   Hello Earth\n",
    "print(regex.sub(r\"\\1 Earth\", \"Hello World\"))"
   ]
  }
 ],
 "metadata": {
  "kernelspec": {
   "display_name": "Python 3",
   "language": "python",
   "name": "python3"
  },
  "language_info": {
   "codemirror_mode": {
    "name": "ipython",
    "version": 3
   },
   "file_extension": ".py",
   "mimetype": "text/x-python",
   "name": "python",
   "nbconvert_exporter": "python",
   "pygments_lexer": "ipython3",
   "version": "3.8.10"
  }
 },
 "nbformat": 4,
 "nbformat_minor": 5
}
