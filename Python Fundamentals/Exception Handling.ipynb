{
 "cells": [
  {
   "cell_type": "markdown",
   "id": "f053ea00-0cd1-4e5f-8dc8-8a393acf49fc",
   "metadata": {},
   "source": [
    "# Exception Handling\n",
    "The most common reason of an error in a Python program is when a certain statement is not in accordance with the prescribed usage. Such an error is called a syntax error. The Python interpreter immediately reports it, usually along with the reason.\n",
    "\n",
    "| Exception\t| Description |\n",
    "| --- | --- |\n",
    "| AssertionError\t| Raised when the assert statement fails.\n",
    "| AttributeError\t| Raised on the attribute assignment or reference fails.\n",
    "| EOFError\t| Raised when the input() function hits the end-of-file condition.\n",
    "| FloatingPointError\t| Raised when a floating point operation fails.\n",
    "| GeneratorExit\t| Raised when a generator's close() method is called.\n",
    "| ImportError\t| Raised when the imported module is not found.\n",
    "| IndexError\t| Raised when the index of a sequence is out of range.\n",
    "| KeyError\t| Raised when a key is not found in a dictionary.\n",
    "| KeyboardInterrupt\t| Raised when the user hits the interrupt key (Ctrl+c or delete).\n",
    "| MemoryError\t| Raised when an operation runs out of memory.\n",
    "| NameError\t| Raised when a variable is not found in the local or global scope.\n",
    "| NotImplementedError\t| Raised by abstract methods.\n",
    "| OSError\t| Raised when a system operation causes a system-related error.\n",
    "| OverflowError\t| Raised when the result of an arithmetic operation is too large to be represented.\n",
    "| ReferenceError\t| Raised when a weak reference proxy is used to access a garbage collected referent.\n",
    "| RuntimeError\t| Raised when an error does not fall under any other category.\n",
    "| StopIteration\t| Raised by the next() function to indicate that there is no further item to be returned by the iterator.\n",
    "| SyntaxError\t| Raised by the parser when a syntax error is encountered.\n",
    "| IndentationError\t| Raised when there is an incorrect indentation.\n",
    "| TabError\t| Raised when the indentation consists of inconsistent tabs and spaces.\n",
    "| SystemError\t| Raised when the interpreter detects internal error.\n",
    "| SystemExit\t| Raised by the sys.exit() function.\n",
    "| TypeError\t| Raised when a function or operation is applied to an object of an incorrect type.\n",
    "| UnboundLocalError\t| Raised when a reference is made to a local variable in a function or method, but no value has been bound to that variable.\n",
    "| UnicodeError\t| Raised when a Unicode-related encoding or decoding error occurs.\n",
    "| UnicodeEncodeError\t| Raised when a Unicode-related error occurs during encoding.\n",
    "| UnicodeDecodeError\t| Raised when a Unicode-related error occurs during decoding.\n",
    "| UnicodeTranslateError\t| Raised when a Unicode-related error occurs during translation.\n",
    "| ValueError\t| Raised when a function gets an argument of correct type but improper value.\n",
    "| ZeroDivisionError\t| Raised when the second operand of a division or module operation is zero.\n",
    "\n",
    "Python uses `try` and `except` keywords to handle exceptions. Both keywords are followed by indented blocks:\n",
    "``` python\n",
    "try:\n",
    "    # statement in try block\n",
    "except:\n",
    "    # executed when error flagged in try block\n",
    "```\n",
    "\n",
    "Online resources: https://www.tutorialsteacher.com/python/exception-handling-in-python and https://www.tutorialsteacher.com/python/error-types-in-python\n",
    "\n",
    "Now, let's practice some **errors and exception handling**\n",
    "* transform all strings from list to upper, if the element is not string don't transform it\n",
    "* use try except block without use of 'if' statement"
   ]
  },
  {
   "cell_type": "code",
   "execution_count": 1,
   "id": "d666beee-5d40-4538-be3e-526b7c692f93",
   "metadata": {},
   "outputs": [
    {
     "name": "stdout",
     "output_type": "stream",
     "text": [
      "TODAY\n",
      "I\n",
      "8\n",
      "2\n",
      "EGGS\n"
     ]
    }
   ],
   "source": [
    "for x in ['today','i', 8, 2, 'eggs']:\n",
    "    try:\n",
    "        print(x.upper())\n",
    "    except AttributeError:\n",
    "        print(x)"
   ]
  },
  {
   "cell_type": "markdown",
   "id": "a3551e3e-330a-44f6-afd2-718408ce38af",
   "metadata": {},
   "source": [
    "**We have the function created below:**\n",
    "\n",
    "Luke Skywalker has family and friends. Help him remind them who is who. Given a string with a name, return the relation of that person to Luke.\n",
    "\n",
    "**Person --> Relation**\n",
    "- Darth Vader --> father\n",
    "- Leia --> sister\n",
    "- Han --> brother in law\n",
    "- R2D2 --> droid\n",
    "\n",
    "#### Examples\n",
    "\n",
    "> relation_to_luke(\"Darth Vader\") ➞ \"Luke, I am your father.\"\n",
    ">\n",
    "> relation_to_luke(\"Leia\") ➞ \"Luke, I am your sister.\"\n",
    ">\n",
    "> relation_to_luke(\"Han\") ➞ \"Luke, I am your brother in law.\""
   ]
  },
  {
   "cell_type": "code",
   "execution_count": 2,
   "id": "31858dac-bf8e-4b72-a91f-4659d23b63ea",
   "metadata": {},
   "outputs": [],
   "source": [
    "def relation_to_luke(text):\n",
    "    _dict = []\n",
    "    _dict[\"Darth Vader\"] = \"father\"\n",
    "    _dict[\"Leia\"] = \"sister\"\n",
    "    _dict[\"Ham\"] = \"brother in law\"\n",
    "    _dict[\"R2D2\"] = \"droid\"\n",
    "    print(f\"Luke, I am your {+ _dict[text]}\")"
   ]
  },
  {
   "cell_type": "markdown",
   "id": "4027a530-a8a6-43b2-819b-65bd70cad660",
   "metadata": {},
   "source": [
    "#### Task I\n",
    "Fix errors in the function above so we can run following code"
   ]
  },
  {
   "cell_type": "code",
   "execution_count": 3,
   "id": "142059da-667a-485a-b47f-985acb19823e",
   "metadata": {},
   "outputs": [],
   "source": [
    "def relation_to_luke(text):\n",
    "    _dict = {}\n",
    "    _dict[\"Darth Vader\"] = \"father\"\n",
    "    _dict[\"Leia\"] = \"sister\"\n",
    "    _dict[\"Han\"] = \"brother in law\"\n",
    "    _dict[\"R2D2\"] = \"droid\"\n",
    "    print(f\"\\\"Luke, I am your {_dict[text]}\\\"\")"
   ]
  },
  {
   "cell_type": "code",
   "execution_count": 4,
   "id": "3fdbb568-eeee-42a6-a16b-00e05e466f7d",
   "metadata": {},
   "outputs": [
    {
     "name": "stdout",
     "output_type": "stream",
     "text": [
      "\"Luke, I am your father\"\n",
      "\"Luke, I am your sister\"\n",
      "\"Luke, I am your brother in law\"\n",
      "\"Luke, I am your droid\"\n"
     ]
    }
   ],
   "source": [
    "relation_to_luke(\"Darth Vader\")\n",
    "relation_to_luke(\"Leia\")\n",
    "relation_to_luke(\"Han\")\n",
    "relation_to_luke(\"R2D2\")"
   ]
  },
  {
   "cell_type": "markdown",
   "id": "8518d8c1-a3ae-43d4-aa7a-fe0be4ca9082",
   "metadata": {},
   "source": [
    "#### Task II\n",
    "Use exception handling so we can run the function with any string. In this case, the function will return following:\n",
    "\n",
    "**relation_to_luke(\"aaaa\") ➞ \"aaaa is not in the relation with Luke\"**\n",
    "\n",
    "> #### Note\n",
    "> We **cannot** use **if** statement for this"
   ]
  },
  {
   "cell_type": "code",
   "execution_count": 5,
   "id": "b59220c7-b6fe-4889-a07a-1dff7b7830f2",
   "metadata": {},
   "outputs": [
    {
     "name": "stdin",
     "output_type": "stream",
     "text": [
      "Who do you want to check for Luke's relations?  Leia\n"
     ]
    },
    {
     "name": "stdout",
     "output_type": "stream",
     "text": [
      "\"Luke, I am your sister\"\n"
     ]
    }
   ],
   "source": [
    "string = input(\"Who do you want to check for Luke's relations? \")\n",
    "try:\n",
    "    relation_to_luke(string)\n",
    "except:\n",
    "    print(f\"\\\"{string} is not in the relation with Luke\\\"\")"
   ]
  }
 ],
 "metadata": {
  "kernelspec": {
   "display_name": "Python 3",
   "language": "python",
   "name": "python3"
  },
  "language_info": {
   "codemirror_mode": {
    "name": "ipython",
    "version": 3
   },
   "file_extension": ".py",
   "mimetype": "text/x-python",
   "name": "python",
   "nbconvert_exporter": "python",
   "pygments_lexer": "ipython3",
   "version": "3.8.10"
  }
 },
 "nbformat": 4,
 "nbformat_minor": 5
}
