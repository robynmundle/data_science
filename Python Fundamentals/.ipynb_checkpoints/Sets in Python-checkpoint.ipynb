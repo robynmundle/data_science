{
 "cells": [
  {
   "cell_type": "markdown",
   "id": "99bada7c-fbfb-4368-ad09-c6ae6c901eee",
   "metadata": {},
   "source": [
    "# Sets\n",
    "Python’s built-in `set` type has the following characteristics:\n",
    "* Sets are unordered.\n",
    "* Set elements are unique. Duplicate elements are not allowed.\n",
    "* A set itself may be modified, but the elements contained in the set must be of an immutable type.\n",
    "\n",
    "Online resource for Python's sets: https://realpython.com/python-sets/\n",
    "\n",
    "## Let’s see what all that means, and how you can work with sets in Python.\n",
    "* create a new empty set and print it"
   ]
  },
  {
   "cell_type": "code",
   "execution_count": 1,
   "id": "91acecc3-9e76-4d42-8627-266578b8fede",
   "metadata": {},
   "outputs": [
    {
     "data": {
      "text/plain": [
       "set()"
      ]
     },
     "execution_count": 1,
     "metadata": {},
     "output_type": "execute_result"
    }
   ],
   "source": [
    "a = set()\n",
    "a"
   ]
  },
  {
   "cell_type": "markdown",
   "id": "93845511-1968-45b0-8b30-2d11bedd6ecc",
   "metadata": {},
   "source": [
    "* create a non-empty set and print it"
   ]
  },
  {
   "cell_type": "code",
   "execution_count": 2,
   "id": "4f8942a7-10c9-44ac-99dc-7b1f2b77c44b",
   "metadata": {},
   "outputs": [
    {
     "data": {
      "text/plain": [
       "{1, 2, 3}"
      ]
     },
     "execution_count": 2,
     "metadata": {},
     "output_type": "execute_result"
    }
   ],
   "source": [
    "b = {1,2,3}\n",
    "b"
   ]
  },
  {
   "cell_type": "markdown",
   "id": "724f0b23-f5f9-41d9-889f-bb2a78452eee",
   "metadata": {},
   "source": [
    "* iterate over the set and print results"
   ]
  },
  {
   "cell_type": "code",
   "execution_count": 3,
   "id": "674629b9-de20-4987-95b2-82af93950be1",
   "metadata": {},
   "outputs": [
    {
     "name": "stdout",
     "output_type": "stream",
     "text": [
      "1\n",
      "2\n",
      "3\n"
     ]
    }
   ],
   "source": [
    "for i in b:\n",
    "    print(i)"
   ]
  },
  {
   "cell_type": "markdown",
   "id": "406bf1d9-9882-448a-bd38-1eb38e107b16",
   "metadata": {},
   "source": [
    "* add one item to the set"
   ]
  },
  {
   "cell_type": "code",
   "execution_count": 4,
   "id": "8c969e8a-e70e-4d21-a73f-5571a9c9390a",
   "metadata": {},
   "outputs": [
    {
     "data": {
      "text/plain": [
       "{1, 2, 3, 4}"
      ]
     },
     "execution_count": 4,
     "metadata": {},
     "output_type": "execute_result"
    }
   ],
   "source": [
    "b.add(4)\n",
    "b"
   ]
  },
  {
   "cell_type": "markdown",
   "id": "6ace5885-e90e-41da-a733-74cc23890df5",
   "metadata": {},
   "source": [
    "* add multiple items to the set"
   ]
  },
  {
   "cell_type": "code",
   "execution_count": 5,
   "id": "4950c0e1-1576-48ba-85cc-fd68e1a7c932",
   "metadata": {},
   "outputs": [
    {
     "data": {
      "text/plain": [
       "{1, 2, 3, 4, 5, 6, 7}"
      ]
     },
     "execution_count": 5,
     "metadata": {},
     "output_type": "execute_result"
    }
   ],
   "source": [
    "extra_b = {5,6,7}\n",
    "b = b.union(extra_b)\n",
    "b"
   ]
  },
  {
   "cell_type": "markdown",
   "id": "8f7aff1e-c1bc-4bd0-984f-3a4fa3fb8831",
   "metadata": {},
   "source": [
    "* remove an item from a set if it is present in the set"
   ]
  },
  {
   "cell_type": "code",
   "execution_count": 6,
   "id": "0f5d7053-eab1-4b9d-bfa8-91aaac83306d",
   "metadata": {},
   "outputs": [
    {
     "data": {
      "text/plain": [
       "{1, 2, 4, 5, 6, 7}"
      ]
     },
     "execution_count": 6,
     "metadata": {},
     "output_type": "execute_result"
    }
   ],
   "source": [
    "b.discard(3)\n",
    "b"
   ]
  },
  {
   "cell_type": "markdown",
   "id": "6362c650-b3c7-48d0-94e4-d9985e0b7187",
   "metadata": {},
   "source": [
    "* find maximum and minimum values of the set"
   ]
  },
  {
   "cell_type": "code",
   "execution_count": 7,
   "id": "c581d7c2-d78a-4441-a105-3acbe0ee64c0",
   "metadata": {},
   "outputs": [
    {
     "name": "stdout",
     "output_type": "stream",
     "text": [
      "7\n",
      "1\n"
     ]
    }
   ],
   "source": [
    "print(max(b))\n",
    "print(min(b))"
   ]
  },
  {
   "cell_type": "markdown",
   "id": "f0ca35bd-6666-44ab-a9fb-72d727aa70ec",
   "metadata": {},
   "source": [
    "* print the length of the set"
   ]
  },
  {
   "cell_type": "code",
   "execution_count": 8,
   "id": "1d1c5a55-6bc4-4305-b5e9-e806bece09dd",
   "metadata": {},
   "outputs": [
    {
     "name": "stdout",
     "output_type": "stream",
     "text": [
      "6\n"
     ]
    }
   ],
   "source": [
    "print(len(b))"
   ]
  },
  {
   "cell_type": "markdown",
   "id": "d03796a1-db8f-4ccf-82e8-a897f071352d",
   "metadata": {},
   "source": [
    "* create an intersection of x and y"
   ]
  },
  {
   "cell_type": "code",
   "execution_count": 9,
   "id": "17e14d19-ef96-47c0-b599-cd5951ad0454",
   "metadata": {},
   "outputs": [
    {
     "data": {
      "text/plain": [
       "{3}"
      ]
     },
     "execution_count": 9,
     "metadata": {},
     "output_type": "execute_result"
    }
   ],
   "source": [
    "x = {1,2,3}\n",
    "y = {3,4,5}\n",
    "x & y"
   ]
  },
  {
   "cell_type": "markdown",
   "id": "dba7ed7e-971d-4a51-9413-7768556d06e7",
   "metadata": {},
   "source": [
    "* create a union of x and y"
   ]
  },
  {
   "cell_type": "code",
   "execution_count": 10,
   "id": "20e16c89-5ac6-4586-a434-37d556c90a6a",
   "metadata": {},
   "outputs": [
    {
     "data": {
      "text/plain": [
       "{1, 2, 3, 4, 5}"
      ]
     },
     "execution_count": 10,
     "metadata": {},
     "output_type": "execute_result"
    }
   ],
   "source": [
    "x | y"
   ]
  },
  {
   "cell_type": "markdown",
   "id": "ba6b3bda-8e8b-4328-a363-beeb8d2f7786",
   "metadata": {},
   "source": [
    "* create difference between x and y"
   ]
  },
  {
   "cell_type": "code",
   "execution_count": 11,
   "id": "c55f4b9f-3077-4ced-ad71-5461cc7edc7b",
   "metadata": {},
   "outputs": [
    {
     "data": {
      "text/plain": [
       "{1, 2}"
      ]
     },
     "execution_count": 11,
     "metadata": {},
     "output_type": "execute_result"
    }
   ],
   "source": [
    "x - y"
   ]
  }
 ],
 "metadata": {
  "kernelspec": {
   "display_name": "Python 3",
   "language": "python",
   "name": "python3"
  },
  "language_info": {
   "codemirror_mode": {
    "name": "ipython",
    "version": 3
   },
   "file_extension": ".py",
   "mimetype": "text/x-python",
   "name": "python",
   "nbconvert_exporter": "python",
   "pygments_lexer": "ipython3",
   "version": "3.8.10"
  }
 },
 "nbformat": 4,
 "nbformat_minor": 5
}
