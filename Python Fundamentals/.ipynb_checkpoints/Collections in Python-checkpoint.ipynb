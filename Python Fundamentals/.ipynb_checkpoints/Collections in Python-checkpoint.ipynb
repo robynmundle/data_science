{
 "cells": [
  {
   "cell_type": "markdown",
   "id": "8e0e8e84-5054-464e-b98a-c88104a2ab26",
   "metadata": {},
   "source": [
    "# Collections\n",
    "Collections in Python are containers that are used to store collections of data, for example, list, dict, set, tuple etc. These are built-in collections. Several modules have been developed that provide additional data structures to store collections of data.\n",
    "\n",
    "In this tutorial, we will discuss 6 of the most commonly used data structures from the Python collections module. They are as follows:\n",
    "* Counter\n",
    "* defaultdict\n",
    "* OrderedDict\n",
    "* deque\n",
    "* ChainMap\n",
    "* namedtuple()\n",
    "\n",
    "Online resources for Python's Collections modules: https://towardsdatascience.com/pythons-collections-module-high-performance-container-data-types-cb4187afb5fc and https://stackabuse.com/introduction-to-pythons-collections-module\n",
    "\n",
    "## Counter\n",
    "Counter is a subclass of dictionary object. The `Counter()` function in collections module takes an iterable or a mapping as the argument and returns a Dictionary. In this dictionary, a key is an element in the iterable or the mapping and value is the number of times that element exists in the iterable or the mapping.\n",
    "\n",
    "You have to import the `Counter` class before you can create a counter instance."
   ]
  },
  {
   "cell_type": "code",
   "execution_count": 1,
   "id": "1382b47e-e410-4682-b068-f028731764d0",
   "metadata": {},
   "outputs": [],
   "source": [
    "from collections import Counter"
   ]
  },
  {
   "cell_type": "markdown",
   "id": "396437e1-e17d-4a49-bee9-943fa9752996",
   "metadata": {},
   "source": [
    "* for each word in sentence count occurence\n",
    "* sentence : black cat jumped over white cat"
   ]
  },
  {
   "cell_type": "code",
   "execution_count": 2,
   "id": "3a90bd80-f7e8-46e1-8733-94cb5bd7c934",
   "metadata": {},
   "outputs": [
    {
     "data": {
      "text/plain": [
       "Counter({'black': 1, 'cat': 2, 'jumped': 1, 'over': 1, 'white': 1})"
      ]
     },
     "execution_count": 2,
     "metadata": {},
     "output_type": "execute_result"
    }
   ],
   "source": [
    "sentence = 'black cat jumped over white cat'\n",
    "words = sentence.split(' ')\n",
    "Counter(words)"
   ]
  },
  {
   "cell_type": "markdown",
   "id": "4f3a5ea7-daf9-47da-9c91-9c1703164020",
   "metadata": {},
   "source": [
    "* print the most common words"
   ]
  },
  {
   "cell_type": "code",
   "execution_count": 3,
   "id": "e414a097-82ae-45d5-9062-fef1ec8f7db7",
   "metadata": {},
   "outputs": [
    {
     "data": {
      "text/plain": [
       "[('cat', 2)]"
      ]
     },
     "execution_count": 3,
     "metadata": {},
     "output_type": "execute_result"
    }
   ],
   "source": [
    "Counter(words).most_common(1)"
   ]
  },
  {
   "cell_type": "markdown",
   "id": "06f92e7a-43ef-4269-9ca5-f6b742dadac8",
   "metadata": {},
   "source": [
    "## DefaultDict\n",
    "The `defaultdict()` works exactly like a python dictionary, except for it does not throw `KeyError` when you try to access a non-existent key. Instead, it initializes the key with the element of the data type that you pass as an argument at the creation of `defaultdict`. The data type is called default_factory.\n",
    "\n",
    "First, you have to import `defaultdict` from `collections` module before using it:"
   ]
  },
  {
   "cell_type": "code",
   "execution_count": 4,
   "id": "487caca6-b364-470e-b626-1ff6c8178bb0",
   "metadata": {},
   "outputs": [],
   "source": [
    "from collections import defaultdict"
   ]
  },
  {
   "cell_type": "markdown",
   "id": "9b7e8527-1fe9-46b4-a5d7-d169fbdbc5bc",
   "metadata": {},
   "source": [
    "* count the occurences of words in the same sentence but now use defaultdict"
   ]
  },
  {
   "cell_type": "code",
   "execution_count": 5,
   "id": "6c1cec2a-a15c-4d3b-b84f-3d714685023d",
   "metadata": {},
   "outputs": [
    {
     "data": {
      "text/plain": [
       "defaultdict(int, {'black': 1, 'cat': 2, 'jumped': 1, 'over': 1, 'white': 1})"
      ]
     },
     "execution_count": 5,
     "metadata": {},
     "output_type": "execute_result"
    }
   ],
   "source": [
    "word_dict = defaultdict(int)\n",
    "for word in words:\n",
    "    word_dict[word] += 1\n",
    "    \n",
    "word_dict"
   ]
  },
  {
   "cell_type": "markdown",
   "id": "094d84cc-aa87-43f5-b653-1c2d46786d07",
   "metadata": {},
   "source": [
    "# Deque\n",
    "The` deque` is a list optimized for inserting and removing items.\n",
    "\n",
    "You have to import `deque` class from `collections` module before using it."
   ]
  },
  {
   "cell_type": "code",
   "execution_count": 6,
   "id": "aeb99c27-2a6d-4064-a2cb-08a63d05852c",
   "metadata": {},
   "outputs": [],
   "source": [
    "from collections import deque"
   ]
  },
  {
   "cell_type": "markdown",
   "id": "1c342db5-a2ad-4b5b-9cd8-04d66894734d",
   "metadata": {},
   "source": [
    "* create deque from list set used in first exercise"
   ]
  },
  {
   "cell_type": "code",
   "execution_count": 7,
   "id": "96ff1232-01e2-4968-9e01-111643327ddc",
   "metadata": {},
   "outputs": [
    {
     "data": {
      "text/plain": [
       "deque(['black', 'cat', 'jumped', 'over', 'white', 'cat'])"
      ]
     },
     "execution_count": 7,
     "metadata": {},
     "output_type": "execute_result"
    }
   ],
   "source": [
    "deq = deque(words)\n",
    "deq"
   ]
  },
  {
   "cell_type": "markdown",
   "id": "9d05f69a-5813-40b3-9c6c-826e9ad38f42",
   "metadata": {},
   "source": [
    "* append number 10 to deque"
   ]
  },
  {
   "cell_type": "code",
   "execution_count": 8,
   "id": "bff60db1-6b2d-4d18-bbf9-19f9263738c9",
   "metadata": {},
   "outputs": [
    {
     "data": {
      "text/plain": [
       "deque(['black', 'cat', 'jumped', 'over', 'white', 'cat', 10])"
      ]
     },
     "execution_count": 8,
     "metadata": {},
     "output_type": "execute_result"
    }
   ],
   "source": [
    "deq.append(10)\n",
    "deq"
   ]
  },
  {
   "cell_type": "markdown",
   "id": "db7fd636-d2cb-43e5-b296-f712f17ed3a2",
   "metadata": {},
   "source": [
    "* remove element from the right end from deque"
   ]
  },
  {
   "cell_type": "code",
   "execution_count": 9,
   "id": "7f2841f1-b5d5-4877-9b6b-aae6a67d9131",
   "metadata": {},
   "outputs": [
    {
     "data": {
      "text/plain": [
       "deque(['black', 'cat', 'jumped', 'over', 'white', 'cat'])"
      ]
     },
     "execution_count": 9,
     "metadata": {},
     "output_type": "execute_result"
    }
   ],
   "source": [
    "deq.pop()\n",
    "deq"
   ]
  },
  {
   "cell_type": "markdown",
   "id": "4ec9862c-c00b-4ef5-9345-4c3ec48c4f8a",
   "metadata": {},
   "source": [
    "* remove element from the left end from deque"
   ]
  },
  {
   "cell_type": "code",
   "execution_count": 10,
   "id": "326a5919-05b1-4f88-b646-4f0dfa6f09de",
   "metadata": {},
   "outputs": [
    {
     "data": {
      "text/plain": [
       "deque(['cat', 'jumped', 'over', 'white', 'cat'])"
      ]
     },
     "execution_count": 10,
     "metadata": {},
     "output_type": "execute_result"
    }
   ],
   "source": [
    "deq.popleft()\n",
    "deq"
   ]
  },
  {
   "cell_type": "markdown",
   "id": "02fe1efd-ac1d-4b93-a8d2-cdbd1eeb1708",
   "metadata": {},
   "source": [
    "* delete all elements from deque"
   ]
  },
  {
   "cell_type": "code",
   "execution_count": 11,
   "id": "324d9d5a-5c69-4b9a-acbb-880e58d402fd",
   "metadata": {},
   "outputs": [
    {
     "data": {
      "text/plain": [
       "deque([])"
      ]
     },
     "execution_count": 11,
     "metadata": {},
     "output_type": "execute_result"
    }
   ],
   "source": [
    "deq.clear()\n",
    "deq"
   ]
  },
  {
   "cell_type": "markdown",
   "id": "212373c0-58d9-44c0-85f1-d4b95168d7e2",
   "metadata": {},
   "source": [
    "## NamedTuple\n",
    "The `namedtuple()` returns a tuple with names for each position in the tuple. One of the biggest problems with ordinary tuples is that you have to remember the index of each field of a tuple object. This is obviously difficult. The `namedtuple` was introduced to solve this problem.\n",
    "\n",
    "Before using `namedtuple`, you have to import it from the `collections` module."
   ]
  },
  {
   "cell_type": "code",
   "execution_count": 12,
   "id": "ff423c52-896b-4055-a4cd-7245c9b5059a",
   "metadata": {},
   "outputs": [],
   "source": [
    "from collections import namedtuple"
   ]
  },
  {
   "cell_type": "markdown",
   "id": "274a7169-fa5d-4e53-941b-c4bf690a4d9c",
   "metadata": {},
   "source": [
    "* create named tuple (people) with name and surname as position names"
   ]
  },
  {
   "cell_type": "code",
   "execution_count": 13,
   "id": "1ff98e97-15bb-440d-b4fe-2d44621ecc87",
   "metadata": {},
   "outputs": [
    {
     "data": {
      "text/plain": [
       "people(name='John', surname='Doe')"
      ]
     },
     "execution_count": 13,
     "metadata": {},
     "output_type": "execute_result"
    }
   ],
   "source": [
    "people = namedtuple('people','name surname')\n",
    "guy = people('John','Doe')\n",
    "guy"
   ]
  },
  {
   "cell_type": "markdown",
   "id": "bfc44de6-8438-40b0-809a-f1dbe6dc6073",
   "metadata": {},
   "source": [
    "* print name and surname"
   ]
  },
  {
   "cell_type": "code",
   "execution_count": 14,
   "id": "9bf7b279-c0cd-47ff-a679-6dd334e6987a",
   "metadata": {},
   "outputs": [
    {
     "name": "stdout",
     "output_type": "stream",
     "text": [
      "John\n"
     ]
    }
   ],
   "source": [
    "print(guy.name)"
   ]
  },
  {
   "cell_type": "code",
   "execution_count": 15,
   "id": "b9d2f401-c9e0-457d-a9f4-5e3e5f9596fd",
   "metadata": {},
   "outputs": [
    {
     "name": "stdout",
     "output_type": "stream",
     "text": [
      "Doe\n"
     ]
    }
   ],
   "source": [
    "print(guy.surname)"
   ]
  },
  {
   "cell_type": "markdown",
   "id": "f7968bc3-4e4d-4abd-93ac-e440a458c9d1",
   "metadata": {},
   "source": [
    "## Exception Handling\n",
    "Now, let's go to **errors and exception handling**\n",
    "* transform all strings from list to upper, if the element is not string don't transform it\n",
    "* use try except block without use of 'if' statement"
   ]
  },
  {
   "cell_type": "code",
   "execution_count": 16,
   "id": "0b12d00a-1756-4a92-91cc-c1fee36b469b",
   "metadata": {},
   "outputs": [
    {
     "name": "stdout",
     "output_type": "stream",
     "text": [
      "TODAY\n",
      "I\n",
      "8\n",
      "2\n",
      "EGGS\n"
     ]
    }
   ],
   "source": [
    "for x in ['today','i', 8, 2, 'eggs']:\n",
    "    try:\n",
    "        print(x.upper())\n",
    "    except AttributeError:\n",
    "        print(x)"
   ]
  },
  {
   "cell_type": "markdown",
   "id": "e84a293b-c41e-4d9c-8e33-b44aedd18811",
   "metadata": {},
   "source": [
    "**We have the function created below:**\n",
    "\n",
    "Luke Skywalker has family and friends. Help him remind them who is who. Given a string with a name, return the relation of that person to Luke.\n",
    "\n",
    "**Person --> Relation**\n",
    "- Darth Vader --> father\n",
    "- Leia --> sister\n",
    "- Han --> brother in law\n",
    "- R2D2 --> droid\n",
    "\n",
    "#### Examples\n",
    "\n",
    "> relation_to_luke(\"Darth Vader\") ➞ \"Luke, I am your father.\"\n",
    ">\n",
    "> relation_to_luke(\"Leia\") ➞ \"Luke, I am your sister.\"\n",
    ">\n",
    "> relation_to_luke(\"Han\") ➞ \"Luke, I am your brother in law.\""
   ]
  },
  {
   "cell_type": "code",
   "execution_count": 18,
   "id": "15c7365f-ebba-4eed-9106-7fe35d1c0ffe",
   "metadata": {},
   "outputs": [],
   "source": [
    "def relation_to_luke(text):\n",
    "    _dict = []\n",
    "    _dict[\"Darth Vader\"] = \"father\"\n",
    "    _dict[\"Leia\"] = \"sister\"\n",
    "    _dict[\"Ham\"] = \"brother in law\"\n",
    "    _dict[\"R2D2\"] = \"droid\"\n",
    "    print(f\"Luke, I am your {+ _dict[text]}\")"
   ]
  },
  {
   "cell_type": "markdown",
   "id": "65b60688-ea45-4473-bdbf-9c157312d05c",
   "metadata": {},
   "source": [
    "#### Task I\n",
    "Fix errors in the function above so we can run following code"
   ]
  },
  {
   "cell_type": "code",
   "execution_count": 19,
   "id": "cde02709-9521-4a1b-a5f2-3c4c69bcef9f",
   "metadata": {},
   "outputs": [],
   "source": [
    "def relation_to_luke(text):\n",
    "    _dict = {}\n",
    "    _dict[\"Darth Vader\"] = \"father\"\n",
    "    _dict[\"Leia\"] = \"sister\"\n",
    "    _dict[\"Han\"] = \"brother in law\"\n",
    "    _dict[\"R2D2\"] = \"droid\"\n",
    "    print(f\"\\\"Luke, I am your {_dict[text]}\\\"\")"
   ]
  },
  {
   "cell_type": "code",
   "execution_count": 20,
   "id": "819e681f-5ba9-4c2e-835f-83e7a6d70590",
   "metadata": {},
   "outputs": [
    {
     "name": "stdout",
     "output_type": "stream",
     "text": [
      "\"Luke, I am your father\"\n",
      "\"Luke, I am your sister\"\n",
      "\"Luke, I am your brother in law\"\n",
      "\"Luke, I am your droid\"\n"
     ]
    }
   ],
   "source": [
    "relation_to_luke(\"Darth Vader\")\n",
    "relation_to_luke(\"Leia\")\n",
    "relation_to_luke(\"Han\")\n",
    "relation_to_luke(\"R2D2\")"
   ]
  },
  {
   "cell_type": "markdown",
   "id": "20aaa46d-99e4-43c5-b131-42779101ee40",
   "metadata": {},
   "source": [
    "#### Task II\n",
    "Use exception handling so we can run the function with any string. In this case, the function will return following:\n",
    "\n",
    "**relation_to_luke(\"aaaa\") ➞ \"aaaa is not in the relation with Luke\"**\n",
    "\n",
    "> #### Note\n",
    "> We **cannot** use **if** statement for this"
   ]
  },
  {
   "cell_type": "code",
   "execution_count": 22,
   "id": "5bc14e57-1319-480b-90e5-dcd09010d26b",
   "metadata": {},
   "outputs": [
    {
     "name": "stdin",
     "output_type": "stream",
     "text": [
      "Who do you want to check for Luke's relations?  Leia\n"
     ]
    },
    {
     "name": "stdout",
     "output_type": "stream",
     "text": [
      "\"Luke, I am your sister\"\n"
     ]
    }
   ],
   "source": [
    "string = input(\"Who do you want to check for Luke's relations? \")\n",
    "try:\n",
    "    relation_to_luke(string)\n",
    "except:\n",
    "    print(f\"\\\"{string} is not in the relation with Luke\\\"\")"
   ]
  }
 ],
 "metadata": {
  "kernelspec": {
   "display_name": "Python 3",
   "language": "python",
   "name": "python3"
  },
  "language_info": {
   "codemirror_mode": {
    "name": "ipython",
    "version": 3
   },
   "file_extension": ".py",
   "mimetype": "text/x-python",
   "name": "python",
   "nbconvert_exporter": "python",
   "pygments_lexer": "ipython3",
   "version": "3.8.10"
  }
 },
 "nbformat": 4,
 "nbformat_minor": 5
}
