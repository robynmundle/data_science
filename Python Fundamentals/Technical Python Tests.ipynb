{
 "cells": [
  {
   "cell_type": "markdown",
   "id": "a2e34ac0-2d99-467f-b152-7185475cd9f7",
   "metadata": {},
   "source": [
    "# 1 - Equal Split\n",
    "Create a function that determines whether or not it’s possible to split a pie fairly given these three parameters:\n",
    "  - Total number of slices\n",
    "  - Number of recipients\n",
    "  - How many slices each person gets \n",
    "\n",
    "Form of the function:\n",
    "  - equal_slices(total_ slices, no_recipients, slices_each)\n",
    "\n",
    "Examples:\n",
    "    equal_slices(11, 5, 2) ➞ True\n",
    "    5 people x 2 slices each = 10 slices < 11 slices \n",
    "\n",
    "    equal_slices(11, 5, 3) ➞ False\n",
    "    5 people x 3 slices each = 15 slices > 11 slices\n",
    "\n",
    "\n",
    "    equal_slices(8, 3, 2) ➞ True\n",
    "\n",
    "    equal_slices(8, 3, 3) ➞ False\n",
    "\n",
    "    equal_slices(24, 12, 2) ➞ True\n",
    "\n",
    "Notes:\n",
    " - Return True if there are zero people.\n",
    " - It's fine not to use the entire pie.\n",
    " - All parameters are integers"
   ]
  },
  {
   "cell_type": "code",
   "execution_count": null,
   "id": "832fdf9c-21d2-4308-ab32-5d949f94fb7c",
   "metadata": {},
   "outputs": [],
   "source": [
    "# 1A Answer\n",
    "def equal_slices(total_slices, no_recipients, slices_each):\n",
    "    if no_recipients == 0:\n",
    "        return True\n",
    "    if (slices_each * no_recipients) > total_slices:\n",
    "        return False\n",
    "    else:\n",
    "        return True\n",
    "    \n",
    "# 1B Advanced Answer\n",
    "def equal_slices(total_slices, no_recipients, slices_each):\n",
    "    return True if no_recipients * slices_each <= total_slices else False"
   ]
  },
  {
   "cell_type": "markdown",
   "id": "35f10391-ec85-4f66-81eb-d95ca7243cfb",
   "metadata": {},
   "source": [
    "# 2 - Pieces Remaining\n",
    "Adjust the function 'equal_slices' from question_00 to return number of pieces left as well.\n",
    "\n",
    "Examples:\n",
    "    equal_slices(11, 5, 2) ➞ (True, 1)\n",
    "    # 5 people x 2 slices each = 10 slices < 11 slices \n",
    "\n",
    "    equal_slices(11, 5, 3) ➞ (False,None)\n",
    "    # 5 people x 3 slices each = 15 slices > 11 slicess\n",
    "\n",
    "    equal_slices(8, 3, 2) ➞ (True, 2)\n",
    "\n",
    "    equal_slices(8, 3, 3) ➞ (False, None)\n",
    "\n",
    "    equal_slices(24, 12, 2) ➞ (True, 0)\n",
    "\n",
    "Notes:\n",
    " - Return (True, total_slices) if there are zero people.\n",
    " - All parameters are integers."
   ]
  },
  {
   "cell_type": "code",
   "execution_count": 1,
   "id": "996ac7d3-da3b-4fdb-b4fe-647d44cc927b",
   "metadata": {},
   "outputs": [],
   "source": [
    "# 2A Answer\n",
    "def equal_slices(total_slices, no_recipients, slices_each):\n",
    "    if no_recipients == 0:\n",
    "        return (True, total_slices)\n",
    "    if (slices_each * no_recipients) > total_slices:\n",
    "        return (False, None)\n",
    "    else:\n",
    "        remaining = total_slices - (slices_each * no_recipients)\n",
    "        return (True, remaining)\n",
    "    \n",
    "# 2B Advanced Answer\n",
    "def equal_slices(total_slices, no_recipients, slices_each):\n",
    "    sol = True if no_recipients * slices_each <= total_slices else False\n",
    "    remains = total_slices - (no_recipients * slices_each) \n",
    "    remains = remains if remains >= 0 else None\n",
    "\n",
    "    return sol,remains"
   ]
  },
  {
   "cell_type": "markdown",
   "id": "4bf2855d-263b-45f6-b11e-2ef5055ffea9",
   "metadata": {},
   "source": [
    "# 3 - Count Unique String Characters\n",
    "Given two strings, create a function that returns the total number of unique characters from the combined string.\n",
    "\n",
    "Examples:\n",
    "    count_unique_chars(\"apple\", \"play\") ➞ 5\n",
    "    \"appleplay\" has 5 unique characters:  \"a\", \"e\", \"l\", \"p\", \"y\"\n",
    "\n",
    "    count_unique_chars(\"sore\", \"zebra\") ➞ 7\n",
    "\n",
    "    count_unique_chars(\"a\", \"soup\") ➞ 5\n",
    "\n",
    "Notes:\n",
    " - Careful with empty strings\n",
    " - All characters will be lowercase."
   ]
  },
  {
   "cell_type": "code",
   "execution_count": null,
   "id": "9765f333-ccdf-4821-b781-67c22a0626c1",
   "metadata": {},
   "outputs": [],
   "source": [
    "# 3A Answer\n",
    "def count_unique_chars(string_1, string_2):\n",
    "    #if string_1 or string_2 == \"\":\n",
    "\n",
    "    list1 = [char for char in string_1]\n",
    "    list2 = [char for char in string_2]\n",
    "    uniq = list1\n",
    "    for char in list2:\n",
    "        if char not in list1:\n",
    "            uniq.append(char)\n",
    "    count_uniq = len(uniq)\n",
    "    return count_uniq\n",
    "\n",
    "# 3B Advanced Answer\n",
    "def count_unique_chars(string_1, string_2):\n",
    "    return len(set(string_1 + string_2))"
   ]
  },
  {
   "cell_type": "markdown",
   "id": "f89018f7-7d03-454f-be3c-30a44d21b749",
   "metadata": {},
   "source": [
    "# 4 - Reverse + Lowercase String Characters\n",
    "Create a function that takes a string of lowercase characters and returns that string reversed and in upper case.\n",
    "\n",
    "Examples:\n",
    "    reverse_capitalize(\"abc\") ➞ \"CBA\"\n",
    "\n",
    "    reverse_capitalize(\"hellothere\") ➞ \"EREHTOLLEH\"\n",
    "\n",
    "    reverse_capitalize(\"input\") ➞ \"TUPNI\""
   ]
  },
  {
   "cell_type": "code",
   "execution_count": null,
   "id": "1534d442-faa0-490d-a640-be2aed354f67",
   "metadata": {},
   "outputs": [],
   "source": [
    "# 4A Answer\n",
    "def reverse_capitalize(string):\n",
    "    upper = string.upper()\n",
    "    reverse = upper[::-1]\n",
    "    return reverse\n",
    "\n",
    "# 4B Advanced Answer\n",
    "def reverse_capitalize(string):\n",
    "    return string[::-1].upper()"
   ]
  },
  {
   "cell_type": "markdown",
   "id": "8432bdd5-8078-46c9-bd86-f8cd9cc156f6",
   "metadata": {},
   "source": [
    "# 5 - Division Boolean\n",
    "Create a function that takes an integer and returns True if it's divisible by 100, otherwise return False.\n",
    "\n",
    "Examples:\n",
    "    divisible(1) ➞ False\n",
    "\n",
    "    divisible(1000) ➞ True\n",
    "\n",
    "    divisible(100) ➞ True"
   ]
  },
  {
   "cell_type": "code",
   "execution_count": null,
   "id": "4278e79c-662c-414d-b15f-4754b3ab0bae",
   "metadata": {},
   "outputs": [],
   "source": [
    "# 5A Answer\n",
    "def divisible(integer):\n",
    "    if integer % 100 == 0:\n",
    "        return True\n",
    "    else:\n",
    "        return False\n",
    "    \n",
    "# 5B Advanced Answer\n",
    "def divisible(integer):\n",
    "    return True if integer % 100 == 0 else False"
   ]
  },
  {
   "cell_type": "markdown",
   "id": "6cf4ed16-c959-42f2-a76e-76137bd1ea71",
   "metadata": {},
   "source": [
    "# 6 - List of String and Numbers\n",
    "Create a function that takes a list of strings and integers, \n",
    "    and filters out the list so that it returns a list of integers only.\n",
    "\n",
    "Examples:\n",
    "    filter_list([1, 2, 3, \"a\", \"b\", 4]) returns [1, 2, 3, 4]\n",
    "\n",
    "    filter_list(['A', 0, 'Edabit', 1729, 'Python', '1729']) returns [0, 1729]\n",
    "\n",
    "Notes:\n",
    "- Function always returns list"
   ]
  },
  {
   "cell_type": "code",
   "execution_count": null,
   "id": "2b31e5c3-3d3f-43fe-b595-44aa178e5925",
   "metadata": {},
   "outputs": [],
   "source": [
    "# 6A Answer\n",
    "def filter_list(lst):\n",
    "    return [i for i in lst if isinstance(i, int)]\n",
    "\n",
    "# 6B Advanced Answer\n"
   ]
  },
  {
   "cell_type": "markdown",
   "id": "e156cdf9-c9ce-4c80-8565-5f1cc0a87081",
   "metadata": {},
   "source": [
    "# 7 - Average\n",
    "Create a function that returns the mean of all digits.\n",
    "\n",
    "Example:\n",
    "    mean(42) ➞ 3.0\n",
    "\n",
    "    mean(12345) ➞ 3.0\n",
    "\n",
    "    mean(666) ➞ 6.0\n",
    "\n",
    "Notes:\n",
    "- Function should always return float"
   ]
  },
  {
   "cell_type": "code",
   "execution_count": null,
   "id": "65c67f66-7fdd-4928-b2bb-7586630a31ad",
   "metadata": {},
   "outputs": [],
   "source": [
    "# 7A Answer\n",
    "def mean(digits):\n",
    "    digit_list = list(map(int, str(digits)))\n",
    "    return sum(digit_list)/len(digit_list)\n",
    "\n",
    "# 7B Advanced Answer\n"
   ]
  },
  {
   "cell_type": "markdown",
   "id": "300e982f-31ae-40a7-9bdf-7ee34966812f",
   "metadata": {},
   "source": [
    "# 8 - Count\n",
    "Write a function that takes a string and calculates the number of letters and digits within it. Return the result in a dictionary.\n",
    "\n",
    "Examples:\n",
    "    count_all(\"Hello World\") ➞ { \"LETTERS\":  10, \"DIGITS\": 0 }\n",
    "\n",
    "    count_all(\"H3ll0 Wor1d\") ➞ { \"LETTERS\":  7, \"DIGITS\": 3 }\n",
    "\n",
    "    count_all(\"149990\") ➞ { \"LETTERS\": 0, \"DIGITS\": 6 }\n",
    "\n",
    "Notes:\n",
    "- Tests contain only alphanumeric characters.\n",
    "- Spaces are not letters.\n",
    "- All tests contain valid strings.\n",
    "- The function should return dictionary"
   ]
  },
  {
   "cell_type": "code",
   "execution_count": null,
   "id": "8e4b4697-db2d-4247-af4b-7dee9e1e4715",
   "metadata": {},
   "outputs": [],
   "source": [
    "# 8A Answer\n",
    "def count_all(string):\n",
    "    letters = 0\n",
    "    digits = 0\n",
    "    count = {}\n",
    "    for char in string:\n",
    "        if char.isnumeric():\n",
    "            digits += 1\n",
    "        elif char.isalpha():\n",
    "            letters += 1\n",
    "        else:\n",
    "            pass # darn space was messing with me\n",
    "    count['LETTERS'] = letters\n",
    "    count['DIGITS'] = digits\n",
    "    return count\n",
    "\n",
    "# 8B Advanced Answer\n"
   ]
  },
  {
   "cell_type": "markdown",
   "id": "c93ddb1e-d4a6-47c2-8257-5673c663574b",
   "metadata": {},
   "source": []
  },
  {
   "cell_type": "code",
   "execution_count": null,
   "id": "0dc12d18-c2c0-47ee-93b6-1b97ea1e832c",
   "metadata": {},
   "outputs": [],
   "source": []
  }
 ],
 "metadata": {
  "kernelspec": {
   "display_name": "Python 3",
   "language": "python",
   "name": "python3"
  },
  "language_info": {
   "codemirror_mode": {
    "name": "ipython",
    "version": 3
   },
   "file_extension": ".py",
   "mimetype": "text/x-python",
   "name": "python",
   "nbconvert_exporter": "python",
   "pygments_lexer": "ipython3",
   "version": "3.8.10"
  }
 },
 "nbformat": 4,
 "nbformat_minor": 5
}
