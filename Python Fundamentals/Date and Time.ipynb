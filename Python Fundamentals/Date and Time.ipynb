{
 "cells": [
  {
   "cell_type": "markdown",
   "id": "b483194f-edbc-4ba6-b028-efe0cd10290e",
   "metadata": {},
   "source": [
    "# Date and Time in Python\n",
    "Python has a module named datetime to work with dates and times. Let's create a few simple programs related to date and time before we dig deeper.\n",
    "* `datetime` – Allows us to manipulate times and dates together (month, day, year, hour, second, microsecond).\n",
    "* `date` – Allows us to manipulate dates independent of time (month, day, year).\n",
    "* `time` – Allows us to manipulate time independent of date (hour, minute, second, microsecond).\n",
    "* `timedelta` — A duration of time used for manipulating dates and measuring.\n",
    "* `tzinfo` — An abstract class for dealing with time zones.\n",
    "\n",
    "Online Resources: https://www.programiz.com/python-programming/datetime and https://www.dataquest.io/blog/python-datetime-tutorial/\n",
    "\n",
    "## Create Date Objects\n",
    "Since `datetime` is both a module and a class within that module, we’ll start by importing the `datetime` class from the `datetime` module."
   ]
  },
  {
   "cell_type": "code",
   "execution_count": 1,
   "id": "37b70734-51d2-42cb-bd8a-cf776c4c2994",
   "metadata": {},
   "outputs": [
    {
     "name": "stdout",
     "output_type": "stream",
     "text": [
      "2021-06-02 16:22:48.607193\n",
      "Type :-  <class 'datetime.datetime'>\n"
     ]
    }
   ],
   "source": [
    "# import datetime class from datetime module\n",
    "from datetime import datetime\n",
    "\n",
    "# get current date\n",
    "datetime_object = datetime.now()\n",
    "print(datetime_object)\n",
    "print('Type :- ',type(datetime_object))"
   ]
  },
  {
   "cell_type": "markdown",
   "id": "974cb17a-4322-478a-8230-2f72de4f9fc1",
   "metadata": {},
   "source": [
    "## Handling Date and Time String - `strptime()` and `strftime()`\n",
    "`strptime()` can read strings with date and time information and convert them to datetime objects, and `strftime()` converts datetime objects back into strings."
   ]
  },
  {
   "cell_type": "code",
   "execution_count": 2,
   "id": "706ec22c-6f2d-45fe-ac36-953aabf77804",
   "metadata": {},
   "outputs": [
    {
     "name": "stdout",
     "output_type": "stream",
     "text": [
      "2019-10-31 00:00:00\n",
      "Type:  <class 'datetime.datetime'>\n"
     ]
    }
   ],
   "source": [
    "my_string = '2019-10-31'\n",
    "\n",
    "# Create date object in given time format yyyy-mm-dd\n",
    "my_date = datetime.strptime(my_string, \"%Y-%m-%d\")\n",
    "\n",
    "print(my_date)\n",
    "print('Type: ',type(my_date))"
   ]
  },
  {
   "cell_type": "code",
   "execution_count": 3,
   "id": "cd38d0d5-c04b-4b62-81fe-d509ebc78449",
   "metadata": {},
   "outputs": [
    {
     "name": "stdout",
     "output_type": "stream",
     "text": [
      "Month:  10\n",
      "Year:  2019\n"
     ]
    }
   ],
   "source": [
    "print('Month: ', my_date.month) # To Get month from date\n",
    "print('Year: ', my_date.year) # To Get month from year"
   ]
  },
  {
   "cell_type": "markdown",
   "id": "e6250a4c-ebf2-4588-9bfc-198c21a98a6a",
   "metadata": {},
   "source": [
    "<img src='images/strptime.png'>"
   ]
  },
  {
   "cell_type": "code",
   "execution_count": 14,
   "id": "aa530dd1-e097-43fe-9f14-fb1ebd924617",
   "metadata": {},
   "outputs": [
    {
     "name": "stdout",
     "output_type": "stream",
     "text": [
      "Year: 2021\n",
      "Month; 06\n",
      "Day: 02\n",
      "Time: 16:33:30\n",
      "Date and Time: 06/02/2021, 16:33:30\n"
     ]
    }
   ],
   "source": [
    "# current date and time\n",
    "now = datetime.now()\n",
    "\n",
    "# get year from date\n",
    "year = now.strftime(\"%Y\")\n",
    "print(\"Year:\", year)\n",
    "\n",
    "# get month from date\n",
    "month = now.strftime(\"%m\")\n",
    "print(\"Month;\", month)\n",
    "\n",
    "# get day from date\n",
    "day = now.strftime(\"%d\")\n",
    "print(\"Day:\", day)\n",
    "\n",
    "# format time in HH:MM:SS\n",
    "time = now.strftime(\"%H:%M:%S\")\n",
    "print(\"Time:\", time)\n",
    "\n",
    "# format date\n",
    "date_time = now.strftime(\"%m/%d/%Y, %H:%M:%S\")\n",
    "print(\"Date and Time:\",date_time)"
   ]
  },
  {
   "cell_type": "markdown",
   "id": "f2372040-3d89-44b5-af8a-dd4f9ad84777",
   "metadata": {
    "tags": []
   },
   "source": [
    "## Getting Day of the Month and Day of the Week from a Date\n",
    "Datetime will give us the day of the week as a number using its `.weekday()` function, but we can convert this to a text format (i.e. Monday, Tuesday, Wednesday…) using the `calendar` module and a method called `day_name`"
   ]
  },
  {
   "cell_type": "code",
   "execution_count": 4,
   "id": "df346f60-0201-461c-9704-bfab22148c31",
   "metadata": {},
   "outputs": [
    {
     "name": "stdout",
     "output_type": "stream",
     "text": [
      "Day of Month: 31\n",
      "Day of Week (number):  3\n",
      "Day of Week (name):  Thursday\n"
     ]
    }
   ],
   "source": [
    "# import calendar module\n",
    "import calendar\n",
    "print('Day of Month:', my_date.day)\n",
    "\n",
    "# to get name of day(in number) from date\n",
    "print('Day of Week (number): ', my_date.weekday())\n",
    "\n",
    "# to get name of day from date\n",
    "print('Day of Week (name): ', calendar.day_name[my_date.weekday()])"
   ]
  },
  {
   "cell_type": "markdown",
   "id": "bc1c766e-40ca-4a72-8b0d-d00c2f888ab8",
   "metadata": {},
   "source": [
    "## Getting Hours and Minutes From a Python Datetime Object\n",
    "Much like what we did above with month and year, we can use class attributes `.hour` and `.minute` to get the hours and minutes of the day. Let’s set a new date and time using the `.now()` function."
   ]
  },
  {
   "cell_type": "code",
   "execution_count": 6,
   "id": "ca87d8db-1508-4abf-98b0-64d22ab2edfd",
   "metadata": {},
   "outputs": [
    {
     "name": "stdout",
     "output_type": "stream",
     "text": [
      "Hour:  16\n",
      "Minute:  27\n"
     ]
    }
   ],
   "source": [
    "from datetime import datetime\n",
    "todays_date = datetime.now()\n",
    "\n",
    "# to get hour from datetime\n",
    "print('Hour: ', todays_date.hour)\n",
    "\n",
    "# to get minute from datetime\n",
    "print('Minute: ', todays_date.minute)"
   ]
  },
  {
   "cell_type": "markdown",
   "id": "6bb0e50f-b1f3-4567-b0f4-eb26f56e3c9a",
   "metadata": {},
   "source": [
    "## Getting Week of the Year from a Datetime Object\n",
    "We can get the year, week of the year, and day of the week from a `datetime` object with the `.isocalendar()` function."
   ]
  },
  {
   "cell_type": "code",
   "execution_count": 7,
   "id": "a33e9d77-dd45-43e3-8d00-59c8a0a8144c",
   "metadata": {},
   "outputs": [
    {
     "data": {
      "text/plain": [
       "(2021, 22, 3)"
      ]
     },
     "execution_count": 7,
     "metadata": {},
     "output_type": "execute_result"
    }
   ],
   "source": [
    "# Return a 3-tuple, (ISO year, ISO week number, ISO weekday).\n",
    "todays_date.isocalendar()"
   ]
  },
  {
   "cell_type": "code",
   "execution_count": 8,
   "id": "8e7c0e95-247b-407a-85c5-379545585628",
   "metadata": {},
   "outputs": [
    {
     "data": {
      "text/plain": [
       "22"
      ]
     },
     "execution_count": 8,
     "metadata": {},
     "output_type": "execute_result"
    }
   ],
   "source": [
    "todays_date.isocalendar()[1]"
   ]
  },
  {
   "cell_type": "markdown",
   "id": "35b6b8e8-fe1b-4343-a5ea-10997ef6acfa",
   "metadata": {},
   "source": [
    "## Measuring Time Span with Timedelta Objects\n",
    "Often, we may want to measure a span of time, or a duration, using Python `datetime`. We can do this with its built-in `timedelta` class. A `timedelta` object represents the amount of time between two dates or times. We can use this to measure time spans, or manipulate dates or times by adding and subtracting from them, etc."
   ]
  },
  {
   "cell_type": "code",
   "execution_count": 9,
   "id": "2cebc3a3-221a-4fa3-9063-50a5526a9314",
   "metadata": {},
   "outputs": [
    {
     "name": "stdout",
     "output_type": "stream",
     "text": [
      "14 days, 0:00:00\n",
      "<class 'datetime.timedelta'>\n",
      "14\n"
     ]
    }
   ],
   "source": [
    "#import datetime\n",
    "from datetime import timedelta\n",
    "# create timedelta object with difference of 2 weeks\n",
    "d = timedelta(weeks=2)\n",
    "\n",
    "print(d)\n",
    "print(type(d))\n",
    "print(d.days)"
   ]
  },
  {
   "cell_type": "code",
   "execution_count": 10,
   "id": "0709f01a-2f92-4f33-be80-938f36bf95fd",
   "metadata": {},
   "outputs": [
    {
     "name": "stdout",
     "output_type": "stream",
     "text": [
      "365 days, 0:00:00\n"
     ]
    }
   ],
   "source": [
    "year = timedelta(days=365)\n",
    "print(year)"
   ]
  },
  {
   "cell_type": "markdown",
   "id": "d322f60d-8af7-43a4-a761-bea55a328db7",
   "metadata": {},
   "source": [
    "Now let’s start doing using timedelta objects together with datetime objects to do some math! Specifically, let’s add a few diffeent time durations to the current time and date to see what date it will be after 15 days, what date it was two weeks ago.\n",
    "\n",
    "To do this, we can use the `+` or `-` operators to add or subtract the timedelta object to/from a datetime object. The result will be the datetime object plus or minus the duration of time specified in our timedelta object."
   ]
  },
  {
   "cell_type": "code",
   "execution_count": 11,
   "id": "ce08ce22-cce9-4013-a331-f8bbba9d346f",
   "metadata": {},
   "outputs": [
    {
     "name": "stdout",
     "output_type": "stream",
     "text": [
      "Today's date:  2021-06-02 16:30:01.330196\n",
      "Date after 15 days:  2021-06-17 16:30:01.330196\n",
      "Date two weeks ago:  2021-05-19 16:30:01.330196\n",
      "two_weeks_ago object type:  <class 'datetime.datetime'>\n"
     ]
    }
   ],
   "source": [
    "#import datetime\n",
    "from datetime import datetime, timedelta\n",
    "# get current time\n",
    "now = datetime.now()\n",
    "print (\"Today's date: \", str(now))\n",
    "\n",
    "#add 15 days to current date\n",
    "future_date_after_15days = now + timedelta(days = 15)\n",
    "print('Date after 15 days: ', future_date_after_15days)\n",
    "\n",
    "#subtract 2 weeks from current date\n",
    "two_weeks_ago = now - timedelta(weeks = 2)\n",
    "print('Date two weeks ago: ', two_weeks_ago)\n",
    "print('two_weeks_ago object type: ', type(two_weeks_ago))"
   ]
  },
  {
   "cell_type": "markdown",
   "id": "3f0fd1a1-085b-497f-a486-424b742fa63f",
   "metadata": {},
   "source": [
    "## Find the Difference Between Two Dates and Times\n",
    "Here, we’ll create two `date` objects (remeber, these work the same as `datetime` objects, they just don’t include time data) and subtract one from the other to find the duration:"
   ]
  },
  {
   "cell_type": "code",
   "execution_count": 12,
   "id": "d66fc5f7-a9be-445f-82f2-c558e2f4422c",
   "metadata": {},
   "outputs": [
    {
     "name": "stdout",
     "output_type": "stream",
     "text": [
      "Difference:  -8\n",
      "delta object type:  <class 'datetime.timedelta'>\n"
     ]
    }
   ],
   "source": [
    "# import datetime\n",
    "from datetime import date\n",
    "# Create two dates\n",
    "date1 = date(2008, 8, 18)\n",
    "date2 = date(2008, 8, 10)\n",
    "\n",
    "# Difference between two dates\n",
    "delta = date2 - date1\n",
    "print(\"Difference: \", delta.days)\n",
    "print('delta object type: ', type(delta))"
   ]
  },
  {
   "cell_type": "code",
   "execution_count": 13,
   "id": "b33c9bd0-800a-47eb-999d-19638bbbb6fc",
   "metadata": {},
   "outputs": [
    {
     "name": "stdout",
     "output_type": "stream",
     "text": [
      "Difference:  36 days, 10:04:20\n"
     ]
    }
   ],
   "source": [
    "# import datetime\n",
    "from datetime import datetime\n",
    "# create two dates with year, month, day, hour, minute, and second\n",
    "date1 = datetime(2017, 6, 21, 18, 25, 30)\n",
    "date2 = datetime(2017, 5, 16, 8, 21, 10)\n",
    "\n",
    "# Difference between two dates\n",
    "diff = date1-date2\n",
    "print(\"Difference: \", diff)"
   ]
  },
  {
   "cell_type": "markdown",
   "id": "badb1b21-5eb7-468b-875d-da70908f1bfe",
   "metadata": {},
   "source": [
    "## Handling Timezones\n",
    "Working with dates and times in Python can get even more complicated when timezones get involved. Thankfully, the `pytz` module exists to help us deal with cross-timezone conversions. It also handles the daylight savings time in locations that use that.\n",
    "\n",
    "We can use the `localize` function to add a time zone location to a Python `datetime` object. Then we can use the function `astimezone()` to convert the existing local time zone into any other time zone we specify (it takes the time zone we want to convert into as an argument)."
   ]
  },
  {
   "cell_type": "code",
   "execution_count": 18,
   "id": "6fc669c6-d2d3-48bc-95d6-e954a2abbd43",
   "metadata": {},
   "outputs": [
    {
     "name": "stdout",
     "output_type": "stream",
     "text": [
      "US/Eastern\t\t 2011-11-02 07:27:00-04:00\n",
      "Asia/Kolkata\t\t 2011-11-02 16:57:00+05:30\n",
      "Australia/Sydney\t 2011-11-02 22:27:00+11:00\n"
     ]
    }
   ],
   "source": [
    "# import timezone from pytz module\n",
    "from pytz import timezone\n",
    "# Create timezone US/Eastern\n",
    "east = timezone('US/Eastern')\n",
    "# Localize date\n",
    "loc_dt = east.localize(datetime(2011, 11, 2, 7, 27, 0))\n",
    "print('US/Eastern\\t\\t', loc_dt)\n",
    "\n",
    "# Convert localized date into Asia/Kolkata timezone\n",
    "kolkata = timezone(\"Asia/Kolkata\")\n",
    "print(\"Asia/Kolkata\\t\\t\", loc_dt.astimezone(kolkata))\n",
    "\n",
    "# Convert localized date into Australia/Sydney timezone\n",
    "au_tz = timezone('Australia/Sydney')\n",
    "print('Australia/Sydney\\t', loc_dt.astimezone(au_tz))"
   ]
  },
  {
   "cell_type": "markdown",
   "id": "69800e09-719e-4a59-8140-f37275243699",
   "metadata": {},
   "source": [
    "## Working with `pandas Datetime` Objects\n",
    "We can convert date, time, and duration text strings into pandas Datetime objects using these functions:\n",
    "* `to_datetime()`: Converts string dates and times into Python datetime objects.\n",
    "* `to_timedelta()`: Finds differences in times in terms of days, hours, minutes, and seconds."
   ]
  },
  {
   "cell_type": "code",
   "execution_count": 19,
   "id": "b88179f8-69bd-48f8-b5ec-07fd9cbc4662",
   "metadata": {},
   "outputs": [
    {
     "name": "stdout",
     "output_type": "stream",
     "text": [
      "2019-09-08 00:00:00\n"
     ]
    }
   ],
   "source": [
    "# import pandas module as pd\n",
    "import pandas as pd\n",
    "# create date object using to_datetime() function\n",
    "date = pd.to_datetime(\"8th of sep, 2019\")\n",
    "print(date)"
   ]
  },
  {
   "cell_type": "markdown",
   "id": "0133121c-3889-4b00-b3ce-059cd5f462b7",
   "metadata": {},
   "source": [
    "We can also use pandas (and some of its affiliated numpy functionality) to create date ranges automatically as pandas Series."
   ]
  },
  {
   "cell_type": "code",
   "execution_count": 21,
   "id": "1947e310-f49b-43aa-9259-2986536e54dc",
   "metadata": {},
   "outputs": [
    {
     "name": "stdout",
     "output_type": "stream",
     "text": [
      "DatetimeIndex(['2019-09-08', '2019-09-09', '2019-09-10', '2019-09-11',\n",
      "               '2019-09-12', '2019-09-13', '2019-09-14', '2019-09-15',\n",
      "               '2019-09-16', '2019-09-17', '2019-09-18', '2019-09-19'],\n",
      "              dtype='datetime64[ns]', freq=None)\n",
      "DatetimeIndex(['2019-08-10', '2019-08-11', '2019-08-12', '2019-08-13',\n",
      "               '2019-08-14', '2019-08-15', '2019-08-16', '2019-08-17',\n",
      "               '2019-08-18', '2019-08-19', '2019-08-20', '2019-08-21'],\n",
      "              dtype='datetime64[ns]', freq='D')\n"
     ]
    }
   ],
   "source": [
    "import numpy as np\n",
    "# Create date series using numpy and to_timedelta() function\n",
    "date_series = date + pd.to_timedelta(np.arange(12), 'D')\n",
    "print(date_series)\n",
    "\n",
    "# Create date series using date_range() function\n",
    "date_series = pd.date_range('08/10/2019', periods = 12, freq ='D')\n",
    "print(date_series)"
   ]
  },
  {
   "cell_type": "markdown",
   "id": "5f00f546-3a38-47e4-8c58-808a5af1b37c",
   "metadata": {},
   "source": [
    "## Get Year, Month, Day, Hour, Minute in pandas\n",
    "We can easily get year, month, day, hour, or minute from dates in a column of a pandas dataframe using `dt` attributes for all columns. For example, we can use `df['date'].dt.year` to extract only the year from a pandas column that includes the full date."
   ]
  },
  {
   "cell_type": "code",
   "execution_count": 22,
   "id": "b4504e87-3b3f-441b-a8a2-db74e70a03cb",
   "metadata": {},
   "outputs": [
    {
     "data": {
      "text/html": [
       "<div>\n",
       "<style scoped>\n",
       "    .dataframe tbody tr th:only-of-type {\n",
       "        vertical-align: middle;\n",
       "    }\n",
       "\n",
       "    .dataframe tbody tr th {\n",
       "        vertical-align: top;\n",
       "    }\n",
       "\n",
       "    .dataframe thead th {\n",
       "        text-align: right;\n",
       "    }\n",
       "</style>\n",
       "<table border=\"1\" class=\"dataframe\">\n",
       "  <thead>\n",
       "    <tr style=\"text-align: right;\">\n",
       "      <th></th>\n",
       "      <th>date</th>\n",
       "    </tr>\n",
       "  </thead>\n",
       "  <tbody>\n",
       "    <tr>\n",
       "      <th>0</th>\n",
       "      <td>2019-08-10</td>\n",
       "    </tr>\n",
       "    <tr>\n",
       "      <th>1</th>\n",
       "      <td>2019-08-11</td>\n",
       "    </tr>\n",
       "    <tr>\n",
       "      <th>2</th>\n",
       "      <td>2019-08-12</td>\n",
       "    </tr>\n",
       "    <tr>\n",
       "      <th>3</th>\n",
       "      <td>2019-08-13</td>\n",
       "    </tr>\n",
       "    <tr>\n",
       "      <th>4</th>\n",
       "      <td>2019-08-14</td>\n",
       "    </tr>\n",
       "  </tbody>\n",
       "</table>\n",
       "</div>"
      ],
      "text/plain": [
       "        date\n",
       "0 2019-08-10\n",
       "1 2019-08-11\n",
       "2 2019-08-12\n",
       "3 2019-08-13\n",
       "4 2019-08-14"
      ]
     },
     "execution_count": 22,
     "metadata": {},
     "output_type": "execute_result"
    }
   ],
   "source": [
    "# Create a DataFrame with one column date\n",
    "df = pd.DataFrame()\n",
    "df['date'] = date_series \n",
    "df.head()"
   ]
  },
  {
   "cell_type": "code",
   "execution_count": 23,
   "id": "a06b3520-9213-4781-96d0-cfe7943e2d04",
   "metadata": {},
   "outputs": [
    {
     "data": {
      "text/html": [
       "<div>\n",
       "<style scoped>\n",
       "    .dataframe tbody tr th:only-of-type {\n",
       "        vertical-align: middle;\n",
       "    }\n",
       "\n",
       "    .dataframe tbody tr th {\n",
       "        vertical-align: top;\n",
       "    }\n",
       "\n",
       "    .dataframe thead th {\n",
       "        text-align: right;\n",
       "    }\n",
       "</style>\n",
       "<table border=\"1\" class=\"dataframe\">\n",
       "  <thead>\n",
       "    <tr style=\"text-align: right;\">\n",
       "      <th></th>\n",
       "      <th>date</th>\n",
       "      <th>year</th>\n",
       "      <th>month</th>\n",
       "      <th>day</th>\n",
       "      <th>hour</th>\n",
       "      <th>minute</th>\n",
       "    </tr>\n",
       "  </thead>\n",
       "  <tbody>\n",
       "    <tr>\n",
       "      <th>0</th>\n",
       "      <td>2019-08-10</td>\n",
       "      <td>2019</td>\n",
       "      <td>8</td>\n",
       "      <td>10</td>\n",
       "      <td>0</td>\n",
       "      <td>0</td>\n",
       "    </tr>\n",
       "    <tr>\n",
       "      <th>1</th>\n",
       "      <td>2019-08-11</td>\n",
       "      <td>2019</td>\n",
       "      <td>8</td>\n",
       "      <td>11</td>\n",
       "      <td>0</td>\n",
       "      <td>0</td>\n",
       "    </tr>\n",
       "    <tr>\n",
       "      <th>2</th>\n",
       "      <td>2019-08-12</td>\n",
       "      <td>2019</td>\n",
       "      <td>8</td>\n",
       "      <td>12</td>\n",
       "      <td>0</td>\n",
       "      <td>0</td>\n",
       "    </tr>\n",
       "    <tr>\n",
       "      <th>3</th>\n",
       "      <td>2019-08-13</td>\n",
       "      <td>2019</td>\n",
       "      <td>8</td>\n",
       "      <td>13</td>\n",
       "      <td>0</td>\n",
       "      <td>0</td>\n",
       "    </tr>\n",
       "    <tr>\n",
       "      <th>4</th>\n",
       "      <td>2019-08-14</td>\n",
       "      <td>2019</td>\n",
       "      <td>8</td>\n",
       "      <td>14</td>\n",
       "      <td>0</td>\n",
       "      <td>0</td>\n",
       "    </tr>\n",
       "  </tbody>\n",
       "</table>\n",
       "</div>"
      ],
      "text/plain": [
       "        date  year  month  day  hour  minute\n",
       "0 2019-08-10  2019      8   10     0       0\n",
       "1 2019-08-11  2019      8   11     0       0\n",
       "2 2019-08-12  2019      8   12     0       0\n",
       "3 2019-08-13  2019      8   13     0       0\n",
       "4 2019-08-14  2019      8   14     0       0"
      ]
     },
     "execution_count": 23,
     "metadata": {},
     "output_type": "execute_result"
    }
   ],
   "source": [
    "# Extract year, month, day, hour, and minute. Assign all these date component to new column.\n",
    "df['year'] = df['date'].dt.year\n",
    "df['month'] = df['date'].dt.month\n",
    "df['day'] = df['date'].dt.day\n",
    "df['hour'] = df['date'].dt.hour\n",
    "df['minute'] = df['date'].dt.minute\n",
    "df.head()"
   ]
  },
  {
   "cell_type": "markdown",
   "id": "2df35b31-ed65-4ec4-aa20-994ed289250e",
   "metadata": {},
   "source": [
    "## Get Weekday and Day of Year\n",
    "Pandas is also capable of getting other elements, like the day of the week and the day of the year, from its datetime objects. Again, we can use `dt` attributes to do this. Note that here, as in Python generally, the week starts on Monday at index 0, so day of the week 5 is Saturday."
   ]
  },
  {
   "cell_type": "code",
   "execution_count": 28,
   "id": "85bdd279-1f5a-4700-9e89-0cc619e4082d",
   "metadata": {},
   "outputs": [
    {
     "data": {
      "text/html": [
       "<div>\n",
       "<style scoped>\n",
       "    .dataframe tbody tr th:only-of-type {\n",
       "        vertical-align: middle;\n",
       "    }\n",
       "\n",
       "    .dataframe tbody tr th {\n",
       "        vertical-align: top;\n",
       "    }\n",
       "\n",
       "    .dataframe thead th {\n",
       "        text-align: right;\n",
       "    }\n",
       "</style>\n",
       "<table border=\"1\" class=\"dataframe\">\n",
       "  <thead>\n",
       "    <tr style=\"text-align: right;\">\n",
       "      <th></th>\n",
       "      <th>date</th>\n",
       "      <th>year</th>\n",
       "      <th>month</th>\n",
       "      <th>day</th>\n",
       "      <th>hour</th>\n",
       "      <th>minute</th>\n",
       "      <th>weekday</th>\n",
       "      <th>day_name</th>\n",
       "      <th>dayofyear</th>\n",
       "    </tr>\n",
       "  </thead>\n",
       "  <tbody>\n",
       "    <tr>\n",
       "      <th>0</th>\n",
       "      <td>2019-08-10</td>\n",
       "      <td>2019</td>\n",
       "      <td>8</td>\n",
       "      <td>10</td>\n",
       "      <td>0</td>\n",
       "      <td>0</td>\n",
       "      <td>5</td>\n",
       "      <td>Saturday</td>\n",
       "      <td>222</td>\n",
       "    </tr>\n",
       "    <tr>\n",
       "      <th>1</th>\n",
       "      <td>2019-08-11</td>\n",
       "      <td>2019</td>\n",
       "      <td>8</td>\n",
       "      <td>11</td>\n",
       "      <td>0</td>\n",
       "      <td>0</td>\n",
       "      <td>6</td>\n",
       "      <td>Sunday</td>\n",
       "      <td>223</td>\n",
       "    </tr>\n",
       "    <tr>\n",
       "      <th>2</th>\n",
       "      <td>2019-08-12</td>\n",
       "      <td>2019</td>\n",
       "      <td>8</td>\n",
       "      <td>12</td>\n",
       "      <td>0</td>\n",
       "      <td>0</td>\n",
       "      <td>0</td>\n",
       "      <td>Monday</td>\n",
       "      <td>224</td>\n",
       "    </tr>\n",
       "    <tr>\n",
       "      <th>3</th>\n",
       "      <td>2019-08-13</td>\n",
       "      <td>2019</td>\n",
       "      <td>8</td>\n",
       "      <td>13</td>\n",
       "      <td>0</td>\n",
       "      <td>0</td>\n",
       "      <td>1</td>\n",
       "      <td>Tuesday</td>\n",
       "      <td>225</td>\n",
       "    </tr>\n",
       "    <tr>\n",
       "      <th>4</th>\n",
       "      <td>2019-08-14</td>\n",
       "      <td>2019</td>\n",
       "      <td>8</td>\n",
       "      <td>14</td>\n",
       "      <td>0</td>\n",
       "      <td>0</td>\n",
       "      <td>2</td>\n",
       "      <td>Wednesday</td>\n",
       "      <td>226</td>\n",
       "    </tr>\n",
       "  </tbody>\n",
       "</table>\n",
       "</div>"
      ],
      "text/plain": [
       "        date  year  month  day  hour  minute  weekday   day_name  dayofyear\n",
       "0 2019-08-10  2019      8   10     0       0        5   Saturday        222\n",
       "1 2019-08-11  2019      8   11     0       0        6     Sunday        223\n",
       "2 2019-08-12  2019      8   12     0       0        0     Monday        224\n",
       "3 2019-08-13  2019      8   13     0       0        1    Tuesday        225\n",
       "4 2019-08-14  2019      8   14     0       0        2  Wednesday        226"
      ]
     },
     "execution_count": 28,
     "metadata": {},
     "output_type": "execute_result"
    }
   ],
   "source": [
    "# get Weekday and Day of Year. Assign all these date component to new column.\n",
    "df['weekday'] = df['date'].dt.weekday\n",
    "df['day_name'] = df['date'].dt.day_name()\n",
    "df['dayofyear'] = df['date'].dt.dayofyear\n",
    "df.head()"
   ]
  },
  {
   "cell_type": "markdown",
   "id": "3609191b-75be-45cf-b3d6-d159c4219468",
   "metadata": {},
   "source": [
    "## Convert Date Object into DataFrame Index\n",
    "We can also use pandas to make a datetime column into the index of our DataFrame. This can be very helpful for tasks like exploratory data visualization, because matplotlib will recognize that the DataFrame index is a time series and plot the data accordingly.\n",
    "\n",
    "To do this, all we have to do is redefine `df.index`:"
   ]
  },
  {
   "cell_type": "code",
   "execution_count": 29,
   "id": "438637c1-719b-4535-a74a-91d072766ac1",
   "metadata": {},
   "outputs": [
    {
     "data": {
      "text/html": [
       "<div>\n",
       "<style scoped>\n",
       "    .dataframe tbody tr th:only-of-type {\n",
       "        vertical-align: middle;\n",
       "    }\n",
       "\n",
       "    .dataframe tbody tr th {\n",
       "        vertical-align: top;\n",
       "    }\n",
       "\n",
       "    .dataframe thead th {\n",
       "        text-align: right;\n",
       "    }\n",
       "</style>\n",
       "<table border=\"1\" class=\"dataframe\">\n",
       "  <thead>\n",
       "    <tr style=\"text-align: right;\">\n",
       "      <th></th>\n",
       "      <th>date</th>\n",
       "      <th>year</th>\n",
       "      <th>month</th>\n",
       "      <th>day</th>\n",
       "      <th>hour</th>\n",
       "      <th>minute</th>\n",
       "      <th>weekday</th>\n",
       "      <th>day_name</th>\n",
       "      <th>dayofyear</th>\n",
       "    </tr>\n",
       "    <tr>\n",
       "      <th>date</th>\n",
       "      <th></th>\n",
       "      <th></th>\n",
       "      <th></th>\n",
       "      <th></th>\n",
       "      <th></th>\n",
       "      <th></th>\n",
       "      <th></th>\n",
       "      <th></th>\n",
       "      <th></th>\n",
       "    </tr>\n",
       "  </thead>\n",
       "  <tbody>\n",
       "    <tr>\n",
       "      <th>2019-08-10</th>\n",
       "      <td>2019-08-10</td>\n",
       "      <td>2019</td>\n",
       "      <td>8</td>\n",
       "      <td>10</td>\n",
       "      <td>0</td>\n",
       "      <td>0</td>\n",
       "      <td>5</td>\n",
       "      <td>Saturday</td>\n",
       "      <td>222</td>\n",
       "    </tr>\n",
       "    <tr>\n",
       "      <th>2019-08-11</th>\n",
       "      <td>2019-08-11</td>\n",
       "      <td>2019</td>\n",
       "      <td>8</td>\n",
       "      <td>11</td>\n",
       "      <td>0</td>\n",
       "      <td>0</td>\n",
       "      <td>6</td>\n",
       "      <td>Sunday</td>\n",
       "      <td>223</td>\n",
       "    </tr>\n",
       "    <tr>\n",
       "      <th>2019-08-12</th>\n",
       "      <td>2019-08-12</td>\n",
       "      <td>2019</td>\n",
       "      <td>8</td>\n",
       "      <td>12</td>\n",
       "      <td>0</td>\n",
       "      <td>0</td>\n",
       "      <td>0</td>\n",
       "      <td>Monday</td>\n",
       "      <td>224</td>\n",
       "    </tr>\n",
       "    <tr>\n",
       "      <th>2019-08-13</th>\n",
       "      <td>2019-08-13</td>\n",
       "      <td>2019</td>\n",
       "      <td>8</td>\n",
       "      <td>13</td>\n",
       "      <td>0</td>\n",
       "      <td>0</td>\n",
       "      <td>1</td>\n",
       "      <td>Tuesday</td>\n",
       "      <td>225</td>\n",
       "    </tr>\n",
       "    <tr>\n",
       "      <th>2019-08-14</th>\n",
       "      <td>2019-08-14</td>\n",
       "      <td>2019</td>\n",
       "      <td>8</td>\n",
       "      <td>14</td>\n",
       "      <td>0</td>\n",
       "      <td>0</td>\n",
       "      <td>2</td>\n",
       "      <td>Wednesday</td>\n",
       "      <td>226</td>\n",
       "    </tr>\n",
       "  </tbody>\n",
       "</table>\n",
       "</div>"
      ],
      "text/plain": [
       "                 date  year  month  day  hour  minute  weekday   day_name  \\\n",
       "date                                                                        \n",
       "2019-08-10 2019-08-10  2019      8   10     0       0        5   Saturday   \n",
       "2019-08-11 2019-08-11  2019      8   11     0       0        6     Sunday   \n",
       "2019-08-12 2019-08-12  2019      8   12     0       0        0     Monday   \n",
       "2019-08-13 2019-08-13  2019      8   13     0       0        1    Tuesday   \n",
       "2019-08-14 2019-08-14  2019      8   14     0       0        2  Wednesday   \n",
       "\n",
       "            dayofyear  \n",
       "date                   \n",
       "2019-08-10        222  \n",
       "2019-08-11        223  \n",
       "2019-08-12        224  \n",
       "2019-08-13        225  \n",
       "2019-08-14        226  "
      ]
     },
     "execution_count": 29,
     "metadata": {},
     "output_type": "execute_result"
    }
   ],
   "source": [
    "# Assign date column to dataframe index\n",
    "df.index = df.date\n",
    "df.head()"
   ]
  },
  {
   "cell_type": "markdown",
   "id": "e28b08d9-f3f3-4e54-bb72-10f3caee905d",
   "metadata": {},
   "source": [
    "# Exercise"
   ]
  },
  {
   "cell_type": "code",
   "execution_count": 30,
   "id": "09ffe9b5-1ab0-46af-bf45-4f8f57140313",
   "metadata": {},
   "outputs": [],
   "source": [
    "from datetime import datetime"
   ]
  },
  {
   "cell_type": "markdown",
   "id": "7e945c13-8ec2-489c-8aeb-1225ba7c5d4c",
   "metadata": {},
   "source": [
    "print:\n",
    "* a) Current date and time\n",
    "* b) Current year\n",
    "* c) Month of year\n",
    "* d) Week number of the year\n",
    "* e) Weekday of the week\n",
    "* f) Day of year\n",
    "* g) Day of the month\n",
    "* h) Day of week"
   ]
  },
  {
   "cell_type": "code",
   "execution_count": 32,
   "id": "8decbdc2-bd5c-4104-ba23-331c89af1939",
   "metadata": {},
   "outputs": [
    {
     "name": "stdout",
     "output_type": "stream",
     "text": [
      "Current date and time:  2021:06:02, 17:06:39\n",
      "Current year:  2021\n",
      "Month of year:  06, June\n",
      "Week number of the year:  22\n",
      "Weekday of the week:  Wednesday\n",
      "Day of year:  153\n",
      "Day of the month:  02\n",
      "Day of week:  Wednesday\n"
     ]
    }
   ],
   "source": [
    "now = datetime.now()\n",
    "print(\"Current date and time: \", now.strftime(\"%Y:%m:%d, %H:%M:%S\"))\n",
    "print(\"Current year: \", now.strftime(\"%Y\"))\n",
    "print(\"Month of year: \", now.strftime(\"%m, %B\"))\n",
    "print(\"Week number of the year: \", now.strftime(\"%U\"))\n",
    "print(\"Weekday of the week: \", now.strftime(\"%A\"))\n",
    "print(\"Day of year: \", now.strftime(\"%j\"))\n",
    "print(\"Day of the month: \", now.strftime(\"%d\"))\n",
    "print(\"Day of week: \", now.strftime(\"%A\"))"
   ]
  },
  {
   "cell_type": "markdown",
   "id": "e8498409-4ae0-4cdb-a747-817fe57bfcc1",
   "metadata": {},
   "source": [
    "* convert a string to datetime\n",
    "* string = 'Jan 1 2014 2:43PM'"
   ]
  },
  {
   "cell_type": "code",
   "execution_count": 33,
   "id": "e43ac1e9-7c2b-4dd6-b9f7-143e53639300",
   "metadata": {},
   "outputs": [
    {
     "name": "stdout",
     "output_type": "stream",
     "text": [
      "datetime =  2014-01-01 14:43:00\n"
     ]
    }
   ],
   "source": [
    "dt_string = 'Jan 1 2014 2:43PM'\n",
    "dt_obj = datetime.strptime(dt_string, \"%b %d %Y %I:%M%p\")\n",
    "print(\"datetime = \", dt_obj)"
   ]
  },
  {
   "cell_type": "markdown",
   "id": "97a72b37-72cd-45c7-9179-2518e25d46e7",
   "metadata": {},
   "source": [
    "* print the current time "
   ]
  },
  {
   "cell_type": "code",
   "execution_count": 34,
   "id": "77d78eb9-7656-4d36-a5b7-204b9d17cce0",
   "metadata": {},
   "outputs": [
    {
     "name": "stdout",
     "output_type": "stream",
     "text": [
      "Current Time = 17:07:09\n"
     ]
    }
   ],
   "source": [
    "now = datetime.now()\n",
    "current_time = now.strftime(\"%H:%M:%S\")\n",
    "print(\"Current Time =\", current_time)"
   ]
  },
  {
   "cell_type": "markdown",
   "id": "ac0bbd53-fe50-4bcc-b90a-8f8ebfc0b53f",
   "metadata": {},
   "source": [
    "* subtract five days from current date"
   ]
  },
  {
   "cell_type": "code",
   "execution_count": 35,
   "id": "2a574f20-4622-4368-bc53-a1423f9f962c",
   "metadata": {},
   "outputs": [
    {
     "name": "stdout",
     "output_type": "stream",
     "text": [
      "2021-05-28 17:07:19.913233\n"
     ]
    }
   ],
   "source": [
    "import datetime\n",
    "current = datetime.datetime.now()\n",
    "five_days = datetime.timedelta(days = 5)\n",
    "five_days_ago = current - five_days\n",
    "print(five_days_ago)"
   ]
  },
  {
   "cell_type": "markdown",
   "id": "37f4b146-2eeb-43ef-a84c-30ef54b3b98c",
   "metadata": {},
   "source": [
    "* convert unix timestamp string to readable date\n",
    "* unix = 1284105682"
   ]
  },
  {
   "cell_type": "code",
   "execution_count": 36,
   "id": "c3692d43-6b1e-47e4-984f-997fce1c7829",
   "metadata": {},
   "outputs": [
    {
     "name": "stdout",
     "output_type": "stream",
     "text": [
      "2010-09-10 02:01:22\n"
     ]
    }
   ],
   "source": [
    "from datetime import datetime\n",
    "ts = 1284105682\n",
    "dt = datetime.fromtimestamp(ts)\n",
    "print(dt)"
   ]
  },
  {
   "cell_type": "markdown",
   "id": "7319d8a9-6b3c-4d16-abaa-ce29b499aead",
   "metadata": {},
   "source": [
    "* convert today date to Day of Year"
   ]
  },
  {
   "cell_type": "code",
   "execution_count": 38,
   "id": "0d5a54ae-374b-4a03-9d14-fc3a1d5850c2",
   "metadata": {},
   "outputs": [
    {
     "name": "stdout",
     "output_type": "stream",
     "text": [
      "Today's date in Day of Year:  153\n"
     ]
    }
   ],
   "source": [
    "day_year = datetime.now().timetuple().tm_yday\n",
    "print(\"Today's date in Day of Year: \", day_year)"
   ]
  },
  {
   "cell_type": "markdown",
   "id": "acdc7d7f-8e94-4406-b4bf-caa707b65e25",
   "metadata": {},
   "source": [
    "* get week number from today's date"
   ]
  },
  {
   "cell_type": "code",
   "execution_count": 39,
   "id": "119e6f0f-cd36-4886-bdf8-cb447632ed22",
   "metadata": {},
   "outputs": [
    {
     "name": "stdout",
     "output_type": "stream",
     "text": [
      "week number from today's date:  9\n"
     ]
    }
   ],
   "source": [
    "import datetime\n",
    "week_num = datetime.date(2021, 3, 2).isocalendar()[1]\n",
    "print(\"week number from today's date: \", week_num)"
   ]
  },
  {
   "cell_type": "markdown",
   "id": "a8cfcf22-2cf3-44d2-9aba-b10e5ef2b636",
   "metadata": {},
   "source": [
    "* get days between two dates"
   ]
  },
  {
   "cell_type": "code",
   "execution_count": 40,
   "id": "95976f92-8b3b-4cd1-bf25-56606bf1b6cd",
   "metadata": {},
   "outputs": [
    {
     "name": "stdout",
     "output_type": "stream",
     "text": [
      "32 days, 0:00:00\n"
     ]
    }
   ],
   "source": [
    "date_a = datetime.date(2020,2,2)\n",
    "date_b = datetime.date(2020,1,1)\n",
    "difference = date_a - date_b\n",
    "print(difference)"
   ]
  },
  {
   "cell_type": "markdown",
   "id": "be6f06a7-ef56-4e68-b9ee-25761ffa07b2",
   "metadata": {},
   "source": [
    "* get the number of days of a given month and year"
   ]
  },
  {
   "cell_type": "code",
   "execution_count": 41,
   "id": "fd4a8440-4cd1-42fa-9207-ad0a2637301f",
   "metadata": {},
   "outputs": [
    {
     "name": "stdout",
     "output_type": "stream",
     "text": [
      "Days in given month:  31\n"
     ]
    }
   ],
   "source": [
    "month = 10\n",
    "year = 2016\n",
    "from calendar import monthrange\n",
    "print(\"Days in given month: \", monthrange(year, month)[1])"
   ]
  },
  {
   "cell_type": "markdown",
   "id": "9a0fae5a-4786-43c7-b9fd-9c813353d663",
   "metadata": {},
   "source": [
    "* get a list of dates between two dates"
   ]
  },
  {
   "cell_type": "code",
   "execution_count": 42,
   "id": "44865493-af57-41b8-928a-e5a53bbc5011",
   "metadata": {},
   "outputs": [
    {
     "data": {
      "text/plain": [
       "datetime.timedelta(days=22)"
      ]
     },
     "execution_count": 42,
     "metadata": {},
     "output_type": "execute_result"
    }
   ],
   "source": [
    "import datetime\n",
    "start_dt = datetime.date(2015, 12, 20)\n",
    "end_dt = datetime.date(2016, 1, 11)\n",
    "span = abs(start_dt - end_dt)\n",
    "span"
   ]
  },
  {
   "cell_type": "code",
   "execution_count": 43,
   "id": "1a5a2591-843c-42ff-b5ef-76928bb7af82",
   "metadata": {},
   "outputs": [
    {
     "name": "stdout",
     "output_type": "stream",
     "text": [
      "2015-12-21\n",
      "2015-12-22\n",
      "2015-12-23\n",
      "2015-12-24\n",
      "2015-12-25\n",
      "2015-12-26\n",
      "2015-12-27\n",
      "2015-12-28\n",
      "2015-12-29\n",
      "2015-12-30\n",
      "2015-12-31\n",
      "2016-01-01\n",
      "2016-01-02\n",
      "2016-01-03\n",
      "2016-01-04\n",
      "2016-01-05\n",
      "2016-01-06\n",
      "2016-01-07\n",
      "2016-01-08\n",
      "2016-01-09\n",
      "2016-01-10\n"
     ]
    }
   ],
   "source": [
    "from datetime import date, timedelta\n",
    "\n",
    "# generate list of days between the two dates\n",
    "list_days = [start_dt + timedelta(days=x) for x in range(1,span.days)] #starting at 1 to only give days BETWEEN the start and end dates\n",
    "\n",
    "for day in list_days:\n",
    "    print(day)"
   ]
  }
 ],
 "metadata": {
  "kernelspec": {
   "display_name": "Python 3",
   "language": "python",
   "name": "python3"
  },
  "language_info": {
   "codemirror_mode": {
    "name": "ipython",
    "version": 3
   },
   "file_extension": ".py",
   "mimetype": "text/x-python",
   "name": "python",
   "nbconvert_exporter": "python",
   "pygments_lexer": "ipython3",
   "version": "3.8.10"
  }
 },
 "nbformat": 4,
 "nbformat_minor": 5
}
