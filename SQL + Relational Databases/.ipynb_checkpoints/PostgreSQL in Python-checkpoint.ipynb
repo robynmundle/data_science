{
 "cells": [
  {
   "cell_type": "code",
   "execution_count": 2,
   "id": "considered-juice",
   "metadata": {},
   "outputs": [
    {
     "name": "stdout",
     "output_type": "stream",
     "text": [
      "Database opened successfully\n"
     ]
    }
   ],
   "source": [
    "import psycopg2\n",
    "\n",
    "con = psycopg2.connect(database=\"postgres\", user=\"postgres\", password=\"none\", host=\"127.0.0.1\", port=\"5432\")\n",
    "\n",
    "print(\"Database opened successfully\")"
   ]
  },
  {
   "cell_type": "markdown",
   "id": "accompanied-paper",
   "metadata": {},
   "source": [
    "The following is the list of parameters that have been passed to the ```connect()``` method:\n",
    "* ```database```: The name of the database you need to connect to.\n",
    "* ```user```: The username to be used for authentication.\n",
    "* ```password```: The database password for the user.\n",
    "* ```host```: The address of the database server. For example, a domain name, \"localhost\", or an IP address.\n",
    "* ```port```: The port number. If you don't provide this, the default one will be used, which is 5432."
   ]
  },
  {
   "cell_type": "markdown",
   "id": "organized-corruption",
   "metadata": {},
   "source": [
    "# Creating A Table"
   ]
  },
  {
   "cell_type": "markdown",
   "id": "knowing-opera",
   "metadata": {},
   "source": [
    "To create a Postgres table in Python, we use the ```CREATE TABLE``` SQL statement. This query should be executed after establishing a connection to the database. We also create a cursor object by calling the ```cursor()``` method that belongs to the ```connection``` object. This cursor object is used to actually execute your commands.\n",
    "\n",
    "We then call the ```execute()``` method of the cursor object to help us in creating the table. Finally, we need to commit and close the connection. \"Committing\" the connection tells the driver to send the commands to the database."
   ]
  },
  {
   "cell_type": "code",
   "execution_count": 4,
   "id": "blank-chancellor",
   "metadata": {},
   "outputs": [
    {
     "name": "stdout",
     "output_type": "stream",
     "text": [
      "Database opened successfully\n",
      "Table created successfully\n"
     ]
    }
   ],
   "source": [
    "import psycopg2\n",
    "\n",
    "con = psycopg2.connect(database=\"postgres\", user=\"postgres\", password=\"none\", host=\"127.0.0.1\", port=\"5432\")\n",
    "print(\"Database opened successfully\")\n",
    "\n",
    "cur = con.cursor()\n",
    "cur.execute('''CREATE TABLE STUDENT\n",
    "      (ADMISSION INT PRIMARY KEY     NOT NULL,\n",
    "      NAME           TEXT    NOT NULL,\n",
    "      AGE            INT     NOT NULL,\n",
    "      COURSE        CHAR(50),\n",
    "      DEPARTMENT        CHAR(50));''')\n",
    "print(\"Table created successfully\")\n",
    "\n",
    "con.commit()\n",
    "con.close()"
   ]
  },
  {
   "cell_type": "markdown",
   "id": "deluxe-oklahoma",
   "metadata": {},
   "source": [
    "The ```commit()```method helps us apply the changes that we have made to the database, and these changes cannot be undone if ```commit()``` runs successfully. The ```close()``` method will close the connection to the database.\n",
    "\n",
    "At this point we have created a table with 4 columns, all of which have various data types. The above output shows that the table was created successfully."
   ]
  },
  {
   "cell_type": "markdown",
   "id": "anonymous-letters",
   "metadata": {},
   "source": [
    "# Inserting Data"
   ]
  },
  {
   "cell_type": "markdown",
   "id": "institutional-click",
   "metadata": {},
   "source": [
    "We can insert either a single record or multiple records into a Postgres database table. Again, we must first establish a connection to the database server by calling the ```connect()``` function. Next, we should create a cursor object by calling the ```cursor()``` method. Lastly, we should run the ```INSERT``` statement via the ```execute()``` method to add the data into the table."
   ]
  },
  {
   "cell_type": "code",
   "execution_count": 5,
   "id": "increasing-contractor",
   "metadata": {},
   "outputs": [
    {
     "name": "stdout",
     "output_type": "stream",
     "text": [
      "Database opened successfully\n",
      "Record inserted successfully\n"
     ]
    }
   ],
   "source": [
    "import psycopg2\n",
    "\n",
    "con = psycopg2.connect(database=\"postgres\", user=\"postgres\", password=\"none\", host=\"127.0.0.1\", port=\"5432\")\n",
    "print(\"Database opened successfully\")\n",
    "\n",
    "cur = con.cursor()\n",
    "\n",
    "cur.execute(\"INSERT INTO STUDENT (ADMISSION,NAME,AGE,COURSE,DEPARTMENT) VALUES (3420, 'John', 18, 'Computer Science', 'ICT')\");\n",
    "\n",
    "con.commit()\n",
    "print(\"Record inserted successfully\")\n",
    "con.close()"
   ]
  },
  {
   "cell_type": "markdown",
   "id": "australian-mediterranean",
   "metadata": {},
   "source": [
    "It is also possible for us to insert multiple records with one command"
   ]
  },
  {
   "cell_type": "code",
   "execution_count": 7,
   "id": "handled-schedule",
   "metadata": {},
   "outputs": [
    {
     "name": "stdout",
     "output_type": "stream",
     "text": [
      "Database opened successfully\n",
      "Records inserted successfully\n"
     ]
    }
   ],
   "source": [
    "import psycopg2\n",
    "\n",
    "con = psycopg2.connect(database=\"postgres\", user=\"postgres\", password=\"none\", host=\"127.0.0.1\", port=\"5432\")\n",
    "print(\"Database opened successfully\")\n",
    "\n",
    "cur = con.cursor()\n",
    "\n",
    "cur.execute(\"INSERT INTO STUDENT (ADMISSION,NAME,AGE,COURSE,DEPARTMENT) VALUES (3419, 'Abel', 17, 'Computer Science', 'ICT')\");\n",
    "cur.execute(\"INSERT INTO STUDENT (ADMISSION,NAME,AGE,COURSE,DEPARTMENT) VALUES (3421, 'Joel', 17, 'Computer Science', 'ICT')\");\n",
    "cur.execute(\"INSERT INTO STUDENT (ADMISSION,NAME,AGE,COURSE,DEPARTMENT) VALUES (3422, 'Antony', 19, 'Electrical Engineering', 'Engineering')\");\n",
    "cur.execute(\"INSERT INTO STUDENT (ADMISSION,NAME,AGE,COURSE,DEPARTMENT) VALUES (3423, 'Alice', 18, 'Information Technology', 'ICT')\");\n",
    "\n",
    "con.commit()\n",
    "print(\"Records inserted successfully\")\n",
    "con.close()"
   ]
  },
  {
   "cell_type": "markdown",
   "id": "republican-karma",
   "metadata": {},
   "source": [
    "Since the ```commit()``` method isn't called until after we \"execute\" all of the INSERT statements, multiple records are inserted with a single call of the ```commit()``` method."
   ]
  },
  {
   "cell_type": "markdown",
   "id": "sacred-dining",
   "metadata": {},
   "source": [
    "# Retrieving Data"
   ]
  },
  {
   "cell_type": "markdown",
   "id": "august-donor",
   "metadata": {},
   "source": [
    "You can select data from a Postgres database and view the table records. First, you must establish a connection to the database using the ```connect()``` function. Next, a new cursor should be created by calling the ```cursor() ```method. The created cursor object can then be used to execute the ```SELECT``` statement for querying data from the database."
   ]
  },
  {
   "cell_type": "code",
   "execution_count": 9,
   "id": "threatened-reserve",
   "metadata": {},
   "outputs": [
    {
     "name": "stdout",
     "output_type": "stream",
     "text": [
      "Database opened successfully\n",
      "ADMISSION = 3420\n",
      "NAME = John\n",
      "AGE = 18\n",
      "COURSE = Computer Science                                  \n",
      "DEPARTMENT = ICT                                                \n",
      "\n",
      "ADMISSION = 3419\n",
      "NAME = Abel\n",
      "AGE = 17\n",
      "COURSE = Computer Science                                  \n",
      "DEPARTMENT = ICT                                                \n",
      "\n",
      "ADMISSION = 3421\n",
      "NAME = Joel\n",
      "AGE = 17\n",
      "COURSE = Computer Science                                  \n",
      "DEPARTMENT = ICT                                                \n",
      "\n",
      "ADMISSION = 3422\n",
      "NAME = Antony\n",
      "AGE = 19\n",
      "COURSE = Electrical Engineering                            \n",
      "DEPARTMENT = Engineering                                        \n",
      "\n",
      "ADMISSION = 3423\n",
      "NAME = Alice\n",
      "AGE = 18\n",
      "COURSE = Information Technology                            \n",
      "DEPARTMENT = ICT                                                \n",
      "\n",
      "Operation done successfully\n"
     ]
    }
   ],
   "source": [
    "import psycopg2\n",
    "\n",
    "con = psycopg2.connect(database=\"postgres\", user=\"postgres\", password=\"none\", host=\"127.0.0.1\", port=\"5432\")\n",
    "print(\"Database opened successfully\")\n",
    "\n",
    "cur = con.cursor()\n",
    "cur.execute(\"SELECT admission, name, age, course, department from STUDENT\")\n",
    "rows = cur.fetchall()\n",
    "\n",
    "for row in rows:\n",
    "    print(\"ADMISSION =\", row[0])\n",
    "    print(\"NAME =\", row[1])\n",
    "    print(\"AGE =\", row[2])\n",
    "    print(\"COURSE =\", row[3])\n",
    "    print(\"DEPARTMENT =\", row[4], \"\\n\")\n",
    "\n",
    "print(\"Operation done successfully\")\n",
    "con.close()"
   ]
  },
  {
   "cell_type": "markdown",
   "id": "italian-making",
   "metadata": {},
   "source": [
    "Here we have retrieved data from the database by specifying the table and names of the columns that we need to retrieve from the database table. This data is returned to us as list of tuples, with the \"top level\" list being the rows of data. Then each row is a tuple of the column data. If no rows are returned for the query then an empty list is returned by ```fetchall()```."
   ]
  },
  {
   "cell_type": "markdown",
   "id": "impressive-watts",
   "metadata": {},
   "source": [
    "# Updating Tables"
   ]
  },
  {
   "cell_type": "markdown",
   "id": "massive-beatles",
   "metadata": {},
   "source": [
    "We can update or modify the details of a record that has already been inserted into a database table. First, we have to establish a connection to the database using the ```connect() ```method. Next, we call the ```cursor()``` function to create a cursor object. Finally, we run the ```execute()``` method to execute the ```UPDATE``` statement with input values."
   ]
  },
  {
   "cell_type": "code",
   "execution_count": 10,
   "id": "outer-vision",
   "metadata": {},
   "outputs": [
    {
     "name": "stdout",
     "output_type": "stream",
     "text": [
      "Database opened successfully\n",
      "Total updated rows: 1\n",
      "ADMISSION = 3419\n",
      "NAME = 17\n",
      "AGE = Abel\n",
      "COURSE = Abel\n",
      "DEPARTMENT = Computer Science                                   \n",
      "\n",
      "ADMISSION = 3421\n",
      "NAME = 17\n",
      "AGE = Joel\n",
      "COURSE = Joel\n",
      "DEPARTMENT = Computer Science                                   \n",
      "\n",
      "ADMISSION = 3422\n",
      "NAME = 19\n",
      "AGE = Antony\n",
      "COURSE = Antony\n",
      "DEPARTMENT = Electrical Engineering                             \n",
      "\n",
      "ADMISSION = 3423\n",
      "NAME = 18\n",
      "AGE = Alice\n",
      "COURSE = Alice\n",
      "DEPARTMENT = Information Technology                             \n",
      "\n",
      "ADMISSION = 3420\n",
      "NAME = 20\n",
      "AGE = John\n",
      "COURSE = John\n",
      "DEPARTMENT = Computer Science                                   \n",
      "\n",
      "Operation done successfully\n"
     ]
    }
   ],
   "source": [
    "import psycopg2\n",
    "\n",
    "con = psycopg2.connect(database=\"postgres\", user=\"postgres\", password=\"none\", host=\"127.0.0.1\", port=\"5432\")\n",
    "print(\"Database opened successfully\")\n",
    "\n",
    "cur = con.cursor()\n",
    "\n",
    "cur.execute(\"UPDATE STUDENT set AGE = 20 where ADMISSION = 3420\")\n",
    "con.commit()\n",
    "print(\"Total updated rows:\", cur.rowcount)\n",
    "\n",
    "cur.execute(\"SELECT admission, age, name, course, department from STUDENT\")\n",
    "rows = cur.fetchall()\n",
    "for row in rows:\n",
    "    print(\"ADMISSION =\", row[0])\n",
    "    print(\"NAME =\", row[1])\n",
    "    print(\"AGE =\", row[2])\n",
    "    print(\"COURSE =\", row[2])\n",
    "    print(\"DEPARTMENT =\", row[3], \"\\n\")\n",
    "\n",
    "print(\"Operation done successfully\")\n",
    "con.close()"
   ]
  },
  {
   "cell_type": "markdown",
   "id": "thermal-federation",
   "metadata": {},
   "source": [
    "# Deleting Rows"
   ]
  },
  {
   "cell_type": "markdown",
   "id": "occasional-substance",
   "metadata": {},
   "source": [
    "To delete a record from a Postgres database table, we should first establish a connection to the database server. Secondly, a cursor object should be created by calling the ```cursor()``` function. We then run the ```DELETE``` statement to perform the deletion."
   ]
  },
  {
   "cell_type": "code",
   "execution_count": 12,
   "id": "outside-words",
   "metadata": {},
   "outputs": [
    {
     "name": "stdout",
     "output_type": "stream",
     "text": [
      "Database opened successfully\n",
      "Total deleted rows: 1\n",
      "ADMISSION = 3419\n",
      "NAME = Abel\n",
      "AGE = 17\n",
      "COURSE = Computer Science                                  \n",
      "DEPARTMENT = ICT                                                \n",
      "\n",
      "ADMISSION = 3421\n",
      "NAME = Joel\n",
      "AGE = 17\n",
      "COURSE = Computer Science                                  \n",
      "DEPARTMENT = ICT                                                \n",
      "\n",
      "ADMISSION = 3422\n",
      "NAME = Antony\n",
      "AGE = 19\n",
      "COURSE = Electrical Engineering                            \n",
      "DEPARTMENT = Engineering                                        \n",
      "\n",
      "ADMISSION = 3423\n",
      "NAME = Alice\n",
      "AGE = 18\n",
      "COURSE = Information Technology                            \n",
      "DEPARTMENT = ICT                                                \n",
      "\n",
      "Deletion successful\n"
     ]
    }
   ],
   "source": [
    "import psycopg2\n",
    "\n",
    "con = psycopg2.connect(database=\"postgres\", user=\"postgres\", password=\"none\", host=\"127.0.0.1\", port=\"5432\")\n",
    "print(\"Database opened successfully\")\n",
    "\n",
    "cur = con.cursor()\n",
    "\n",
    "cur.execute(\"DELETE from STUDENT where ADMISSION=3420;\")\n",
    "con.commit()\n",
    "print(\"Total deleted rows:\", cur.rowcount)\n",
    "\n",
    "cur.execute(\"SELECT admission, name, age, course, department from STUDENT\")\n",
    "rows = cur.fetchall()\n",
    "for row in rows:\n",
    "    print(\"ADMISSION =\", row[0])\n",
    "    print(\"NAME =\", row[1])\n",
    "    print(\"AGE =\", row[2])\n",
    "    print(\"COURSE =\", row[3])\n",
    "    print(\"DEPARTMENT =\", row[4], \"\\n\")\n",
    "\n",
    "print(\"Deletion successful\")\n",
    "con.close()"
   ]
  },
  {
   "cell_type": "code",
   "execution_count": null,
   "id": "prescribed-pierce",
   "metadata": {},
   "outputs": [],
   "source": []
  }
 ],
 "metadata": {
  "kernelspec": {
   "display_name": "LHL_Bootcamp",
   "language": "python",
   "name": "lhl_bootcamp"
  },
  "language_info": {
   "codemirror_mode": {
    "name": "ipython",
    "version": 3
   },
   "file_extension": ".py",
   "mimetype": "text/x-python",
   "name": "python",
   "nbconvert_exporter": "python",
   "pygments_lexer": "ipython3",
   "version": "3.7.10"
  }
 },
 "nbformat": 4,
 "nbformat_minor": 5
}
