{
 "cells": [
  {
   "cell_type": "markdown",
   "id": "2eb5c869-c819-42f5-9777-1c70180a5ada",
   "metadata": {},
   "source": [
    "# 1 - HR\n",
    " - Connect to the hr.db (stored in supporting-files directory) with sqlite3 \n",
    " - Write a query to get the names (first_name, last_name), salary, PF of all the employees (PF is calculated as 12% of salary)\n",
    "\n",
    "Expected columns:\n",
    "- first_name\t\n",
    "- last_name\t\n",
    "- salary\n",
    "- PF\n",
    "\n",
    "Notes:\n",
    "- You can connect to DB from Jupyter Lab/Notebook, explore the table and try different queries\n",
    "- In the variable 'SQL' store only the final query ready for validation "
   ]
  },
  {
   "cell_type": "code",
   "execution_count": null,
   "id": "eb948b7c-14c8-48be-b4be-ec302abdea6a",
   "metadata": {},
   "outputs": [],
   "source": [
    "# 1A Answer\n",
    "SQL = \"SELECT first_name, last_name, salary, (salary*0.12) AS PF FROM employees\"\n",
    "\n",
    "# 1B Advanced Answer\n",
    "SQL = \"\"\"SELECT first_name,\n",
    "                last_name,\n",
    "                salary, \n",
    "                0.12*salary as PF\n",
    "         FROM employees\"\"\""
   ]
  },
  {
   "cell_type": "markdown",
   "id": "175d47f9-7c20-45e7-8bef-fcf8099031d4",
   "metadata": {},
   "source": [
    "# 2 - HR\n",
    " - Connect to the hr.db (stored in supporting-files directory) with sqlite3 \n",
    " - Write a query to display the names (first_name, last_name) and department ID of all employees \n",
    "        in departments 3 or 10 in ascending order by department ID.\n",
    "\n",
    "\n",
    "Expected columns:\n",
    "- first_name\t\n",
    "- last_name\t\n",
    "- department_id\n",
    "\n",
    "Notes:\n",
    "- You can connect to DB from Jupyter Lab/Notebook, explore the table and try different queries\n",
    "- In the variable 'SQL' store only the final query ready for validation "
   ]
  },
  {
   "cell_type": "code",
   "execution_count": null,
   "id": "a51dde67-6a39-42cb-a95d-0c9e80f7d4af",
   "metadata": {},
   "outputs": [],
   "source": [
    "# 2A Answer\n",
    "SQL = \"SELECT first_name, last_name, department_id \\\n",
    "    FROM employees \\\n",
    "        WHERE (department_id == 3 OR department_id == 10) \\\n",
    "                ORDER BY department_id ASC\"\n",
    "# 2B Advanced Answer\n",
    "SQL = \"\"\"SELECT first_name,\n",
    "                last_name,\n",
    "                department_id \n",
    "         FROM employees\n",
    "         WHERE department_id IN (3,10) \n",
    "         ORDER BY department_id\n",
    "\"\"\""
   ]
  },
  {
   "cell_type": "markdown",
   "id": "990b12cf-103f-4e38-9f4a-235e7200f842",
   "metadata": {},
   "source": [
    "# 3 - "
   ]
  },
  {
   "cell_type": "code",
   "execution_count": null,
   "id": "54d446c9-f023-4c0f-b9ad-9663022b7b40",
   "metadata": {},
   "outputs": [],
   "source": []
  }
 ],
 "metadata": {
  "kernelspec": {
   "display_name": "Python 3",
   "language": "python",
   "name": "python3"
  },
  "language_info": {
   "codemirror_mode": {
    "name": "ipython",
    "version": 3
   },
   "file_extension": ".py",
   "mimetype": "text/x-python",
   "name": "python",
   "nbconvert_exporter": "python",
   "pygments_lexer": "ipython3",
   "version": "3.8.10"
  }
 },
 "nbformat": 4,
 "nbformat_minor": 5
}
