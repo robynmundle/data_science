{
 "cells": [
  {
   "cell_type": "markdown",
   "id": "e0abd236-c3a9-4b55-90bf-09bad85a2be5",
   "metadata": {},
   "source": [
    "# Statistics\n",
    "Statistics is a subfield of mathematics. It refers to a collection of methods for working with data and using data to answer questions. We need statistics to help us turn observations into information and to answer questions about samples of observations. Statistics is used as a descriptive to summarize data without presenting all the data, as an inferential to provide conclusions based on a smaller subset sample of data. Stats turn observations into information.\n",
    "\n",
    "Probability deals with predicting the likelihood of future events, while statistics involves the analysis of the frequency of past events.\n",
    "* **Elements**: The entities for which information is collected upon. Also called cases or subjects. (reps)\n",
    "* **Variables**: The characteristics of elements. Also called attributes. Can be qualitative or quantitative\n",
    "* **Qualitative**: variable that enables the elements to be classified or categorized according to some written characteristic. Also called categorical variables. \n",
    "* **Quantitative**: variables that take numerical values and allows arithmetic to be meaningfully performed on it. Also called numerical variables.\n",
    "* **Discrete Variable**: numerical variable that is either finite or a countable number of values for which each value can be graphed as a separate point, with space between each point\n",
    "* **Continuous Variable**: numerical variable that can take on infinitely many values, whose possible values form an interval on a number line, with no space between the points\n",
    "* **Population**: the set of all elements of interest for a particular problem. A parameter is a characteristic of a population\n",
    "* **Sample**: a subset of the population. A characteristic of a sample is called a statistic\n",
    "* **Random Sample**: a sample for which every element has an equal change of being selected\n",
    "\n",
    "Probability deals with predicting the likelihood of future events, while statistics involves the analysis of the frequency of past events.\n",
    "* **Confidence Intervals (CIs)**: range of values that the actual population value is likely to fall within to incorporate the uncertainty and sampling error\n",
    "* **Regression Analysis**: describes the relationship between a set of independent variables and a dependent variable. Incorporates hypothesis tests to determine whether the relationships observed in the sample data actually exists in the population\n",
    "\n",
    "## Measures of Center\n",
    "Central tendency of a set of numbers (aka the average) are the most representative of a dataset. Mean (arithmetic), Median and the Mode are all forms of an average.\n",
    "* **Mean (x̄)**: arithmetic average of the data set. Add up the values and divide by the number of values\n",
    "* **Median**: the middle data value, when an odd number of data values are sorted in ascending order. For even data sets, the median is the mean of the two middle values.\n",
    "* **Mode**: the data value that occurs with the greatest frequency (most common). Both quantitative and cetegortical variables can have modes, but only quantitative variables can have means or medians. How often the mode occurs is the frequency.\n",
    "* **Mid-Range**: average of the maximum and minimum values in a data set.\n",
    "\n",
    "## Measures of Variability\n",
    "Quantify the amount of variation, spread or dispersion present in the data\n",
    "* **Range**: the difference between the maximum and minimum values (fails to reflect how data is centered)\n",
    "* **Variance (σ2)**: the average of the squared differences from the mean. High/larger variance means the data is more spread out. Sample variance (s2) is the approximate mean of squared deviations with N replaced by (n-1) as the sample mean is an approximation of the true population\n",
    "* **Standard Deviation (SD)**: number representing how much an individual number differs from the mean. Sample SD is √(s2), the square root of the sample variance. Population SD is √(σ2), the square root of the population variance. The smaller the SD, narrower the peak, the data points are closer to the mean.\n",
    "\n",
    "## Measures of Position\n",
    "Indicate the relative position of a particular data value in the data distribution\n",
    "*  **Percentile**: the nth percentile of a data set is the data value such that n percent of the values in the data set are at or below this value. i.e. 50th percentile is the median.\n",
    "* **Percentile Rank**: percentile rank of a data value equals the percentage of values in the data set that are at or below that value.\n",
    "* **Interquartile Range (IQR)**: the first quartile (Q1) is the 25th percentile of a data set, Q2 is the 50th percentile (median) and the third quartile (Q3) is the 75th. IQR measures the difference between the 75th and 25th observation: IQR = Q3 – Q1. Data value x is an outlier if either x ≤ (Q1 – 1.5*IQR), or x ≥ (Q3 + 1.5*IQR)\n",
    "* **Z-score**: represents how many standard deviations that the data values lies above or below the mean. Positive z = value is above the average\n",
    "* **Uni-variate Descriptive Statistics**: Different ways you can describe patterns found in uni-variate data include central tendency: mean, mode and median as well as dispersion: range, variance, maximum, minimum, quartiles , and standard deviation. The various plots used to visualize uni-variate data are typically bar charts, histograms and pie charts\n",
    "* **Bi-variate Descriptive Statistics**: Bi-variate analysis involves the analysis of two variables for the purpose of determining the empirical relationship between them. The various plots used to visualize bi-variate data typically are scatter-plot, box-plot.\n",
    "* **Scatter Plots**: The simplest way to visualize the relationship between two quantitative variables , x and y. For two continuous variables, a scatter-plot is a common graph. Each (x, y) point is graphed on a Cartesian plane, with the x axis on the horizontal and the y axis on the vertical. Scatter plots are sometimes called correlation plots because they show how two variables are correlated.\n",
    "* **Correlation**: statistic intended to quantify the strength of the relationship between two variables. Correlation Coefficient (r) quantifies strength and direction of linear relationship between two values. Where sx and sy represent the SD of the x-variable and y-variable, respectively. Values fall within -1 ≤ r ≤ 1. If r is positive and significant, x and y are positively correlated. Increase in x = increase in y \n",
    "    * Positive Correlation (r>0)\n",
    "    * Negative Correlation (r<0)\n",
    "    * No Correlation (r=0)\n",
    "* **Box Plots**: Also known as a box and whisker plot, used to picture the distribution of values. When one value is categorical and the other continuous, box plots are often used. The data values are divided into four parts called quartiles by finding the median or middle value. Each box on the plot shows the range of values from the median of the lower half of the values at the bottom of the box to the median of the upper half of the values at the top of the box. A line in the middle of the box occurs at the median of all the data values. The whiskers then point to the largest and smallest values in the data. Box plots are especially useful for indicating whether a distribution is skewed and whether there are potential unusual observations (outliers) in the data set.\n",
    "\n",
    "Online Resources:\n",
    "* https://statisticsbyjim.com/basics/descriptive-inferential-statistics/\n",
    "* https://youtu.be/uhxtUt_-GyM\n"
   ]
  },
  {
   "cell_type": "code",
   "execution_count": null,
   "id": "22cabf6b-662d-4863-bbd4-6194fd59db33",
   "metadata": {},
   "outputs": [],
   "source": []
  }
 ],
 "metadata": {
  "kernelspec": {
   "display_name": "Python 3",
   "language": "python",
   "name": "python3"
  },
  "language_info": {
   "codemirror_mode": {
    "name": "ipython",
    "version": 3
   },
   "file_extension": ".py",
   "mimetype": "text/x-python",
   "name": "python",
   "nbconvert_exporter": "python",
   "pygments_lexer": "ipython3",
   "version": "3.8.10"
  }
 },
 "nbformat": 4,
 "nbformat_minor": 5
}
