{
 "cells": [
  {
   "cell_type": "markdown",
   "id": "e0abd236-c3a9-4b55-90bf-09bad85a2be5",
   "metadata": {},
   "source": [
    "# Probability Theory\n",
    "Probability theory is a branch of mathematics concerned with probability. Although there are several different probability interpretations, probability theory treats the concept in a rigorous mathematical manner by expressing it through a set of axioms.\n",
    "\n",
    "Probability is a ratio of the number of probabilities that meet the given condition to the number of equally likely possibilities (i.e. P(heads on coin toss) = 1 chance of heads / 2 options (heads or tails) = ½. In probability theory, an event is a set of outcomes of an experiment to which a probability is assigned. If E represents an event, then P(E) represents the probability that E will occur. A situation where E might happen (success) or might not happen (failure) is called a trial. This event can be anything like tossing a coin, rolling a die or pulling a colored ball out of a bag. In these examples the outcome of the event is random, so the variable that represents the outcome of these events is called a random variable.\n",
    "- The **empirical probability** of an event is given by number of times the event occurs divided by the total number of incidents observed. If forntrials and we observe ssuccesses, the probability of success is s/n. In the above example. any sequence of coin tosses may have more or less than exactly 50% heads.\n",
    "- **Theoretical probability** on the other hand is given by the number of ways the particular event can occur divided by the total number of possible outcomes. So a head can occur once and possible outcomes are two (head, tail). The true (theoretical) probability of a head is 1/2.\n",
    "- **Joint Probability** is the probability of events A and B denoted by P(A and B) or P(A ∩ B) is the probability that events A and B both occur. P(A ∩ B) = P(A). P(B) . This only applies if Aand B are independent, which means that if A occurred, that doesn’t change the probability of B, vice versa.\n",
    "- **Conditional Probability** suggests A and B are not independent, because if A occurred, the probability of B is higher. When A and B are not independent, it is often useful to compute the conditional probabiliuty, P(A|B), which is the probability of A given that B occurred: \n",
    "    - P(A|B) = P(A ∩ B)/ P(B) or similarly,  P(B|A) = P(A ∩ B)/ P(A) . We can write the joint probability of as A and B as P(A ∩ B)= p(A).P(B|A), which means : *“The chance of both things happening is the chance that the first one happens, and then the second one given the first happened.”*\n",
    "\n",
    "\n",
    "Online Resources:\n",
    "* https://towardsdatascience.com/machine-learning-probability-statistics-f830f8c09326\n",
    "* https://youtu.be/uzkc-qNVoOk\n",
    "\n",
    "# Statistics\n",
    "Statistics is a subfield of mathematics. It refers to a collection of methods for working with data and using data to answer questions. We need statistics to help us turn observations into information and to answer questions about samples of observations.\n",
    "\n",
    "Probability deals with predicting the likelihood of future events, while statistics involves the analysis of the frequency of past events.\n",
    "\n",
    "Online Resources:\n",
    "* https://youtu.be/uhxtUt_-GyM\n",
    "\n",
    "\n",
    "# Conditional Probabilities\n",
    "\n",
    "Online Resources:\n",
    "* https://youtu.be/bgCMjHzXTXs\n",
    "* https://youtu.be/ES9HFNDu4Bs\n",
    "\n",
    "\n",
    "\n",
    "# Bayes Theorem\n",
    "\n",
    "\n",
    "Online Resources:\n",
    "* https://youtu.be/HZGCoVF3YvM"
   ]
  }
 ],
 "metadata": {
  "kernelspec": {
   "display_name": "Python 3",
   "language": "python",
   "name": "python3"
  },
  "language_info": {
   "codemirror_mode": {
    "name": "ipython",
    "version": 3
   },
   "file_extension": ".py",
   "mimetype": "text/x-python",
   "name": "python",
   "nbconvert_exporter": "python",
   "pygments_lexer": "ipython3",
   "version": "3.8.10"
  }
 },
 "nbformat": 4,
 "nbformat_minor": 5
}
