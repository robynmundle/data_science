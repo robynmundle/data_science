{
 "cells": [
  {
   "cell_type": "markdown",
   "id": "fb25acfc-ef0a-48bb-914f-c41396a6aa6b",
   "metadata": {},
   "source": [
    "# Central Limit Theorem\n",
    "The Central Limit Theorem, or CLT for short, is an important finding and pillar in the fields of statistics and probability. The theorem states that as the size of the sample increases, the distribution of the mean across multiple samples will approximate a Gaussian distribution. We can imagine performing a trial and getting a result or an observation. We can repeat the trial again and get a new independent observation. Collected together, multiple observations represents a sample of observations.\n",
    "\n",
    "A sample is a group of observations from a broader population of all possible observations that could be made given trials.\n",
    "* Observation: Result from one trial of an experiment.\n",
    "* Sample: Group of results gathered from separate independent trials.\n",
    "* Population: Space of all possible observations that could be seen from a trial.\n",
    "\n",
    "If we calculate the mean of a sample, it will be an estimate of the mean of the population distribution. But, like any estimate, it will be wrong and will contain some error. If we draw multiple independent samples, and calculate their means, the distribution of those means will form a Gaussian distribution. It is important that each trial that results in an observation be independent and performed in the same way. This is to ensure that the sample is drawing from the same underlying population distribution. More formally, this expectation is referred to as independent and identically distributed, or iid.\n",
    "* Firstly, the central limit theorem is impressive, especially as this will occur no matter the shape of the population distribution from which we are drawing samples. It demonstrates that the distribution of errors from estimating the population mean fit a distribution that the field of statistics knows a lot about.\n",
    "* Secondly, this estimate of the Gaussian distribution will be more accurate as the size of the samples drawn from the population is increased. This means that if we use our knowledge of the Gaussian distribution in general to start making inferences about the means of samples drawn from a population, that these inferences will become more useful as we increase our sample size.\n",
    "\n",
    "Online Resources:\n",
    "* https://machinelearningmastery.com/a-gentle-introduction-to-the-central-limit-theorem-for-machine-learning/"
   ]
  },
  {
   "cell_type": "markdown",
   "id": "65fa038c-921d-4595-8447-a3499990b240",
   "metadata": {},
   "source": [
    "# Law of Large Numbers\n",
    "The law of large numbers is another different theorem from statistics. It is simpler in that it states that as the size of a sample is increased, the more accurate of an estimate the sample mean will be of the population mean.\n",
    "\n",
    "This theorem describes the result of repeating the same experiment a large number of times. The large numbers theorem states that if the same experiment or study is repeated independently, a large number of times, the average of the results of the trials must be close to the expected value. The result becomes closer to the expected value as the number of trials increases.\n",
    "\n",
    "The law of large numbers is an important concept in statistics because it states that even random events with a large number of trials may return stable long-term results. It also demonstrates and proves the fundamental relationship between the concepts of probability and frequency.\n",
    "\n",
    "The central limit theorem does not state anything about a single sample mean; instead, it is broader and states something about the shape or the distribution of sample means. The law of large numbers is intuitive. It is why we think that collecting more data will lead to a more representative sample of observations from the domain. The theorem supports this intuition."
   ]
  },
  {
   "cell_type": "code",
   "execution_count": 1,
   "id": "44aac592-33af-471e-809c-158564c44fda",
   "metadata": {},
   "outputs": [
    {
     "data": {
      "text/plain": [
       "array([0, 1, 0, 0, 0, 1, 0, 0, 0, 1])"
      ]
     },
     "execution_count": 1,
     "metadata": {},
     "output_type": "execute_result"
    }
   ],
   "source": [
    "import numpy as np\n",
    "import matplotlib.pyplot as plt\n",
    "\n",
    "#set a random seed to replicate the results\n",
    "np.random.seed(42)\n",
    "\n",
    "#generate ten random numbers (0 or 1) with equal probabilities\n",
    "coin_flips_10 = np.random.randint(0,2,10)\n",
    "coin_flips_10"
   ]
  },
  {
   "cell_type": "code",
   "execution_count": 2,
   "id": "cafe9e8c-b6bf-4fac-a278-905734a49088",
   "metadata": {},
   "outputs": [
    {
     "name": "stdout",
     "output_type": "stream",
     "text": [
      "3\n"
     ]
    }
   ],
   "source": [
    "#how many heads in 10 coin flips\n",
    "count_heads = sum(coin_flips_10 == 1)\n",
    "print(count_heads)"
   ]
  },
  {
   "cell_type": "code",
   "execution_count": 3,
   "id": "d49fcfb0-2618-446d-a6ab-1fb7f43219f7",
   "metadata": {},
   "outputs": [
    {
     "data": {
      "image/png": "[encoded data removed]",
      "text/plain": [
       "<Figure size 720x576 with 1 Axes>"
      ]
     },
     "metadata": {
      "needs_background": "light"
     },
     "output_type": "display_data"
    }
   ],
   "source": [
    "heads_ratio_nflips = []\n",
    "\n",
    "#generate integers from 5 to 10,000\n",
    "n_flips = np.arange(5,10000)\n",
    "\n",
    "for flips in n_flips:\n",
    "    #how many heads / flips\n",
    "    heads_ratio = sum(np.random.randint(0,2,flips) == 1) / flips\n",
    "    \n",
    "    #append ratios to empty list\n",
    "    heads_ratio_nflips.append(heads_ratio)\n",
    "    \n",
    "#set plot size\n",
    "plt.figure(figsize = (10,8))\n",
    "\n",
    "#number of flips on the x axis, heads ratio on y axis\n",
    "plt.plot(n_flips, heads_ratio_nflips)\n",
    "\n",
    "#expected ratio\n",
    "plt.plot(n_flips, len(n_flips)*[0.5], 'r--')\n",
    "\n",
    "#plot settings\n",
    "plt.xlabel('Flips')\n",
    "plt.ylabel('Heads ratio')\n",
    "\n",
    "#show the plot\n",
    "plt.show()"
   ]
  },
  {
   "cell_type": "markdown",
   "id": "2d41156f-098b-48cd-8e3e-0d899762be76",
   "metadata": {},
   "source": [
    "# Hypothesis Test\n",
    "A hypothesis test is a statistical test that is used to determine whether there is enough evidence in a sample of data to infer that a certain condition is true for the entire population.Based on sample data, the test determines whether to reject the null hypothesis.\n",
    "* **Null hypothesis (H0)**: The null hypothesis states that a population parameter is equal to a certain value. The null hypothesis is often the initial claim that researchers specify using research or knowledge.\n",
    "* **Alternative Hypothesis (H1)**: The alternative hypothesis states that the population parameter is different from the value of the population parameter in the null hypothesis. The alternative hypothesis is what we might believe to be true or hope to prove true.\n",
    "* **p-Value**: The probability that random chance generated the data, or something else that is equal or rarer. We use the p-value, to make a determination: if the p-value is smaller than or equal to the level of significance, which is a cut-off point that we've defined, then we can reject the null hypothesis.\n",
    "    * Traditional threshold for significance is a p-value of 0.05 (95% CI) where a value below 0.05 is significant (typically noted as a rejection of the null hypothesis).\n",
    "* **Significance Level**: a threshold probability also known as the critical value 𝛼. The area under the curve beyond the critical value is the critical region. The critical value defines how far away our sample statistic(our experimental value) must be from the null hypothesis(original mean) value before we can say it is unusual enough to reject the null hypothesis.\n",
    "* **Type 1 Error**: alike a false negative, if the significance level is 0.05, there is 5% change being wrong thus Type 1 Error = 𝛼 (significance level)\n",
    "* **Type 2 Error**: alike a false positive, concluding the null hypothesis is true or fail to reject when in reality it was actually false. Type 2 Errors are explained by 𝛽\n",
    "* **Power**: probability of rejecting the null hypothesis when it is false. i.e. probability of committing type 2 error is 1 - (power) or 1-𝛽\n",
    "* **z-Test**: used when the difference in means is calculated between two distributions. Standard deviation of the population should be known and number of samples should be more than 30. Important assumption of x-test is that all sample observations are independent than each other\n",
    "* **T-Test**: used when the standard deviation of the population is unknown and has to be approximated from the sample. Generally used when two different populations are compared. Three types:\n",
    "    * Independent Samples: compares the means for two groups\n",
    "     * Paired Samples: compares mean from the same group at different times\n",
    "    * One Sample: tests mean of a single group against a known mean\n",
    "* **Chi-Square Test**: Generally used when testing is related to categorical variables. Two types:\n",
    "    * Goodness of Fit: test whether observations within one categorical variable match within a distribution\n",
    "    * Association: used to compare two variables in a contingency table to see if they are independent\n",
    "\n",
    "Online Resources:\n",
    "* https://towardsdatascience.com/hypothesis-testing-the-what-why-and-how-867d382b99ca"
   ]
  },
  {
   "cell_type": "code",
   "execution_count": 4,
   "id": "61bdc596-5a2b-4846-85a3-bb3bca063067",
   "metadata": {},
   "outputs": [],
   "source": [
    "import numpy as np\n",
    "\n",
    "np.random.seed(42)"
   ]
  },
  {
   "cell_type": "code",
   "execution_count": 5,
   "id": "c83f27c9-3877-45c3-a82e-895b3dff3e62",
   "metadata": {},
   "outputs": [],
   "source": [
    "#sales history in days\n",
    "history = 365\n",
    "\n",
    "# generate one-year sales for store A\n",
    "mean_A = 20\n",
    "std_A = 5\n",
    "shop_A_sales = np.random.normal(mean_A, std_A, history)\n",
    "\n",
    "# generate one-year sales for store B\n",
    "mean_B = 19.5\n",
    "std_B = 5\n",
    "shop_B_sales = np.random.normal(mean_B, std_B, history)"
   ]
  },
  {
   "cell_type": "code",
   "execution_count": 6,
   "id": "9988ff35-e3ca-42b0-9a99-944d21495fc8",
   "metadata": {},
   "outputs": [],
   "source": [
    "'''H0 = the mean of sales of shop A equals to the mean of sales of shop B (i.e. the difference between the sales is equal to zero) '''\n",
    "'''HA = the means are not equal'''\n",
    "\n",
    "# set significance level (probability of rejecting null hypothesis) \n",
    "alpha = 0.05"
   ]
  },
  {
   "cell_type": "code",
   "execution_count": 7,
   "id": "4551888a-27a9-4944-8039-74a5be257ea9",
   "metadata": {},
   "outputs": [
    {
     "name": "stdout",
     "output_type": "stream",
     "text": [
      "shop A: 20.04973201106029\n",
      "shop B: 19.309929401404304\n",
      "Observed difference in means: 0.7398026096559853\n"
     ]
    }
   ],
   "source": [
    "print(f'shop A: {shop_A_sales.mean()}')\n",
    "print(f'shop B: {shop_B_sales.mean()}')\n",
    "\n",
    "# difference in means\n",
    "observed_mean_diff = shop_A_sales.mean() - shop_B_sales.mean()\n",
    "print(f'Observed difference in means: {observed_mean_diff}')"
   ]
  },
  {
   "cell_type": "code",
   "execution_count": 8,
   "id": "676ec399-0160-42c8-a5d2-49a431173b88",
   "metadata": {},
   "outputs": [],
   "source": [
    "# simulate if both stores' sales were identically distributed\n",
    "both_sales = np.concatenate((shop_A_sales, shop_B_sales))"
   ]
  },
  {
   "cell_type": "code",
   "execution_count": 9,
   "id": "a3c4f5b7-fedc-45be-b9a0-5914ed37735c",
   "metadata": {},
   "outputs": [
    {
     "name": "stdout",
     "output_type": "stream",
     "text": [
      "0.21098789154327235\n"
     ]
    }
   ],
   "source": [
    "# permutation (random reordering) of both_sales\n",
    "sales_perm = np.random.permutation(both_sales)\n",
    "\n",
    "#permutation replicates\n",
    "perm_shop_A_sales = sales_perm[:len(shop_A_sales)]\n",
    "perm_shop_B_sales = sales_perm[len(shop_A_sales):]\n",
    "\n",
    "print(perm_shop_A_sales.mean() - perm_shop_B_sales.mean())"
   ]
  },
  {
   "cell_type": "code",
   "execution_count": 10,
   "id": "aba25e24-649e-464c-a64b-4b431201516c",
   "metadata": {},
   "outputs": [],
   "source": [
    "# try 1,000 difference permutations\n",
    "perm_repl_means = []\n",
    "\n",
    "for _ in range(1000):\n",
    "    # permutations\n",
    "    sales_perm = np.random.permutation(both_sales)\n",
    "    \n",
    "    #permutation replicates\n",
    "    perm_shop_A_sales = sales_perm[:len(shop_A_sales)]\n",
    "    perm_shop_B_sales = sales_perm[len(shop_A_sales):]\n",
    "    \n",
    "    #permutaiton replicates mean\n",
    "    perm_repl_mean = perm_shop_A_sales.mean() - perm_shop_B_sales.mean()\n",
    "    \n",
    "    #append to empty list\n",
    "    perm_repl_means.append(perm_repl_mean)"
   ]
  },
  {
   "cell_type": "code",
   "execution_count": 11,
   "id": "021716fa-d4ca-4100-a79b-c064e44c1330",
   "metadata": {},
   "outputs": [
    {
     "name": "stdout",
     "output_type": "stream",
     "text": [
      "p-value =  0.043\n"
     ]
    }
   ],
   "source": [
    "#compute the p-value\n",
    "p = np.sum(np.abs(perm_repl_means) >= observed_mean_diff) / len(perm_repl_means)\n",
    "print('p-value = ', p)"
   ]
  },
  {
   "cell_type": "code",
   "execution_count": 12,
   "id": "25eb2aef-452f-40df-b5d3-659a283698b3",
   "metadata": {},
   "outputs": [
    {
     "name": "stdout",
     "output_type": "stream",
     "text": [
      "H0 is rejected\n"
     ]
    }
   ],
   "source": [
    "# final decision\n",
    "if p < alpha:\n",
    "    print('H0 is rejected')\n",
    "else:\n",
    "    print(\"H0 is not rejected\")"
   ]
  }
 ],
 "metadata": {
  "kernelspec": {
   "display_name": "Python 3",
   "language": "python",
   "name": "python3"
  },
  "language_info": {
   "codemirror_mode": {
    "name": "ipython",
    "version": 3
   },
   "file_extension": ".py",
   "mimetype": "text/x-python",
   "name": "python",
   "nbconvert_exporter": "python",
   "pygments_lexer": "ipython3",
   "version": "3.8.10"
  }
 },
 "nbformat": 4,
 "nbformat_minor": 5
}
