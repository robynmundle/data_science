{
 "cells": [
  {
   "cell_type": "markdown",
   "id": "8c225042-e26d-428e-9b72-e5d6825d4f2e",
   "metadata": {},
   "source": [
    "# Probability Distribution\n",
    "Probability distributions describe the dispersion of the values of a random variable. Consequently, the kind of variable determines the type of probability distribution. For a single random variable, statisticians divide distributions into the following two types:\n",
    "- Probability mass functions for discrete variables (PMF)\n",
    "- Probability density functions for continuous variables (PDF)\n",
    "\n",
    "## Data Types\n",
    "- Discrete data can take only specified values i.e. roll of a dice is 1, 2, 3, 4, 5, or 6 not 1.5\n",
    "- Continuous data can take any value within a given range, finite or infinite i.e. a person’s height/weight"
   ]
  },
  {
   "cell_type": "markdown",
   "id": "ccd7d7cd-f5df-4016-b2ec-7392c5e82ef4",
   "metadata": {},
   "source": [
    "Importing Libraries"
   ]
  },
  {
   "cell_type": "code",
   "execution_count": 1,
   "id": "6d46dfec-85ee-4d49-a54c-ef9aab404ebf",
   "metadata": {},
   "outputs": [],
   "source": [
    "import numpy as np\n",
    "import matplotlib.pyplot as plt\n",
    "from collections import Counter\n",
    "\n",
    "# set the plot style\n",
    "plt.style.use('fivethirtyeight')"
   ]
  },
  {
   "cell_type": "markdown",
   "id": "49cf4582-5c65-47af-a1ae-3ae1517c9330",
   "metadata": {},
   "source": [
    "Online Resources:\n",
    "* https://www.analyticsvidhya.com/blog/2017/09/6-probability-distributions-data-science/\n",
    "\n",
    "To generate a random number between 0 and 1 (zero included, one excluded) we will use `random()` function from `numpy.random` module."
   ]
  },
  {
   "cell_type": "code",
   "execution_count": 2,
   "id": "d7579f76-3b89-4a2f-a054-72371bafea07",
   "metadata": {},
   "outputs": [
    {
     "data": {
      "text/plain": [
       "0.31342674597016973"
      ]
     },
     "execution_count": 2,
     "metadata": {},
     "output_type": "execute_result"
    }
   ],
   "source": [
    "random_num = np.random.random()\n",
    "random_num"
   ]
  },
  {
   "cell_type": "markdown",
   "id": "d96926c1-2ccc-48e0-932e-0c3ec3ed26f9",
   "metadata": {},
   "source": [
    "In case we want to generate a list of n random numbers we will also use `random()` with n as an argument."
   ]
  },
  {
   "cell_type": "code",
   "execution_count": 3,
   "id": "4d4d5140-658e-408c-99ab-19ecd6da422e",
   "metadata": {},
   "outputs": [
    {
     "data": {
      "text/plain": [
       "array([0.80702675, 0.19386329, 0.28459376, 0.53049478])"
      ]
     },
     "execution_count": 3,
     "metadata": {},
     "output_type": "execute_result"
    }
   ],
   "source": [
    "# generate 4 random numbers from the interval  <0,1)\n",
    "random_num = np.random.random(4)\n",
    "random_num"
   ]
  },
  {
   "cell_type": "markdown",
   "id": "a859d5d6-37c1-44a3-9958-bfaca7489dc8",
   "metadata": {},
   "source": [
    "`numpy.random.random()` is a pseudorandom number generator. It is a mathematical function that generates a sequence of nearly random numbers. It takes a parameter to start the sequence, called the seed. The function is deterministic, meaning, given the same seed, it will produce the same sequence of numbers every time.\n",
    "\n",
    "If we want to set the seed to obtain the same result each run, we can use the following command before every generation:"
   ]
  },
  {
   "cell_type": "code",
   "execution_count": 4,
   "id": "e46b585b-ed09-4d88-afe3-57a133881d9b",
   "metadata": {},
   "outputs": [],
   "source": [
    "# this sets the seed to number 42\n",
    "np.random.seed(42)"
   ]
  },
  {
   "cell_type": "markdown",
   "id": "8ec1f23a-e9a5-4ac0-90bc-6977968d5aa3",
   "metadata": {},
   "source": [
    "# Bernoulli Distribution\n",
    "Only two possible outcomes, namely 1 (success) and 0 (failure), and a single trial. Random variable X can take value 1 with probability of success, p, or the value 0 with probability of failure, q or 1-p. The probability mass function is given by px(1-p)1-x  where x € (0, 1) or as:\n",
    "\n",
    "<img src='images/bernoulli_prob.png'>\n",
    "\n",
    "Basically expected value of any distribution is the mean of the distribution. The expected value of a random variable X from a Bernoulli distribution is found as follows:\n",
    "```python \n",
    "    E(X) = 1*p + 0*(1-p) = p\n",
    "```\n",
    "The variance of a random variable from a bernoulli distribution is:\n",
    "```python\n",
    "    V(X) = E(X²) – [E(X)]² = p – p² = p(1-p)\n",
    "```\n",
    "There are many examples of Bernoulli distribution such as whether it’s going to rain tomorrow or not where rain denotes success and no rain denotes failure // winning (success) or losing (failure) the game.\n",
    "\n",
    "#### Create function `perform_bernouli_trial` with parameters n and p\n",
    "\n",
    "PARAMS:\n",
    "- n (int) - number of trials\n",
    "- p (float) - probability of success\n",
    "\n",
    "RETURNS:\n",
    "- n_success (int) - number of successes"
   ]
  },
  {
   "cell_type": "code",
   "execution_count": 14,
   "id": "171731dd-0e57-4e1f-a11c-3f9a4531b26c",
   "metadata": {},
   "outputs": [],
   "source": [
    "def perform_bernoulli_trial(n,p):\n",
    "    n_success = 0\n",
    "    \n",
    "    for i in range(n):\n",
    "        test = np.random.random()\n",
    "        if test < p:\n",
    "            n_success += 1\n",
    "    return n_success"
   ]
  },
  {
   "cell_type": "markdown",
   "id": "1b944c19-2dcc-4041-a67b-aedae84b09a2",
   "metadata": {},
   "source": [
    "Use function `perform_bernoulli_trials` with inputs n = 100, p = 0.5"
   ]
  },
  {
   "cell_type": "code",
   "execution_count": 15,
   "id": "0a510da7-24e4-4d85-9f7a-0f045ba1a977",
   "metadata": {},
   "outputs": [
    {
     "data": {
      "text/plain": [
       "46"
      ]
     },
     "execution_count": 15,
     "metadata": {},
     "output_type": "execute_result"
    }
   ],
   "source": [
    "perform_bernoulli_trial(100,0.5)"
   ]
  },
  {
   "cell_type": "markdown",
   "id": "a244d4b9-304d-41b9-9f5f-205f007e54f1",
   "metadata": {},
   "source": [
    "Call function `perform_bernoulli_trials` 1000-times with same parameters as before and store the result in `successes_list`"
   ]
  },
  {
   "cell_type": "code",
   "execution_count": 16,
   "id": "5c2cc363-49fe-4f98-b5fc-84f412447667",
   "metadata": {},
   "outputs": [
    {
     "data": {
      "text/plain": [
       "array([45., 48., 52., 43., 51., 55., 44., 49., 55., 52., 48., 61., 48.,\n",
       "       51., 51., 47., 57., 48., 57., 48., 54., 46., 47., 50., 51., 47.,\n",
       "       46., 46., 42., 52., 48., 55., 55., 53., 46., 41., 50., 61., 50.,\n",
       "       53., 55., 48., 48., 56., 47., 55., 58., 45., 49., 45., 60., 49.,\n",
       "       45., 39., 51., 51., 48., 53., 49., 48., 41., 49., 48., 54., 46.,\n",
       "       53., 57., 45., 47., 54., 56., 46., 50., 50., 53., 44., 50., 45.,\n",
       "       53., 51., 45., 50., 47., 54., 48., 51., 51., 54., 52., 58., 48.,\n",
       "       49., 41., 47., 47., 62., 47., 49., 47., 52., 50., 41., 51., 50.,\n",
       "       51., 48., 44., 51., 50., 48., 45., 43., 51., 51., 56., 56., 56.,\n",
       "       42., 46., 58., 52., 54., 53., 47., 48., 51., 55., 51., 49., 50.,\n",
       "       51., 51., 48., 41., 52., 49., 55., 50., 54., 58., 47., 51., 52.,\n",
       "       51., 40., 45., 41., 51., 56., 49., 57., 56., 53., 44., 51., 46.,\n",
       "       49., 57., 47., 49., 53., 53., 47., 49., 63., 47., 56., 51., 47.,\n",
       "       44., 54., 47., 50., 54., 43., 47., 44., 51., 53., 53., 52., 50.,\n",
       "       58., 58., 55., 49., 61., 47., 55., 48., 52., 54., 55., 56., 42.,\n",
       "       49., 49., 59., 48., 58., 47., 59., 43., 55., 47., 51., 50., 54.,\n",
       "       48., 51., 52., 58., 52., 50., 46., 46., 47., 45., 47., 54., 50.,\n",
       "       55., 51., 60., 45., 51., 45., 42., 54., 45., 49., 48., 53., 46.,\n",
       "       41., 42., 42., 50., 53., 57., 46., 62., 41., 47., 54., 45., 59.,\n",
       "       52., 51., 50., 51., 43., 44., 47., 47., 43., 57., 54., 49., 46.,\n",
       "       40., 44., 50., 49., 57., 51., 57., 40., 48., 42., 47., 43., 51.,\n",
       "       54., 58., 55., 55., 49., 45., 48., 45., 51., 49., 43., 46., 49.,\n",
       "       53., 45., 52., 55., 54., 48., 45., 54., 52., 51., 61., 46., 49.,\n",
       "       50., 45., 54., 44., 51., 50., 50., 40., 52., 53., 51., 49., 57.,\n",
       "       60., 38., 54., 51., 51., 53., 43., 43., 55., 42., 52., 40., 54.,\n",
       "       49., 55., 54., 52., 51., 56., 52., 48., 45., 49., 49., 39., 42.,\n",
       "       55., 44., 55., 50., 54., 62., 52., 58., 55., 49., 52., 42., 39.,\n",
       "       52., 58., 51., 57., 43., 47., 53., 45., 51., 51., 44., 53., 59.,\n",
       "       50., 44., 51., 46., 50., 45., 48., 57., 48., 47., 49., 43., 42.,\n",
       "       52., 50., 44., 49., 52., 48., 50., 50., 55., 52., 48., 45., 45.,\n",
       "       57., 53., 48., 48., 55., 47., 50., 48., 66., 45., 48., 51., 49.,\n",
       "       54., 52., 46., 43., 46., 49., 42., 52., 52., 46., 51., 51., 53.,\n",
       "       52., 46., 37., 53., 41., 47., 49., 46., 57., 40., 46., 54., 45.,\n",
       "       56., 51., 51., 54., 47., 54., 46., 49., 43., 51., 52., 48., 52.,\n",
       "       49., 46., 51., 48., 47., 55., 54., 54., 51., 40., 44., 53., 51.,\n",
       "       53., 51., 46., 46., 47., 44., 46., 49., 48., 49., 56., 45., 51.,\n",
       "       45., 49., 55., 45., 46., 42., 46., 52., 51., 59., 60., 48., 50.,\n",
       "       63., 43., 52., 55., 42., 45., 45., 45., 52., 50., 41., 62., 50.,\n",
       "       51., 52., 51., 48., 57., 51., 53., 50., 52., 43., 53., 44., 55.,\n",
       "       48., 46., 59., 61., 49., 41., 49., 57., 46., 51., 48., 57., 53.,\n",
       "       48., 57., 52., 53., 49., 42., 49., 53., 47., 52., 47., 56., 52.,\n",
       "       51., 52., 47., 51., 46., 47., 58., 49., 52., 50., 48., 43., 46.,\n",
       "       54., 45., 55., 44., 52., 57., 41., 47., 54., 46., 40., 55., 38.,\n",
       "       43., 49., 49., 52., 58., 51., 52., 55., 48., 48., 49., 44., 39.,\n",
       "       50., 40., 53., 50., 62., 53., 47., 52., 48., 49., 58., 52., 41.,\n",
       "       51., 44., 50., 55., 50., 54., 45., 57., 58., 48., 57., 60., 46.,\n",
       "       45., 50., 59., 48., 49., 54., 48., 56., 51., 52., 45., 48., 53.,\n",
       "       58., 41., 51., 45., 55., 51., 50., 52., 48., 55., 54., 51., 40.,\n",
       "       52., 52., 52., 58., 44., 51., 53., 51., 53., 51., 40., 56., 57.,\n",
       "       46., 49., 55., 43., 59., 48., 43., 44., 53., 39., 42., 54., 46.,\n",
       "       51., 51., 51., 55., 50., 46., 41., 47., 53., 57., 46., 40., 47.,\n",
       "       51., 53., 46., 58., 52., 49., 48., 58., 55., 52., 51., 43., 52.,\n",
       "       44., 48., 58., 40., 49., 43., 51., 46., 45., 51., 48., 51., 47.,\n",
       "       45., 54., 45., 54., 57., 41., 54., 48., 56., 50., 56., 43., 59.,\n",
       "       48., 51., 48., 50., 45., 42., 52., 54., 41., 43., 54., 45., 42.,\n",
       "       52., 45., 49., 53., 48., 47., 53., 45., 53., 48., 50., 52., 42.,\n",
       "       46., 46., 52., 55., 46., 51., 47., 65., 52., 48., 46., 46., 44.,\n",
       "       56., 40., 47., 53., 50., 50., 51., 40., 49., 43., 50., 46., 60.,\n",
       "       54., 59., 43., 53., 56., 58., 50., 55., 47., 57., 49., 53., 48.,\n",
       "       48., 62., 38., 53., 56., 43., 47., 56., 46., 45., 45., 46., 50.,\n",
       "       48., 52., 63., 58., 51., 44., 40., 50., 53., 56., 54., 51., 42.,\n",
       "       64., 49., 53., 46., 52., 47., 48., 45., 45., 44., 54., 45., 54.,\n",
       "       58., 43., 47., 42., 40., 48., 50., 55., 59., 50., 53., 45., 46.,\n",
       "       55., 55., 43., 44., 48., 45., 41., 48., 58., 50., 43., 57., 49.,\n",
       "       45., 42., 61., 56., 41., 49., 50., 48., 55., 43., 49., 48., 49.,\n",
       "       36., 48., 54., 58., 42., 47., 60., 45., 53., 50., 54., 49., 56.,\n",
       "       51., 50., 36., 54., 50., 50., 56., 55., 40., 44., 51., 49., 48.,\n",
       "       50., 53., 51., 44., 49., 46., 48., 47., 54., 60., 54., 58., 50.,\n",
       "       57., 59., 44., 44., 54., 49., 49., 45., 43., 46., 57., 48., 48.,\n",
       "       47., 48., 55., 49., 42., 51., 50., 53., 49., 48., 48., 52., 49.,\n",
       "       52., 54., 48., 47., 58., 52., 55., 52., 54., 46., 56., 53., 53.,\n",
       "       52., 56., 48., 47., 50., 45., 49., 57., 54., 50., 52., 48., 54.,\n",
       "       49., 58., 46., 40., 60., 57., 48., 62., 50., 52., 49., 52., 47.,\n",
       "       56., 54., 60., 49., 44., 54., 55., 42., 35., 50., 67., 44., 44.,\n",
       "       60., 44., 45., 40., 60., 58., 50., 52., 43., 49., 55., 57., 49.,\n",
       "       47., 46., 53., 52., 57., 41., 40., 50., 55., 50., 49., 51., 52.,\n",
       "       44., 51., 52., 54., 53., 52., 52., 54., 48., 52., 48., 58.])"
      ]
     },
     "execution_count": 16,
     "metadata": {},
     "output_type": "execute_result"
    }
   ],
   "source": [
    "size = 1000\n",
    "successes_list = np.empty(size)\n",
    "\n",
    "for i in range(size):\n",
    "    successes_list[i] = perform_bernoulli_trial(100,0.5)\n",
    "successes_list"
   ]
  },
  {
   "cell_type": "markdown",
   "id": "d9e756ba-69fe-4eb3-8d1f-998384f95b8b",
   "metadata": {},
   "source": [
    "Count occurence of each number from `successes_list` using Counter and store the result in `count_occurence`"
   ]
  },
  {
   "cell_type": "code",
   "execution_count": 17,
   "id": "28c3352e-2b24-4cb4-bdcf-7d5142bfa902",
   "metadata": {},
   "outputs": [],
   "source": [
    "count_occurence = Counter(successes_list)"
   ]
  },
  {
   "cell_type": "markdown",
   "id": "07819677-62c2-4250-bb6f-018a46ee385e",
   "metadata": {},
   "source": [
    "Count the probability for each number from `count_occurence` and store the result in `probas`"
   ]
  },
  {
   "cell_type": "code",
   "execution_count": 18,
   "id": "c02b2fdb-3a42-414a-9463-2654815e26a4",
   "metadata": {},
   "outputs": [
    {
     "data": {
      "image/png": "[encoded data removed]",
      "text/plain": [
       "<Figure size 432x288 with 1 Axes>"
      ]
     },
     "metadata": {},
     "output_type": "display_data"
    }
   ],
   "source": [
    "probas = [count/size for count in count_occurence.values()]\n",
    "\n",
    "# plot distribution (PMF) of 'successes_list'\n",
    "plt.scatter(x=count_occurence.keys(), y=probas)\n",
    "plt.xlabel('number of succeess out of 100')\n",
    "plt.ylabel('probability')\n",
    "# Show the plot\n",
    "plt.show()"
   ]
  },
  {
   "cell_type": "markdown",
   "id": "03114b9f-3bf4-4043-9213-472fce6b6f4e",
   "metadata": {},
   "source": [
    "# Uniform Distribution\n",
    "When you roll a fair die, the outcomes are 1 to 6. The probabilities of getting these outcomes are equally likely and that is the basis of a uniform distribution. Unlike Bernoulli Distribution, all the n number of possible outcomes of a uniform distribution are equally likely.\n",
    "A variable X is said to be uniformly distributed if the density function is:\n",
    "```python\n",
    "fx=1b-a          for-∞ <a ≤x ≤b < ∞\n",
    "```\n",
    "You can see that the shape of the Uniform distribution curve is rectangular, the reason why it’s called rectangular distribution. For a Uniform Distribution, a and b are the parameters.\n",
    "> Example: The number of bouquets sold daily at a flower shop is uniformly distributed with a maximum of 40 and a minimum of 10. Let’s try calculating the probability that the daily sales will fall between 15 and 30.\n",
    "> \n",
    "> The probability that daily sales will fall between 15 and 30 is (30-15)*(1/(40-10)) = 0.5\n",
    "> \n",
    "> Similarly, the probability that daily sales are greater than 20 is  = 0.667\n",
    "\n",
    "The mean and variance of X following a uniform distribution is:\n",
    "* Mean\n",
    "```python \n",
    "    E(X) = (a+b)/2\n",
    "```\n",
    "* Variance\n",
    "```python\n",
    "    V(X) =  (b-a)²/12\n",
    "```\n",
    "The standard uniform density has parameters a = 0 and b = 1, so the PDF for standard uniform density is given by:\t\n",
    "```python \n",
    "    fx= {1,  0≤x≤1 0,  otherwise \n",
    "```\n",
    "\n",
    "Generate 100000 numbers from uniform distribution with parameters a = 1, b = 6"
   ]
  },
  {
   "cell_type": "code",
   "execution_count": 19,
   "id": "6d11be14-7190-4fb6-a284-49fd51dc0c5f",
   "metadata": {},
   "outputs": [],
   "source": [
    "a = 1\n",
    "b = 6\n",
    "size = 100000\n",
    "uni = np.random.uniform(a,b,size)"
   ]
  },
  {
   "cell_type": "markdown",
   "id": "426c1dc9-ec80-4df6-a139-ebebaf628798",
   "metadata": {},
   "source": [
    "Check the mean of uniform data (using NumPy)"
   ]
  },
  {
   "cell_type": "code",
   "execution_count": 20,
   "id": "17d386a1-ea68-42f8-b6a7-0a7753a86a3c",
   "metadata": {},
   "outputs": [
    {
     "data": {
      "text/plain": [
       "3.494588162786142"
      ]
     },
     "execution_count": 20,
     "metadata": {},
     "output_type": "execute_result"
    }
   ],
   "source": [
    "np.mean(uni)"
   ]
  },
  {
   "cell_type": "markdown",
   "id": "9622d9bd-b144-48d4-8161-e1e134141f67",
   "metadata": {},
   "source": [
    "# Binomial Distribution (Discrete Distribution)\n",
    "A distribution where only two outcomes are possible, such as success or failure, gain or loss, win or lose and where the probability of success and failure is same for all the trials. \n",
    "If probability of success = 0.2 then the probability of failure q = 1 – p = 0.8 (does not have to be equal)\n",
    "\n",
    "On the basis of the above explanation, the properties of a Binomial Distribution are:\n",
    "1. Each trial is independent.\n",
    "2. There are only two possible outcomes in a trial- either a success or a failure.\n",
    "3. A total number of n identical trials are conducted.\n",
    "4. The probability of success and failure is same for all trials. (Trials are identical.)\n",
    "\n",
    "<img src='images/binonial_prob.png'>\n",
    "\n",
    "Mean\n",
    "```python\n",
    "    µ = n*p\n",
    "```\n",
    "Variance\n",
    "```python\n",
    "    Var(X) = n*p*q\n",
    "```\n",
    "\n",
    "We will demonstrate binomial distribution with a coin-flipping example. Imagine we toss a fair coin (the probability of getting heads or tails is 0.5) ten times. We want to know the probability of getting four heads as an outcome. Let's simulate this process in Python."
   ]
  },
  {
   "cell_type": "code",
   "execution_count": 13,
   "id": "80c440d1-0c6c-4a7b-a57d-d52ae2791d8a",
   "metadata": {},
   "outputs": [
    {
     "data": {
      "text/plain": [
       "array([5, 5, 6, 3, 6, 7, 3, 6, 6, 7, 6, 5, 6, 4, 4, 3, 4, 3, 8, 7, 2, 5,\n",
       "       3, 5, 6, 4, 4, 4, 4, 6, 5, 5, 4, 5, 7, 3, 5, 5, 5, 5, 7, 6, 5, 4,\n",
       "       5, 4, 3, 7, 5, 5, 8, 3, 4, 6, 4, 7, 7, 6, 4, 5, 6, 4, 6, 5, 5, 7,\n",
       "       6, 4, 6, 3, 4, 5, 5, 7, 3, 6, 5, 7, 4, 8, 5, 4, 7, 6, 5, 4, 6, 3,\n",
       "       7, 7, 6, 7, 4, 6, 4, 2, 6, 5, 5, 5, 7, 2, 3, 5, 7, 6, 6, 5, 6, 5,\n",
       "       3, 7, 1, 6, 5, 6, 5, 4, 4, 3, 5, 6, 7, 5, 5, 4, 6, 5, 2, 3, 4, 3,\n",
       "       7, 4, 3, 4, 4, 6, 6, 6, 5, 2, 4, 3, 7, 4, 4, 3, 4, 3, 4, 6, 7, 3,\n",
       "       4, 4, 4, 3, 6, 8, 4, 7, 6, 6, 7, 2, 4, 4, 7, 4, 5, 7, 3, 8, 5, 3,\n",
       "       6, 3, 3, 7, 3, 3, 6, 6, 7, 5, 4, 8, 5, 4, 4, 3, 6, 6, 2, 3, 6, 4,\n",
       "       6, 6, 7, 6, 4, 5, 6, 6, 6, 5, 5, 6, 6, 4, 6, 7, 4, 6, 1, 7, 3, 5,\n",
       "       5, 5, 4, 5, 5, 7, 8, 4, 3, 7, 6, 9, 6, 4, 8, 7, 6, 4, 4, 5, 3, 4,\n",
       "       3, 5, 5, 6, 4, 4, 7, 4, 4, 2, 4, 3, 4, 2, 5, 6, 6, 3, 7, 6, 4, 4,\n",
       "       5, 4, 4, 6, 5, 4, 7, 4, 7, 6, 7, 6, 8, 4, 4, 7, 1, 6, 8, 4, 6, 5,\n",
       "       6, 5, 3, 6, 6, 4, 2, 5, 5, 6, 5, 6, 3, 4, 6, 6, 5, 6, 4, 4, 4, 4,\n",
       "       3, 4, 4, 5, 7, 6, 5, 6, 6, 2, 5, 8, 3, 4, 6, 9, 7, 5, 4, 4, 6, 6,\n",
       "       6, 7, 6, 7, 5, 5, 5, 5, 6, 2, 6, 4, 2, 7, 8, 2, 4, 4, 5, 7, 4, 2,\n",
       "       3, 6, 5, 7, 6, 3, 2, 4, 5, 4, 3, 6, 6, 5, 5, 2, 4, 7, 5, 5, 7, 5,\n",
       "       6, 6, 3, 8, 5, 2, 4, 4, 9, 3, 7, 2, 5, 5, 5, 5, 6, 5, 8, 5, 3, 8,\n",
       "       2, 6, 7, 4, 6, 5, 5, 3, 5, 5, 3, 4, 6, 8, 7, 7, 5, 6, 5, 7, 7, 7,\n",
       "       4, 3, 2, 7, 4, 4, 6, 5, 4, 6, 5, 7, 4, 6, 3, 5, 5, 6, 3, 6, 4, 0,\n",
       "       6, 6, 3, 2, 4, 5, 5, 4, 5, 6, 4, 6, 4, 5, 2, 6, 1, 3, 4, 8, 4, 8,\n",
       "       4, 2, 4, 2, 1, 4, 7, 5, 5, 2, 3, 6, 5, 7, 4, 5, 3, 4, 5, 2, 6, 6,\n",
       "       4, 4, 4, 5, 7, 5, 5, 7, 5, 6, 7, 4, 9, 6, 5, 6, 6, 5, 3, 6, 5, 5,\n",
       "       8, 5, 4, 6, 4, 5, 5, 5, 4, 9, 6, 5, 6, 4, 5, 3, 4, 6, 6, 6, 5, 7,\n",
       "       1, 6, 7, 3, 6, 3, 4, 5, 3, 3, 7, 6, 6, 5, 7, 4, 7, 5, 5, 3, 5, 6,\n",
       "       5, 8, 4, 3, 7, 5, 4, 3, 6, 1, 2, 2, 4, 8, 5, 7, 3, 5, 5, 4, 5, 5,\n",
       "       6, 4, 5, 5, 5, 7, 5, 6, 4, 4, 3, 4, 4, 5, 5, 5, 4, 7, 6, 6, 2, 6,\n",
       "       4, 5, 5, 4, 5, 3, 3, 7, 4, 5, 7, 7, 4, 7, 5, 5, 3, 2, 4, 7, 5, 2,\n",
       "       4, 4, 2, 5, 4, 4, 9, 5, 4, 5, 4, 4, 6, 5, 7, 7, 2, 3, 5, 6, 5, 6,\n",
       "       8, 5, 5, 7, 3, 5, 5, 5, 5, 6, 5, 6, 3, 2, 5, 4, 4, 6, 6, 5, 4, 5,\n",
       "       6, 4, 4, 6, 5, 7, 5, 7, 4, 5, 8, 2, 4, 4, 6, 5, 6, 6, 4, 5, 3, 5,\n",
       "       3, 8, 5, 4, 4, 5, 2, 7, 3, 5, 1, 6, 7, 4, 4, 8, 6, 2, 4, 6, 3, 5,\n",
       "       4, 5, 2, 5, 5, 5, 8, 4, 3, 3, 3, 4, 7, 8, 8, 5, 7, 3, 6, 2, 5, 6,\n",
       "       6, 4, 7, 3, 5, 4, 6, 5, 5, 7, 5, 2, 7, 6, 6, 4, 5, 6, 8, 4, 4, 6,\n",
       "       4, 6, 3, 4, 5, 4, 3, 6, 3, 8, 3, 5, 7, 4, 7, 1, 6, 4, 6, 6, 4, 7,\n",
       "       3, 7, 7, 5, 4, 4, 7, 5, 4, 5, 4, 5, 6, 4, 6, 5, 6, 5, 7, 7, 5, 6,\n",
       "       5, 9, 6, 5, 3, 4, 6, 4, 5, 5, 0, 5, 4, 7, 3, 4, 3, 8, 5, 5, 6, 4,\n",
       "       3, 6, 5, 4, 6, 4, 6, 6, 3, 5, 5, 6, 6, 6, 3, 6, 4, 5, 4, 8, 4, 7,\n",
       "       8, 7, 6, 2, 4, 6, 5, 5, 6, 7, 4, 3, 5, 5, 4, 6, 3, 5, 7, 6, 4, 6,\n",
       "       4, 4, 5, 7, 4, 6, 2, 3, 6, 4, 3, 5, 7, 7, 6, 6, 5, 5, 4, 5, 6, 4,\n",
       "       7, 5, 5, 5, 5, 4, 2, 5, 5, 5, 5, 7, 5, 8, 5, 6, 8, 5, 5, 5, 3, 6,\n",
       "       3, 5, 6, 5, 7, 4, 6, 7, 4, 6, 4, 4, 5, 3, 7, 5, 7, 5, 4, 4, 2, 4,\n",
       "       6, 5, 4, 5, 3, 8, 2, 4, 5, 6, 5, 4, 4, 6, 6, 6, 5, 3, 3, 6, 4, 6,\n",
       "       6, 5, 5, 6, 6, 5, 5, 7, 5, 5, 5, 8, 8, 5, 3, 6, 3, 4, 5, 2, 3, 7,\n",
       "       6, 3, 6, 5, 4, 6, 4, 6, 5, 4, 6, 2, 5, 6, 5, 5, 5, 3, 7, 8, 4, 5,\n",
       "       9, 5, 4, 7, 5, 4, 4, 5, 6, 2])"
      ]
     },
     "execution_count": 13,
     "metadata": {},
     "output_type": "execute_result"
    }
   ],
   "source": [
    "n = 10 # n = the number of coin tosses\n",
    "p = 0.5 # p = the probability of getting heads\n",
    "size = 1000 # size = the number of repeats \n",
    "\n",
    "samples = np.random.binomial(n, p, size)\n",
    "samples"
   ]
  },
  {
   "cell_type": "markdown",
   "id": "f45b745f-b1bf-4c12-969d-dcc72ce76a69",
   "metadata": {},
   "source": [
    "As we can see, samples is an array with the size of 1,000. Each number in the array represents how many times, out of 10 tosses, we get heads. Now we have to compute how many times each number occurs in the array."
   ]
  },
  {
   "cell_type": "code",
   "execution_count": 6,
   "id": "7dae61b0-7b1e-4fa1-8e7c-3f62312f9725",
   "metadata": {},
   "outputs": [],
   "source": [
    "# count the occurrence of each number\n",
    "head_occu_count = Counter(samples) "
   ]
  },
  {
   "cell_type": "markdown",
   "id": "b9917b6c-d892-4894-af81-cbdcd9faf6c6",
   "metadata": {},
   "source": [
    "Calculate the probabilities:"
   ]
  },
  {
   "cell_type": "code",
   "execution_count": 7,
   "id": "c4473ea4-5859-4e7e-b3f1-4826ae20bdca",
   "metadata": {},
   "outputs": [],
   "source": [
    "# calculate the probabilities as the number of occurences / size\n",
    "head_proba = [val/size for val in head_occu_count.values()]"
   ]
  },
  {
   "cell_type": "markdown",
   "id": "e0a084ab-92da-400b-a58a-57e348be3a36",
   "metadata": {},
   "source": [
    "Plot the distribution:"
   ]
  },
  {
   "cell_type": "code",
   "execution_count": 8,
   "id": "3f28d863-5ce8-4a42-bbf6-5066575f293e",
   "metadata": {},
   "outputs": [
    {
     "data": {
      "image/png": "[encoded data removed]",
      "text/plain": [
       "<Figure size 432x288 with 1 Axes>"
      ]
     },
     "metadata": {},
     "output_type": "display_data"
    }
   ],
   "source": [
    "plt.scatter(x=head_occu_count.keys(), y=head_proba)\n",
    "plt.xlabel('number of heads out of 10 tosses')\n",
    "plt.ylabel('probability')\n",
    "\n",
    "# show the plot\n",
    "plt.show()"
   ]
  },
  {
   "cell_type": "markdown",
   "id": "6c671058-8b79-4306-9ed2-7affc3295fe6",
   "metadata": {},
   "source": [
    "From the distribution, we can see that the probability of having four heads out of ten trials is around 0.2."
   ]
  },
  {
   "cell_type": "markdown",
   "id": "09643fa1-7ea0-457f-8773-d2e9bd6e23cd",
   "metadata": {},
   "source": [
    "# Normal Distribution (Continuous Distribution)\n",
    "Normal distribution represents the behavior of most of the situations in the universe (That is why it’s called a “normal” distribution. I guess!). The large sum of (small) random variables often turns out to be normally distributed, contributing to its widespread application. Any distribution is known as Normal distribution if it has the following characteristics:\n",
    "1. The mean, median and mode of the distribution coincide.\n",
    "2. The curve of the distribution is bell-shaped and symmetrical about the line x=μ.\n",
    "3. The total area under the curve is 1.\n",
    "4. Exactly half of the values are to the left of the center and the other half to the right.\n",
    "\n",
    "The PDF of a random variable X following a normal distribution is given by:\n",
    "```python\n",
    "    fx= 12πe{-1 2 (x-μ)2}           for-∞<x<∞\n",
    "```\n",
    "\n",
    "Mean\n",
    "```python\n",
    "    E(X) = µ\n",
    "```\n",
    "Variance\n",
    "```python\n",
    "Var(X) = σ2\t\t\n",
    "```\n",
    "Here, `µ (mean)` and `σ (standard deviation)` are the parameters.\n",
    "\n",
    "A standard normal distribution is defined as the distribution with mean 0 and standard deviation 1. For such a case, the PDF becomes:\n",
    "```python\n",
    "fx= 12πe-x2/2           for-∞<x<∞\n",
    "```\n",
    "\n",
    "Normal distribution with the mean and variance parameters is a continous probability distribution. A normal distribution, also known as a Gaussian distribution, is a probability distribution that is symmetric around the mean, showing that data near the mean are more frequent in occurrence than data far from the mean. In a graph, the normal distribution will appear as a bell curve.\n",
    "\n",
    "Let's generate normally distributed data with `Numpy`:"
   ]
  },
  {
   "cell_type": "code",
   "execution_count": 9,
   "id": "b37e1bb2-3961-447c-8e0f-2e1ad215fa91",
   "metadata": {},
   "outputs": [],
   "source": [
    "# loc = mean (“a centre”) of the distribution.\n",
    "# scale = standard deviation (a spread or “a width”) of the distribution.\n",
    "\n",
    "samples = np.random.normal(loc=0, scale=1, size = 1000000)"
   ]
  },
  {
   "cell_type": "markdown",
   "id": "02f59b60-1c2b-4b0e-811e-f38594eb743c",
   "metadata": {},
   "source": [
    "`np.random.normal()` takes mean and standard deviation as input parameters. In the example above, we've generated a normal distribution with mean = 0 and std = 1. \n",
    "\n",
    "Let's plot the distribution, i.e. the probability density function:"
   ]
  },
  {
   "cell_type": "code",
   "execution_count": 10,
   "id": "1845ddb1-373b-4f26-ba1c-51164768d1e4",
   "metadata": {},
   "outputs": [
    {
     "data": {
      "image/png": "[encoded data removed]",
      "text/plain": [
       "<Figure size 432x288 with 1 Axes>"
      ]
     },
     "metadata": {},
     "output_type": "display_data"
    }
   ],
   "source": [
    "plt.hist(samples, density=True, histtype=\"step\", bins=100)\n",
    "\n",
    "# show the plot\n",
    "plt.show()"
   ]
  },
  {
   "cell_type": "markdown",
   "id": "c6385665-2869-475c-be6b-c344ce31c4a4",
   "metadata": {},
   "source": [
    "For a continuous random variable, the probability density function provides the height, or value, of the function for any particular value of x. It does not directly give us the probability of the random variable taking on a specific value. However, the area under the graph corresponding to a certain interval provides the probability that the variable will take on a value within that interval.\n",
    "\n",
    "The probability that we take a number smaller than zero from our sample array from the previous example equals to 0.5 (because the area under the PDF from minus infinity to zero is 0.5).\n",
    "\n",
    "But how does our PDF change with different parameters of the normal distribution?\n",
    "\n",
    "Let's try a couple of options and plot the results. In the first example, we will change the values of std parameter."
   ]
  },
  {
   "cell_type": "code",
   "execution_count": 11,
   "id": "f00abdc8-138e-4f9d-89fd-295c1ec34a6a",
   "metadata": {},
   "outputs": [
    {
     "data": {
      "image/png": "[encoded data removed]",
      "text/plain": [
       "<Figure size 432x288 with 1 Axes>"
      ]
     },
     "metadata": {},
     "output_type": "display_data"
    }
   ],
   "source": [
    "samples_std1 = np.random.normal(20, 1, size=100000)\n",
    "samples_std3 = np.random.normal(20, 3, size=100000)\n",
    "samples_std10 = np.random.normal(20, 10, size=100000)\n",
    "\n",
    "# make histograms\n",
    "plt.hist(samples_std1, density = True, histtype=\"step\", bins=100)\n",
    "plt.hist(samples_std3, density = True, histtype=\"step\", bins=100)\n",
    "plt.hist(samples_std10, density = True, histtype=\"step\", bins=100)\n",
    "\n",
    "# make a legend, set limits, and show the plot\n",
    "plt.legend(('std = 1', 'std = 3', 'std = 10'))\n",
    "plt.ylim(-0.01, 0.42)\n",
    "plt.show()"
   ]
  },
  {
   "cell_type": "markdown",
   "id": "f57d371e-a03a-45a2-9a99-327416a91db9",
   "metadata": {},
   "source": [
    "As we can see from the PDFs, the higher the `std` value is, the more spread out the distribution.\n",
    "\n",
    "But what will happen when we change the values of the `mean` parameter?"
   ]
  },
  {
   "cell_type": "code",
   "execution_count": 12,
   "id": "f86b10e3-2c3e-476b-b2e5-e1d792fcc5c5",
   "metadata": {},
   "outputs": [
    {
     "data": {
      "image/png": "[encoded data removed]",
      "text/plain": [
       "<Figure size 432x288 with 1 Axes>"
      ]
     },
     "metadata": {},
     "output_type": "display_data"
    }
   ],
   "source": [
    "samples_std1 = np.random.normal(10, 3, size=100000)\n",
    "samples_std3 = np.random.normal(20, 3, size=100000)\n",
    "samples_std10 = np.random.normal(30, 3, size=100000)\n",
    "\n",
    "# make histograms\n",
    "plt.hist(samples_std1, density = True, histtype=\"step\", bins=100)\n",
    "plt.hist(samples_std3, density = True, histtype=\"step\", bins=100)\n",
    "plt.hist(samples_std10, density = True, histtype=\"step\", bins=100)\n",
    "\n",
    "# make a legend, set limits, and show the plot\n",
    "plt.legend(('mean = 10', 'mean = 20', 'mean = 30'))\n",
    "plt.ylim(-0.01, 0.42)\n",
    "plt.show()"
   ]
  },
  {
   "cell_type": "markdown",
   "id": "6c0c857f-eb42-4e1a-890a-c9f053c15db0",
   "metadata": {},
   "source": [
    "In this case, the width of our distributions did not change but the distributions shifted along the x-axis."
   ]
  },
  {
   "cell_type": "markdown",
   "id": "51ee3fa4-14fb-4649-b849-6c7768c64993",
   "metadata": {},
   "source": [
    "# Poisson Distribution\n",
    "Poisson Distribution is applicable in situations where events occur at random points of time and space wherein our interest lies only in the number of occurrences of the event.\n",
    "- Any successful event should not influence the outcome of another successful event.\n",
    "- The probability of success over a short interval must equal the probability of success over a longer interval.\n",
    "- The probability of success in an interval approaches zero as the interval becomes smaller.\n",
    "\n",
    "Now, if any distribution validates the above assumptions then it is a Poisson distribution. Some notations used in Poisson distribution are:\n",
    "- λ is the rate at which an event occurs,\n",
    "- t is the length of a time interval,\n",
    "- And X is the number of events in that time interval.\n",
    "\n",
    "Here, X is called a Poisson Random Variable and the probability distribution of X is called Poisson distribution. Let µ denote the mean number of events in an interval of length t. Then, µ = λ*t.\n",
    "\n",
    "The PMF of X following a Poisson distribution is given by:\n",
    "```python\n",
    "    PX=x= e-uxx!         for x=0, 1, 2,...\n",
    "```\n",
    "Mean\n",
    "```python\n",
    "E(X) = µ\n",
    "```\n",
    "Variance\n",
    "```python\n",
    "Var(X) = µ\n",
    "```"
   ]
  },
  {
   "cell_type": "code",
   "execution_count": null,
   "id": "0489fa5f-5d92-487b-b06c-8441f2b3c6fb",
   "metadata": {},
   "outputs": [],
   "source": []
  },
  {
   "cell_type": "code",
   "execution_count": null,
   "id": "d1252015-6d57-49ab-b4e4-1c0126161525",
   "metadata": {},
   "outputs": [],
   "source": []
  },
  {
   "cell_type": "markdown",
   "id": "1679bdb9-2df2-4151-a7b2-d15f89c94a6e",
   "metadata": {},
   "source": [
    "# Exponential Distribution\n",
    "Exponential distribution is widely used for survival analysis. From the expected life of a machine to the expected life of a human, exponential distribution successfully delivers the result.\n",
    "A random variable X is said to have an exponential distribution with PDF:\n",
    "fx= {e-λx, x≥0\n",
    "and parameter λ>0 which is also called the rate. For survival analysis, λ is called the failure rate of a device at any time t, given that it has survived up to t.\n",
    "Mean\n",
    "```python\n",
    "    E(X) = 1/λ\n",
    "```\n",
    "Variance\n",
    "```python\n",
    "    Var(X) = (1/λ)²\n",
    "```\n",
    "Also, the greater the rate, the faster the curve drops and the lower the rate, flatter the curve. \n",
    "\n",
    "Generate 100000 numbers from exponential distribution with parameter beta = 0.5"
   ]
  },
  {
   "cell_type": "code",
   "execution_count": 21,
   "id": "9e5a529d-267c-4f76-9a93-29db6933ef1c",
   "metadata": {},
   "outputs": [
    {
     "data": {
      "text/plain": [
       "array([0.11360601, 1.15513275, 2.69339629, ..., 0.02792871, 0.67960429,\n",
       "       0.15397291])"
      ]
     },
     "execution_count": 21,
     "metadata": {},
     "output_type": "execute_result"
    }
   ],
   "source": [
    "b = 0.5\n",
    "size = 100000\n",
    "exp = np.random.exponential(b,size)\n",
    "exp"
   ]
  },
  {
   "cell_type": "markdown",
   "id": "1140f8f5-f522-43ad-890d-006280202afd",
   "metadata": {},
   "source": [
    "Plot histogram of exponential distribution with params density=True, bins=100"
   ]
  },
  {
   "cell_type": "code",
   "execution_count": 22,
   "id": "077a0fa7-fa10-4e66-ba4d-53f2a914e6ce",
   "metadata": {},
   "outputs": [
    {
     "data": {
      "image/png": "[encoded data removed]",
      "text/plain": [
       "<Figure size 432x288 with 1 Axes>"
      ]
     },
     "metadata": {},
     "output_type": "display_data"
    }
   ],
   "source": [
    "plt.hist(exp,bins=100,density=True)\n",
    "plt.show()"
   ]
  },
  {
   "cell_type": "markdown",
   "id": "41be806f-63ab-466f-8390-0115131f4de8",
   "metadata": {},
   "source": [
    "Check the mean of exponential data"
   ]
  },
  {
   "cell_type": "code",
   "execution_count": 23,
   "id": "01410579-657d-4ce6-88cf-70d54db97c7e",
   "metadata": {},
   "outputs": [
    {
     "data": {
      "text/plain": [
       "0.5001434180211074"
      ]
     },
     "execution_count": 23,
     "metadata": {},
     "output_type": "execute_result"
    }
   ],
   "source": [
    "np.mean(exp)"
   ]
  }
 ],
 "metadata": {
  "kernelspec": {
   "display_name": "Python 3",
   "language": "python",
   "name": "python3"
  },
  "language_info": {
   "codemirror_mode": {
    "name": "ipython",
    "version": 3
   },
   "file_extension": ".py",
   "mimetype": "text/x-python",
   "name": "python",
   "nbconvert_exporter": "python",
   "pygments_lexer": "ipython3",
   "version": "3.8.10"
  }
 },
 "nbformat": 4,
 "nbformat_minor": 5
}
