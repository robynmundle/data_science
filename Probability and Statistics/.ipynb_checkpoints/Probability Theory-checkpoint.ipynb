{
 "cells": [
  {
   "cell_type": "markdown",
   "id": "1f16ed41-25c5-49c5-960b-d07a4b415a33",
   "metadata": {},
   "source": [
    "# Probability Theory\n",
    "Probability theory is a branch of mathematics concerned with probability. Although there are several different probability interpretations, probability theory treats the concept in a rigorous mathematical manner by expressing it through a set of axioms.\n",
    "\n",
    "Probability is a ratio of the number of probabilities that meet the given condition to the number of equally likely possibilities (i.e. P(heads on coin toss) = 1 chance of heads / 2 options (heads or tails) = ½. In probability theory, an event is a set of outcomes of an experiment to which a probability is assigned. If E represents an event, then P(E) represents the probability that E will occur. A situation where E might happen (success) or might not happen (failure) is called a trial. This event can be anything like tossing a coin, rolling a die or pulling a colored ball out of a bag. In these examples the outcome of the event is random, so the variable that represents the outcome of these events is called a random variable.\n",
    "- The **empirical probability** of an event is given by number of times the event occurs divided by the total number of incidents observed. If forntrials and we observe ssuccesses, the probability of success is s/n. In the above example. any sequence of coin tosses may have more or less than exactly 50% heads.\n",
    "- **Theoretical probability** on the other hand is given by the number of ways the particular event can occur divided by the total number of possible outcomes. So a head can occur once and possible outcomes are two (head, tail). The true (theoretical) probability of a head is 1/2.\n",
    "- **Joint Probability** is the probability of events A and B denoted by P(A and B) or P(A ∩ B) is the probability that events A and B both occur. P(A ∩ B) = P(A). P(B) . This only applies if Aand B are independent, which means that if A occurred, that doesn’t change the probability of B, vice versa. The probability of the intersection of A and B may be written P(A ∩ B). *Example: What is the probability that a drawn card is a red four? There are two red fours in a deck of 52, the 4 of hearts and the 4 of diamonds, therefore P(four and red) = 2/52=1/26.*\n",
    "- **Conditional Probability** suggests A and B are not independent, because if A occurred, the probability of B is higher. When A and B are not independent, it is often useful to compute the conditional probabiliuty, P(A|B), which is the probability of A given that B occurred: \n",
    "    - P(A|B) = P(A ∩ B)/ P(B) or similarly,  P(B|A) = P(A ∩ B)/ P(A) . We can write the joint probability of as A and B as P(A ∩ B)= p(A).P(B|A), which means : *“The chance of both things happening is the chance that the first one happens, and then the second one given the first happened.”*\n",
    "    - https://youtu.be/bgCMjHzXTXs\n",
    "    - https://youtu.be/ES9HFNDu4Bs\n",
    "    - https://mithunmanohar.medium.com/machine-learning-101-what-the-is-a-conditional-probability-f0f9a9ec6cda\n",
    "    - https://seeing-theory.brown.edu/basic-probability/index.html#section1\n",
    "- **Marginal Probability** is the probability of an event occurring P(A) . We can think of it as an unconditional probability. It is not conditioned by another event. *Example: The probability that a drawn card is red P(red) = 0.5.*\n",
    "\n",
    "## Probability Distribution\n",
    "Probability distributions describe the dispersion of the values of a random variable. Consequently, the kind of variable determines the type of probability distribution. For a single random variable, statisticians divide distributions into the following two types:\n",
    "- Probability mass functions for discrete variables (PMF)\n",
    "- Probability density functions for continuous variables (PDF)\n",
    "\n",
    "## Data Types\n",
    "- Discrete data can take only specified values i.e. roll of a dice is 1, 2, 3, 4, 5, or 6 not 1.5\n",
    "- Continuous data can take any value within a given range, finite or infinite i.e. a person’s height/weight\n",
    "\n",
    "Online Resources:\n",
    "* https://towardsdatascience.com/machine-learning-probability-statistics-f830f8c09326\n",
    "* https://youtu.be/uzkc-qNVoOk\n",
    "\n",
    "## Bayes Theorem\n",
    "A relationship between the conditional probabilities of two events. For example: selling ice cream on a hot sunny day, BT uses prior knowledge of likelihood selling on other days (rainy, windy, snowy, etc.)\t\n",
    "\n",
    "<img src='images/bayes.png'>\n",
    "\n",
    "* where H and E are events, P(H|E) is the conditional probability that event H occurs given E occurred\n",
    "* Probability P(H) is basically frequency analysis; given our prior data what is the probability of it occurring\n",
    "* P(E|H) is called the likelihood, the probability that the evidence is correct, given info from freq. analysis.\n",
    "* P(E) is the probability that the actual evidence is true.\n",
    "\n",
    "In example: H represents event selling ice cream. E is the event of weather. P(H) is the marginal probability of prior sales of ice cream regardless of weather.\n",
    "\n",
    "Online Resources:\n",
    "* https://www.mathsisfun.com/data/bayes-theorem.html\n",
    "* https://youtu.be/HZGCoVF3YvM\n",
    "\n",
    "## Exercise 1\n",
    "In Orange County, 51% of the adults are males. (It doesn't take too much advanced\n",
    "mathematics to deduce that the other 49% are females.) One adult is randomly selected\n",
    "for a survey involving credit card usage.\n",
    "\n",
    "- **(a)** Find the probability that the selected person is a male.\n",
    "\n",
    "- **(b)** It is later learned that the selected survey subject was smoking a cigar. Also, 9.5% of males smoke cigars, whereas 1.7% of females smoke cigars (based on data from the Substance Abuse and Mental Health Services Administration). Use this additional information to find the probability that the cigar−smoking respondent is a male\n",
    "\n",
    "Use following notation:\n",
    "M = male <br>\n",
    "F = female <br>\n",
    "C = cigar smoker<br>\n",
    "NC = not a cigar smoker<br>"
   ]
  },
  {
   "cell_type": "code",
   "execution_count": 1,
   "id": "6b93f32b-3ca4-4837-acbd-2904dc65f19f",
   "metadata": {},
   "outputs": [],
   "source": [
    "import numpy as np\n",
    "#resident count of Orange County\n",
    "OC = 100000\n",
    "\n",
    "# list probability variables\n",
    "p_M = 0.51\n",
    "p_F = 0.49\n",
    "p_M_C = 0.095\n",
    "p_M_NC = 0.905\n",
    "p_F_C = 0.017\n",
    "p_F_NC = 0.983\n",
    "\n",
    "M = 0\n",
    "F = 0\n",
    "M_C = 0\n",
    "M_NC = 0"
   ]
  },
  {
   "cell_type": "code",
   "execution_count": 2,
   "id": "4a79b74d-438c-456d-98df-cdded34877b5",
   "metadata": {},
   "outputs": [
    {
     "name": "stdout",
     "output_type": "stream",
     "text": [
      "Out of 100000 residents, probability that selected adult is male: 51.054%\n"
     ]
    }
   ],
   "source": [
    "# problem a, solve for p of selected person = male\n",
    "for _ in range(OC):\n",
    "    if np.random.random() < p_M:\n",
    "        M += 1\n",
    "    else:\n",
    "        F += 1\n",
    "        \n",
    "sel_M = M / OC * 100\n",
    "print(f'Out of {OC} residents, probability that selected adult is male: {sel_M}%')"
   ]
  },
  {
   "cell_type": "code",
   "execution_count": 3,
   "id": "0c399edc-c1d0-471c-af40-d231f149a324",
   "metadata": {},
   "outputs": [
    {
     "name": "stdout",
     "output_type": "stream",
     "text": [
      "Probability that selected male is also cigar smoker: 9.621185411525051%\n"
     ]
    }
   ],
   "source": [
    "# problem b, selected person is male AND cigar smoker\n",
    "# first attempt: use already M males determined from #a to see if they smoke cigars C\n",
    "# additional solve option: check for male/female and smoker/non for both genders altogether without using #a\n",
    "\n",
    "for _ in range(M):\n",
    "    if np.random.random() < p_M_C:\n",
    "        M_C += 1\n",
    "    else:\n",
    "        M_NC += 1\n",
    "\n",
    "sel_M_C = M_C / M * 100\n",
    "print(f'Probability that selected male is also cigar smoker: {sel_M_C}%')"
   ]
  },
  {
   "cell_type": "markdown",
   "id": "7189f9b3-7e6f-48e0-8865-a0f6c3c88c32",
   "metadata": {},
   "source": [
    "# Exercise 2\n",
    "\n",
    "A diagnostic test has a probability 0.95 of giving a positive result when applied to a person suffering\n",
    "from a certain disease, and a probability 0.10 of giving a (false) positive when applied to a non-sufferer. It is\n",
    "estimated that 0.5 % of the population are sufferers. Suppose that the test is now administered to a person about\n",
    "whom we have no relevant information relating to the disease (apart from the fact that he/she comes from this\n",
    "population). \n",
    "\n",
    "Calculate the following probabilities:\n",
    "- **(a)** that the test result will be positive;\n",
    "- **(b)** that, given a positive result, the person is a sufferer;\n",
    "- **(c)** that, given a negative result, the person is a non-sufferer;\n",
    "- **(d)** that the person will be misclassified.\n",
    "\n",
    "Use following notation:\n",
    "\n",
    "T = test positive <br>\n",
    "NT = test negative<br>\n",
    "S = sufferer<br>\n",
    "NS = non-sufferer<br>\n",
    "M = misclassified<br>\n",
    "\n",
    "Solve it by two approaches:\n",
    "1. Arithmetically\n",
    "2. By simulation"
   ]
  },
  {
   "cell_type": "code",
   "execution_count": 4,
   "id": "8b2ebfda-1ca6-49d6-acb4-bd462ae519e6",
   "metadata": {},
   "outputs": [
    {
     "name": "stdout",
     "output_type": "stream",
     "text": [
      "Results from arithmetic calculations:\n",
      "Test result is positive: 10.425%\n",
      "Of positive test result, person is sufferer: 4.5563549160671455%\n",
      "Of negative test result, person is non-sufferer: 99.97209042701647%\n",
      "Chance person is misclassified: 0.09975%\n"
     ]
    }
   ],
   "source": [
    "# arithmetically\n",
    "print('Results from arithmetic calculations:')\n",
    "pT = 0.95\n",
    "pNT = 0.05\n",
    "pM = 0.10\n",
    "pS = 0.005\n",
    "pNS = 0.995\n",
    "\n",
    "# P(S|T) = P(S) * P(T|S) / P(T)\n",
    "#P(S) = 0.5% = 0.005\n",
    "#P(T|S) = 0.5% * 95% = 47.5% = 0.475\n",
    "#P(NS) = 99.5% = 0.995\n",
    "#P(T|NS) = M = 10% = 0.100\n",
    "\n",
    "# test is positive\n",
    "a1 = ((pS*pT) + (pNS*pM)) * 100\n",
    "print(f'Test result is positive: {a1}%')\n",
    "\n",
    "# given positive, person is sufferer P(S|T)\n",
    "b1 = (pS*pT) / ((pS*pT) + (pNS*pM)) * 100\n",
    "print(f'Of positive test result, person is sufferer: {b1}%')\n",
    "\n",
    "# given negative, person is non-sufferer\n",
    "c1 = (pNS * (1-pM)) / ((pNS*(1-pM)) + (pS*pNT))  * 100\n",
    "print(f'Of negative test result, person is non-sufferer: {c1}%')\n",
    "\n",
    "# person misclassified\n",
    "d1 = ((pNS*pM) + (pS*pNT)) # out of 100% of cases * 100% so cancels out\n",
    "print(f'Chance person is misclassified: {d1}%')"
   ]
  },
  {
   "cell_type": "code",
   "execution_count": 5,
   "id": "4114cbfd-f8a4-499b-be05-a9923ac66c14",
   "metadata": {},
   "outputs": [
    {
     "name": "stdout",
     "output_type": "stream",
     "text": [
      "Results from simulation calculations:\n",
      "Test result is positive: 10.397%\n",
      "Of positive test result, person is sufferer: 4.424353178801578%\n",
      "Of negative test result, person is non-sufferer: 99.97321518252737%\n",
      "Chance person is misclassified: 0.09960999999999999%\n"
     ]
    }
   ],
   "source": [
    "# simulation\n",
    "print('Results from simulation calculations:')\n",
    "T = 0\n",
    "NT = 0\n",
    "S = 0\n",
    "NS = 0\n",
    "S_T = 0\n",
    "S_NT = 0\n",
    "NS_T = 0\n",
    "NS_NT = 0\n",
    "pop = 100000 # simulation test runs\n",
    "\n",
    "for _ in range(pop):\n",
    "    \n",
    "    # person is sufferer\n",
    "    if np.random.random() < pS:\n",
    "        S += 1\n",
    "        \n",
    "        #result of testing\n",
    "        if np.random.random() < pT:\n",
    "            S_T += 1\n",
    "            T += 1\n",
    "        else:\n",
    "            S_NT += 1\n",
    "            NT += 1\n",
    "            \n",
    "    # person not sufferer\n",
    "    else:\n",
    "        NS += 1\n",
    "        \n",
    "        #result of testing\n",
    "        if np.random.random() < pM:\n",
    "            NS_T += 1\n",
    "            T += 1\n",
    "        else:\n",
    "            NS_NT += 1\n",
    "            NT += 1\n",
    "\n",
    "p_S = S / pop * 100 # P(S)\n",
    "p_T_S = S_T / pop * 100 # P(S|T)\n",
    "p_NT_S = S_NT / pop *100 # P(S|NT)\n",
    "\n",
    "p_NS = NS / pop * 100 # P(NS)\n",
    "p_T_NS = NS_T / pop * 100 # P(NS|T)\n",
    "p_NT_NS = NS_NT / pop * 100 # P(NS|NT)\n",
    "\n",
    "p_T = T / pop * 100 # P(T)\n",
    "p_NT = NT / pop * 100 # P(NT)\n",
    "\n",
    "# test is positive\n",
    "a2 = p_T\n",
    "print(f'Test result is positive: {a2}%')\n",
    "\n",
    "# given positive, person is sufferer P(S|T)\n",
    "b2 = (p_T_S)/((p_T_S)+(p_T_NS))*100\n",
    "print(f'Of positive test result, person is sufferer: {b2}%')\n",
    "\n",
    "# given negative, person is non-sufferer\n",
    "c2 = p_NT_NS/(p_NT_NS+p_NT_S) * 100\n",
    "print(f'Of negative test result, person is non-sufferer: {c2}%')\n",
    "\n",
    "# person misclassified\n",
    "d2 = (p_T_NS + p_NT_S)/100\n",
    "print(f'Chance person is misclassified: {d2}%')"
   ]
  },
  {
   "cell_type": "code",
   "execution_count": 6,
   "id": "e220c783-72ab-4142-9dd2-fea08df990ea",
   "metadata": {},
   "outputs": [
    {
     "name": "stdout",
     "output_type": "stream",
     "text": [
      "TOTAL SUMMARY COMPARISON\n",
      "\n",
      "Results from arithmetic calculations:\n",
      "Test result is positive: 10.425%\n",
      "Of positive test result, person is sufferer: 4.5563549160671455%\n",
      "Of negative test result, person is non-sufferer: 99.97209042701647%\n",
      "Chance person is misclassified: 0.09975%\n",
      "\n",
      "Results from simulation calculations:\n",
      "Test result is positive: 10.397%\n",
      "Of positive test result, person is sufferer: 4.424353178801578%\n",
      "Of negative test result, person is non-sufferer: 99.97321518252737%\n",
      "Chance person is misclassified: 0.09960999999999999%\n"
     ]
    }
   ],
   "source": [
    "print('TOTAL SUMMARY COMPARISON\\n')\n",
    "print('Results from arithmetic calculations:')\n",
    "print(f'Test result is positive: {a1}%')\n",
    "print(f'Of positive test result, person is sufferer: {b1}%')\n",
    "print(f'Of negative test result, person is non-sufferer: {c1}%')\n",
    "print(f'Chance person is misclassified: {d1}%')\n",
    "print('\\nResults from simulation calculations:')\n",
    "print(f'Test result is positive: {a2}%')\n",
    "print(f'Of positive test result, person is sufferer: {b2}%')\n",
    "print(f'Of negative test result, person is non-sufferer: {c2}%')\n",
    "print(f'Chance person is misclassified: {d2}%')"
   ]
  }
 ],
 "metadata": {
  "kernelspec": {
   "display_name": "Python 3",
   "language": "python",
   "name": "python3"
  },
  "language_info": {
   "codemirror_mode": {
    "name": "ipython",
    "version": 3
   },
   "file_extension": ".py",
   "mimetype": "text/x-python",
   "name": "python",
   "nbconvert_exporter": "python",
   "pygments_lexer": "ipython3",
   "version": "3.8.10"
  }
 },
 "nbformat": 4,
 "nbformat_minor": 5
}
