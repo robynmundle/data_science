{
 "cells": [
  {
   "cell_type": "markdown",
   "id": "f792ac65-aa88-4bf7-9c0d-069d0b6cbd71",
   "metadata": {},
   "source": [
    "# XML (Extensible Markup Language)\n",
    "The XML standard is a flexible way to create information formats and electronically share structured data.\n",
    "* XML is short for Extensible Markup Language and is used to describe data. \n",
    "* XML is a markup language much like HTML\n",
    "* XML was designed to store and transport data\n",
    "* XML was designed to be self-descriptive\n",
    "* XML is a W3C Recommendation\n",
    "\n",
    "Even though it is slowly being replaced by JSON, it is one of the fundamental data formats and it's crucial to learn about it.\n",
    "\n",
    "Online Resources:\n",
    "* https://www.w3schools.com/xml/xml_whatis.asp\n",
    "* https://docs.python.org/3/library/xml.etree.elementtree.html\n",
    "\n",
    "An example of XML:\n",
    "\n",
    "<img src='images/XML.png'>"
   ]
  },
  {
   "cell_type": "markdown",
   "id": "7aeca85a-8754-4de9-8ff2-e1ddfbc6c878",
   "metadata": {},
   "source": [
    "# XML Tutorial\n",
    "Everything about XML in Python is done with package `xml`. Let's import it at the beginning of the notebook."
   ]
  },
  {
   "cell_type": "code",
   "execution_count": 1,
   "id": "3dce48c0-4bfc-4cb1-901c-5e9a917ce88d",
   "metadata": {},
   "outputs": [],
   "source": [
    "import xml.etree.ElementTree as ET"
   ]
  },
  {
   "cell_type": "markdown",
   "id": "099a17db-e318-40a5-9620-41ca9683c66e",
   "metadata": {},
   "source": [
    "Let's load and parse the data into Python.\n",
    "\n",
    "We can see that object `tree` has a special type."
   ]
  },
  {
   "cell_type": "code",
   "execution_count": 2,
   "id": "ca06033f-9527-4955-a682-c0fb9497e419",
   "metadata": {},
   "outputs": [
    {
     "name": "stdout",
     "output_type": "stream",
     "text": [
      "<class 'xml.etree.ElementTree.ElementTree'>\n"
     ]
    }
   ],
   "source": [
    "tree = ET.parse('data/data.xml')\n",
    "print(type(tree))"
   ]
  },
  {
   "cell_type": "markdown",
   "id": "7a19aefb-02b2-4dab-a5b4-76203a9ceb46",
   "metadata": {},
   "source": [
    "To get the main (`root`) tag of the file, we can call function `getroot()`"
   ]
  },
  {
   "cell_type": "code",
   "execution_count": 3,
   "id": "59c01f8e-5bfb-4188-9567-057dbcc4b6c7",
   "metadata": {},
   "outputs": [
    {
     "data": {
      "text/plain": [
       "<Element 'data' at 0x0000016252D0F900>"
      ]
     },
     "execution_count": 3,
     "metadata": {},
     "output_type": "execute_result"
    }
   ],
   "source": [
    "root = tree.getroot()\n",
    "root"
   ]
  },
  {
   "cell_type": "markdown",
   "id": "c0d5e856-ea93-4c42-a3af-ba067b25cd4c",
   "metadata": {},
   "source": [
    "Now, `root` represents the top element of the file. We can check its `tag` and `attributes`"
   ]
  },
  {
   "cell_type": "code",
   "execution_count": 4,
   "id": "c4daae01-ec3a-448f-8e0b-31973c17d6bd",
   "metadata": {},
   "outputs": [
    {
     "name": "stdout",
     "output_type": "stream",
     "text": [
      "data\n",
      "{}\n",
      "3\n"
     ]
    }
   ],
   "source": [
    "print(root.tag)\n",
    "print(root.attrib)\n",
    "print(len(root))"
   ]
  },
  {
   "cell_type": "markdown",
   "id": "f34423cf-5953-4ada-b66e-78d926328394",
   "metadata": {},
   "source": [
    "We can see that the length of this element is 3. This means that it has 3 children. We can access these children the same way as elements in a `list`."
   ]
  },
  {
   "cell_type": "code",
   "execution_count": 5,
   "id": "d7ac8347-10fb-4828-8162-cfc6b0ef9acb",
   "metadata": {},
   "outputs": [
    {
     "name": "stdout",
     "output_type": "stream",
     "text": [
      "rank\n",
      "1\n",
      "{'name': 'Switzerland', 'direction': 'W'}\n"
     ]
    }
   ],
   "source": [
    "# First child of the root\n",
    "country1 = root[0]\n",
    "# First child of the child\n",
    "rank = country1[0]\n",
    "# What is the tag of the grandchild\n",
    "print(rank.tag)\n",
    "# What is the text inside this grandchild\n",
    "print(rank.text)\n",
    "# What are the attributes of last element?\n",
    "print(country1[4].attrib)"
   ]
  },
  {
   "cell_type": "markdown",
   "id": "9f0dfebf-f16e-4d14-9cea-76aed3dce517",
   "metadata": {},
   "source": [
    "To extract the information from all children we need to iterate through the file. We have a couple of options."
   ]
  },
  {
   "cell_type": "code",
   "execution_count": 6,
   "id": "ff2d8489-a938-4e36-9e3a-204ad2697593",
   "metadata": {},
   "outputs": [
    {
     "name": "stdout",
     "output_type": "stream",
     "text": [
      "Liechtenstein 1\n",
      "Singapore 4\n",
      "Panama 68\n"
     ]
    }
   ],
   "source": [
    "# Find all child with tag country\n",
    "for country in root.findall('country'):\n",
    "    # rank is child of the country\n",
    "    rank = country.find('rank').text\n",
    "    # name is attribute of the country\n",
    "    name = country.get('name')\n",
    "    print(name, rank)"
   ]
  },
  {
   "cell_type": "markdown",
   "id": "b8471de0-d305-4334-a7cd-c094281a07d5",
   "metadata": {},
   "source": [
    "We can also look for grandchildren directly if we know their tag:"
   ]
  },
  {
   "cell_type": "code",
   "execution_count": 7,
   "id": "b2b24302-50fe-473c-98e6-086f5a233cd8",
   "metadata": {},
   "outputs": [
    {
     "name": "stdout",
     "output_type": "stream",
     "text": [
      "{'name': 'Austria', 'direction': 'E'}\n",
      "{'name': 'Switzerland', 'direction': 'W'}\n",
      "{'name': 'Malaysia', 'direction': 'N'}\n",
      "{'name': 'Costa Rica', 'direction': 'W'}\n",
      "{'name': 'Colombia', 'direction': 'E'}\n"
     ]
    }
   ],
   "source": [
    "for neighbor in root.iter('neighbor'):\n",
    "    print(neighbor.attrib)"
   ]
  },
  {
   "cell_type": "markdown",
   "id": "f25d41fa-1990-45b4-a1b7-520b6983ba3c",
   "metadata": {},
   "source": [
    "Here are some tips and tricks on how to work with `root.findall()`:"
   ]
  },
  {
   "cell_type": "code",
   "execution_count": 8,
   "id": "d6a828f0-a914-4626-bdd1-b013c1003237",
   "metadata": {},
   "outputs": [
    {
     "data": {
      "text/plain": [
       "[<Element 'neighbor' at 0x0000016252D0FAE0>,\n",
       " <Element 'neighbor' at 0x0000016252D0FE50>]"
      ]
     },
     "execution_count": 8,
     "metadata": {},
     "output_type": "execute_result"
    }
   ],
   "source": [
    "# Top-level elements\n",
    "root.findall(\".\")\n",
    "# All 'neighbor' grand-children of 'country' children of the top-level elements\n",
    "root.findall(\"./country/neighbor\")\n",
    "# elements with name='Singapore' that have a 'year' child\n",
    "root.findall(\".//year/..[@name='Singapore']\")\n",
    "# 'year' elements that are children of elements with name='Singapore'\n",
    "root.findall(\".//*[@name='Singapore']/year\")\n",
    "# All 'neighbor' elements that are the second child of their parent\n",
    "root.findall(\".//neighbor[2]\")"
   ]
  },
  {
   "cell_type": "markdown",
   "id": "5c1eb950-7488-40ae-9a13-6b1f5bda6350",
   "metadata": {},
   "source": [
    "Extract the name, rank, year and gdppc from the countries and create a Pandas DataFrame."
   ]
  },
  {
   "cell_type": "code",
   "execution_count": 10,
   "id": "742afa22-62bd-49ef-874b-0323f0bf0283",
   "metadata": {},
   "outputs": [
    {
     "data": {
      "text/html": [
       "<div>\n",
       "<style scoped>\n",
       "    .dataframe tbody tr th:only-of-type {\n",
       "        vertical-align: middle;\n",
       "    }\n",
       "\n",
       "    .dataframe tbody tr th {\n",
       "        vertical-align: top;\n",
       "    }\n",
       "\n",
       "    .dataframe thead th {\n",
       "        text-align: right;\n",
       "    }\n",
       "</style>\n",
       "<table border=\"1\" class=\"dataframe\">\n",
       "  <thead>\n",
       "    <tr style=\"text-align: right;\">\n",
       "      <th></th>\n",
       "      <th>name</th>\n",
       "      <th>rank</th>\n",
       "      <th>year</th>\n",
       "      <th>gdppc</th>\n",
       "    </tr>\n",
       "  </thead>\n",
       "  <tbody>\n",
       "    <tr>\n",
       "      <th>0</th>\n",
       "      <td>Liechtenstein</td>\n",
       "      <td>1</td>\n",
       "      <td>2008</td>\n",
       "      <td>141100</td>\n",
       "    </tr>\n",
       "    <tr>\n",
       "      <th>1</th>\n",
       "      <td>Singapore</td>\n",
       "      <td>4</td>\n",
       "      <td>2011</td>\n",
       "      <td>59900</td>\n",
       "    </tr>\n",
       "    <tr>\n",
       "      <th>2</th>\n",
       "      <td>Panama</td>\n",
       "      <td>68</td>\n",
       "      <td>2011</td>\n",
       "      <td>13600</td>\n",
       "    </tr>\n",
       "  </tbody>\n",
       "</table>\n",
       "</div>"
      ],
      "text/plain": [
       "            name rank  year   gdppc\n",
       "0  Liechtenstein    1  2008  141100\n",
       "1      Singapore    4  2011   59900\n",
       "2         Panama   68  2011   13600"
      ]
     },
     "execution_count": 10,
     "metadata": {},
     "output_type": "execute_result"
    }
   ],
   "source": [
    "import xml.etree.ElementTree as ET\n",
    "import pandas as pd\n",
    "\n",
    "tree = ET.parse('data/data.xml')  # Load from file\n",
    "root = tree.getroot()\n",
    "\n",
    "my_dict = {'name': [],\n",
    "           'rank': [],\n",
    "           'year': [],\n",
    "           'gdppc': []}\n",
    "\n",
    "\n",
    "for country in root:\n",
    "    name_value = country.attrib['name']\n",
    "    my_dict['name'].append(name_value)\n",
    "\n",
    "    rank_value = country[0].text\n",
    "    my_dict['rank'].append(rank_value)\n",
    "\n",
    "    year_value = country[1].text\n",
    "    my_dict['year'].append(year_value)\n",
    "\n",
    "    gdppc_value = country[2].text\n",
    "    my_dict['gdppc'].append(gdppc_value)\n",
    "\n",
    "df = pd.DataFrame(my_dict) \n",
    "df"
   ]
  },
  {
   "cell_type": "markdown",
   "id": "cd4d8e03-e17c-4e8f-a1b1-6acd51623786",
   "metadata": {},
   "source": [
    "Because all children of the `root` are countries therefore \n",
    "```python \n",
    "for country in root:\n",
    "```\n",
    "equals\n",
    "```python\n",
    "for country in root.findall('country'): \n",
    "```"
   ]
  }
 ],
 "metadata": {
  "kernelspec": {
   "display_name": "Python 3",
   "language": "python",
   "name": "python3"
  },
  "language_info": {
   "codemirror_mode": {
    "name": "ipython",
    "version": 3
   },
   "file_extension": ".py",
   "mimetype": "text/x-python",
   "name": "python",
   "nbconvert_exporter": "python",
   "pygments_lexer": "ipython3",
   "version": "3.8.10"
  }
 },
 "nbformat": 4,
 "nbformat_minor": 5
}
