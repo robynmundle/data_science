{
 "cells": [
  {
   "cell_type": "markdown",
   "id": "3c36792d-2bc8-4385-a8b5-2c44537272f6",
   "metadata": {},
   "source": [
    "# HTML\n",
    "\n",
    "Online Resources:\n",
    "* https://youtu.be/CKlh1lwe2rY\n",
    "\n",
    "In this section, we will learn how we can load HTML tables directly into Pandas, and learn the basics of web scraping which is a very popular way for data gathering.\n",
    "\n",
    "# HTML Tutorial\n",
    "If the webpage (HTML) has a table inside, we can easily extract it with `Pandas` and `requests`."
   ]
  },
  {
   "cell_type": "code",
   "execution_count": 1,
   "id": "operational-island",
   "metadata": {},
   "outputs": [],
   "source": [
    "import pandas as pd\n",
    "import requests"
   ]
  },
  {
   "cell_type": "markdown",
   "id": "recent-efficiency",
   "metadata": {},
   "source": [
    "Download the source code"
   ]
  },
  {
   "cell_type": "code",
   "execution_count": 2,
   "id": "intelligent-universal",
   "metadata": {},
   "outputs": [
    {
     "data": {
      "text/plain": [
       "<Response [200]>"
      ]
     },
     "execution_count": 2,
     "metadata": {},
     "output_type": "execute_result"
    }
   ],
   "source": [
    "url = 'https://www.worldcoinindex.com/'\n",
    "crypto_url = requests.get(url)\n",
    "crypto_url"
   ]
  },
  {
   "cell_type": "markdown",
   "id": "394c5200-e21e-4497-9f8b-c9f1f760d230",
   "metadata": {},
   "source": [
    "We already talked about these responses in the APIs section. To take the body we need to take the attribute text."
   ]
  },
  {
   "cell_type": "code",
   "execution_count": 3,
   "id": "unexpected-helena",
   "metadata": {},
   "outputs": [],
   "source": [
    "body = crypto_url.text"
   ]
  },
  {
   "cell_type": "markdown",
   "id": "alternative-beatles",
   "metadata": {},
   "source": [
    "Body now consists of full HTML source code of our webpage. Now if the HTML source has a table which is marked by the HTML tag ```<table></table>``` (this tag is used for defining a table in HTML) Pandas uses ```read_html()``` to extract the table from the HTML document.\n",
    "\n",
    "So, whenever you pass a HTML to pandas and expect it to output a nice looking data-frame, make sure the HTML page has a table in it!"
   ]
  },
  {
   "cell_type": "code",
   "execution_count": 4,
   "id": "sudden-thickness",
   "metadata": {},
   "outputs": [
    {
     "name": "stdout",
     "output_type": "stream",
     "text": [
      "<class 'list'>\n",
      "1\n"
     ]
    }
   ],
   "source": [
    "crypto_data = pd.read_html(body)\n",
    "print(type(crypto_data))\n",
    "print(len(crypto_data))"
   ]
  },
  {
   "cell_type": "markdown",
   "id": "68c6e78b-5603-4ed4-adc8-1e96ad2292ea",
   "metadata": {},
   "source": [
    "From the above output, it is clear that there is a `list` with one element which is our table. Therefore:"
   ]
  },
  {
   "cell_type": "code",
   "execution_count": 5,
   "id": "still-closing",
   "metadata": {},
   "outputs": [
    {
     "data": {
      "text/html": [
       "<div>\n",
       "<style scoped>\n",
       "    .dataframe tbody tr th:only-of-type {\n",
       "        vertical-align: middle;\n",
       "    }\n",
       "\n",
       "    .dataframe tbody tr th {\n",
       "        vertical-align: top;\n",
       "    }\n",
       "\n",
       "    .dataframe thead th {\n",
       "        text-align: right;\n",
       "    }\n",
       "</style>\n",
       "<table border=\"1\" class=\"dataframe\">\n",
       "  <thead>\n",
       "    <tr style=\"text-align: right;\">\n",
       "      <th></th>\n",
       "      <th>#</th>\n",
       "      <th>Unnamed: 1</th>\n",
       "      <th>Name</th>\n",
       "      <th>Ticker</th>\n",
       "      <th>Last price</th>\n",
       "      <th>%</th>\n",
       "      <th>24 high</th>\n",
       "      <th>24 low</th>\n",
       "      <th>Price Charts 7d</th>\n",
       "      <th>24 volume</th>\n",
       "      <th># Coins</th>\n",
       "      <th>Market cap</th>\n",
       "    </tr>\n",
       "  </thead>\n",
       "  <tbody>\n",
       "    <tr>\n",
       "      <th>0</th>\n",
       "      <td>1</td>\n",
       "      <td>NaN</td>\n",
       "      <td>Ethereum</td>\n",
       "      <td>ETH</td>\n",
       "      <td>$ 2,727.42</td>\n",
       "      <td>-4.55%</td>\n",
       "      <td>$ 2,858.96</td>\n",
       "      <td>$ 2,556.62</td>\n",
       "      <td>NaN</td>\n",
       "      <td>$ 17.47B</td>\n",
       "      <td>116.15M</td>\n",
       "      <td>$ 316.81B</td>\n",
       "    </tr>\n",
       "    <tr>\n",
       "      <th>1</th>\n",
       "      <td>2</td>\n",
       "      <td>NaN</td>\n",
       "      <td>Bitcoin</td>\n",
       "      <td>BTC</td>\n",
       "      <td>$ 37,187</td>\n",
       "      <td>-5.24%</td>\n",
       "      <td>$ 39,261</td>\n",
       "      <td>$ 35,634</td>\n",
       "      <td>NaN</td>\n",
       "      <td>$ 14.66B</td>\n",
       "      <td>18.72M</td>\n",
       "      <td>$ 696.39B</td>\n",
       "    </tr>\n",
       "    <tr>\n",
       "      <th>2</th>\n",
       "      <td>3</td>\n",
       "      <td>NaN</td>\n",
       "      <td>Dogecoin</td>\n",
       "      <td>DOGE</td>\n",
       "      <td>$ 0.385950</td>\n",
       "      <td>-3.73%</td>\n",
       "      <td>$ 0.401433</td>\n",
       "      <td>$ 0.350594</td>\n",
       "      <td>NaN</td>\n",
       "      <td>$ 5.67B</td>\n",
       "      <td>129.40B</td>\n",
       "      <td>$ 49.94B</td>\n",
       "    </tr>\n",
       "    <tr>\n",
       "      <th>3</th>\n",
       "      <td>4</td>\n",
       "      <td>NaN</td>\n",
       "      <td>Ripple</td>\n",
       "      <td>XRP</td>\n",
       "      <td>$ 0.981902</td>\n",
       "      <td>-6.09%</td>\n",
       "      <td>$ 1.05</td>\n",
       "      <td>$ 0.917729</td>\n",
       "      <td>NaN</td>\n",
       "      <td>$ 3.54B</td>\n",
       "      <td>46.15B</td>\n",
       "      <td>$ 45.31B</td>\n",
       "    </tr>\n",
       "    <tr>\n",
       "      <th>4</th>\n",
       "      <td>5</td>\n",
       "      <td>NaN</td>\n",
       "      <td>Binancecoin</td>\n",
       "      <td>BNB</td>\n",
       "      <td>$ 398.36</td>\n",
       "      <td>-7.10%</td>\n",
       "      <td>$ 429.00</td>\n",
       "      <td>$ 366.22</td>\n",
       "      <td>NaN</td>\n",
       "      <td>$ 3.35B</td>\n",
       "      <td>154.53M</td>\n",
       "      <td>$ 61.55B</td>\n",
       "    </tr>\n",
       "  </tbody>\n",
       "</table>\n",
       "</div>"
      ],
      "text/plain": [
       "   # Unnamed: 1         Name Ticker  Last price       %     24 high  \\\n",
       "0  1        NaN     Ethereum    ETH  $ 2,727.42  -4.55%  $ 2,858.96   \n",
       "1  2        NaN      Bitcoin    BTC    $ 37,187  -5.24%    $ 39,261   \n",
       "2  3        NaN     Dogecoin   DOGE  $ 0.385950  -3.73%  $ 0.401433   \n",
       "3  4        NaN       Ripple    XRP  $ 0.981902  -6.09%      $ 1.05   \n",
       "4  5        NaN  Binancecoin    BNB    $ 398.36  -7.10%    $ 429.00   \n",
       "\n",
       "       24 low Price Charts 7d 24 volume  # Coins Market cap  \n",
       "0  $ 2,556.62             NaN  $ 17.47B  116.15M  $ 316.81B  \n",
       "1    $ 35,634             NaN  $ 14.66B   18.72M  $ 696.39B  \n",
       "2  $ 0.350594             NaN   $ 5.67B  129.40B   $ 49.94B  \n",
       "3  $ 0.917729             NaN   $ 3.54B   46.15B   $ 45.31B  \n",
       "4    $ 366.22             NaN   $ 3.35B  154.53M   $ 61.55B  "
      ]
     },
     "execution_count": 5,
     "metadata": {},
     "output_type": "execute_result"
    }
   ],
   "source": [
    "crypto_data = crypto_data[0]\n",
    "crypto_data.head()"
   ]
  },
  {
   "cell_type": "markdown",
   "id": "meaning-syntax",
   "metadata": {},
   "source": [
    "### What if there is no table in HTML?"
   ]
  },
  {
   "cell_type": "markdown",
   "id": "divided-passenger",
   "metadata": {},
   "source": [
    "If we want to extract information from HTML, which doesn't have a table, we need to use a different approach: Scraping. Fortunately, Python has a great package for this called Beautiful Soup. [See here for a simple scraping tutorial](https://www.dataquest.io/blog/web-scraping-tutorial-python/)"
   ]
  },
  {
   "cell_type": "markdown",
   "id": "damaged-provision",
   "metadata": {},
   "source": [
    "# Scraping / Beautiful Soup"
   ]
  },
  {
   "cell_type": "markdown",
   "id": "biblical-ethics",
   "metadata": {},
   "source": [
    "In addition to following any and all explicit rules about web scraping posted on the site, it’s also a good idea to follow these best practices:\n",
    "* Never scrape more frequently than you need to\n",
    "* Consider caching the content you scrape so that it’s only downloaded once as you work on the code you’re using to filter and analyze it, rather than re-downloading every time you run your code\n",
    "* Consider building pauses into your code using functions like time.sleep() to keep from overwhelming servers with too many requests in too short a timespan."
   ]
  }
 ],
 "metadata": {
  "kernelspec": {
   "display_name": "Python 3",
   "language": "python",
   "name": "python3"
  },
  "language_info": {
   "codemirror_mode": {
    "name": "ipython",
    "version": 3
   },
   "file_extension": ".py",
   "mimetype": "text/x-python",
   "name": "python",
   "nbconvert_exporter": "python",
   "pygments_lexer": "ipython3",
   "version": "3.8.10"
  }
 },
 "nbformat": 4,
 "nbformat_minor": 5
}
