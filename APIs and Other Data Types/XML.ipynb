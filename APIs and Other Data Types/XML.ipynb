{
 "cells": [
  {
   "cell_type": "markdown",
   "id": "f792ac65-aa88-4bf7-9c0d-069d0b6cbd71",
   "metadata": {},
   "source": [
    "# XML (Extensible Markup Language)\n",
    "The XML standard is a flexible way to create information formats and electronically share structured data.\n",
    "* XML is short for Extensible Markup Language and is used to describe data. \n",
    "* XML is a markup language much like HTML\n",
    "* XML was designed to store and transport data\n",
    "* XML was designed to be self-descriptive\n",
    "* XML is a W3C Recommendation\n",
    "\n",
    "Even though it is slowly being replaced by JSON, it is one of the fundamental data formats and it's crucial to learn about it.\n",
    "\n",
    "Online Resources:\n",
    "* https://www.w3schools.com/xml/xml_whatis.asp\n",
    "* https://docs.python.org/3/library/xml.etree.elementtree.html\n",
    "\n",
    "An example of XML:\n",
    "\n",
    "<img src='images/XML.png'>"
   ]
  }
 ],
 "metadata": {
  "kernelspec": {
   "display_name": "Python 3",
   "language": "python",
   "name": "python3"
  },
  "language_info": {
   "codemirror_mode": {
    "name": "ipython",
    "version": 3
   },
   "file_extension": ".py",
   "mimetype": "text/x-python",
   "name": "python",
   "nbconvert_exporter": "python",
   "pygments_lexer": "ipython3",
   "version": "3.8.10"
  }
 },
 "nbformat": 4,
 "nbformat_minor": 5
}
