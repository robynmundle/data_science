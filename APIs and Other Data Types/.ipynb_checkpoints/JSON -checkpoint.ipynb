{
 "cells": [
  {
   "cell_type": "markdown",
   "id": "586f7d10-0280-479c-a6e3-24a4be2c287f",
   "metadata": {},
   "source": [
    "# JSON (JavaScript Object Notation)\n",
    "JSON stands for JavaScript Object Notation. It became very popular with the increasing popularity of the JavaScript because it represents the way objects are built in it. It is a \"subset\" of the JavaScript language.\n",
    "\n",
    "Online Resources:\n",
    "* https://www.json.org/json-en.html\n",
    "* https://www.guru99.com/json-vs-xml-difference.html\n",
    "\n",
    "An example of JSON:\n",
    "\n",
    "<img src='images/JSON.png'>"
   ]
  },
  {
   "cell_type": "markdown",
   "id": "bd2168db-d19d-463c-bf87-390efdb55353",
   "metadata": {},
   "source": [
    "The name can be quite misleading since `JSON` is nowadays used not only in JavaScript. For example in data science, it has become a very popular way of storing our data. We can say that it is very similar to its predecessor, XML.\n",
    "\n",
    "JSON is like XML because: \n",
    "* Both are self-describing, meaning that the values are labeled, therefore 'human-readable' \n",
    "* Both are hierarchical (nested), i.e. they can have values within values. \n",
    "* Both can be parsed and used by lots of programming languages. \n",
    "* Both can be passed around using HTTP request (important for APIs).\n",
    "\n",
    "JSON is unlike XML because: \n",
    "* JSON has a tag name only at the beginning of an element (no tag at the end of an element), which results in a smaller size. \n",
    "* JSON is less verbose therefore quicker for humans to write and read. \n",
    "* JSON can include arrays, which leads to even smaller file sizes. \n",
    "* JSON can't use reserved words from JavaScript as tags.\n",
    "\n",
    "We now know the two most common data formats in the APIs: `XML` and `JSON`."
   ]
  }
 ],
 "metadata": {
  "kernelspec": {
   "display_name": "Python 3",
   "language": "python",
   "name": "python3"
  },
  "language_info": {
   "codemirror_mode": {
    "name": "ipython",
    "version": 3
   },
   "file_extension": ".py",
   "mimetype": "text/x-python",
   "name": "python",
   "nbconvert_exporter": "python",
   "pygments_lexer": "ipython3",
   "version": "3.8.10"
  }
 },
 "nbformat": 4,
 "nbformat_minor": 5
}
