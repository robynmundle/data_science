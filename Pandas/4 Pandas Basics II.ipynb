{
 "cells": [
  {
   "cell_type": "markdown",
   "id": "4c26aff5-f8ce-4709-849e-ec796c2075cd",
   "metadata": {},
   "source": [
    "Start witing importing required libraries:"
   ]
  },
  {
   "cell_type": "code",
   "execution_count": 1,
   "id": "animated-delight",
   "metadata": {},
   "outputs": [],
   "source": [
    "import numpy as np\n",
    "import pandas as pd"
   ]
  },
  {
   "cell_type": "markdown",
   "id": "ba08d612-691f-4eae-9f00-093a5bfaedd2",
   "metadata": {},
   "source": [
    "We will continue with the practice of basic operations in Pandas.\n",
    "* Boolean comparisons\n",
    "* Objects comparison\n",
    "* Descriptive statistics\n",
    "* Iterations"
   ]
  },
  {
   "cell_type": "markdown",
   "id": "altered-student",
   "metadata": {},
   "source": [
    "# Boolean Comparisons"
   ]
  },
  {
   "cell_type": "markdown",
   "id": "prompt-smoke",
   "metadata": {},
   "source": [
    "Series and DataFrame have the binary comparison methods ```eq, ne, lt, gt, le```, and ```ge``` whose behavior is vectorized"
   ]
  },
  {
   "cell_type": "code",
   "execution_count": 2,
   "id": "narrative-commerce",
   "metadata": {},
   "outputs": [],
   "source": [
    "df = pd.DataFrame({\n",
    "        'one': pd.Series(np.random.randn(3), index=['a', 'b', 'c']),\n",
    "        'two': pd.Series(np.random.randn(4), index=['a', 'b', 'c', 'd']),\n",
    "        'three': pd.Series(np.random.randn(3), index=['b', 'c', 'd'])})"
   ]
  },
  {
   "cell_type": "code",
   "execution_count": 3,
   "id": "criminal-exercise",
   "metadata": {},
   "outputs": [
    {
     "data": {
      "text/html": [
       "<div>\n",
       "<style scoped>\n",
       "    .dataframe tbody tr th:only-of-type {\n",
       "        vertical-align: middle;\n",
       "    }\n",
       "\n",
       "    .dataframe tbody tr th {\n",
       "        vertical-align: top;\n",
       "    }\n",
       "\n",
       "    .dataframe thead th {\n",
       "        text-align: right;\n",
       "    }\n",
       "</style>\n",
       "<table border=\"1\" class=\"dataframe\">\n",
       "  <thead>\n",
       "    <tr style=\"text-align: right;\">\n",
       "      <th></th>\n",
       "      <th>one</th>\n",
       "      <th>two</th>\n",
       "      <th>three</th>\n",
       "    </tr>\n",
       "  </thead>\n",
       "  <tbody>\n",
       "    <tr>\n",
       "      <th>a</th>\n",
       "      <td>False</td>\n",
       "      <td>False</td>\n",
       "      <td>False</td>\n",
       "    </tr>\n",
       "    <tr>\n",
       "      <th>b</th>\n",
       "      <td>False</td>\n",
       "      <td>False</td>\n",
       "      <td>False</td>\n",
       "    </tr>\n",
       "    <tr>\n",
       "      <th>c</th>\n",
       "      <td>False</td>\n",
       "      <td>False</td>\n",
       "      <td>False</td>\n",
       "    </tr>\n",
       "    <tr>\n",
       "      <th>d</th>\n",
       "      <td>False</td>\n",
       "      <td>False</td>\n",
       "      <td>False</td>\n",
       "    </tr>\n",
       "  </tbody>\n",
       "</table>\n",
       "</div>"
      ],
      "text/plain": [
       "     one    two  three\n",
       "a  False  False  False\n",
       "b  False  False  False\n",
       "c  False  False  False\n",
       "d  False  False  False"
      ]
     },
     "execution_count": 3,
     "metadata": {},
     "output_type": "execute_result"
    }
   ],
   "source": [
    "df2 = df.copy()\n",
    "df.gt(df2)"
   ]
  },
  {
   "cell_type": "code",
   "execution_count": 4,
   "id": "monthly-trustee",
   "metadata": {},
   "outputs": [
    {
     "data": {
      "text/html": [
       "<div>\n",
       "<style scoped>\n",
       "    .dataframe tbody tr th:only-of-type {\n",
       "        vertical-align: middle;\n",
       "    }\n",
       "\n",
       "    .dataframe tbody tr th {\n",
       "        vertical-align: top;\n",
       "    }\n",
       "\n",
       "    .dataframe thead th {\n",
       "        text-align: right;\n",
       "    }\n",
       "</style>\n",
       "<table border=\"1\" class=\"dataframe\">\n",
       "  <thead>\n",
       "    <tr style=\"text-align: right;\">\n",
       "      <th></th>\n",
       "      <th>one</th>\n",
       "      <th>two</th>\n",
       "      <th>three</th>\n",
       "    </tr>\n",
       "  </thead>\n",
       "  <tbody>\n",
       "    <tr>\n",
       "      <th>a</th>\n",
       "      <td>False</td>\n",
       "      <td>False</td>\n",
       "      <td>True</td>\n",
       "    </tr>\n",
       "    <tr>\n",
       "      <th>b</th>\n",
       "      <td>False</td>\n",
       "      <td>False</td>\n",
       "      <td>False</td>\n",
       "    </tr>\n",
       "    <tr>\n",
       "      <th>c</th>\n",
       "      <td>False</td>\n",
       "      <td>False</td>\n",
       "      <td>False</td>\n",
       "    </tr>\n",
       "    <tr>\n",
       "      <th>d</th>\n",
       "      <td>True</td>\n",
       "      <td>False</td>\n",
       "      <td>False</td>\n",
       "    </tr>\n",
       "  </tbody>\n",
       "</table>\n",
       "</div>"
      ],
      "text/plain": [
       "     one    two  three\n",
       "a  False  False   True\n",
       "b  False  False  False\n",
       "c  False  False  False\n",
       "d   True  False  False"
      ]
     },
     "execution_count": 4,
     "metadata": {},
     "output_type": "execute_result"
    }
   ],
   "source": [
    "df2.ne(df)"
   ]
  },
  {
   "cell_type": "markdown",
   "id": "stuck-breast",
   "metadata": {},
   "source": [
    "You can apply the reductions: ```empty, any(), all()```, and ```bool()``` to provide a way to summarize a boolean result."
   ]
  },
  {
   "cell_type": "code",
   "execution_count": 5,
   "id": "designing-heritage",
   "metadata": {},
   "outputs": [
    {
     "data": {
      "text/plain": [
       "one      False\n",
       "two      False\n",
       "three    False\n",
       "dtype: bool"
      ]
     },
     "execution_count": 5,
     "metadata": {},
     "output_type": "execute_result"
    }
   ],
   "source": [
    "(df > 0).all()"
   ]
  },
  {
   "cell_type": "code",
   "execution_count": 6,
   "id": "generous-temple",
   "metadata": {},
   "outputs": [
    {
     "data": {
      "text/plain": [
       "one      True\n",
       "two      True\n",
       "three    True\n",
       "dtype: bool"
      ]
     },
     "execution_count": 6,
     "metadata": {},
     "output_type": "execute_result"
    }
   ],
   "source": [
    "(df > 0).any()"
   ]
  },
  {
   "cell_type": "code",
   "execution_count": 7,
   "id": "gorgeous-reggae",
   "metadata": {},
   "outputs": [
    {
     "data": {
      "text/plain": [
       "True"
      ]
     },
     "execution_count": 7,
     "metadata": {},
     "output_type": "execute_result"
    }
   ],
   "source": [
    "(df > 0).any().any()"
   ]
  },
  {
   "cell_type": "markdown",
   "id": "f87f8c03-151e-4cc3-a2ab-adc8d701ded7",
   "metadata": {},
   "source": [
    "To evaluate single-element pandas objects in a boolean context, use the method bool():"
   ]
  },
  {
   "cell_type": "code",
   "execution_count": 8,
   "id": "framed-beaver",
   "metadata": {},
   "outputs": [
    {
     "data": {
      "text/plain": [
       "True"
      ]
     },
     "execution_count": 8,
     "metadata": {},
     "output_type": "execute_result"
    }
   ],
   "source": [
    "pd.Series([True]).bool()"
   ]
  },
  {
   "cell_type": "code",
   "execution_count": 9,
   "id": "designed-instrumentation",
   "metadata": {},
   "outputs": [
    {
     "data": {
      "text/plain": [
       "False"
      ]
     },
     "execution_count": 9,
     "metadata": {},
     "output_type": "execute_result"
    }
   ],
   "source": [
    "pd.Series([False]).bool()"
   ]
  },
  {
   "cell_type": "code",
   "execution_count": 10,
   "id": "cardiovascular-paste",
   "metadata": {},
   "outputs": [
    {
     "data": {
      "text/plain": [
       "True"
      ]
     },
     "execution_count": 10,
     "metadata": {},
     "output_type": "execute_result"
    }
   ],
   "source": [
    "pd.DataFrame([[True]]).bool()"
   ]
  },
  {
   "cell_type": "code",
   "execution_count": 11,
   "id": "spanish-mason",
   "metadata": {},
   "outputs": [
    {
     "data": {
      "text/plain": [
       "False"
      ]
     },
     "execution_count": 11,
     "metadata": {},
     "output_type": "execute_result"
    }
   ],
   "source": [
    "pd.DataFrame([[False]]).bool()"
   ]
  },
  {
   "cell_type": "markdown",
   "id": "steady-identity",
   "metadata": {},
   "source": [
    "# Objects comparison\n",
    "You can conveniently perform element-wise comparisons when comparing a pandas data structure with a scalar value:"
   ]
  },
  {
   "cell_type": "code",
   "execution_count": 12,
   "id": "filled-price",
   "metadata": {},
   "outputs": [
    {
     "data": {
      "text/plain": [
       "0     True\n",
       "1    False\n",
       "2    False\n",
       "dtype: bool"
      ]
     },
     "execution_count": 12,
     "metadata": {},
     "output_type": "execute_result"
    }
   ],
   "source": [
    "pd.Series(['foo', 'bar', 'baz']) == 'foo'"
   ]
  },
  {
   "cell_type": "markdown",
   "id": "eeb3f1ae-cd14-4333-ae83-3e7b1785fa25",
   "metadata": {},
   "source": [
    "Pandas also handles element-wise comparisons between different array-like objects of the same length:"
   ]
  },
  {
   "cell_type": "code",
   "execution_count": 13,
   "id": "british-economy",
   "metadata": {},
   "outputs": [
    {
     "data": {
      "text/plain": [
       "0     True\n",
       "1     True\n",
       "2    False\n",
       "dtype: bool"
      ]
     },
     "execution_count": 13,
     "metadata": {},
     "output_type": "execute_result"
    }
   ],
   "source": [
    "pd.Series(['foo', 'bar', 'baz']) == pd.Index(['foo', 'bar', 'qux']) # beware, comparing Series and Index like this must be of equal length otherwise ValueError"
   ]
  },
  {
   "cell_type": "markdown",
   "id": "6130d7d1-888c-4254-b2cf-4b10f920bab5",
   "metadata": {},
   "source": [
    "Trying to compare Index or Series objects of different lengths will create a ValueError:\n",
    "```python\n",
    "In [55]: pd.Series(['foo', 'bar', 'baz']) == pd.Series(['foo', 'bar'])\n",
    "ValueError: Series lengths must match to compare\n",
    "```\n",
    "\n",
    "Often you may find that there is more than one way to compute the same result. For example, consider `df + df` and `df * 2`. To test that these two computations produce the same result, given the tools shown above, you might imagine using `(df + df == df * 2).all().all()`.\n",
    "* Try to compare the two operations, `df + df` and `df * 2`, using the technique mentioned above.\n",
    "    * The result is False but why is that? Let's dive deeper:"
   ]
  },
  {
   "cell_type": "code",
   "execution_count": 14,
   "id": "eefa22a5-0fa6-402d-a97c-a170267e3d2d",
   "metadata": {},
   "outputs": [
    {
     "data": {
      "text/plain": [
       "one      False\n",
       "two       True\n",
       "three    False\n",
       "dtype: bool"
      ]
     },
     "execution_count": 14,
     "metadata": {},
     "output_type": "execute_result"
    }
   ],
   "source": [
    "(df + df == df * 2).all()"
   ]
  },
  {
   "cell_type": "code",
   "execution_count": 15,
   "id": "421247e3-b22e-4220-a826-f1f721f512d4",
   "metadata": {},
   "outputs": [
    {
     "data": {
      "text/html": [
       "<div>\n",
       "<style scoped>\n",
       "    .dataframe tbody tr th:only-of-type {\n",
       "        vertical-align: middle;\n",
       "    }\n",
       "\n",
       "    .dataframe tbody tr th {\n",
       "        vertical-align: top;\n",
       "    }\n",
       "\n",
       "    .dataframe thead th {\n",
       "        text-align: right;\n",
       "    }\n",
       "</style>\n",
       "<table border=\"1\" class=\"dataframe\">\n",
       "  <thead>\n",
       "    <tr style=\"text-align: right;\">\n",
       "      <th></th>\n",
       "      <th>one</th>\n",
       "      <th>two</th>\n",
       "      <th>three</th>\n",
       "    </tr>\n",
       "  </thead>\n",
       "  <tbody>\n",
       "    <tr>\n",
       "      <th>a</th>\n",
       "      <td>True</td>\n",
       "      <td>True</td>\n",
       "      <td>False</td>\n",
       "    </tr>\n",
       "    <tr>\n",
       "      <th>b</th>\n",
       "      <td>True</td>\n",
       "      <td>True</td>\n",
       "      <td>True</td>\n",
       "    </tr>\n",
       "    <tr>\n",
       "      <th>c</th>\n",
       "      <td>True</td>\n",
       "      <td>True</td>\n",
       "      <td>True</td>\n",
       "    </tr>\n",
       "    <tr>\n",
       "      <th>d</th>\n",
       "      <td>False</td>\n",
       "      <td>True</td>\n",
       "      <td>True</td>\n",
       "    </tr>\n",
       "  </tbody>\n",
       "</table>\n",
       "</div>"
      ],
      "text/plain": [
       "     one   two  three\n",
       "a   True  True  False\n",
       "b   True  True   True\n",
       "c   True  True   True\n",
       "d  False  True   True"
      ]
     },
     "execution_count": 15,
     "metadata": {},
     "output_type": "execute_result"
    }
   ],
   "source": [
    "df + df == df * 2"
   ]
  },
  {
   "cell_type": "markdown",
   "id": "5b5aeba6-cafc-45fa-8f6e-f43b7231b293",
   "metadata": {},
   "source": [
    "This happens because of the problem mentioned above that\n",
    "```python\n",
    "In [59]: np.nan == np.nan\n",
    "Out[59]: False\n",
    "```\n",
    "So, Pandas objects (such as `Series` and `DataFrames`) have an `equals()` method for testing equality, with NaNs in corresponding locations treated as equal."
   ]
  },
  {
   "cell_type": "code",
   "execution_count": 16,
   "id": "97ca27e1-3ac6-4d87-ad2f-3464a15913d8",
   "metadata": {},
   "outputs": [
    {
     "data": {
      "text/plain": [
       "True"
      ]
     },
     "execution_count": 16,
     "metadata": {},
     "output_type": "execute_result"
    }
   ],
   "source": [
    "(df + df).equals(df * 2)"
   ]
  },
  {
   "cell_type": "markdown",
   "id": "d7c56da1-2ea7-4966-baa0-6b8a2a948406",
   "metadata": {},
   "source": [
    "Note that the `Series` or `DataFrame` index needs to be in the same order for the equality to be `True`.\n",
    "\n",
    "# Descriptive statistics\n",
    "There exists a large number of methods for computing descriptive statistics and other related operations on Series, DataFrame. All of them are vectorized. Most of them are aggregations and produce a lower-dimensional result.\n",
    "\n",
    "Generally speaking, these methods take an axis as an argument and the axis can be specified by name or integer:"
   ]
  },
  {
   "cell_type": "code",
   "execution_count": 17,
   "id": "sound-september",
   "metadata": {},
   "outputs": [
    {
     "data": {
      "text/plain": [
       "one      0.316441\n",
       "two     -0.095805\n",
       "three   -0.447432\n",
       "dtype: float64"
      ]
     },
     "execution_count": 17,
     "metadata": {},
     "output_type": "execute_result"
    }
   ],
   "source": [
    "# Aggregation for each column\n",
    "df.mean(0)"
   ]
  },
  {
   "cell_type": "code",
   "execution_count": 18,
   "id": "necessary-contest",
   "metadata": {},
   "outputs": [
    {
     "data": {
      "text/plain": [
       "a    0.897601\n",
       "b   -0.322814\n",
       "c   -0.852630\n",
       "d    0.477469\n",
       "dtype: float64"
      ]
     },
     "execution_count": 18,
     "metadata": {},
     "output_type": "execute_result"
    }
   ],
   "source": [
    "# Aggregation for each index\n",
    "In [78]: df.mean(1)"
   ]
  },
  {
   "cell_type": "markdown",
   "id": "express-penny",
   "metadata": {},
   "source": [
    "By applying vectorized operations, we can describe various statistical procedures, like standardization (rendering data zero mean and standard deviation 1), very concisely:"
   ]
  },
  {
   "cell_type": "code",
   "execution_count": 20,
   "id": "finished-count",
   "metadata": {},
   "outputs": [
    {
     "data": {
      "text/plain": [
       "one      1.0\n",
       "two      1.0\n",
       "three    1.0\n",
       "dtype: float64"
      ]
     },
     "execution_count": 20,
     "metadata": {},
     "output_type": "execute_result"
    }
   ],
   "source": [
    "ts_stand = (df - df.mean()) / df.std()\n",
    "ts_stand.std()"
   ]
  },
  {
   "cell_type": "markdown",
   "id": "premier-groove",
   "metadata": {},
   "source": [
    "In the picture below, we can find a list of the most popular descriptive statistics in Pandas.\n",
    "\n",
    "![](images/pandas.png)\n",
    "\n",
    "# Describe"
   ]
  },
  {
   "cell_type": "markdown",
   "id": "antique-tobacco",
   "metadata": {},
   "source": [
    "There is a convenient `describe()` function which computes a variety of summary statistics about a `eries` or the columns of a `DataFrame`:"
   ]
  },
  {
   "cell_type": "code",
   "execution_count": 23,
   "id": "light-diversity",
   "metadata": {},
   "outputs": [
    {
     "data": {
      "text/plain": [
       "count    500.000000\n",
       "mean       0.008757\n",
       "std        0.943793\n",
       "min       -2.263300\n",
       "25%       -0.641516\n",
       "50%       -0.020364\n",
       "75%        0.607228\n",
       "max        2.760496\n",
       "dtype: float64"
      ]
     },
     "execution_count": 23,
     "metadata": {},
     "output_type": "execute_result"
    }
   ],
   "source": [
    "series = pd.Series(np.random.randn(1000))\n",
    "series[::2] = np.nan\n",
    "series.describe()"
   ]
  },
  {
   "cell_type": "code",
   "execution_count": 25,
   "id": "convertible-voltage",
   "metadata": {},
   "outputs": [
    {
     "data": {
      "text/html": [
       "<div>\n",
       "<style scoped>\n",
       "    .dataframe tbody tr th:only-of-type {\n",
       "        vertical-align: middle;\n",
       "    }\n",
       "\n",
       "    .dataframe tbody tr th {\n",
       "        vertical-align: top;\n",
       "    }\n",
       "\n",
       "    .dataframe thead th {\n",
       "        text-align: right;\n",
       "    }\n",
       "</style>\n",
       "<table border=\"1\" class=\"dataframe\">\n",
       "  <thead>\n",
       "    <tr style=\"text-align: right;\">\n",
       "      <th></th>\n",
       "      <th>a</th>\n",
       "      <th>b</th>\n",
       "      <th>c</th>\n",
       "      <th>d</th>\n",
       "      <th>e</th>\n",
       "    </tr>\n",
       "  </thead>\n",
       "  <tbody>\n",
       "    <tr>\n",
       "      <th>count</th>\n",
       "      <td>500.000000</td>\n",
       "      <td>500.000000</td>\n",
       "      <td>500.000000</td>\n",
       "      <td>500.000000</td>\n",
       "      <td>500.000000</td>\n",
       "    </tr>\n",
       "    <tr>\n",
       "      <th>mean</th>\n",
       "      <td>0.047706</td>\n",
       "      <td>0.034057</td>\n",
       "      <td>-0.048713</td>\n",
       "      <td>0.038453</td>\n",
       "      <td>0.067022</td>\n",
       "    </tr>\n",
       "    <tr>\n",
       "      <th>std</th>\n",
       "      <td>1.019870</td>\n",
       "      <td>1.034913</td>\n",
       "      <td>0.995225</td>\n",
       "      <td>0.953712</td>\n",
       "      <td>1.006243</td>\n",
       "    </tr>\n",
       "    <tr>\n",
       "      <th>min</th>\n",
       "      <td>-2.557308</td>\n",
       "      <td>-3.185835</td>\n",
       "      <td>-3.273233</td>\n",
       "      <td>-2.645631</td>\n",
       "      <td>-2.847661</td>\n",
       "    </tr>\n",
       "    <tr>\n",
       "      <th>25%</th>\n",
       "      <td>-0.705014</td>\n",
       "      <td>-0.561022</td>\n",
       "      <td>-0.716799</td>\n",
       "      <td>-0.603727</td>\n",
       "      <td>-0.567034</td>\n",
       "    </tr>\n",
       "    <tr>\n",
       "      <th>50%</th>\n",
       "      <td>0.037158</td>\n",
       "      <td>0.038636</td>\n",
       "      <td>-0.058426</td>\n",
       "      <td>0.082997</td>\n",
       "      <td>0.064137</td>\n",
       "    </tr>\n",
       "    <tr>\n",
       "      <th>75%</th>\n",
       "      <td>0.703834</td>\n",
       "      <td>0.660842</td>\n",
       "      <td>0.622192</td>\n",
       "      <td>0.658319</td>\n",
       "      <td>0.791623</td>\n",
       "    </tr>\n",
       "    <tr>\n",
       "      <th>max</th>\n",
       "      <td>3.414171</td>\n",
       "      <td>3.245486</td>\n",
       "      <td>2.986750</td>\n",
       "      <td>2.731141</td>\n",
       "      <td>3.006531</td>\n",
       "    </tr>\n",
       "  </tbody>\n",
       "</table>\n",
       "</div>"
      ],
      "text/plain": [
       "                a           b           c           d           e\n",
       "count  500.000000  500.000000  500.000000  500.000000  500.000000\n",
       "mean     0.047706    0.034057   -0.048713    0.038453    0.067022\n",
       "std      1.019870    1.034913    0.995225    0.953712    1.006243\n",
       "min     -2.557308   -3.185835   -3.273233   -2.645631   -2.847661\n",
       "25%     -0.705014   -0.561022   -0.716799   -0.603727   -0.567034\n",
       "50%      0.037158    0.038636   -0.058426    0.082997    0.064137\n",
       "75%      0.703834    0.660842    0.622192    0.658319    0.791623\n",
       "max      3.414171    3.245486    2.986750    2.731141    3.006531"
      ]
     },
     "execution_count": 25,
     "metadata": {},
     "output_type": "execute_result"
    }
   ],
   "source": [
    "frame = pd.DataFrame(np.random.randn(1000, 5),\n",
    "                     columns=['a', 'b', 'c', 'd', 'e'])\n",
    "frame.iloc[::2] = np.nan\n",
    "frame.describe()"
   ]
  },
  {
   "cell_type": "markdown",
   "id": "8ac0c890-b5ec-4975-94f2-25f1aaadd8bd",
   "metadata": {},
   "source": [
    "For a non-numerical `Series` object, `describe()` will give a simple summary of the number of unique values and the most frequently occurring values:"
   ]
  },
  {
   "cell_type": "code",
   "execution_count": 26,
   "id": "demographic-virus",
   "metadata": {},
   "outputs": [
    {
     "data": {
      "text/plain": [
       "count     9\n",
       "unique    4\n",
       "top       a\n",
       "freq      5\n",
       "dtype: object"
      ]
     },
     "execution_count": 26,
     "metadata": {},
     "output_type": "execute_result"
    }
   ],
   "source": [
    "s = pd.Series(['a', 'a', 'b', 'b', 'a', 'a', np.nan, 'c', 'd', 'a'])\n",
    "s.describe()"
   ]
  },
  {
   "cell_type": "markdown",
   "id": "spiritual-renewal",
   "metadata": {},
   "source": [
    "# Index of min/max values\n"
   ]
  },
  {
   "cell_type": "markdown",
   "id": "ahead-slovak",
   "metadata": {},
   "source": [
    "The ```idxmin()``` and ```idxmax()``` functions on ```Series``` and ```DataFrame``` compute the index labels with the minimum and maximum corresponding values:"
   ]
  },
  {
   "cell_type": "code",
   "execution_count": 28,
   "id": "nuclear-archives",
   "metadata": {},
   "outputs": [
    {
     "data": {
      "text/plain": [
       "0    0.110168\n",
       "1   -0.181365\n",
       "2    0.132368\n",
       "3   -0.834413\n",
       "4    1.409799\n",
       "dtype: float64"
      ]
     },
     "execution_count": 28,
     "metadata": {},
     "output_type": "execute_result"
    }
   ],
   "source": [
    "s1 = pd.Series(np.random.randn(5))\n",
    "s1"
   ]
  },
  {
   "cell_type": "code",
   "execution_count": 29,
   "id": "hundred-springer",
   "metadata": {},
   "outputs": [
    {
     "data": {
      "text/plain": [
       "(3, 4)"
      ]
     },
     "execution_count": 29,
     "metadata": {},
     "output_type": "execute_result"
    }
   ],
   "source": [
    "s1.idxmin(), s1.idxmax()"
   ]
  },
  {
   "cell_type": "code",
   "execution_count": 30,
   "id": "planned-implementation",
   "metadata": {},
   "outputs": [
    {
     "data": {
      "text/html": [
       "<div>\n",
       "<style scoped>\n",
       "    .dataframe tbody tr th:only-of-type {\n",
       "        vertical-align: middle;\n",
       "    }\n",
       "\n",
       "    .dataframe tbody tr th {\n",
       "        vertical-align: top;\n",
       "    }\n",
       "\n",
       "    .dataframe thead th {\n",
       "        text-align: right;\n",
       "    }\n",
       "</style>\n",
       "<table border=\"1\" class=\"dataframe\">\n",
       "  <thead>\n",
       "    <tr style=\"text-align: right;\">\n",
       "      <th></th>\n",
       "      <th>A</th>\n",
       "      <th>B</th>\n",
       "      <th>C</th>\n",
       "    </tr>\n",
       "  </thead>\n",
       "  <tbody>\n",
       "    <tr>\n",
       "      <th>0</th>\n",
       "      <td>1.309367</td>\n",
       "      <td>0.622767</td>\n",
       "      <td>1.872483</td>\n",
       "    </tr>\n",
       "    <tr>\n",
       "      <th>1</th>\n",
       "      <td>1.281045</td>\n",
       "      <td>-0.328631</td>\n",
       "      <td>3.796887</td>\n",
       "    </tr>\n",
       "    <tr>\n",
       "      <th>2</th>\n",
       "      <td>0.137384</td>\n",
       "      <td>0.605418</td>\n",
       "      <td>-1.302768</td>\n",
       "    </tr>\n",
       "    <tr>\n",
       "      <th>3</th>\n",
       "      <td>-0.533008</td>\n",
       "      <td>-1.327664</td>\n",
       "      <td>1.143275</td>\n",
       "    </tr>\n",
       "    <tr>\n",
       "      <th>4</th>\n",
       "      <td>-1.966930</td>\n",
       "      <td>-0.017972</td>\n",
       "      <td>-0.228355</td>\n",
       "    </tr>\n",
       "  </tbody>\n",
       "</table>\n",
       "</div>"
      ],
      "text/plain": [
       "          A         B         C\n",
       "0  1.309367  0.622767  1.872483\n",
       "1  1.281045 -0.328631  3.796887\n",
       "2  0.137384  0.605418 -1.302768\n",
       "3 -0.533008 -1.327664  1.143275\n",
       "4 -1.966930 -0.017972 -0.228355"
      ]
     },
     "execution_count": 30,
     "metadata": {},
     "output_type": "execute_result"
    }
   ],
   "source": [
    "df1 = pd.DataFrame(np.random.randn(5, 3), columns=['A', 'B', 'C'])\n",
    "df1"
   ]
  },
  {
   "cell_type": "code",
   "execution_count": 31,
   "id": "voluntary-amendment",
   "metadata": {},
   "outputs": [
    {
     "data": {
      "text/plain": [
       "A    4\n",
       "B    3\n",
       "C    2\n",
       "dtype: int64"
      ]
     },
     "execution_count": 31,
     "metadata": {},
     "output_type": "execute_result"
    }
   ],
   "source": [
    "df1.idxmin(axis=0)"
   ]
  },
  {
   "cell_type": "code",
   "execution_count": 33,
   "id": "governing-brunei",
   "metadata": {},
   "outputs": [
    {
     "data": {
      "text/plain": [
       "0    C\n",
       "1    C\n",
       "2    B\n",
       "3    C\n",
       "4    B\n",
       "dtype: object"
      ]
     },
     "execution_count": 33,
     "metadata": {},
     "output_type": "execute_result"
    }
   ],
   "source": [
    "df1.idxmax(axis=1)"
   ]
  },
  {
   "cell_type": "markdown",
   "id": "regulation-fashion",
   "metadata": {},
   "source": [
    "# Iterations"
   ]
  },
  {
   "cell_type": "markdown",
   "id": "silver-motel",
   "metadata": {},
   "source": [
    "The behavior of basic iterations over pandas objects depends on the type. When iterating over a Series, it is regarded as array-like, and basic iterations produces the values. DataFrames follow the dict-like convention of iterating over the ```keys``` of the objects.\n",
    "\n",
    "In short, basic iteration (for i in object) produces:\n",
    "* Series: values\n",
    "* DataFrame: column labels"
   ]
  },
  {
   "cell_type": "code",
   "execution_count": 36,
   "id": "described-childhood",
   "metadata": {},
   "outputs": [
    {
     "name": "stdout",
     "output_type": "stream",
     "text": [
      "col1\n",
      "col2\n"
     ]
    }
   ],
   "source": [
    "df = pd.DataFrame({'col1': np.random.randn(3),\n",
    "                     'col2': np.random.randn(3)}, index=['a', 'b', 'c'])\n",
    "for col in df:\n",
    "    print(col)"
   ]
  },
  {
   "cell_type": "markdown",
   "id": "municipal-still",
   "metadata": {},
   "source": [
    "To iterate over the rows of a DataFrame, you can use the following methods:\n",
    "\n",
    "* ```items()```: to iterate over the (```key, value```) pairs.\n",
    "* ```iterrows()```: Iterate over the rows of a DataFrame as (index, Series) pairs. This converts the rows to Series objects, which can change the dtypes and has some performance implications.\n",
    "* ```itertuples()```: Iterate over the rows of a DataFrame as namedtuples of the values. This is a lot faster than iterrows() and is in most cases preferable to use to iterate over the values of a DataFrame."
   ]
  },
  {
   "cell_type": "markdown",
   "id": "divided-season",
   "metadata": {},
   "source": [
    "# items"
   ]
  },
  {
   "cell_type": "markdown",
   "id": "satisfactory-bernard",
   "metadata": {},
   "source": [
    "Consistent with the dict-like interface, ```items()``` iterates through key-value pairs:\n",
    "\n",
    "* Series: (index, scalar value) pairs\n",
    "* DataFrame: (column, Series) pairs"
   ]
  },
  {
   "cell_type": "code",
   "execution_count": 38,
   "id": "casual-minority",
   "metadata": {},
   "outputs": [
    {
     "name": "stdout",
     "output_type": "stream",
     "text": [
      "a\n",
      "0    1\n",
      "1    2\n",
      "2    3\n",
      "Name: a, dtype: int64\n",
      "b\n",
      "0    a\n",
      "1    b\n",
      "2    c\n",
      "Name: b, dtype: object\n"
     ]
    }
   ],
   "source": [
    "df = pd.DataFrame({'a': [1, 2, 3], 'b': ['a', 'b', 'c']})\n",
    "for label, ser in df.items():\n",
    "    print(label)\n",
    "    print(ser)"
   ]
  },
  {
   "cell_type": "markdown",
   "id": "foster-samba",
   "metadata": {},
   "source": [
    "# iterrows"
   ]
  },
  {
   "cell_type": "markdown",
   "id": "premier-scottish",
   "metadata": {},
   "source": [
    "```iterrows()``` allows you to iterate through the rows of a DataFrame as Series objects. It returns an iterator yielding each index value along with a Series containing the data in each row"
   ]
  },
  {
   "cell_type": "code",
   "execution_count": 40,
   "id": "heavy-waste",
   "metadata": {},
   "outputs": [
    {
     "name": "stdout",
     "output_type": "stream",
     "text": [
      "0\n",
      "a    1\n",
      "b    a\n",
      "Name: 0, dtype: object\n",
      "1\n",
      "a    2\n",
      "b    b\n",
      "Name: 1, dtype: object\n",
      "2\n",
      "a    3\n",
      "b    c\n",
      "Name: 2, dtype: object\n"
     ]
    }
   ],
   "source": [
    "for row_index, row in df.iterrows():\n",
    "        print(row_index, row, sep='\\n')"
   ]
  },
  {
   "cell_type": "markdown",
   "id": "irish-devil",
   "metadata": {},
   "source": [
    "# itertuple"
   ]
  },
  {
   "cell_type": "markdown",
   "id": "productive-seventh",
   "metadata": {},
   "source": [
    "The ```itertuples()``` method will return an iterator yielding a namedtuple for each row in the DataFrame. The first element of the tuple will be the row’s corresponding index value, while the remaining values are the row values."
   ]
  },
  {
   "cell_type": "code",
   "execution_count": 41,
   "id": "functional-tumor",
   "metadata": {},
   "outputs": [
    {
     "name": "stdout",
     "output_type": "stream",
     "text": [
      "Pandas(Index=0, a=1, b='a')\n",
      "Pandas(Index=1, a=2, b='b')\n",
      "Pandas(Index=2, a=3, b='c')\n"
     ]
    }
   ],
   "source": [
    "for row in df.itertuples():\n",
    "        print(row)"
   ]
  }
 ],
 "metadata": {
  "kernelspec": {
   "display_name": "Python 3",
   "language": "python",
   "name": "python3"
  },
  "language_info": {
   "codemirror_mode": {
    "name": "ipython",
    "version": 3
   },
   "file_extension": ".py",
   "mimetype": "text/x-python",
   "name": "python",
   "nbconvert_exporter": "python",
   "pygments_lexer": "ipython3",
   "version": "3.8.10"
  }
 },
 "nbformat": 4,
 "nbformat_minor": 5
}
