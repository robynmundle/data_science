{
 "cells": [
  {
   "cell_type": "markdown",
   "id": "4967b407-e86a-4048-a708-d53af6713c92",
   "metadata": {},
   "source": [
    "Import required Packages:"
   ]
  },
  {
   "cell_type": "code",
   "execution_count": 1,
   "id": "headed-rapid",
   "metadata": {},
   "outputs": [],
   "source": [
    "import numpy as np\n",
    "import pandas as pd"
   ]
  },
  {
   "cell_type": "markdown",
   "id": "broadband-labor",
   "metadata": {},
   "source": [
    "# Object Creation\n",
    "Create a `Series` by passing a list of values with default integer index"
   ]
  },
  {
   "cell_type": "code",
   "execution_count": 2,
   "id": "inappropriate-trash",
   "metadata": {},
   "outputs": [
    {
     "data": {
      "text/plain": [
       "0    1.0\n",
       "1    3.0\n",
       "2    5.0\n",
       "3    NaN\n",
       "4    6.0\n",
       "5    8.0\n",
       "dtype: float64"
      ]
     },
     "execution_count": 2,
     "metadata": {},
     "output_type": "execute_result"
    }
   ],
   "source": [
    "s = pd.Series([1, 3, 5, np.nan, 6, 8])\n",
    "s"
   ]
  },
  {
   "cell_type": "markdown",
   "id": "successful-chassis",
   "metadata": {},
   "source": [
    "# Create a DataFrame by passing a Numpy array with a datetime index and labeled columns."
   ]
  },
  {
   "cell_type": "code",
   "execution_count": 3,
   "id": "nearby-african",
   "metadata": {},
   "outputs": [
    {
     "data": {
      "text/plain": [
       "DatetimeIndex(['2013-01-01', '2013-01-02', '2013-01-03', '2013-01-04',\n",
       "               '2013-01-05', '2013-01-06'],\n",
       "              dtype='datetime64[ns]', freq='D')"
      ]
     },
     "execution_count": 3,
     "metadata": {},
     "output_type": "execute_result"
    }
   ],
   "source": [
    "dates = pd.date_range('20130101', periods=6)\n",
    "dates"
   ]
  },
  {
   "cell_type": "code",
   "execution_count": 4,
   "id": "stunning-textbook",
   "metadata": {},
   "outputs": [
    {
     "data": {
      "text/html": [
       "<div>\n",
       "<style scoped>\n",
       "    .dataframe tbody tr th:only-of-type {\n",
       "        vertical-align: middle;\n",
       "    }\n",
       "\n",
       "    .dataframe tbody tr th {\n",
       "        vertical-align: top;\n",
       "    }\n",
       "\n",
       "    .dataframe thead th {\n",
       "        text-align: right;\n",
       "    }\n",
       "</style>\n",
       "<table border=\"1\" class=\"dataframe\">\n",
       "  <thead>\n",
       "    <tr style=\"text-align: right;\">\n",
       "      <th></th>\n",
       "      <th>A</th>\n",
       "      <th>B</th>\n",
       "      <th>C</th>\n",
       "      <th>D</th>\n",
       "    </tr>\n",
       "  </thead>\n",
       "  <tbody>\n",
       "    <tr>\n",
       "      <th>2013-01-01</th>\n",
       "      <td>0.209066</td>\n",
       "      <td>2.130952</td>\n",
       "      <td>-1.401477</td>\n",
       "      <td>1.150026</td>\n",
       "    </tr>\n",
       "    <tr>\n",
       "      <th>2013-01-02</th>\n",
       "      <td>0.145540</td>\n",
       "      <td>0.189054</td>\n",
       "      <td>0.146913</td>\n",
       "      <td>0.420898</td>\n",
       "    </tr>\n",
       "    <tr>\n",
       "      <th>2013-01-03</th>\n",
       "      <td>-0.952307</td>\n",
       "      <td>1.528567</td>\n",
       "      <td>0.732050</td>\n",
       "      <td>-1.218387</td>\n",
       "    </tr>\n",
       "    <tr>\n",
       "      <th>2013-01-04</th>\n",
       "      <td>0.131811</td>\n",
       "      <td>-0.877965</td>\n",
       "      <td>-1.164874</td>\n",
       "      <td>0.197635</td>\n",
       "    </tr>\n",
       "    <tr>\n",
       "      <th>2013-01-05</th>\n",
       "      <td>-1.401776</td>\n",
       "      <td>-0.755934</td>\n",
       "      <td>0.271662</td>\n",
       "      <td>1.104226</td>\n",
       "    </tr>\n",
       "    <tr>\n",
       "      <th>2013-01-06</th>\n",
       "      <td>-0.973918</td>\n",
       "      <td>0.001412</td>\n",
       "      <td>-0.372974</td>\n",
       "      <td>0.268363</td>\n",
       "    </tr>\n",
       "  </tbody>\n",
       "</table>\n",
       "</div>"
      ],
      "text/plain": [
       "                   A         B         C         D\n",
       "2013-01-01  0.209066  2.130952 -1.401477  1.150026\n",
       "2013-01-02  0.145540  0.189054  0.146913  0.420898\n",
       "2013-01-03 -0.952307  1.528567  0.732050 -1.218387\n",
       "2013-01-04  0.131811 -0.877965 -1.164874  0.197635\n",
       "2013-01-05 -1.401776 -0.755934  0.271662  1.104226\n",
       "2013-01-06 -0.973918  0.001412 -0.372974  0.268363"
      ]
     },
     "execution_count": 4,
     "metadata": {},
     "output_type": "execute_result"
    }
   ],
   "source": [
    "df = pd.DataFrame(np.random.randn(6, 4), index=dates, columns=list('ABCD'))\n",
    "df"
   ]
  },
  {
   "cell_type": "markdown",
   "id": "ideal-resort",
   "metadata": {},
   "source": [
    "# Create a DataFrame from a dict of objects"
   ]
  },
  {
   "cell_type": "code",
   "execution_count": 5,
   "id": "private-estimate",
   "metadata": {},
   "outputs": [
    {
     "data": {
      "text/html": [
       "<div>\n",
       "<style scoped>\n",
       "    .dataframe tbody tr th:only-of-type {\n",
       "        vertical-align: middle;\n",
       "    }\n",
       "\n",
       "    .dataframe tbody tr th {\n",
       "        vertical-align: top;\n",
       "    }\n",
       "\n",
       "    .dataframe thead th {\n",
       "        text-align: right;\n",
       "    }\n",
       "</style>\n",
       "<table border=\"1\" class=\"dataframe\">\n",
       "  <thead>\n",
       "    <tr style=\"text-align: right;\">\n",
       "      <th></th>\n",
       "      <th>A</th>\n",
       "      <th>B</th>\n",
       "      <th>C</th>\n",
       "      <th>D</th>\n",
       "      <th>E</th>\n",
       "      <th>F</th>\n",
       "    </tr>\n",
       "  </thead>\n",
       "  <tbody>\n",
       "    <tr>\n",
       "      <th>0</th>\n",
       "      <td>1.0</td>\n",
       "      <td>2013-01-02</td>\n",
       "      <td>1.0</td>\n",
       "      <td>3</td>\n",
       "      <td>test</td>\n",
       "      <td>foo</td>\n",
       "    </tr>\n",
       "    <tr>\n",
       "      <th>1</th>\n",
       "      <td>1.0</td>\n",
       "      <td>2013-01-02</td>\n",
       "      <td>1.0</td>\n",
       "      <td>3</td>\n",
       "      <td>train</td>\n",
       "      <td>foo</td>\n",
       "    </tr>\n",
       "    <tr>\n",
       "      <th>2</th>\n",
       "      <td>1.0</td>\n",
       "      <td>2013-01-02</td>\n",
       "      <td>1.0</td>\n",
       "      <td>3</td>\n",
       "      <td>test</td>\n",
       "      <td>foo</td>\n",
       "    </tr>\n",
       "    <tr>\n",
       "      <th>3</th>\n",
       "      <td>1.0</td>\n",
       "      <td>2013-01-02</td>\n",
       "      <td>1.0</td>\n",
       "      <td>3</td>\n",
       "      <td>train</td>\n",
       "      <td>foo</td>\n",
       "    </tr>\n",
       "  </tbody>\n",
       "</table>\n",
       "</div>"
      ],
      "text/plain": [
       "     A          B    C  D      E    F\n",
       "0  1.0 2013-01-02  1.0  3   test  foo\n",
       "1  1.0 2013-01-02  1.0  3  train  foo\n",
       "2  1.0 2013-01-02  1.0  3   test  foo\n",
       "3  1.0 2013-01-02  1.0  3  train  foo"
      ]
     },
     "execution_count": 5,
     "metadata": {},
     "output_type": "execute_result"
    }
   ],
   "source": [
    "df2 = pd.DataFrame({'A': 1.,\n",
    "                       'B': pd.Timestamp('20130102'),\n",
    "                       'C': pd.Series(1, index=list(range(4)), dtype='float32'),\n",
    "                       'D': np.array([3] * 4, dtype='int32'),\n",
    "                       'E': pd.Categorical([\"test\", \"train\", \"test\", \"train\"]),\n",
    "                       'F': 'foo'})\n",
    "df2"
   ]
  },
  {
   "cell_type": "markdown",
   "id": "c1e6af0c-bf33-4e20-b4b1-56d109f352d6",
   "metadata": {},
   "source": [
    "The columns of the resulting DataFrame have different dtypes."
   ]
  },
  {
   "cell_type": "code",
   "execution_count": 6,
   "id": "appreciated-pressure",
   "metadata": {},
   "outputs": [
    {
     "data": {
      "text/plain": [
       "A           float64\n",
       "B    datetime64[ns]\n",
       "C           float32\n",
       "D             int32\n",
       "E          category\n",
       "F            object\n",
       "dtype: object"
      ]
     },
     "execution_count": 6,
     "metadata": {},
     "output_type": "execute_result"
    }
   ],
   "source": [
    "df2.dtypes"
   ]
  },
  {
   "cell_type": "markdown",
   "id": "processed-action",
   "metadata": {},
   "source": [
    "In jupyter, ```tab``` completion for column names (as well as public attributes) is automatically enabled. Here’s a subset of the attributes that can be completed:"
   ]
  },
  {
   "cell_type": "code",
   "execution_count": 7,
   "id": "refined-appendix",
   "metadata": {},
   "outputs": [],
   "source": [
    "df2.# PRESS <TAB>"
   ]
  },
  {
   "cell_type": "markdown",
   "id": "hidden-ambassador",
   "metadata": {},
   "source": [
    "# Viewing Data\n",
    "Here is how to view the top and bottom rows of the frame:"
   ]
  },
  {
   "cell_type": "code",
   "execution_count": 8,
   "id": "maritime-gilbert",
   "metadata": {},
   "outputs": [
    {
     "data": {
      "text/html": [
       "<div>\n",
       "<style scoped>\n",
       "    .dataframe tbody tr th:only-of-type {\n",
       "        vertical-align: middle;\n",
       "    }\n",
       "\n",
       "    .dataframe tbody tr th {\n",
       "        vertical-align: top;\n",
       "    }\n",
       "\n",
       "    .dataframe thead th {\n",
       "        text-align: right;\n",
       "    }\n",
       "</style>\n",
       "<table border=\"1\" class=\"dataframe\">\n",
       "  <thead>\n",
       "    <tr style=\"text-align: right;\">\n",
       "      <th></th>\n",
       "      <th>A</th>\n",
       "      <th>B</th>\n",
       "      <th>C</th>\n",
       "      <th>D</th>\n",
       "    </tr>\n",
       "  </thead>\n",
       "  <tbody>\n",
       "    <tr>\n",
       "      <th>2013-01-01</th>\n",
       "      <td>0.209066</td>\n",
       "      <td>2.130952</td>\n",
       "      <td>-1.401477</td>\n",
       "      <td>1.150026</td>\n",
       "    </tr>\n",
       "    <tr>\n",
       "      <th>2013-01-02</th>\n",
       "      <td>0.145540</td>\n",
       "      <td>0.189054</td>\n",
       "      <td>0.146913</td>\n",
       "      <td>0.420898</td>\n",
       "    </tr>\n",
       "    <tr>\n",
       "      <th>2013-01-03</th>\n",
       "      <td>-0.952307</td>\n",
       "      <td>1.528567</td>\n",
       "      <td>0.732050</td>\n",
       "      <td>-1.218387</td>\n",
       "    </tr>\n",
       "    <tr>\n",
       "      <th>2013-01-04</th>\n",
       "      <td>0.131811</td>\n",
       "      <td>-0.877965</td>\n",
       "      <td>-1.164874</td>\n",
       "      <td>0.197635</td>\n",
       "    </tr>\n",
       "    <tr>\n",
       "      <th>2013-01-05</th>\n",
       "      <td>-1.401776</td>\n",
       "      <td>-0.755934</td>\n",
       "      <td>0.271662</td>\n",
       "      <td>1.104226</td>\n",
       "    </tr>\n",
       "  </tbody>\n",
       "</table>\n",
       "</div>"
      ],
      "text/plain": [
       "                   A         B         C         D\n",
       "2013-01-01  0.209066  2.130952 -1.401477  1.150026\n",
       "2013-01-02  0.145540  0.189054  0.146913  0.420898\n",
       "2013-01-03 -0.952307  1.528567  0.732050 -1.218387\n",
       "2013-01-04  0.131811 -0.877965 -1.164874  0.197635\n",
       "2013-01-05 -1.401776 -0.755934  0.271662  1.104226"
      ]
     },
     "execution_count": 8,
     "metadata": {},
     "output_type": "execute_result"
    }
   ],
   "source": [
    "df.head()"
   ]
  },
  {
   "cell_type": "code",
   "execution_count": 9,
   "id": "returning-camera",
   "metadata": {},
   "outputs": [
    {
     "data": {
      "text/html": [
       "<div>\n",
       "<style scoped>\n",
       "    .dataframe tbody tr th:only-of-type {\n",
       "        vertical-align: middle;\n",
       "    }\n",
       "\n",
       "    .dataframe tbody tr th {\n",
       "        vertical-align: top;\n",
       "    }\n",
       "\n",
       "    .dataframe thead th {\n",
       "        text-align: right;\n",
       "    }\n",
       "</style>\n",
       "<table border=\"1\" class=\"dataframe\">\n",
       "  <thead>\n",
       "    <tr style=\"text-align: right;\">\n",
       "      <th></th>\n",
       "      <th>A</th>\n",
       "      <th>B</th>\n",
       "      <th>C</th>\n",
       "      <th>D</th>\n",
       "    </tr>\n",
       "  </thead>\n",
       "  <tbody>\n",
       "    <tr>\n",
       "      <th>2013-01-04</th>\n",
       "      <td>0.131811</td>\n",
       "      <td>-0.877965</td>\n",
       "      <td>-1.164874</td>\n",
       "      <td>0.197635</td>\n",
       "    </tr>\n",
       "    <tr>\n",
       "      <th>2013-01-05</th>\n",
       "      <td>-1.401776</td>\n",
       "      <td>-0.755934</td>\n",
       "      <td>0.271662</td>\n",
       "      <td>1.104226</td>\n",
       "    </tr>\n",
       "    <tr>\n",
       "      <th>2013-01-06</th>\n",
       "      <td>-0.973918</td>\n",
       "      <td>0.001412</td>\n",
       "      <td>-0.372974</td>\n",
       "      <td>0.268363</td>\n",
       "    </tr>\n",
       "  </tbody>\n",
       "</table>\n",
       "</div>"
      ],
      "text/plain": [
       "                   A         B         C         D\n",
       "2013-01-04  0.131811 -0.877965 -1.164874  0.197635\n",
       "2013-01-05 -1.401776 -0.755934  0.271662  1.104226\n",
       "2013-01-06 -0.973918  0.001412 -0.372974  0.268363"
      ]
     },
     "execution_count": 9,
     "metadata": {},
     "output_type": "execute_result"
    }
   ],
   "source": [
    "df.tail(3)"
   ]
  },
  {
   "cell_type": "code",
   "execution_count": 10,
   "id": "intense-bones",
   "metadata": {},
   "outputs": [
    {
     "data": {
      "text/plain": [
       "DatetimeIndex(['2013-01-01', '2013-01-02', '2013-01-03', '2013-01-04',\n",
       "               '2013-01-05', '2013-01-06'],\n",
       "              dtype='datetime64[ns]', freq='D')"
      ]
     },
     "execution_count": 10,
     "metadata": {},
     "output_type": "execute_result"
    }
   ],
   "source": [
    "df.index"
   ]
  },
  {
   "cell_type": "code",
   "execution_count": 11,
   "id": "optical-neutral",
   "metadata": {},
   "outputs": [
    {
     "data": {
      "text/plain": [
       "Index(['A', 'B', 'C', 'D'], dtype='object')"
      ]
     },
     "execution_count": 11,
     "metadata": {},
     "output_type": "execute_result"
    }
   ],
   "source": [
    "df.columns"
   ]
  },
  {
   "cell_type": "markdown",
   "id": "dressed-prompt",
   "metadata": {},
   "source": [
    "# Convert DataFrame to numpy array.\n",
    "\n"
   ]
  },
  {
   "cell_type": "code",
   "execution_count": 12,
   "id": "secondary-catering",
   "metadata": {},
   "outputs": [
    {
     "data": {
      "text/plain": [
       "array([[ 2.09065900e-01,  2.13095199e+00, -1.40147712e+00,\n",
       "         1.15002620e+00],\n",
       "       [ 1.45540036e-01,  1.89053825e-01,  1.46912626e-01,\n",
       "         4.20898345e-01],\n",
       "       [-9.52307288e-01,  1.52856733e+00,  7.32049713e-01,\n",
       "        -1.21838740e+00],\n",
       "       [ 1.31811368e-01, -8.77964738e-01, -1.16487398e+00,\n",
       "         1.97634945e-01],\n",
       "       [-1.40177619e+00, -7.55934176e-01,  2.71662197e-01,\n",
       "         1.10422564e+00],\n",
       "       [-9.73917594e-01,  1.41151997e-03, -3.72974255e-01,\n",
       "         2.68362607e-01]])"
      ]
     },
     "execution_count": 12,
     "metadata": {},
     "output_type": "execute_result"
    }
   ],
   "source": [
    "df.to_numpy()"
   ]
  },
  {
   "cell_type": "markdown",
   "id": "loose-style",
   "metadata": {},
   "source": [
    "NumPy arrays have one dtype for the entire array, while pandas DataFrames have one dtype per column. When you call DataFrame.to_numpy(), pandas will find the NumPy dtype that can hold all of the dtypes in the DataFrame. This may end up being object, which requires casting every value to a Python object. This can lead to very expensive (time and memory consuming) operation."
   ]
  },
  {
   "cell_type": "code",
   "execution_count": 13,
   "id": "surgical-quarterly",
   "metadata": {},
   "outputs": [
    {
     "data": {
      "text/html": [
       "<div>\n",
       "<style scoped>\n",
       "    .dataframe tbody tr th:only-of-type {\n",
       "        vertical-align: middle;\n",
       "    }\n",
       "\n",
       "    .dataframe tbody tr th {\n",
       "        vertical-align: top;\n",
       "    }\n",
       "\n",
       "    .dataframe thead th {\n",
       "        text-align: right;\n",
       "    }\n",
       "</style>\n",
       "<table border=\"1\" class=\"dataframe\">\n",
       "  <thead>\n",
       "    <tr style=\"text-align: right;\">\n",
       "      <th></th>\n",
       "      <th>A</th>\n",
       "      <th>B</th>\n",
       "      <th>C</th>\n",
       "      <th>D</th>\n",
       "    </tr>\n",
       "  </thead>\n",
       "  <tbody>\n",
       "    <tr>\n",
       "      <th>count</th>\n",
       "      <td>6.000000</td>\n",
       "      <td>6.000000</td>\n",
       "      <td>6.000000</td>\n",
       "      <td>6.000000</td>\n",
       "    </tr>\n",
       "    <tr>\n",
       "      <th>mean</th>\n",
       "      <td>-0.473597</td>\n",
       "      <td>0.369348</td>\n",
       "      <td>-0.298117</td>\n",
       "      <td>0.320460</td>\n",
       "    </tr>\n",
       "    <tr>\n",
       "      <th>std</th>\n",
       "      <td>0.715106</td>\n",
       "      <td>1.219588</td>\n",
       "      <td>0.843590</td>\n",
       "      <td>0.860047</td>\n",
       "    </tr>\n",
       "    <tr>\n",
       "      <th>min</th>\n",
       "      <td>-1.401776</td>\n",
       "      <td>-0.877965</td>\n",
       "      <td>-1.401477</td>\n",
       "      <td>-1.218387</td>\n",
       "    </tr>\n",
       "    <tr>\n",
       "      <th>25%</th>\n",
       "      <td>-0.968515</td>\n",
       "      <td>-0.566598</td>\n",
       "      <td>-0.966899</td>\n",
       "      <td>0.215317</td>\n",
       "    </tr>\n",
       "    <tr>\n",
       "      <th>50%</th>\n",
       "      <td>-0.410248</td>\n",
       "      <td>0.095233</td>\n",
       "      <td>-0.113031</td>\n",
       "      <td>0.344630</td>\n",
       "    </tr>\n",
       "    <tr>\n",
       "      <th>75%</th>\n",
       "      <td>0.142108</td>\n",
       "      <td>1.193689</td>\n",
       "      <td>0.240475</td>\n",
       "      <td>0.933394</td>\n",
       "    </tr>\n",
       "    <tr>\n",
       "      <th>max</th>\n",
       "      <td>0.209066</td>\n",
       "      <td>2.130952</td>\n",
       "      <td>0.732050</td>\n",
       "      <td>1.150026</td>\n",
       "    </tr>\n",
       "  </tbody>\n",
       "</table>\n",
       "</div>"
      ],
      "text/plain": [
       "              A         B         C         D\n",
       "count  6.000000  6.000000  6.000000  6.000000\n",
       "mean  -0.473597  0.369348 -0.298117  0.320460\n",
       "std    0.715106  1.219588  0.843590  0.860047\n",
       "min   -1.401776 -0.877965 -1.401477 -1.218387\n",
       "25%   -0.968515 -0.566598 -0.966899  0.215317\n",
       "50%   -0.410248  0.095233 -0.113031  0.344630\n",
       "75%    0.142108  1.193689  0.240475  0.933394\n",
       "max    0.209066  2.130952  0.732050  1.150026"
      ]
     },
     "execution_count": 13,
     "metadata": {},
     "output_type": "execute_result"
    }
   ],
   "source": [
    "df.describe() # shows a quick statistic summary of your data"
   ]
  },
  {
   "cell_type": "code",
   "execution_count": 14,
   "id": "center-france",
   "metadata": {},
   "outputs": [
    {
     "data": {
      "text/html": [
       "<div>\n",
       "<style scoped>\n",
       "    .dataframe tbody tr th:only-of-type {\n",
       "        vertical-align: middle;\n",
       "    }\n",
       "\n",
       "    .dataframe tbody tr th {\n",
       "        vertical-align: top;\n",
       "    }\n",
       "\n",
       "    .dataframe thead th {\n",
       "        text-align: right;\n",
       "    }\n",
       "</style>\n",
       "<table border=\"1\" class=\"dataframe\">\n",
       "  <thead>\n",
       "    <tr style=\"text-align: right;\">\n",
       "      <th></th>\n",
       "      <th>2013-01-01</th>\n",
       "      <th>2013-01-02</th>\n",
       "      <th>2013-01-03</th>\n",
       "      <th>2013-01-04</th>\n",
       "      <th>2013-01-05</th>\n",
       "      <th>2013-01-06</th>\n",
       "    </tr>\n",
       "  </thead>\n",
       "  <tbody>\n",
       "    <tr>\n",
       "      <th>A</th>\n",
       "      <td>0.209066</td>\n",
       "      <td>0.145540</td>\n",
       "      <td>-0.952307</td>\n",
       "      <td>0.131811</td>\n",
       "      <td>-1.401776</td>\n",
       "      <td>-0.973918</td>\n",
       "    </tr>\n",
       "    <tr>\n",
       "      <th>B</th>\n",
       "      <td>2.130952</td>\n",
       "      <td>0.189054</td>\n",
       "      <td>1.528567</td>\n",
       "      <td>-0.877965</td>\n",
       "      <td>-0.755934</td>\n",
       "      <td>0.001412</td>\n",
       "    </tr>\n",
       "    <tr>\n",
       "      <th>C</th>\n",
       "      <td>-1.401477</td>\n",
       "      <td>0.146913</td>\n",
       "      <td>0.732050</td>\n",
       "      <td>-1.164874</td>\n",
       "      <td>0.271662</td>\n",
       "      <td>-0.372974</td>\n",
       "    </tr>\n",
       "    <tr>\n",
       "      <th>D</th>\n",
       "      <td>1.150026</td>\n",
       "      <td>0.420898</td>\n",
       "      <td>-1.218387</td>\n",
       "      <td>0.197635</td>\n",
       "      <td>1.104226</td>\n",
       "      <td>0.268363</td>\n",
       "    </tr>\n",
       "  </tbody>\n",
       "</table>\n",
       "</div>"
      ],
      "text/plain": [
       "   2013-01-01  2013-01-02  2013-01-03  2013-01-04  2013-01-05  2013-01-06\n",
       "A    0.209066    0.145540   -0.952307    0.131811   -1.401776   -0.973918\n",
       "B    2.130952    0.189054    1.528567   -0.877965   -0.755934    0.001412\n",
       "C   -1.401477    0.146913    0.732050   -1.164874    0.271662   -0.372974\n",
       "D    1.150026    0.420898   -1.218387    0.197635    1.104226    0.268363"
      ]
     },
     "execution_count": 14,
     "metadata": {},
     "output_type": "execute_result"
    }
   ],
   "source": [
    "# transpose the data\n",
    "df.T"
   ]
  },
  {
   "cell_type": "code",
   "execution_count": 15,
   "id": "interpreted-concentration",
   "metadata": {},
   "outputs": [
    {
     "data": {
      "text/html": [
       "<div>\n",
       "<style scoped>\n",
       "    .dataframe tbody tr th:only-of-type {\n",
       "        vertical-align: middle;\n",
       "    }\n",
       "\n",
       "    .dataframe tbody tr th {\n",
       "        vertical-align: top;\n",
       "    }\n",
       "\n",
       "    .dataframe thead th {\n",
       "        text-align: right;\n",
       "    }\n",
       "</style>\n",
       "<table border=\"1\" class=\"dataframe\">\n",
       "  <thead>\n",
       "    <tr style=\"text-align: right;\">\n",
       "      <th></th>\n",
       "      <th>D</th>\n",
       "      <th>C</th>\n",
       "      <th>B</th>\n",
       "      <th>A</th>\n",
       "    </tr>\n",
       "  </thead>\n",
       "  <tbody>\n",
       "    <tr>\n",
       "      <th>2013-01-01</th>\n",
       "      <td>1.150026</td>\n",
       "      <td>-1.401477</td>\n",
       "      <td>2.130952</td>\n",
       "      <td>0.209066</td>\n",
       "    </tr>\n",
       "    <tr>\n",
       "      <th>2013-01-02</th>\n",
       "      <td>0.420898</td>\n",
       "      <td>0.146913</td>\n",
       "      <td>0.189054</td>\n",
       "      <td>0.145540</td>\n",
       "    </tr>\n",
       "    <tr>\n",
       "      <th>2013-01-03</th>\n",
       "      <td>-1.218387</td>\n",
       "      <td>0.732050</td>\n",
       "      <td>1.528567</td>\n",
       "      <td>-0.952307</td>\n",
       "    </tr>\n",
       "    <tr>\n",
       "      <th>2013-01-04</th>\n",
       "      <td>0.197635</td>\n",
       "      <td>-1.164874</td>\n",
       "      <td>-0.877965</td>\n",
       "      <td>0.131811</td>\n",
       "    </tr>\n",
       "    <tr>\n",
       "      <th>2013-01-05</th>\n",
       "      <td>1.104226</td>\n",
       "      <td>0.271662</td>\n",
       "      <td>-0.755934</td>\n",
       "      <td>-1.401776</td>\n",
       "    </tr>\n",
       "    <tr>\n",
       "      <th>2013-01-06</th>\n",
       "      <td>0.268363</td>\n",
       "      <td>-0.372974</td>\n",
       "      <td>0.001412</td>\n",
       "      <td>-0.973918</td>\n",
       "    </tr>\n",
       "  </tbody>\n",
       "</table>\n",
       "</div>"
      ],
      "text/plain": [
       "                   D         C         B         A\n",
       "2013-01-01  1.150026 -1.401477  2.130952  0.209066\n",
       "2013-01-02  0.420898  0.146913  0.189054  0.145540\n",
       "2013-01-03 -1.218387  0.732050  1.528567 -0.952307\n",
       "2013-01-04  0.197635 -1.164874 -0.877965  0.131811\n",
       "2013-01-05  1.104226  0.271662 -0.755934 -1.401776\n",
       "2013-01-06  0.268363 -0.372974  0.001412 -0.973918"
      ]
     },
     "execution_count": 15,
     "metadata": {},
     "output_type": "execute_result"
    }
   ],
   "source": [
    "# sort by column name\n",
    "df.sort_index(axis=1, ascending=False)"
   ]
  },
  {
   "cell_type": "code",
   "execution_count": 16,
   "id": "indonesian-commodity",
   "metadata": {},
   "outputs": [
    {
     "data": {
      "text/html": [
       "<div>\n",
       "<style scoped>\n",
       "    .dataframe tbody tr th:only-of-type {\n",
       "        vertical-align: middle;\n",
       "    }\n",
       "\n",
       "    .dataframe tbody tr th {\n",
       "        vertical-align: top;\n",
       "    }\n",
       "\n",
       "    .dataframe thead th {\n",
       "        text-align: right;\n",
       "    }\n",
       "</style>\n",
       "<table border=\"1\" class=\"dataframe\">\n",
       "  <thead>\n",
       "    <tr style=\"text-align: right;\">\n",
       "      <th></th>\n",
       "      <th>A</th>\n",
       "      <th>B</th>\n",
       "      <th>C</th>\n",
       "      <th>D</th>\n",
       "    </tr>\n",
       "  </thead>\n",
       "  <tbody>\n",
       "    <tr>\n",
       "      <th>2013-01-04</th>\n",
       "      <td>0.131811</td>\n",
       "      <td>-0.877965</td>\n",
       "      <td>-1.164874</td>\n",
       "      <td>0.197635</td>\n",
       "    </tr>\n",
       "    <tr>\n",
       "      <th>2013-01-05</th>\n",
       "      <td>-1.401776</td>\n",
       "      <td>-0.755934</td>\n",
       "      <td>0.271662</td>\n",
       "      <td>1.104226</td>\n",
       "    </tr>\n",
       "    <tr>\n",
       "      <th>2013-01-06</th>\n",
       "      <td>-0.973918</td>\n",
       "      <td>0.001412</td>\n",
       "      <td>-0.372974</td>\n",
       "      <td>0.268363</td>\n",
       "    </tr>\n",
       "    <tr>\n",
       "      <th>2013-01-02</th>\n",
       "      <td>0.145540</td>\n",
       "      <td>0.189054</td>\n",
       "      <td>0.146913</td>\n",
       "      <td>0.420898</td>\n",
       "    </tr>\n",
       "    <tr>\n",
       "      <th>2013-01-03</th>\n",
       "      <td>-0.952307</td>\n",
       "      <td>1.528567</td>\n",
       "      <td>0.732050</td>\n",
       "      <td>-1.218387</td>\n",
       "    </tr>\n",
       "    <tr>\n",
       "      <th>2013-01-01</th>\n",
       "      <td>0.209066</td>\n",
       "      <td>2.130952</td>\n",
       "      <td>-1.401477</td>\n",
       "      <td>1.150026</td>\n",
       "    </tr>\n",
       "  </tbody>\n",
       "</table>\n",
       "</div>"
      ],
      "text/plain": [
       "                   A         B         C         D\n",
       "2013-01-04  0.131811 -0.877965 -1.164874  0.197635\n",
       "2013-01-05 -1.401776 -0.755934  0.271662  1.104226\n",
       "2013-01-06 -0.973918  0.001412 -0.372974  0.268363\n",
       "2013-01-02  0.145540  0.189054  0.146913  0.420898\n",
       "2013-01-03 -0.952307  1.528567  0.732050 -1.218387\n",
       "2013-01-01  0.209066  2.130952 -1.401477  1.150026"
      ]
     },
     "execution_count": 16,
     "metadata": {},
     "output_type": "execute_result"
    }
   ],
   "source": [
    "# We can also sort DataFrame by values in specific column.\n",
    "df.sort_values(by='B')"
   ]
  },
  {
   "cell_type": "markdown",
   "id": "arctic-bidding",
   "metadata": {},
   "source": [
    "# Data Filtering"
   ]
  },
  {
   "cell_type": "code",
   "execution_count": 17,
   "id": "outer-eligibility",
   "metadata": {},
   "outputs": [],
   "source": [
    "dates = pd.date_range('20130101', periods=6)\n",
    "df = pd.DataFrame(np.random.randn(6, 4), index=dates, columns=list('ABCD'))"
   ]
  },
  {
   "cell_type": "code",
   "execution_count": 18,
   "id": "naughty-advocacy",
   "metadata": {},
   "outputs": [],
   "source": [
    "df2 = pd.DataFrame({'A': 1.,\n",
    "                        'B': pd.Timestamp('20130102'),\n",
    "                        'C': pd.Series(1, index=list(range(4)), dtype='float32'),\n",
    "                        'D': np.array([3] * 4, dtype='int32'),\n",
    "                        'E': pd.Categorical([\"test\", \"train\", \"test\", \"train\"]),\n",
    "                        'F': 'foo'})\n"
   ]
  },
  {
   "cell_type": "markdown",
   "id": "anonymous-district",
   "metadata": {},
   "source": [
    "## Getting Values"
   ]
  },
  {
   "cell_type": "markdown",
   "id": "ambient-township",
   "metadata": {},
   "source": [
    "| Operation | Syntax | Result |\n",
    "| --- | --- | --- |\n",
    "| Select column\t| ```df[col]``` |\tSeries |\n",
    "| Select row by label | ```df.loc[label]``` | Series |\n",
    "| Select row by integer location |```df.iloc[loc]``` | Series |\n",
    "| Slice rows | ```df[5:10]```\t| DataFrame |\n",
    "| Select rows by boolean vector\t| ```df[bool_vec]```\t| DataFrame |"
   ]
  },
  {
   "cell_type": "markdown",
   "id": "d28ac043-954b-44a1-9d96-463efde97807",
   "metadata": {},
   "source": [
    "Select a single column."
   ]
  },
  {
   "cell_type": "code",
   "execution_count": 19,
   "id": "miniature-helena",
   "metadata": {},
   "outputs": [
    {
     "data": {
      "text/plain": [
       "2013-01-01    0.727984\n",
       "2013-01-02   -1.217949\n",
       "2013-01-03    0.234263\n",
       "2013-01-04   -0.852261\n",
       "2013-01-05    1.205890\n",
       "2013-01-06    1.099223\n",
       "Freq: D, Name: A, dtype: float64"
      ]
     },
     "execution_count": 19,
     "metadata": {},
     "output_type": "execute_result"
    }
   ],
   "source": [
    "df['A']"
   ]
  },
  {
   "cell_type": "code",
   "execution_count": 20,
   "id": "choice-sustainability",
   "metadata": {},
   "outputs": [
    {
     "data": {
      "text/plain": [
       "2013-01-01    0.727984\n",
       "2013-01-02   -1.217949\n",
       "2013-01-03    0.234263\n",
       "2013-01-04   -0.852261\n",
       "2013-01-05    1.205890\n",
       "2013-01-06    1.099223\n",
       "Freq: D, Name: A, dtype: float64"
      ]
     },
     "execution_count": 20,
     "metadata": {},
     "output_type": "execute_result"
    }
   ],
   "source": [
    "df.A # equivalent method of calling the column"
   ]
  },
  {
   "cell_type": "markdown",
   "id": "64fbc6fc-08ab-47af-9106-d95e1aeb3510",
   "metadata": {},
   "source": [
    "The first of the above two options is recommended because it avoids possible conflicts with any of the DataFrame methods.\n",
    "\n",
    "Selecting via `[]`, which slices the rows."
   ]
  },
  {
   "cell_type": "code",
   "execution_count": 21,
   "id": "bronze-introduction",
   "metadata": {},
   "outputs": [
    {
     "data": {
      "text/html": [
       "<div>\n",
       "<style scoped>\n",
       "    .dataframe tbody tr th:only-of-type {\n",
       "        vertical-align: middle;\n",
       "    }\n",
       "\n",
       "    .dataframe tbody tr th {\n",
       "        vertical-align: top;\n",
       "    }\n",
       "\n",
       "    .dataframe thead th {\n",
       "        text-align: right;\n",
       "    }\n",
       "</style>\n",
       "<table border=\"1\" class=\"dataframe\">\n",
       "  <thead>\n",
       "    <tr style=\"text-align: right;\">\n",
       "      <th></th>\n",
       "      <th>A</th>\n",
       "      <th>B</th>\n",
       "      <th>C</th>\n",
       "      <th>D</th>\n",
       "    </tr>\n",
       "  </thead>\n",
       "  <tbody>\n",
       "    <tr>\n",
       "      <th>2013-01-01</th>\n",
       "      <td>0.727984</td>\n",
       "      <td>-1.617090</td>\n",
       "      <td>0.924986</td>\n",
       "      <td>-0.501922</td>\n",
       "    </tr>\n",
       "    <tr>\n",
       "      <th>2013-01-02</th>\n",
       "      <td>-1.217949</td>\n",
       "      <td>-0.536806</td>\n",
       "      <td>2.212739</td>\n",
       "      <td>-1.664632</td>\n",
       "    </tr>\n",
       "    <tr>\n",
       "      <th>2013-01-03</th>\n",
       "      <td>0.234263</td>\n",
       "      <td>-1.038110</td>\n",
       "      <td>-1.533451</td>\n",
       "      <td>1.221825</td>\n",
       "    </tr>\n",
       "  </tbody>\n",
       "</table>\n",
       "</div>"
      ],
      "text/plain": [
       "                   A         B         C         D\n",
       "2013-01-01  0.727984 -1.617090  0.924986 -0.501922\n",
       "2013-01-02 -1.217949 -0.536806  2.212739 -1.664632\n",
       "2013-01-03  0.234263 -1.038110 -1.533451  1.221825"
      ]
     },
     "execution_count": 21,
     "metadata": {},
     "output_type": "execute_result"
    }
   ],
   "source": [
    "df[0:3] # slicing the rows"
   ]
  },
  {
   "cell_type": "code",
   "execution_count": 22,
   "id": "breeding-density",
   "metadata": {},
   "outputs": [
    {
     "data": {
      "text/html": [
       "<div>\n",
       "<style scoped>\n",
       "    .dataframe tbody tr th:only-of-type {\n",
       "        vertical-align: middle;\n",
       "    }\n",
       "\n",
       "    .dataframe tbody tr th {\n",
       "        vertical-align: top;\n",
       "    }\n",
       "\n",
       "    .dataframe thead th {\n",
       "        text-align: right;\n",
       "    }\n",
       "</style>\n",
       "<table border=\"1\" class=\"dataframe\">\n",
       "  <thead>\n",
       "    <tr style=\"text-align: right;\">\n",
       "      <th></th>\n",
       "      <th>A</th>\n",
       "      <th>B</th>\n",
       "      <th>C</th>\n",
       "      <th>D</th>\n",
       "    </tr>\n",
       "  </thead>\n",
       "  <tbody>\n",
       "    <tr>\n",
       "      <th>2013-01-02</th>\n",
       "      <td>-1.217949</td>\n",
       "      <td>-0.536806</td>\n",
       "      <td>2.212739</td>\n",
       "      <td>-1.664632</td>\n",
       "    </tr>\n",
       "    <tr>\n",
       "      <th>2013-01-03</th>\n",
       "      <td>0.234263</td>\n",
       "      <td>-1.038110</td>\n",
       "      <td>-1.533451</td>\n",
       "      <td>1.221825</td>\n",
       "    </tr>\n",
       "    <tr>\n",
       "      <th>2013-01-04</th>\n",
       "      <td>-0.852261</td>\n",
       "      <td>0.160874</td>\n",
       "      <td>-1.107833</td>\n",
       "      <td>1.150848</td>\n",
       "    </tr>\n",
       "  </tbody>\n",
       "</table>\n",
       "</div>"
      ],
      "text/plain": [
       "                   A         B         C         D\n",
       "2013-01-02 -1.217949 -0.536806  2.212739 -1.664632\n",
       "2013-01-03  0.234263 -1.038110 -1.533451  1.221825\n",
       "2013-01-04 -0.852261  0.160874 -1.107833  1.150848"
      ]
     },
     "execution_count": 22,
     "metadata": {},
     "output_type": "execute_result"
    }
   ],
   "source": [
    "df['20130102':'20130104']"
   ]
  },
  {
   "cell_type": "markdown",
   "id": "sharing-surveillance",
   "metadata": {},
   "source": [
    "# Selection by label\n"
   ]
  },
  {
   "cell_type": "code",
   "execution_count": 23,
   "id": "bright-bottom",
   "metadata": {},
   "outputs": [
    {
     "data": {
      "text/plain": [
       "A    0.727984\n",
       "B   -1.617090\n",
       "C    0.924986\n",
       "D   -0.501922\n",
       "Name: 2013-01-01 00:00:00, dtype: float64"
      ]
     },
     "execution_count": 23,
     "metadata": {},
     "output_type": "execute_result"
    }
   ],
   "source": [
    "df.loc[\"2013-01-01\"] # select first row based on index value"
   ]
  },
  {
   "cell_type": "code",
   "execution_count": 24,
   "id": "distributed-exercise",
   "metadata": {},
   "outputs": [
    {
     "data": {
      "text/html": [
       "<div>\n",
       "<style scoped>\n",
       "    .dataframe tbody tr th:only-of-type {\n",
       "        vertical-align: middle;\n",
       "    }\n",
       "\n",
       "    .dataframe tbody tr th {\n",
       "        vertical-align: top;\n",
       "    }\n",
       "\n",
       "    .dataframe thead th {\n",
       "        text-align: right;\n",
       "    }\n",
       "</style>\n",
       "<table border=\"1\" class=\"dataframe\">\n",
       "  <thead>\n",
       "    <tr style=\"text-align: right;\">\n",
       "      <th></th>\n",
       "      <th>A</th>\n",
       "      <th>B</th>\n",
       "    </tr>\n",
       "  </thead>\n",
       "  <tbody>\n",
       "    <tr>\n",
       "      <th>2013-01-01</th>\n",
       "      <td>0.727984</td>\n",
       "      <td>-1.617090</td>\n",
       "    </tr>\n",
       "    <tr>\n",
       "      <th>2013-01-02</th>\n",
       "      <td>-1.217949</td>\n",
       "      <td>-0.536806</td>\n",
       "    </tr>\n",
       "    <tr>\n",
       "      <th>2013-01-03</th>\n",
       "      <td>0.234263</td>\n",
       "      <td>-1.038110</td>\n",
       "    </tr>\n",
       "    <tr>\n",
       "      <th>2013-01-04</th>\n",
       "      <td>-0.852261</td>\n",
       "      <td>0.160874</td>\n",
       "    </tr>\n",
       "    <tr>\n",
       "      <th>2013-01-05</th>\n",
       "      <td>1.205890</td>\n",
       "      <td>-0.024379</td>\n",
       "    </tr>\n",
       "    <tr>\n",
       "      <th>2013-01-06</th>\n",
       "      <td>1.099223</td>\n",
       "      <td>-0.238357</td>\n",
       "    </tr>\n",
       "  </tbody>\n",
       "</table>\n",
       "</div>"
      ],
      "text/plain": [
       "                   A         B\n",
       "2013-01-01  0.727984 -1.617090\n",
       "2013-01-02 -1.217949 -0.536806\n",
       "2013-01-03  0.234263 -1.038110\n",
       "2013-01-04 -0.852261  0.160874\n",
       "2013-01-05  1.205890 -0.024379\n",
       "2013-01-06  1.099223 -0.238357"
      ]
     },
     "execution_count": 24,
     "metadata": {},
     "output_type": "execute_result"
    }
   ],
   "source": [
    "df.loc[:, ['A', 'B']] # select one column by column names"
   ]
  },
  {
   "cell_type": "markdown",
   "id": "b47c0472-41b5-4bd2-a8b3-6e7611438144",
   "metadata": {},
   "source": [
    "`:` represents that we want to take all the rows as well as the list, `['A', 'B']`, which represents the columns.\n",
    "\n",
    "We can also use label slicing and include both endpoints:"
   ]
  },
  {
   "cell_type": "code",
   "execution_count": 25,
   "id": "helpful-premises",
   "metadata": {},
   "outputs": [
    {
     "data": {
      "text/html": [
       "<div>\n",
       "<style scoped>\n",
       "    .dataframe tbody tr th:only-of-type {\n",
       "        vertical-align: middle;\n",
       "    }\n",
       "\n",
       "    .dataframe tbody tr th {\n",
       "        vertical-align: top;\n",
       "    }\n",
       "\n",
       "    .dataframe thead th {\n",
       "        text-align: right;\n",
       "    }\n",
       "</style>\n",
       "<table border=\"1\" class=\"dataframe\">\n",
       "  <thead>\n",
       "    <tr style=\"text-align: right;\">\n",
       "      <th></th>\n",
       "      <th>A</th>\n",
       "      <th>B</th>\n",
       "    </tr>\n",
       "  </thead>\n",
       "  <tbody>\n",
       "    <tr>\n",
       "      <th>2013-01-02</th>\n",
       "      <td>-1.217949</td>\n",
       "      <td>-0.536806</td>\n",
       "    </tr>\n",
       "    <tr>\n",
       "      <th>2013-01-03</th>\n",
       "      <td>0.234263</td>\n",
       "      <td>-1.038110</td>\n",
       "    </tr>\n",
       "    <tr>\n",
       "      <th>2013-01-04</th>\n",
       "      <td>-0.852261</td>\n",
       "      <td>0.160874</td>\n",
       "    </tr>\n",
       "  </tbody>\n",
       "</table>\n",
       "</div>"
      ],
      "text/plain": [
       "                   A         B\n",
       "2013-01-02 -1.217949 -0.536806\n",
       "2013-01-03  0.234263 -1.038110\n",
       "2013-01-04 -0.852261  0.160874"
      ]
     },
     "execution_count": 25,
     "metadata": {},
     "output_type": "execute_result"
    }
   ],
   "source": [
    "df.loc['20130102':'20130104', ['A', 'B']] # we can use label slicing and include both endpoints"
   ]
  },
  {
   "cell_type": "markdown",
   "id": "a4324b79-ede5-4a57-bcb5-bd21d03207a0",
   "metadata": {},
   "source": [
    "The data type of the returned object is automatically changed based on the dimension of the object.\n",
    "\n",
    "A dimension indicates the shape of the object. For example, `DataFrame` is made of rows and columns therefore, its dimension is 2. `Series`, on the other hand, has dimension 1 because there are no columns in `Series`."
   ]
  },
  {
   "cell_type": "code",
   "execution_count": 26,
   "id": "overhead-cylinder",
   "metadata": {},
   "outputs": [
    {
     "data": {
      "text/plain": [
       "A   -1.217949\n",
       "B   -0.536806\n",
       "Name: 2013-01-02 00:00:00, dtype: float64"
      ]
     },
     "execution_count": 26,
     "metadata": {},
     "output_type": "execute_result"
    }
   ],
   "source": [
    "df.loc['20130102', ['A', 'B']] # for scalar there is only one dimension"
   ]
  },
  {
   "cell_type": "code",
   "execution_count": 27,
   "id": "intense-premium",
   "metadata": {},
   "outputs": [
    {
     "data": {
      "text/plain": [
       "0.7279839234319424"
      ]
     },
     "execution_count": 27,
     "metadata": {},
     "output_type": "execute_result"
    }
   ],
   "source": [
    "df.loc[dates[0], 'A']"
   ]
  },
  {
   "cell_type": "markdown",
   "id": "forced-costume",
   "metadata": {},
   "source": [
    "# Selection by Position"
   ]
  },
  {
   "cell_type": "markdown",
   "id": "difficult-smell",
   "metadata": {},
   "source": [
    "We can also select based on the actual position in DataFrame"
   ]
  },
  {
   "cell_type": "code",
   "execution_count": 28,
   "id": "muslim-withdrawal",
   "metadata": {},
   "outputs": [
    {
     "data": {
      "text/plain": [
       "A   -0.852261\n",
       "B    0.160874\n",
       "C   -1.107833\n",
       "D    1.150848\n",
       "Name: 2013-01-04 00:00:00, dtype: float64"
      ]
     },
     "execution_count": 28,
     "metadata": {},
     "output_type": "execute_result"
    }
   ],
   "source": [
    "df.iloc[3]"
   ]
  },
  {
   "cell_type": "code",
   "execution_count": 29,
   "id": "incorporate-marine",
   "metadata": {},
   "outputs": [
    {
     "data": {
      "text/html": [
       "<div>\n",
       "<style scoped>\n",
       "    .dataframe tbody tr th:only-of-type {\n",
       "        vertical-align: middle;\n",
       "    }\n",
       "\n",
       "    .dataframe tbody tr th {\n",
       "        vertical-align: top;\n",
       "    }\n",
       "\n",
       "    .dataframe thead th {\n",
       "        text-align: right;\n",
       "    }\n",
       "</style>\n",
       "<table border=\"1\" class=\"dataframe\">\n",
       "  <thead>\n",
       "    <tr style=\"text-align: right;\">\n",
       "      <th></th>\n",
       "      <th>A</th>\n",
       "      <th>B</th>\n",
       "    </tr>\n",
       "  </thead>\n",
       "  <tbody>\n",
       "    <tr>\n",
       "      <th>2013-01-04</th>\n",
       "      <td>-0.852261</td>\n",
       "      <td>0.160874</td>\n",
       "    </tr>\n",
       "    <tr>\n",
       "      <th>2013-01-05</th>\n",
       "      <td>1.205890</td>\n",
       "      <td>-0.024379</td>\n",
       "    </tr>\n",
       "  </tbody>\n",
       "</table>\n",
       "</div>"
      ],
      "text/plain": [
       "                   A         B\n",
       "2013-01-04 -0.852261  0.160874\n",
       "2013-01-05  1.205890 -0.024379"
      ]
     },
     "execution_count": 29,
     "metadata": {},
     "output_type": "execute_result"
    }
   ],
   "source": [
    "df.iloc[3:5, 0:2] # slicing is available in a similar way to numpy/python style"
   ]
  },
  {
   "cell_type": "code",
   "execution_count": 30,
   "id": "graduate-executive",
   "metadata": {},
   "outputs": [
    {
     "data": {
      "text/html": [
       "<div>\n",
       "<style scoped>\n",
       "    .dataframe tbody tr th:only-of-type {\n",
       "        vertical-align: middle;\n",
       "    }\n",
       "\n",
       "    .dataframe tbody tr th {\n",
       "        vertical-align: top;\n",
       "    }\n",
       "\n",
       "    .dataframe thead th {\n",
       "        text-align: right;\n",
       "    }\n",
       "</style>\n",
       "<table border=\"1\" class=\"dataframe\">\n",
       "  <thead>\n",
       "    <tr style=\"text-align: right;\">\n",
       "      <th></th>\n",
       "      <th>A</th>\n",
       "      <th>B</th>\n",
       "      <th>C</th>\n",
       "      <th>D</th>\n",
       "    </tr>\n",
       "  </thead>\n",
       "  <tbody>\n",
       "    <tr>\n",
       "      <th>2013-01-02</th>\n",
       "      <td>-1.217949</td>\n",
       "      <td>-0.536806</td>\n",
       "      <td>2.212739</td>\n",
       "      <td>-1.664632</td>\n",
       "    </tr>\n",
       "    <tr>\n",
       "      <th>2013-01-03</th>\n",
       "      <td>0.234263</td>\n",
       "      <td>-1.038110</td>\n",
       "      <td>-1.533451</td>\n",
       "      <td>1.221825</td>\n",
       "    </tr>\n",
       "  </tbody>\n",
       "</table>\n",
       "</div>"
      ],
      "text/plain": [
       "                   A         B         C         D\n",
       "2013-01-02 -1.217949 -0.536806  2.212739 -1.664632\n",
       "2013-01-03  0.234263 -1.038110 -1.533451  1.221825"
      ]
     },
     "execution_count": 30,
     "metadata": {},
     "output_type": "execute_result"
    }
   ],
   "source": [
    "df.iloc[1:3, :] # if we want to take all rows, we use : again.\n",
    "# Similarly, we can use : to take all the columns as well."
   ]
  },
  {
   "cell_type": "markdown",
   "id": "double-valuation",
   "metadata": {},
   "source": [
    "# Selection by dtype"
   ]
  },
  {
   "cell_type": "markdown",
   "id": "competitive-pricing",
   "metadata": {},
   "source": [
    "The ```select_dtypes()``` method implements subsetting of columns based on their ```dtype```. By subsetting, we mean taking only the selection of columns based on their ```dtype```."
   ]
  },
  {
   "cell_type": "code",
   "execution_count": 31,
   "id": "fifteen-spice",
   "metadata": {},
   "outputs": [],
   "source": [
    "df1 = pd.DataFrame({'string': list('abc'),\n",
    "                       'int64': list(range(1, 4)),\n",
    "                       'uint8': np.arange(3, 6).astype('u1'),\n",
    "                       'float64': np.arange(4.0, 7.0),\n",
    "                       'bool1': [True, False, True],\n",
    "                       'bool2': [False, True, False],\n",
    "                       'dates': pd.date_range('now', periods=3),\n",
    "                       'category': pd.Series(list(\"ABC\")).astype('category')})"
   ]
  },
  {
   "cell_type": "markdown",
   "id": "41edda3a-7f32-40fd-b572-97162b2ea215",
   "metadata": {},
   "source": [
    "Select only bool columns from df above."
   ]
  },
  {
   "cell_type": "code",
   "execution_count": 32,
   "id": "northern-provision",
   "metadata": {},
   "outputs": [
    {
     "data": {
      "text/html": [
       "<div>\n",
       "<style scoped>\n",
       "    .dataframe tbody tr th:only-of-type {\n",
       "        vertical-align: middle;\n",
       "    }\n",
       "\n",
       "    .dataframe tbody tr th {\n",
       "        vertical-align: top;\n",
       "    }\n",
       "\n",
       "    .dataframe thead th {\n",
       "        text-align: right;\n",
       "    }\n",
       "</style>\n",
       "<table border=\"1\" class=\"dataframe\">\n",
       "  <thead>\n",
       "    <tr style=\"text-align: right;\">\n",
       "      <th></th>\n",
       "      <th>bool1</th>\n",
       "      <th>bool2</th>\n",
       "    </tr>\n",
       "  </thead>\n",
       "  <tbody>\n",
       "    <tr>\n",
       "      <th>0</th>\n",
       "      <td>True</td>\n",
       "      <td>False</td>\n",
       "    </tr>\n",
       "    <tr>\n",
       "      <th>1</th>\n",
       "      <td>False</td>\n",
       "      <td>True</td>\n",
       "    </tr>\n",
       "    <tr>\n",
       "      <th>2</th>\n",
       "      <td>True</td>\n",
       "      <td>False</td>\n",
       "    </tr>\n",
       "  </tbody>\n",
       "</table>\n",
       "</div>"
      ],
      "text/plain": [
       "   bool1  bool2\n",
       "0   True  False\n",
       "1  False   True\n",
       "2   True  False"
      ]
     },
     "execution_count": 32,
     "metadata": {},
     "output_type": "execute_result"
    }
   ],
   "source": [
    "df1.select_dtypes(include=[bool])"
   ]
  },
  {
   "cell_type": "markdown",
   "id": "modern-sarah",
   "metadata": {},
   "source": [
    "# Boolean Indexing"
   ]
  },
  {
   "cell_type": "markdown",
   "id": "sublime-andorra",
   "metadata": {},
   "source": [
    "Use a columns' values to filter data. Take the rows where column A is higher than 0."
   ]
  },
  {
   "cell_type": "code",
   "execution_count": 33,
   "id": "accredited-lambda",
   "metadata": {},
   "outputs": [
    {
     "data": {
      "text/html": [
       "<div>\n",
       "<style scoped>\n",
       "    .dataframe tbody tr th:only-of-type {\n",
       "        vertical-align: middle;\n",
       "    }\n",
       "\n",
       "    .dataframe tbody tr th {\n",
       "        vertical-align: top;\n",
       "    }\n",
       "\n",
       "    .dataframe thead th {\n",
       "        text-align: right;\n",
       "    }\n",
       "</style>\n",
       "<table border=\"1\" class=\"dataframe\">\n",
       "  <thead>\n",
       "    <tr style=\"text-align: right;\">\n",
       "      <th></th>\n",
       "      <th>A</th>\n",
       "      <th>B</th>\n",
       "      <th>C</th>\n",
       "      <th>D</th>\n",
       "    </tr>\n",
       "  </thead>\n",
       "  <tbody>\n",
       "    <tr>\n",
       "      <th>2013-01-01</th>\n",
       "      <td>0.727984</td>\n",
       "      <td>-1.617090</td>\n",
       "      <td>0.924986</td>\n",
       "      <td>-0.501922</td>\n",
       "    </tr>\n",
       "    <tr>\n",
       "      <th>2013-01-03</th>\n",
       "      <td>0.234263</td>\n",
       "      <td>-1.038110</td>\n",
       "      <td>-1.533451</td>\n",
       "      <td>1.221825</td>\n",
       "    </tr>\n",
       "    <tr>\n",
       "      <th>2013-01-05</th>\n",
       "      <td>1.205890</td>\n",
       "      <td>-0.024379</td>\n",
       "      <td>-0.344424</td>\n",
       "      <td>1.306614</td>\n",
       "    </tr>\n",
       "    <tr>\n",
       "      <th>2013-01-06</th>\n",
       "      <td>1.099223</td>\n",
       "      <td>-0.238357</td>\n",
       "      <td>-1.716726</td>\n",
       "      <td>-1.427502</td>\n",
       "    </tr>\n",
       "  </tbody>\n",
       "</table>\n",
       "</div>"
      ],
      "text/plain": [
       "                   A         B         C         D\n",
       "2013-01-01  0.727984 -1.617090  0.924986 -0.501922\n",
       "2013-01-03  0.234263 -1.038110 -1.533451  1.221825\n",
       "2013-01-05  1.205890 -0.024379 -0.344424  1.306614\n",
       "2013-01-06  1.099223 -0.238357 -1.716726 -1.427502"
      ]
     },
     "execution_count": 33,
     "metadata": {},
     "output_type": "execute_result"
    }
   ],
   "source": [
    "df[df['A'] > 0]"
   ]
  },
  {
   "cell_type": "markdown",
   "id": "freelance-performer",
   "metadata": {},
   "source": [
    "We can also use function ```isin()``` for filtering.\n",
    "1. Create a copy of ```df``` and store it in variable ```df2```.\n",
    "2. Create a new column E in the DataFrame df2 with values ```['one', 'one', 'two', 'three', 'four', 'three']```."
   ]
  },
  {
   "cell_type": "code",
   "execution_count": 34,
   "id": "06d9330f-a652-410f-9de0-807e2c706052",
   "metadata": {},
   "outputs": [],
   "source": [
    "df2 = df.copy()\n",
    "df2['E'] = ['one', 'one', 'two', 'three', 'four', 'three']"
   ]
  },
  {
   "cell_type": "markdown",
   "id": "d9312fc2-55bd-439e-ba2b-c5b9510a952d",
   "metadata": {},
   "source": [
    "Now we can use function `isin()` to take only rows where E is two or four."
   ]
  },
  {
   "cell_type": "code",
   "execution_count": 35,
   "id": "applicable-knowing",
   "metadata": {},
   "outputs": [
    {
     "data": {
      "text/html": [
       "<div>\n",
       "<style scoped>\n",
       "    .dataframe tbody tr th:only-of-type {\n",
       "        vertical-align: middle;\n",
       "    }\n",
       "\n",
       "    .dataframe tbody tr th {\n",
       "        vertical-align: top;\n",
       "    }\n",
       "\n",
       "    .dataframe thead th {\n",
       "        text-align: right;\n",
       "    }\n",
       "</style>\n",
       "<table border=\"1\" class=\"dataframe\">\n",
       "  <thead>\n",
       "    <tr style=\"text-align: right;\">\n",
       "      <th></th>\n",
       "      <th>A</th>\n",
       "      <th>B</th>\n",
       "      <th>C</th>\n",
       "      <th>D</th>\n",
       "      <th>E</th>\n",
       "    </tr>\n",
       "  </thead>\n",
       "  <tbody>\n",
       "    <tr>\n",
       "      <th>2013-01-01</th>\n",
       "      <td>0.727984</td>\n",
       "      <td>-1.617090</td>\n",
       "      <td>0.924986</td>\n",
       "      <td>-0.501922</td>\n",
       "      <td>one</td>\n",
       "    </tr>\n",
       "    <tr>\n",
       "      <th>2013-01-02</th>\n",
       "      <td>-1.217949</td>\n",
       "      <td>-0.536806</td>\n",
       "      <td>2.212739</td>\n",
       "      <td>-1.664632</td>\n",
       "      <td>one</td>\n",
       "    </tr>\n",
       "    <tr>\n",
       "      <th>2013-01-03</th>\n",
       "      <td>0.234263</td>\n",
       "      <td>-1.038110</td>\n",
       "      <td>-1.533451</td>\n",
       "      <td>1.221825</td>\n",
       "      <td>two</td>\n",
       "    </tr>\n",
       "  </tbody>\n",
       "</table>\n",
       "</div>"
      ],
      "text/plain": [
       "                   A         B         C         D    E\n",
       "2013-01-01  0.727984 -1.617090  0.924986 -0.501922  one\n",
       "2013-01-02 -1.217949 -0.536806  2.212739 -1.664632  one\n",
       "2013-01-03  0.234263 -1.038110 -1.533451  1.221825  two"
      ]
     },
     "execution_count": 35,
     "metadata": {},
     "output_type": "execute_result"
    }
   ],
   "source": [
    "df2[df2['E'].isin(['one','two'])]"
   ]
  },
  {
   "cell_type": "markdown",
   "id": "f7bc91d2-292a-4029-8ae9-e7dc118b096b",
   "metadata": {},
   "source": [
    "We can also set values in the DataFrame.\n",
    "\n",
    "Setting values by position:"
   ]
  },
  {
   "cell_type": "code",
   "execution_count": 39,
   "id": "intelligent-biodiversity",
   "metadata": {},
   "outputs": [],
   "source": [
    "df1.iat[0, 1] = -1 # or"
   ]
  },
  {
   "cell_type": "code",
   "execution_count": 40,
   "id": "d8a2cf17-d67f-4e4d-8fff-b1c915d978db",
   "metadata": {},
   "outputs": [],
   "source": [
    "df1.iloc[0, 1] = 2"
   ]
  },
  {
   "cell_type": "markdown",
   "id": "534ee72c-b0b1-490f-af71-e4fd0fc4b22b",
   "metadata": {},
   "source": [
    "Setting values by label:"
   ]
  },
  {
   "cell_type": "code",
   "execution_count": 41,
   "id": "5085656e-110b-45d1-a7ee-62f1d66e713e",
   "metadata": {},
   "outputs": [],
   "source": [
    "df1.at[0, 'float64'] = -10 # or"
   ]
  },
  {
   "cell_type": "code",
   "execution_count": 42,
   "id": "b772a926-7f3c-48ab-938b-7f5bb36a7c0c",
   "metadata": {},
   "outputs": [],
   "source": [
    "df1.loc[0, 'float64'] = -20"
   ]
  },
  {
   "cell_type": "markdown",
   "id": "ae5fd809-fdfe-4eb0-8143-8562f5757943",
   "metadata": {},
   "source": [
    "Setting by assigning with a NumPy array:"
   ]
  },
  {
   "cell_type": "code",
   "execution_count": 43,
   "id": "78093405-ee99-48d7-8105-31321b797757",
   "metadata": {},
   "outputs": [
    {
     "ename": "ValueError",
     "evalue": "Must have equal len keys and value when setting with an iterable",
     "output_type": "error",
     "traceback": [
      "\u001b[1;31m---------------------------------------------------------------------------\u001b[0m",
      "\u001b[1;31mValueError\u001b[0m                                Traceback (most recent call last)",
      "\u001b[1;32m<ipython-input-43-4671df9996d5>\u001b[0m in \u001b[0;36m<module>\u001b[1;34m\u001b[0m\n\u001b[1;32m----> 1\u001b[1;33m \u001b[0mdf1\u001b[0m\u001b[1;33m.\u001b[0m\u001b[0mloc\u001b[0m\u001b[1;33m[\u001b[0m\u001b[1;33m:\u001b[0m\u001b[1;33m,\u001b[0m \u001b[1;34m'uint8'\u001b[0m\u001b[1;33m]\u001b[0m \u001b[1;33m=\u001b[0m \u001b[0mnp\u001b[0m\u001b[1;33m.\u001b[0m\u001b[0marray\u001b[0m\u001b[1;33m(\u001b[0m\u001b[1;33m[\u001b[0m\u001b[1;36m50\u001b[0m\u001b[1;33m]\u001b[0m \u001b[1;33m*\u001b[0m \u001b[0mlen\u001b[0m\u001b[1;33m(\u001b[0m\u001b[0mdf\u001b[0m\u001b[1;33m)\u001b[0m\u001b[1;33m)\u001b[0m\u001b[1;33m\u001b[0m\u001b[1;33m\u001b[0m\u001b[0m\n\u001b[0m",
      "\u001b[1;32mD:\\Downloads\\Anaconda\\lib\\site-packages\\pandas\\core\\indexing.py\u001b[0m in \u001b[0;36m__setitem__\u001b[1;34m(self, key, value)\u001b[0m\n\u001b[0;32m    690\u001b[0m \u001b[1;33m\u001b[0m\u001b[0m\n\u001b[0;32m    691\u001b[0m         \u001b[0miloc\u001b[0m \u001b[1;33m=\u001b[0m \u001b[0mself\u001b[0m \u001b[1;32mif\u001b[0m \u001b[0mself\u001b[0m\u001b[1;33m.\u001b[0m\u001b[0mname\u001b[0m \u001b[1;33m==\u001b[0m \u001b[1;34m\"iloc\"\u001b[0m \u001b[1;32melse\u001b[0m \u001b[0mself\u001b[0m\u001b[1;33m.\u001b[0m\u001b[0mobj\u001b[0m\u001b[1;33m.\u001b[0m\u001b[0miloc\u001b[0m\u001b[1;33m\u001b[0m\u001b[1;33m\u001b[0m\u001b[0m\n\u001b[1;32m--> 692\u001b[1;33m         \u001b[0miloc\u001b[0m\u001b[1;33m.\u001b[0m\u001b[0m_setitem_with_indexer\u001b[0m\u001b[1;33m(\u001b[0m\u001b[0mindexer\u001b[0m\u001b[1;33m,\u001b[0m \u001b[0mvalue\u001b[0m\u001b[1;33m,\u001b[0m \u001b[0mself\u001b[0m\u001b[1;33m.\u001b[0m\u001b[0mname\u001b[0m\u001b[1;33m)\u001b[0m\u001b[1;33m\u001b[0m\u001b[1;33m\u001b[0m\u001b[0m\n\u001b[0m\u001b[0;32m    693\u001b[0m \u001b[1;33m\u001b[0m\u001b[0m\n\u001b[0;32m    694\u001b[0m     \u001b[1;32mdef\u001b[0m \u001b[0m_validate_key\u001b[0m\u001b[1;33m(\u001b[0m\u001b[0mself\u001b[0m\u001b[1;33m,\u001b[0m \u001b[0mkey\u001b[0m\u001b[1;33m,\u001b[0m \u001b[0maxis\u001b[0m\u001b[1;33m:\u001b[0m \u001b[0mint\u001b[0m\u001b[1;33m)\u001b[0m\u001b[1;33m:\u001b[0m\u001b[1;33m\u001b[0m\u001b[1;33m\u001b[0m\u001b[0m\n",
      "\u001b[1;32mD:\\Downloads\\Anaconda\\lib\\site-packages\\pandas\\core\\indexing.py\u001b[0m in \u001b[0;36m_setitem_with_indexer\u001b[1;34m(self, indexer, value, name)\u001b[0m\n\u001b[0;32m   1633\u001b[0m         \u001b[1;32mif\u001b[0m \u001b[0mtake_split_path\u001b[0m\u001b[1;33m:\u001b[0m\u001b[1;33m\u001b[0m\u001b[1;33m\u001b[0m\u001b[0m\n\u001b[0;32m   1634\u001b[0m             \u001b[1;31m# We have to operate column-wise\u001b[0m\u001b[1;33m\u001b[0m\u001b[1;33m\u001b[0m\u001b[1;33m\u001b[0m\u001b[0m\n\u001b[1;32m-> 1635\u001b[1;33m             \u001b[0mself\u001b[0m\u001b[1;33m.\u001b[0m\u001b[0m_setitem_with_indexer_split_path\u001b[0m\u001b[1;33m(\u001b[0m\u001b[0mindexer\u001b[0m\u001b[1;33m,\u001b[0m \u001b[0mvalue\u001b[0m\u001b[1;33m,\u001b[0m \u001b[0mname\u001b[0m\u001b[1;33m)\u001b[0m\u001b[1;33m\u001b[0m\u001b[1;33m\u001b[0m\u001b[0m\n\u001b[0m\u001b[0;32m   1636\u001b[0m         \u001b[1;32melse\u001b[0m\u001b[1;33m:\u001b[0m\u001b[1;33m\u001b[0m\u001b[1;33m\u001b[0m\u001b[0m\n\u001b[0;32m   1637\u001b[0m             \u001b[0mself\u001b[0m\u001b[1;33m.\u001b[0m\u001b[0m_setitem_single_block\u001b[0m\u001b[1;33m(\u001b[0m\u001b[0mindexer\u001b[0m\u001b[1;33m,\u001b[0m \u001b[0mvalue\u001b[0m\u001b[1;33m,\u001b[0m \u001b[0mname\u001b[0m\u001b[1;33m)\u001b[0m\u001b[1;33m\u001b[0m\u001b[1;33m\u001b[0m\u001b[0m\n",
      "\u001b[1;32mD:\\Downloads\\Anaconda\\lib\\site-packages\\pandas\\core\\indexing.py\u001b[0m in \u001b[0;36m_setitem_with_indexer_split_path\u001b[1;34m(self, indexer, value, name)\u001b[0m\n\u001b[0;32m   1686\u001b[0m                     \u001b[1;32mreturn\u001b[0m \u001b[0mself\u001b[0m\u001b[1;33m.\u001b[0m\u001b[0m_setitem_with_indexer\u001b[0m\u001b[1;33m(\u001b[0m\u001b[1;33m(\u001b[0m\u001b[0mpi\u001b[0m\u001b[1;33m,\u001b[0m \u001b[0minfo_axis\u001b[0m\u001b[1;33m[\u001b[0m\u001b[1;36m0\u001b[0m\u001b[1;33m]\u001b[0m\u001b[1;33m)\u001b[0m\u001b[1;33m,\u001b[0m \u001b[0mvalue\u001b[0m\u001b[1;33m[\u001b[0m\u001b[1;36m0\u001b[0m\u001b[1;33m]\u001b[0m\u001b[1;33m)\u001b[0m\u001b[1;33m\u001b[0m\u001b[1;33m\u001b[0m\u001b[0m\n\u001b[0;32m   1687\u001b[0m \u001b[1;33m\u001b[0m\u001b[0m\n\u001b[1;32m-> 1688\u001b[1;33m                 raise ValueError(\n\u001b[0m\u001b[0;32m   1689\u001b[0m                     \u001b[1;34m\"Must have equal len keys and value \"\u001b[0m\u001b[1;33m\u001b[0m\u001b[1;33m\u001b[0m\u001b[0m\n\u001b[0;32m   1690\u001b[0m                     \u001b[1;34m\"when setting with an iterable\"\u001b[0m\u001b[1;33m\u001b[0m\u001b[1;33m\u001b[0m\u001b[0m\n",
      "\u001b[1;31mValueError\u001b[0m: Must have equal len keys and value when setting with an iterable"
     ]
    }
   ],
   "source": [
    "df1.loc[:, 'uint8'] = np.array([50] * len(df))"
   ]
  },
  {
   "cell_type": "markdown",
   "id": "4cae62ef-38b4-4541-92f8-470c668cc0e1",
   "metadata": {},
   "source": [
    "The length of the array on the right sight of = needs to be the same as the length of the object on the left."
   ]
  }
 ],
 "metadata": {
  "kernelspec": {
   "display_name": "Python 3",
   "language": "python",
   "name": "python3"
  },
  "language_info": {
   "codemirror_mode": {
    "name": "ipython",
    "version": 3
   },
   "file_extension": ".py",
   "mimetype": "text/x-python",
   "name": "python",
   "nbconvert_exporter": "python",
   "pygments_lexer": "ipython3",
   "version": "3.8.10"
  }
 },
 "nbformat": 4,
 "nbformat_minor": 5
}
