{
 "cells": [
  {
   "cell_type": "code",
   "execution_count": 6,
   "id": "bacterial-shuttle",
   "metadata": {},
   "outputs": [],
   "source": [
    "# import the widgets\n",
    "import ipywidgets as widgets\n",
    "\n",
    "# import the interact and the interact_manual from widgetss\n",
    "from ipywidgets.widgets import interact, interact_manual\n",
    "\n",
    "# import pandas\n",
    "import pandas as pd\n",
    "\n",
    "\n",
    "# import plotly \n",
    "import plotly.graph_objects as go"
   ]
  },
  {
   "cell_type": "markdown",
   "id": "cosmetic-world",
   "metadata": {},
   "source": [
    "# As the first example of a widget, let's begin with creating a Slider:\n",
    "\n"
   ]
  },
  {
   "cell_type": "code",
   "execution_count": 7,
   "id": "sapphire-police",
   "metadata": {},
   "outputs": [
    {
     "data": {
      "application/vnd.jupyter.widget-view+json": {
       "model_id": "bab69b742aa94e7c97f44638444ca1d5",
       "version_major": 2,
       "version_minor": 0
      },
      "text/plain": [
       "IntSlider(value=3, description='Slider:', max=10)"
      ]
     },
     "metadata": {},
     "output_type": "display_data"
    }
   ],
   "source": [
    "slider = widgets.IntSlider(\n",
    "    min=0,\n",
    "    max=10,\n",
    "    step=1,\n",
    "    description='Slider:',\n",
    "    value=3\n",
    ")\n",
    "\n",
    "slider"
   ]
  },
  {
   "cell_type": "markdown",
   "id": "radical-configuration",
   "metadata": {},
   "source": [
    "In the code above, we created an integer Slider with values from zero to ten. The initial value is set to three. By running the code we can see an interactive slider but we still don't have the slider's value. We can get this value by accessing the values attribute of our slider variable.\n",
    "\n"
   ]
  },
  {
   "cell_type": "code",
   "execution_count": 8,
   "id": "opening-findings",
   "metadata": {},
   "outputs": [
    {
     "name": "stdout",
     "output_type": "stream",
     "text": [
      "3\n"
     ]
    }
   ],
   "source": [
    "# the current value of slider\n",
    "print(slider.value)"
   ]
  },
  {
   "cell_type": "markdown",
   "id": "ignored-arrest",
   "metadata": {},
   "source": [
    "There are many more types of interactive widgets we can use in Jupyter notebook. [See documentation here](https://ipywidgets.readthedocs.io/en/stable/examples/Widget%20List.html)\n",
    "\n"
   ]
  },
  {
   "cell_type": "code",
   "execution_count": 9,
   "id": "endangered-teach",
   "metadata": {},
   "outputs": [
    {
     "name": "stdout",
     "output_type": "stream",
     "text": [
      "['Accordion', 'AppLayout', 'Audio', 'BoundedFloatText', 'BoundedIntText', 'Box', 'Button', 'ButtonStyle', 'CallbackDispatcher', 'Checkbox', 'Color', 'ColorPicker', 'Combobox', 'Controller', 'CoreWidget', 'DOMWidget', 'DatePicker', 'Datetime', 'Dropdown', 'FileUpload', 'FloatLogSlider', 'FloatProgress', 'FloatRangeSlider', 'FloatSlider', 'FloatText', 'GridBox', 'GridspecLayout', 'HBox', 'HTML', 'HTMLMath', 'Image', 'IntProgress', 'IntRangeSlider', 'IntSlider', 'IntText', 'Label', 'Layout', 'NumberFormat', 'Output', 'Password', 'Play', 'RadioButtons', 'Select', 'SelectMultiple', 'SelectionRangeSlider', 'SelectionSlider', 'SliderStyle', 'Style', 'Tab', 'Text', 'Textarea', 'ToggleButton', 'ToggleButtons', 'ToggleButtonsStyle', 'TwoByTwoLayout', 'VBox', 'Valid', 'ValueWidget', 'Video', 'Widget', '__builtins__', '__cached__', '__doc__', '__file__', '__jupyter_widgets_base_version__', '__jupyter_widgets_controls_version__', '__loader__', '__name__', '__package__', '__path__', '__protocol_version__', '__spec__', '__version__', '_handle_ipython', '_version', 'dlink', 'docutils', 'domwidget', 'fixed', 'get_ipython', 'handle_kernel', 'interact', 'interact_manual', 'interaction', 'interactive', 'interactive_output', 'jsdlink', 'jslink', 'link', 'load_ipython_extension', 'os', 'register', 'register_comm_target', 'trait_types', 'util', 'valuewidget', 'version_info', 'widget', 'widget_bool', 'widget_box', 'widget_button', 'widget_color', 'widget_controller', 'widget_core', 'widget_date', 'widget_description', 'widget_float', 'widget_int', 'widget_layout', 'widget_link', 'widget_media', 'widget_output', 'widget_selection', 'widget_selectioncontainer', 'widget_serialization', 'widget_string', 'widget_style', 'widget_templates', 'widget_upload', 'widgets']\n"
     ]
    }
   ],
   "source": [
    "print(dir(widgets))"
   ]
  },
  {
   "cell_type": "markdown",
   "id": "hollow-fleece",
   "metadata": {},
   "source": [
    "# Filter a Data-frame With Widgets\n",
    "In this section, we will explore how to use the widgets to control a data-frame. The sample dataset we have chosen is the ‘Number of International Visitors to London’, which shows the totals of London’s visitors with regards to nights spent, visits, and spend broken down by the year, quarter, purpose, duration, mode, and country. For the sake of a demonstration, we will use only 200 rows from this data-frame."
   ]
  },
  {
   "cell_type": "code",
   "execution_count": 11,
   "id": "julian-firmware",
   "metadata": {},
   "outputs": [
    {
     "data": {
      "text/html": [
       "<div>\n",
       "<style scoped>\n",
       "    .dataframe tbody tr th:only-of-type {\n",
       "        vertical-align: middle;\n",
       "    }\n",
       "\n",
       "    .dataframe tbody tr th {\n",
       "        vertical-align: top;\n",
       "    }\n",
       "\n",
       "    .dataframe thead th {\n",
       "        text-align: right;\n",
       "    }\n",
       "</style>\n",
       "<table border=\"1\" class=\"dataframe\">\n",
       "  <thead>\n",
       "    <tr style=\"text-align: right;\">\n",
       "      <th></th>\n",
       "      <th>year</th>\n",
       "      <th>quarter</th>\n",
       "      <th>market</th>\n",
       "      <th>dur_stay</th>\n",
       "      <th>mode</th>\n",
       "      <th>purpose</th>\n",
       "      <th>area</th>\n",
       "      <th>visits</th>\n",
       "      <th>spend</th>\n",
       "      <th>nights</th>\n",
       "      <th>sample</th>\n",
       "    </tr>\n",
       "  </thead>\n",
       "  <tbody>\n",
       "    <tr>\n",
       "      <th>37116</th>\n",
       "      <td>2012</td>\n",
       "      <td>October-December</td>\n",
       "      <td>Switzerland</td>\n",
       "      <td>4-7  nights</td>\n",
       "      <td>Air</td>\n",
       "      <td>Miscellaneous</td>\n",
       "      <td>LONDON</td>\n",
       "      <td>3.324281</td>\n",
       "      <td>3.320944</td>\n",
       "      <td>14.855472</td>\n",
       "      <td>4</td>\n",
       "    </tr>\n",
       "    <tr>\n",
       "      <th>39625</th>\n",
       "      <td>2013</td>\n",
       "      <td>July-September</td>\n",
       "      <td>Austria</td>\n",
       "      <td>4-7  nights</td>\n",
       "      <td>Air</td>\n",
       "      <td>VFR</td>\n",
       "      <td>LONDON</td>\n",
       "      <td>1.698261</td>\n",
       "      <td>0.182275</td>\n",
       "      <td>3.828378</td>\n",
       "      <td>3</td>\n",
       "    </tr>\n",
       "    <tr>\n",
       "      <th>42217</th>\n",
       "      <td>2014</td>\n",
       "      <td>April-June</td>\n",
       "      <td>Netherlands</td>\n",
       "      <td>4-7  nights</td>\n",
       "      <td>Sea</td>\n",
       "      <td>VFR</td>\n",
       "      <td>LONDON</td>\n",
       "      <td>2.946994</td>\n",
       "      <td>1.541880</td>\n",
       "      <td>11.787976</td>\n",
       "      <td>4</td>\n",
       "    </tr>\n",
       "    <tr>\n",
       "      <th>22437</th>\n",
       "      <td>2008</td>\n",
       "      <td>July-September</td>\n",
       "      <td>Brazil</td>\n",
       "      <td>4-7  nights</td>\n",
       "      <td>Air</td>\n",
       "      <td>Study</td>\n",
       "      <td>LONDON</td>\n",
       "      <td>1.603160</td>\n",
       "      <td>2.541770</td>\n",
       "      <td>35.657799</td>\n",
       "      <td>1</td>\n",
       "    </tr>\n",
       "    <tr>\n",
       "      <th>34277</th>\n",
       "      <td>2012</td>\n",
       "      <td>January-March</td>\n",
       "      <td>Netherlands</td>\n",
       "      <td>15+  nights</td>\n",
       "      <td>Air</td>\n",
       "      <td>Miscellaneous</td>\n",
       "      <td>LONDON</td>\n",
       "      <td>0.964170</td>\n",
       "      <td>0.641907</td>\n",
       "      <td>28.116035</td>\n",
       "      <td>1</td>\n",
       "    </tr>\n",
       "  </tbody>\n",
       "</table>\n",
       "</div>"
      ],
      "text/plain": [
       "       year           quarter       market     dur_stay mode        purpose  \\\n",
       "37116  2012  October-December  Switzerland  4-7  nights  Air  Miscellaneous   \n",
       "39625  2013    July-September      Austria  4-7  nights  Air            VFR   \n",
       "42217  2014        April-June  Netherlands  4-7  nights  Sea            VFR   \n",
       "22437  2008    July-September       Brazil  4-7  nights  Air          Study   \n",
       "34277  2012     January-March  Netherlands  15+  nights  Air  Miscellaneous   \n",
       "\n",
       "          area    visits     spend     nights  sample  \n",
       "37116   LONDON  3.324281  3.320944  14.855472       4  \n",
       "39625   LONDON  1.698261  0.182275   3.828378       3  \n",
       "42217   LONDON  2.946994  1.541880  11.787976       4  \n",
       "22437   LONDON  1.603160  2.541770  35.657799       1  \n",
       "34277   LONDON  0.964170  0.641907  28.116035       1  "
      ]
     },
     "execution_count": 11,
     "metadata": {},
     "output_type": "execute_result"
    }
   ],
   "source": [
    "# the data url\n",
    "url = \"https://data.london.gov.uk/download/number-international-visitors-london/b1e0f953-4c8a-4b45-95f5-e0d143d5641e/international-visitors-london-raw.csv\"\n",
    "\n",
    "# create the data-frame\n",
    "df_london = pd.read_csv(url, encoding= 'unicode_escape')\n",
    "df_london.columns = [\"year\",\"quarter\",\"market\",\"dur_stay\",\"mode\",\"purpose\",\"area\",\"visits\",\"spend\",\"nights\",\"sample\"]\n",
    "\n",
    "# sample 200 rows\n",
    "df = df_london.sample(200)\n",
    "df.head()"
   ]
  },
  {
   "cell_type": "markdown",
   "id": "absolute-people",
   "metadata": {},
   "source": [
    "Now, let's imagine that we want to filter our data-frame based on some columns and the corresponding threshold. We can change the filter condition in the code every time we want to filter the data-frame or create an interactive widget. Let's go with the second option and define a function that filters the data-frame based on the selected column and threshold."
   ]
  },
  {
   "cell_type": "code",
   "execution_count": 12,
   "id": "intense-holocaust",
   "metadata": {},
   "outputs": [],
   "source": [
    "# the filter function\n",
    "def filter_df(column, threshold):\n",
    "    return df[df[column] <= threshold]"
   ]
  },
  {
   "cell_type": "markdown",
   "id": "applied-terrace",
   "metadata": {},
   "source": [
    "The only thing that left is to create a widget to set the parameters of the function. Let's say we want to use the columns 'spend' and 'visits' in our dropdown widget and values from the interval <0,30> with step 1 in a slider widget.\n",
    "\n"
   ]
  },
  {
   "cell_type": "code",
   "execution_count": 13,
   "id": "trained-wellington",
   "metadata": {},
   "outputs": [
    {
     "data": {
      "application/vnd.jupyter.widget-view+json": {
       "model_id": "49851ebe04574bfa91db34bc8b7bb5ec",
       "version_major": 2,
       "version_minor": 0
      },
      "text/plain": [
       "interactive(children=(Dropdown(description='column', options=('spend', 'visits'), value='spend'), IntSlider(va…"
      ]
     },
     "metadata": {},
     "output_type": "display_data"
    }
   ],
   "source": [
    "filter_widget = widgets.interact(filter_df,\n",
    "                                 column=['spend','visits'], \n",
    "                                 threshold=(1, 30, 1))"
   ]
  },
  {
   "cell_type": "markdown",
   "id": "numerous-guatemala",
   "metadata": {},
   "source": [
    "We created a filter_widget variable that stores our widget. We can use this widget in our future code by the following command:\n",
    "\n"
   ]
  },
  {
   "cell_type": "code",
   "execution_count": 14,
   "id": "radio-vessel",
   "metadata": {},
   "outputs": [
    {
     "data": {
      "application/vnd.jupyter.widget-view+json": {
       "model_id": "49851ebe04574bfa91db34bc8b7bb5ec",
       "version_major": 2,
       "version_minor": 0
      },
      "text/plain": [
       "interactive(children=(Dropdown(description='column', options=('spend', 'visits'), value='spend'), IntSlider(va…"
      ]
     },
     "metadata": {},
     "output_type": "display_data"
    }
   ],
   "source": [
    "# use filter later in code\n",
    "filter_widget.widget"
   ]
  },
  {
   "cell_type": "markdown",
   "id": "gentle-austin",
   "metadata": {},
   "source": [
    "# Interactive Plots With Widgets\n",
    "In this section, we will learn how to change the x- and y-axis data with widgets. Let's define a function that creates a scatter plot from selected columns of a data-frame."
   ]
  },
  {
   "cell_type": "code",
   "execution_count": 15,
   "id": "suspended-stranger",
   "metadata": {},
   "outputs": [
    {
     "data": {
      "application/vnd.jupyter.widget-view+json": {
       "model_id": "671f3f4896cd4ddc82c5caf3e164759b",
       "version_major": 2,
       "version_minor": 0
      },
      "text/plain": [
       "interactive(children=(Dropdown(description='x', options=('visits', 'spend', 'nights', 'sample'), value='visits…"
      ]
     },
     "metadata": {},
     "output_type": "display_data"
    }
   ],
   "source": [
    "@interact\n",
    "def scatter_plot(x=list(df.select_dtypes('number').columns), \n",
    "                 y=list(df.select_dtypes('number').columns)[1:]):\n",
    "\n",
    "    # trace\n",
    "    trace = [go.Scatter(x=df[x], y=df[y], mode='markers')]\n",
    "\n",
    "    # layout\n",
    "    layout = go.Layout(\n",
    "                title = 'Scatter plot', # Graph title\n",
    "                xaxis = dict(title = x.title()), # x-axis label\n",
    "                yaxis = dict(title = y.title()), # y-axis label\n",
    "                hovermode ='closest' # handles multiple points landing on the same vertical\n",
    "    )\n",
    "\n",
    "    # fig\n",
    "    fig = go.Figure(trace, layout)\n",
    "    fig.show()"
   ]
  },
  {
   "cell_type": "markdown",
   "id": "adolescent-witch",
   "metadata": {},
   "source": [
    "When we change the column in the dropdown widget, our plot changes almost immediately. Dropdowns are generated by the @interact decorator of our scatter_plot function. However, this fast reaction is caused by using only 200 rows from our data-frame. For bigger data-frames, this real-time change could be a problem. The solution is the @interact_manual decorator that creates dropdowns in the same was as the @interact decorator but also creates a button that allows us to confirm the selection. Let's try to use this decorator:"
   ]
  },
  {
   "cell_type": "code",
   "execution_count": 16,
   "id": "artistic-stadium",
   "metadata": {},
   "outputs": [
    {
     "data": {
      "application/vnd.jupyter.widget-view+json": {
       "model_id": "6e52cc7f157843b5b7868646fe2b77f4",
       "version_major": 2,
       "version_minor": 0
      },
      "text/plain": [
       "interactive(children=(Dropdown(description='x', options=('visits', 'spend', 'nights', 'sample'), value='visits…"
      ]
     },
     "metadata": {},
     "output_type": "display_data"
    }
   ],
   "source": [
    "@interact_manual\n",
    "def scatter_plot(x=list(df.select_dtypes('number').columns), \n",
    "                 y=list(df.select_dtypes('number').columns)[1:]):\n",
    "\n",
    "    # trace\n",
    "    trace = [go.Scatter(x=df[x], y=df[y], mode='markers')]\n",
    "\n",
    "    # layout\n",
    "    layout = go.Layout(\n",
    "                title = 'Scatter plot', # Graph title\n",
    "                xaxis = dict(title = x.title()), # x-axis label\n",
    "                yaxis = dict(title = y.title()), # y-axis label\n",
    "                hovermode ='closest' # handles multiple points landing on the same vertical\n",
    "    )\n",
    "\n",
    "    # fig\n",
    "    fig = go.Figure(trace, layout)\n",
    "    fig.show()"
   ]
  },
  {
   "cell_type": "code",
   "execution_count": null,
   "id": "environmental-constant",
   "metadata": {},
   "outputs": [],
   "source": []
  }
 ],
 "metadata": {
  "kernelspec": {
   "display_name": "LHL_Bootcamp",
   "language": "python",
   "name": "lhl_bootcamp"
  },
  "language_info": {
   "codemirror_mode": {
    "name": "ipython",
    "version": 3
   },
   "file_extension": ".py",
   "mimetype": "text/x-python",
   "name": "python",
   "nbconvert_exporter": "python",
   "pygments_lexer": "ipython3",
   "version": "3.7.10"
  }
 },
 "nbformat": 4,
 "nbformat_minor": 5
}
